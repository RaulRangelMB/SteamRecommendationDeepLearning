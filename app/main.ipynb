{
 "cells": [
  {
   "cell_type": "code",
   "execution_count": null,
   "metadata": {},
   "outputs": [],
   "source": [
    "import pandas as pd\n",
    "import torch\n",
    "import torch.nn.functional as F\n",
    "from tqdm import tqdm\n",
    "from sklearn.manifold import TSNE\n",
    "import matplotlib.pyplot as plt\n",
    "import numpy as np\n",
    "import plotly.express as px"
   ]
  },
  {
   "cell_type": "code",
   "execution_count": null,
   "metadata": {},
   "outputs": [],
   "source": [
    "from datasets import get_dataset\n",
    "from glove import load_glove_vectors, get_sentence_embedding\n",
    "from training import train"
   ]
  },
  {
   "cell_type": "code",
   "execution_count": null,
   "metadata": {},
   "outputs": [],
   "source": [
    "sample_size = 1000\n",
    "df = get_dataset(\"../games_apurado.json\", sample_size = sample_size)\n",
    "\n",
    "df.head()"
   ]
  },
  {
   "cell_type": "code",
   "execution_count": null,
   "metadata": {},
   "outputs": [],
   "source": [
    "# !!!! Change this to where glove is located in your computer !!!!\n",
    "# If you don't have it, check file downloadglove.py\n",
    "glove_file = \"../glove.6B/glove.6B.300d.txt\"\n",
    "glove_vectors = load_glove_vectors(glove_file)"
   ]
  },
  {
   "cell_type": "code",
   "execution_count": null,
   "metadata": {},
   "outputs": [],
   "source": [
    "embeddings_list = []\n",
    "for text in tqdm(df['description_cleaned']):\n",
    "    embedding = get_sentence_embedding(text, glove_vectors)\n",
    "    embeddings_list.append(embedding)\n",
    "\n",
    "embeddings_matrix = torch.stack(embeddings_list)"
   ]
  },
  {
   "cell_type": "code",
   "execution_count": null,
   "metadata": {},
   "outputs": [],
   "source": [
    "num_epochs = 60  # !!!! Configure for how many epochs you want !!!!\n",
    "autoencoder, embeddings_transformed, losses = train(embeddings_matrix, input_dim = 300, hidden_dim = 100, num_epochs = num_epochs)"
   ]
  },
  {
   "cell_type": "code",
   "execution_count": null,
   "metadata": {},
   "outputs": [],
   "source": [
    "plt.plot(losses)\n",
    "plt.xlabel(\"Epoch\")\n",
    "plt.ylabel(\"Loss\")\n",
    "plt.title(\"Training Loss\")\n",
    "plt.show()"
   ]
  },
  {
   "cell_type": "code",
   "execution_count": null,
   "metadata": {},
   "outputs": [],
   "source": [
    "from sklearn.cluster import KMeans\n",
    "\n",
    "embeddings_numpy = embeddings_matrix.detach().numpy()\n",
    "embeddings_transformed_numpy = embeddings_transformed.detach().numpy()\n",
    "\n",
    "tsne_original = TSNE(n_components=2, random_state=42)\n",
    "X_tsne_embeddings_original = tsne_original.fit_transform(embeddings_numpy)\n",
    "\n",
    "tsne_new = TSNE(n_components=2, random_state=42)\n",
    "X_tsne_embeddings_transformed = tsne_new.fit_transform(embeddings_transformed_numpy)\n",
    "\n",
    "n_clusters = 5  # !!! Configure for the number of clusters you want / believe to exist !!!\n",
    "kmeans = KMeans(n_clusters=n_clusters, random_state=42)\n",
    "clusters_original = kmeans.fit_predict(embeddings_numpy)"
   ]
  },
  {
   "cell_type": "code",
   "execution_count": null,
   "metadata": {},
   "outputs": [],
   "source": [
    "df_original = pd.DataFrame({\n",
    "    'TSNE_1': X_tsne_embeddings_original[:, 0],\n",
    "    'TSNE_2': X_tsne_embeddings_original[:, 1],\n",
    "    'Cluster': clusters_original,\n",
    "    'Name': df['name'],\n",
    "    'Description': [desc[:100] + '...' for desc in df['description']] \n",
    "})\n",
    "\n",
    "df_transformed = pd.DataFrame({\n",
    "    'TSNE_1': X_tsne_embeddings_transformed[:, 0],\n",
    "    'TSNE_2': X_tsne_embeddings_transformed[:, 1],\n",
    "    'Cluster': clusters_original,\n",
    "    'Name': df['name'],\n",
    "    'Description': [desc[:100] + '...' for desc in df['description']]\n",
    "})\n",
    "\n",
    "fig_original = px.scatter(\n",
    "    df_original,\n",
    "    x='TSNE_1', y='TSNE_2',\n",
    "    color='Cluster',\n",
    "    hover_data={'Name': True, 'Description': True, 'Cluster': True},\n",
    "    title=\"TSNE of Initial Embeddings\"\n",
    ")\n",
    "fig_original.show()\n",
    "\n",
    "fig_transformed = px.scatter(\n",
    "    df_transformed,\n",
    "    x='TSNE_1', y='TSNE_2',\n",
    "    color='Cluster',\n",
    "    hover_data={'Name': True, 'Description': True, 'Cluster': True},\n",
    "    title=\"TSNE of Transformed Embeddings\"\n",
    ")\n",
    "fig_transformed.show()"
   ]
  },
  {
   "cell_type": "code",
   "execution_count": null,
   "metadata": {},
   "outputs": [],
   "source": [
    "input_text = \"not bloody\"\n",
    "input_embedding = get_sentence_embedding(input_text, glove_vectors)\n",
    "\n",
    "input_transformed = autoencoder.encoder(input_embedding.unsqueeze(0))\n",
    "\n",
    "cosine_similarities = F.cosine_similarity(input_transformed, embeddings_transformed).squeeze()\n",
    "cosine_similarities = cosine_similarities.detach().cpu().numpy()\n",
    "\n",
    "# !!!! Configure for however many results you want !!!!\n",
    "num_search = 10\n",
    "top_indices = np.argsort(-cosine_similarities)[:num_search]\n",
    "\n",
    "# Print the results\n",
    "print(f\"Query: {input_text}\\nResults:\\n\")\n",
    "for i, idx in enumerate(top_indices, start=1):\n",
    "    if cosine_similarities[idx] < 0.8:\n",
    "        break\n",
    "    similarity = cosine_similarities[idx]\n",
    "    description = df.iloc[idx]['description']\n",
    "    name = df.iloc[idx]['name']\n",
    "    print(f\"Top {i} - similarity: {similarity:.5f}\")\n",
    "    print(f\"Name: {name}\")\n",
    "    print(f\"Description: {description}\\n\")"
   ]
  }
 ],
 "metadata": {
  "kernelspec": {
   "display_name": "env",
   "language": "python",
   "name": "python3"
  },
  "language_info": {
   "codemirror_mode": {
    "name": "ipython",
    "version": 3
   },
   "file_extension": ".py",
   "mimetype": "text/x-python",
   "name": "python",
   "nbconvert_exporter": "python",
   "pygments_lexer": "ipython3",
   "version": "3.12.4"
  }
 },
 "nbformat": 4,
 "nbformat_minor": 2
}
