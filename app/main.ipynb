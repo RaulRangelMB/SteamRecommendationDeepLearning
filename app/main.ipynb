{
 "cells": [
  {
   "cell_type": "code",
   "execution_count": 1,
   "metadata": {},
   "outputs": [],
   "source": [
    "import pandas as pd\n",
    "import torch\n",
    "import torch.nn.functional as F\n",
    "from tqdm import tqdm\n",
    "from sklearn.manifold import TSNE\n",
    "import matplotlib.pyplot as plt\n",
    "import numpy as np\n",
    "import plotly.express as px"
   ]
  },
  {
   "cell_type": "code",
   "execution_count": 2,
   "metadata": {},
   "outputs": [],
   "source": [
    "from datasets import get_dataset\n",
    "from glove import load_glove_vectors, get_sentence_embedding\n",
    "from training import train"
   ]
  },
  {
   "cell_type": "code",
   "execution_count": 3,
   "metadata": {},
   "outputs": [
    {
     "data": {
      "text/html": [
       "<div>\n",
       "<style scoped>\n",
       "    .dataframe tbody tr th:only-of-type {\n",
       "        vertical-align: middle;\n",
       "    }\n",
       "\n",
       "    .dataframe tbody tr th {\n",
       "        vertical-align: top;\n",
       "    }\n",
       "\n",
       "    .dataframe thead th {\n",
       "        text-align: right;\n",
       "    }\n",
       "</style>\n",
       "<table border=\"1\" class=\"dataframe\">\n",
       "  <thead>\n",
       "    <tr style=\"text-align: right;\">\n",
       "      <th></th>\n",
       "      <th>name</th>\n",
       "      <th>description</th>\n",
       "      <th>description_cleaned</th>\n",
       "    </tr>\n",
       "  </thead>\n",
       "  <tbody>\n",
       "    <tr>\n",
       "      <th>1770390</th>\n",
       "      <td>Bound by Love</td>\n",
       "      <td>latest release / / / upcoming games / / about ...</td>\n",
       "      <td>latest release upcoming games about the game y...</td>\n",
       "    </tr>\n",
       "    <tr>\n",
       "      <th>1608470</th>\n",
       "      <td>Warstride Challenges</td>\n",
       "      <td>living roadmap about the game race, aim, fire!...</td>\n",
       "      <td>living roadmap about the game race aim fire bl...</td>\n",
       "    </tr>\n",
       "    <tr>\n",
       "      <th>1300180</th>\n",
       "      <td>The Cubedex of Brass and Wood</td>\n",
       "      <td>the cubedex of brass and wood is a puzzle game...</td>\n",
       "      <td>the cubedex of brass and wood is a puzzle game...</td>\n",
       "    </tr>\n",
       "    <tr>\n",
       "      <th>348490</th>\n",
       "      <td>Beyond Sol</td>\n",
       "      <td>beyond sol is a unique blend of action space c...</td>\n",
       "      <td>beyond sol is a unique blend of action space c...</td>\n",
       "    </tr>\n",
       "    <tr>\n",
       "      <th>618360</th>\n",
       "      <td>Aesthetic Melody</td>\n",
       "      <td>the year is 1999 . it is the future .... ａｅｓｔｈ...</td>\n",
       "      <td>the year is 1999 it is the future ａｅｓｔｈｅｔｉｃ ｍｅ...</td>\n",
       "    </tr>\n",
       "  </tbody>\n",
       "</table>\n",
       "</div>"
      ],
      "text/plain": [
       "                                  name  \\\n",
       "1770390                  Bound by Love   \n",
       "1608470           Warstride Challenges   \n",
       "1300180  The Cubedex of Brass and Wood   \n",
       "348490                      Beyond Sol   \n",
       "618360                Aesthetic Melody   \n",
       "\n",
       "                                               description  \\\n",
       "1770390  latest release / / / upcoming games / / about ...   \n",
       "1608470  living roadmap about the game race, aim, fire!...   \n",
       "1300180  the cubedex of brass and wood is a puzzle game...   \n",
       "348490   beyond sol is a unique blend of action space c...   \n",
       "618360   the year is 1999 . it is the future .... ａｅｓｔｈ...   \n",
       "\n",
       "                                       description_cleaned  \n",
       "1770390  latest release upcoming games about the game y...  \n",
       "1608470  living roadmap about the game race aim fire bl...  \n",
       "1300180  the cubedex of brass and wood is a puzzle game...  \n",
       "348490   beyond sol is a unique blend of action space c...  \n",
       "618360   the year is 1999 it is the future ａｅｓｔｈｅｔｉｃ ｍｅ...  "
      ]
     },
     "execution_count": 3,
     "metadata": {},
     "output_type": "execute_result"
    }
   ],
   "source": [
    "sample_size = 1000\n",
    "df = get_dataset(\"../games_apurado.json\", sample_size = sample_size)\n",
    "\n",
    "df.head()"
   ]
  },
  {
   "cell_type": "code",
   "execution_count": 4,
   "metadata": {},
   "outputs": [],
   "source": [
    "# !!!! Change this to where glove is located in your computer !!!!\n",
    "# If you don't have it, check file downloadglove.py\n",
    "glove_file = \"../glove.6B/glove.6B.300d.txt\"\n",
    "glove_vectors = load_glove_vectors(glove_file)"
   ]
  },
  {
   "cell_type": "code",
   "execution_count": 5,
   "metadata": {},
   "outputs": [
    {
     "name": "stderr",
     "output_type": "stream",
     "text": [
      "100%|██████████| 997/997 [00:00<00:00, 1027.83it/s]\n"
     ]
    }
   ],
   "source": [
    "embeddings_list = []\n",
    "for text in tqdm(df['description_cleaned']):\n",
    "    embedding = get_sentence_embedding(text, glove_vectors)\n",
    "    embeddings_list.append(embedding)\n",
    "\n",
    "embeddings_matrix = torch.stack(embeddings_list)"
   ]
  },
  {
   "cell_type": "code",
   "execution_count": 6,
   "metadata": {},
   "outputs": [
    {
     "name": "stderr",
     "output_type": "stream",
     "text": [
      "100%|██████████| 50/50 [00:00<00:00, 320.51it/s]\n"
     ]
    }
   ],
   "source": [
    "num_epochs = 50  # !!!! Configure for how many epochs you want !!!!\n",
    "autoencoder, embeddings_transformed, losses = train(embeddings_matrix, input_dim = 300, hidden_dim = 100, num_epochs = num_epochs)"
   ]
  },
  {
   "cell_type": "code",
   "execution_count": 7,
   "metadata": {},
   "outputs": [
    {
     "data": {
      "image/png": "[encoded data removed]",
      "text/plain": [
       "<Figure size 640x480 with 1 Axes>"
      ]
     },
     "metadata": {},
     "output_type": "display_data"
    }
   ],
   "source": [
    "plt.plot(losses)\n",
    "plt.xlabel(\"Epoch\")\n",
    "plt.ylabel(\"Loss\")\n",
    "plt.title(\"Training Loss\")\n",
    "plt.show()"
   ]
  },
  {
   "cell_type": "code",
   "execution_count": 8,
   "metadata": {},
   "outputs": [],
   "source": [
    "from sklearn.cluster import KMeans\n",
    "\n",
    "embeddings_numpy = embeddings_matrix.detach().numpy()\n",
    "embeddings_transformed_numpy = embeddings_transformed.detach().numpy()\n",
    "\n",
    "tsne_original = TSNE(n_components=2, random_state=42)\n",
    "X_tsne_embeddings_original = tsne_original.fit_transform(embeddings_numpy)\n",
    "\n",
    "tsne_new = TSNE(n_components=2, random_state=42)\n",
    "X_tsne_embeddings_transformed = tsne_new.fit_transform(embeddings_transformed_numpy)\n",
    "\n",
    "n_clusters = 8  # !!! Configure for the number of clusters you want / believe to exist !!!\n",
    "kmeans = KMeans(n_clusters=n_clusters, random_state=42)\n",
    "clusters_original = kmeans.fit_predict(embeddings_numpy)"
   ]
  },
  {
   "cell_type": "code",
   "execution_count": 9,
   "metadata": {},
   "outputs": [
    {
     "data": {
      "application/vnd.plotly.v1+json": {
       "config": {
        "plotlyServerURL": "https://plot.ly"
       },
       "data": [
        {
         "customdata": [
          [
           "Bound by Love",
           "latest release / / / upcoming games / / about the game yokoshima is an unsuccessful magazine editor ...",
           3
          ],
          [
           "Warstride Challenges",
           "living roadmap about the game race, aim, fire! blast hordes of demons at lightning speed in bloody g...",
           1
          ],
          [
           "The Cubedex of Brass and Wood",
           "the cubedex of brass and wood is a puzzle game concerning mysterious electromechanical devices linke...",
           5
          ],
          [
           "Beyond Sol",
           "beyond sol is a unique blend of action space combat and grand strategy empire building in a procedur...",
           1
          ],
          [
           "Aesthetic Melody",
           "the year is 1999 . it is the future .... ａｅｓｔｈｅｔｉｃ ｍｅｌｏｄｙ invert gravity to avoid traps and dangers....",
           5
          ],
          [
           "Entropy 2120",
           "entropy 2120 is an extremely difficult first person shooter set in a dystopian futuristic world on t...",
           2
          ],
          [
           "Treasure Adventure Game",
           "treasure adventure game casts you in the role of a young boy who lands on an island that is a fragme...",
           3
          ],
          [
           "Elohim Eternal - Prologue",
           "a free prologue to elohim eternal: the babel code, a turn-based jrpg-inspired indie title inspired b...",
           4
          ],
          [
           "湛蓝星球-迷失·赛博之城",
           "due to poor sales of the game, and finally due to financial problems, the studio disbanded, played, ...",
           5
          ],
          [
           "Escape to Moscow",
           "the game takes place in the modern russian setting. freelance it specialist semyon meet a girl from ...",
           2
          ],
          [
           "Track & Burn",
           "track &amp; burn is a stylish free-to-play racing game, combining the best of old school racing with...",
           4
          ],
          [
           "Vaudeville",
           "the answer is hidden in plain sight, you just need to ask the right questions. join the early access...",
           4
          ],
          [
           "Gas Station Simulator: Prologue - Early Days",
           "play the food truck simulator demo: / get the full game now / about the game / / gas station simulat...",
           2
          ],
          [
           "Twin Mind: Power of Love Collector's Edition",
           "when a young woman is kidnapped from a public place, in the middle of the day, with no witnesses, th...",
           3
          ],
          [
           "The Forest of Drizzling Rain",
           "■about this game first released on 'freem!' october 11, 2013, the exploration horror game the forest...",
           3
          ],
          [
           "Seance",
           "run, hide, scream. it is up to you to do whatever it takes to survive. survive what, you might ask? ...",
           2
          ],
          [
           "ToeJam & Earl in Panic on Funkotron",
           "just updated all sega megadrive/genesis titles now launch using the new sega megadrive/genesis inter...",
           1
          ],
          [
           "My Douchey Boss Has a Gentle Twin Brother?! - BL Visual Novel",
           "when kyle gets a new job at a fashion company, he meets vincent zircon, who happens to be his eccent...",
           3
          ],
          [
           "Mega Mall Story",
           "next kairogames coming soon / about the game design a towering mega mall in this mall management sim...",
           2
          ],
          [
           "The Tribe Game",
           "the tribe game is a story-driven roleplaying game where the player creates their own custom characte...",
           3
          ],
          [
           "Hillbomb",
           "hillbomb was born from the love of two things: bombing steep hills on a skateboard and sega's 1986 c...",
           2
          ],
          [
           "了不起的棋盘",
           "through this game, players can design their favorite chess games, or improve the playing methods of ...",
           5
          ],
          [
           "Cream Me 2",
           "cream me 2 is a puzzle and flipping card game, in which all you need is to click by elements like cu...",
           2
          ],
          [
           "B-17 Flying Fortress: The Mighty 8th",
           "the missions undertaken by the crews of b-17 bombers during world war ii are the stuff of legend. wh...",
           1
          ],
          [
           "Z-STOP",
           "you are the last human, abandoned on a zombie infested island. there’s only one thing you must do, e...",
           1
          ],
          [
           "Snow Moto Racing Freedom",
           "snow moto racing freedom let's you take your rightful place on a high-speed snowmobile on snocross t...",
           4
          ],
          [
           "The Teleport",
           "developer's description: 1 - sit on camera system. 2 - transfer energy with the robot(wasd) (to fini...",
           5
          ],
          [
           "Disturbed: Beyond Aramor",
           "taunted by the anxiety and horrors beneath the shadows of his mind, fate finds gabriel, exiled away ...",
           3
          ],
          [
           "KURT - DER FUSSBALLMANAGER",
           "fußballmanager fun / about the game last generation management! kurt ´99 - the football manager [/] ...",
           5
          ],
          [
           "Air Attack",
           "take a 5 minute break to de-stress with this high-intensity, ultra simple, retro arcade shooter! tak...",
           7
          ],
          [
           "Daardoa",
           "bring the ancients to the church. bring the ancients to their homes. you can't fight, but you can ru...",
           3
          ],
          [
           "Draft Day Sports: College Football 2021",
           "prepare to lead your favorite school to championship glory as you experience the most realistic coll...",
           5
          ],
          [
           "TrES-2b",
           "you fell on the unexplored planet tres-2b, the ship is broken, and around the army of insects. you n...",
           2
          ],
          [
           "Medieval II: Total War™ Kingdoms",
           "medieval ii: total war kingdoms is the official expansion to last year's award-winning medieval ii: ...",
           1
          ],
          [
           "I See You",
           "i see you is a multiplayer online vr game, in which you can experience a hide&amp;seek game with you...",
           2
          ],
          [
           "Crafting Town",
           "wishlist&amp;follow crafting town! in this adventure that you started as a craftsman, you will gradu...",
           2
          ],
          [
           "Bomb Bowling",
           "bomb bowling is an indie puzzle game with physics. the goal of the game is to knock all the pins out...",
           5
          ],
          [
           "VEREDA - Mystery Escape Room Adventure",
           "vereda - mystery escape room adventure as a secret undercover agent used to adventure and mystery yo...",
           2
          ],
          [
           "Cult达人极限攀岩",
           "use your skill to climb to the top! you will control a cut climber with your own limbs, explore the ...",
           2
          ],
          [
           "Rescue Elves",
           "you can also like this about the game young hiki-mori guy in his school years, he was apathetic to e...",
           3
          ],
          [
           "Chroma Blast",
           "chroma blast is a fast paced twin stick shooter with many different styles of play where you fight t...",
           7
          ],
          [
           "Plasticalypse - Submarine Adventures",
           "story experience a journey through a sunken world, as the last surviving cleaner of the seas sets ou...",
           1
          ],
          [
           "Ascending Madness",
           "ascending madness is a hardcore, psychedelic, twinstick shooter with a dark trippy vibe and fast flu...",
           4
          ],
          [
           "Go Over The Edge",
           "'go over the edge' is a simple 3d platformer simulation game. the game is made with very simple mani...",
           5
          ],
          [
           "Precision Sniping: Competitive",
           "become a true sniper. precision sniper is an arcade simulation in which each level gets harder and h...",
           5
          ],
          [
           "Super Blasting Boy",
           "super blasting boy is a logical platform platformer made in the best traditions of retro games of th...",
           5
          ],
          [
           "Othello 2018",
           "othello (reversi) is a strategy board game for two players, played on an 8x8 uncheckered board. ther...",
           5
          ],
          [
           "Cupcake Remember",
           "cupcake remember is a fun, challenging and cute game. where you need to help a baker deliver your cu...",
           2
          ],
          [
           "Echo of the Last Light",
           "student collaboration with the university of utah: the fat bear society, a studio consisting of 2 pr...",
           3
          ],
          [
           "Groove Runner",
           "groove runner is a rhythm running game where the character takes action based on the timing of the n...",
           4
          ],
          [
           "Milo",
           "milo is a horror game where the player will find himself trapped in dungeons from which he will have...",
           3
          ],
          [
           "Procemon: You Must Catch Them",
           "proćemon is a retro-style procedurally generated monster collecting game. everything is a glitch, al...",
           4
          ],
          [
           "Splinter Zone",
           "check out my next game! / check out gb rober! / about the game splinter zone is a fast paced, run &a...",
           2
          ],
          [
           "Ambre - a heartbreaking kinetic novel",
           "a classic story available for free now with new enhanced graphics! as he is passing by a park, a dep...",
           2
          ],
          [
           "Bash Sports Online Bowling",
           "bash game studio presents bash sports online bowling. bso bowling is the first of arcade style sport...",
           2
          ],
          [
           "Escape First 2",
           "more escape rooms want more? challenge your friends or escape together on escape first 3! / take the...",
           2
          ],
          [
           "Total 15",
           "check out our other games about the game challenge your problem-solving skills in this game. each ro...",
           5
          ],
          [
           "Cruel Arena",
           "cruel arena is a classic arena survival zombie game. face endless hordes and survive as much as you ...",
           2
          ],
          [
           "Red Faction Guerrilla Re-Mars-tered",
           "set 50 years after the climactic events of the original red faction, red faction: guerrilla allows p...",
           1
          ],
          [
           "Let's make... sports",
           "dasha is a 1st-course student, and the increased scholarship is almost in her pocket ... but her spo...",
           3
          ],
          [
           "Recovery Search & Rescue Simulation",
           "“rescue team one to base. missing person found safe and well. mission accomplished. returning to bas...",
           1
          ],
          [
           "Turba",
           "turba provides a gameplay experience unlike any you have encountered before. load in music from your...",
           7
          ],
          [
           "Criminal Archives: City on Fire Collector's Edition",
           "in this hidden-object puzzle adventure: a string of mysterious murders has left san francisco police...",
           3
          ],
          [
           "DIM-EGION",
           "dim-egion is a single player shooting game with 2d collision detection and 3d rendering. story: in a...",
           1
          ],
          [
           "Pixel Game Maker Series OMA2RI ADVENTURE",
           "■game features a combination of a simple yet satisfying platformer &amp; speedrun! can you beat the ...",
           4
          ],
          [
           "VVVVVV",
           "help! everyone has been teleported away randomly! as the heroic captain viridian, it's up to you to ...",
           7
          ],
          [
           "Kingdom Two Crowns",
           "buzz / featured dlc / about the game kingdom two crowns is a side-scrolling micro strategy game with...",
           1
          ],
          [
           "FORSISTED : The Sacred Souls",
           "forsisted is a psychological horror game that tells the story of a criminal from the past who has to...",
           4
          ],
          [
           "Among the Skies",
           "among the skies is an indie naval-style game based around medieval airships built like castles. the ...",
           7
          ],
          [
           "Tides of Despair",
           "after a shipwreck, you are one of the survivors. you make it to land, but soon discover that you are...",
           2
          ],
          [
           "Book of Shadows",
           "the game takes place 1,000 years after the battle of the holy devil, the book of shadows suddenly ap...",
           3
          ],
          [
           "Deus Lo Veult",
           "play as one of the three great leader in the year 1135 in the middle east. become sultan of egypt, k...",
           2
          ],
          [
           "Would you like to run an idol café?",
           "in this visual novel yokoyama naoya is a decidedly ordinary guy, but that wasn't always the case. ba...",
           3
          ],
          [
           "Zeal",
           "zeal is a 3rd person action rpg focusing on customizable character builds and competitive pvp/pve wi...",
           7
          ],
          [
           "Coronavirus - Nano Force",
           "train to become a pilot in the newly formed nano force. the nano force is being formed to aid in the...",
           5
          ],
          [
           "LX Patterns",
           "also recommended for you: / / about the game lx patterns is a puzzle game based on iq tests, where t...",
           5
          ],
          [
           "Infinite Turtles",
           "you are but a cog in infinite machine. yet you are all the cogs. there is no end and no beginning. o...",
           7
          ],
          [
           "Danger Cliff",
           "danger cliff is a 2d collectathon platformer that harkens back to the golden age of internet browser...",
           5
          ],
          [
           "Unbalance",
           "unbalance is a minimalist physics puzzle about minimal geometry and balance. unbalance the shape by ...",
           4
          ],
          [
           "Battlegun",
           "battlegun is a fun and online cartoon fps game. create a room and kill the rival team. see more fun ...",
           7
          ],
          [
           "HexDefense",
           "hexdefense is a roguelike tower defense with an emphasis on constant action with little to no downti...",
           2
          ],
          [
           "1941 - Operation Barbarossa",
           "this game is a pc conversion of the board war game 1941, which is a hex-strategy turn-based game for...",
           5
          ],
          [
           "FORM",
           "coming soon / about the game charm games brings you form, a surreal adventure that unfolds within th...",
           3
          ],
          [
           "Seven Days",
           "seven days is a single-player first-person exploration game. play as a camper who comes to camp summ...",
           2
          ],
          [
           "Misplaced",
           "when humanity is at stake its up to each and every remaining person alive to do their part in saving...",
           2
          ],
          [
           "Heaven Dust",
           "add wishlist to heaven dust 2! / about the game when you awake, you find yourself in a mansion, wher...",
           3
          ],
          [
           "Captain Lycop : Invasion of the Heters",
           "mankind has received a transmission from space. an alien ship is coming. a hardened officer has been...",
           1
          ],
          [
           "24 Hours 'til Rescue",
           "the game 24 hours ‘til rescue plunges you into dynamic, hand-crafted, city overrun by the undead wit...",
           2
          ],
          [
           "The Skeleton",
           "the skeleton is a survival horror game in which you must survive for as long as you can until the ti...",
           2
          ],
          [
           "Aviation Manager",
           "choose your origin, create a route to nearby airports, choose the right plane, set a schedule for yo...",
           1
          ],
          [
           "再苟一步 One More Step",
           "words from the developer hello everyone, i am the developer of the game 'one more step'. though ther...",
           5
          ],
          [
           "Magirune 2",
           "magirune 2 - is the sequel to the beloved 2d dungeon crawler in the spirit of old school classics. d...",
           1
          ],
          [
           "The Inner Darkness",
           "the inner darkness: a lone man's journey through a strange world. unique dimension switching mechani...",
           3
          ],
          [
           "Mahokenshi",
           "join our discord about the game wielding both blade and magic, it is your duty to protect the floati...",
           7
          ],
          [
           "Collect Objects",
           "you need to collect objects as much as you can. solve puzzles, explore new puzzles, can you solve al...",
           7
          ],
          [
           "Sigma Draconis",
           "a group of colonists from a distant world have arrived at their new home. equipped with advanced tec...",
           1
          ],
          [
           "Navyblue and the Spectrum Killers",
           "challenge your skills in this new action-platformer adventure. jump, shoot and dash throughout the c...",
           3
          ],
          [
           "Lord Mayor",
           "lord mayor is a real-time strategy game with a vintage aesthetic that plays like a cross between a p...",
           1
          ],
          [
           "Lost Nova",
           "lost during a vacation gone wrong, help mia gather what she needs to fix her ship and get home. use ...",
           2
          ],
          [
           "XF5700 Mantis Experimental Fighter",
           "earth had no warning. out of nowhere, an army of insect-like creatures from a distant world, using t...",
           1
          ],
          [
           "Ultra Boat Game!!!",
           "a reflex game you try to get the highest score by avoid the obstacles in the river with your small b...",
           5
          ],
          [
           "The Bounty Huntress",
           "in this metroidvania style game , join rhea , a bounty huntress with a task to save some people kidn...",
           1
          ],
          [
           "Capsular",
           "now with 4 player coop! fast, frantic and simple to pickup. capsular is a unique arena shooter featu...",
           7
          ],
          [
           "Keep Trying! Zombie Apocalypse",
           "get ready for an ego-shooter of a very different kind. keep trying – zombie apocalypse is a single p...",
           3
          ],
          [
           "Global City",
           "build your city: global city's graphics stand out - be amazed by the amazing appearance of your resi...",
           2
          ],
          [
           "Dark Mechanism - Virtual reality",
           "in this vr exclusive game, travel through clockwork and use your gaze to dodge obstacles, collect pe...",
           5
          ],
          [
           "Double Play: 2-Player VR Baseball",
           "double play is a local two-player vr baseball game. one player pitches, one player hits, and ai fiel...",
           5
          ],
          [
           "Brinefall",
           "join us on discord! experience the ultimate adventure in brinefall, where you'll gather resources, b...",
           2
          ],
          [
           "VRAstroSmash",
           "vrastrosmash was originally designed for the vive cosmos, but it is compatible with the oculus quest...",
           5
          ],
          [
           "Duo Defenders - Tower Defense",
           "tower defense from a place down under. play as sally the platypus and koko the koala in this cute, l...",
           7
          ],
          [
           "Rift Wizard",
           "community join us on discord for development discussions, contests, and more: about the game rift wi...",
           4
          ],
          [
           "Legendary Mahjong 2",
           "in this anticipated sequel to legendary mahjong, peaceful life in shambhala has come to an end when ...",
           4
          ],
          [
           "Sign of Silence",
           "join our official discord community get the latest news and chat directly with us: about the game yo...",
           2
          ],
          [
           "Bots Rush",
           "no one asks where the towers take the shells, but here you have to answer this question. build quarr...",
           1
          ],
          [
           "Doorways: Old Prototype",
           "doorways: old prototype is a short game created before the development of doorways: prelude, the fir...",
           4
          ],
          [
           "Burgers",
           "💘check this out!💘 about the game experience the story of a small group of german soldiers sent to a ...",
           2
          ],
          [
           "Hotel Renovator",
           "unleash your inner designer and renovate the hotel of your dreams! embark on a makeover journey to t...",
           2
          ],
          [
           "Sparky's Hunt",
           "you return home late from work only to hear that something has been causing chaos and panic in small...",
           2
          ],
          [
           "FIREWORK",
           "follow yan the defective one through his fight against the fire troops and let him unveil the facili...",
           7
          ],
          [
           "Delicious - Emily's Road Trip",
           "climb aboard for a nostalgic road trip with emily and her family in the latest delicious time manage...",
           2
          ],
          [
           "Finding Fifi",
           "'finding fifi' is a point&amp;click puzzle game with just a touch of christmas. in a house full of c...",
           7
          ],
          [
           "Skedaddle",
           "in skedaddle your ultimate goal is to run through 10 levels having only 1 life. it may sound simple,...",
           2
          ],
          [
           "Shadow Watcher",
           "game background the continent of yatdis has remained calm. humans, orcs and elves live in peace on t...",
           1
          ],
          [
           "Material Girl",
           "sakura parents used to give her only a little money for her living costs. now they donât give her ...",
           3
          ],
          [
           "Memetric: Classic",
           "it's a 'side-scrolling' real-time strategy game, pixelart style, with a few small 'rouge-lite' eleme...",
           5
          ],
          [
           "Hyperborean Charter",
           "hyperborean charter frost and snow envelop the klondike region as the days grow shorter. a remote re...",
           2
          ],
          [
           "GasCraft",
           "this is a casual mini game where players need to use directional keys to control a car and collect g...",
           5
          ],
          [
           "Clash: Robot Detective - Complete Edition",
           "a relaxing time on a high-tech cruise ship turns into a mystery for the ages! the robot staff onboar...",
           3
          ],
          [
           "Juice FX",
           "easily create juicy animations add any animation to your sprite to make them juicy! what is juice fx...",
           7
          ],
          [
           "Content Creator Simulator",
           "step into the life of a true content creator! it's your job to make the best content possible for yo...",
           2
          ],
          [
           "Fortix",
           "can you reclaim your ancestors’ land? evil forces have taken over the once fertile land of fortiana....",
           1
          ],
          [
           "Little Dog Bob",
           "welcome to little dog bob's world! make bob happy by collecting stars and crossing obstacles. run th...",
           7
          ],
          [
           "The King's Cards",
           "the king's cards is a deckbuilding roguelike where you travel through several areas, defeat monsters...",
           1
          ],
          [
           "Il Sole e la Luna 2",
           "plot il sole e la luna 2 the end of 'il sole e la luna' sees our two protagonists sunny and moony ta...",
           1
          ],
          [
           "THE KING OF FIGHTERS XIII STEAM EDITION",
           "[[i]i]“the king of fighters xiii”[/i], snk playmore’s flagship 2d versus fighting title returns in a...",
           5
          ],
          [
           "Space Grunts",
           "the year 2476, earth's space-federation has been building moon-bases across the galaxy. one of those...",
           1
          ],
          [
           "怀旧版三国志Idle RPG",
           "qq福利群：917098493 加入qq群917098493，找礼包专员可领取入群礼包，参与社区活动还有更多礼包等你拿！ 礼包码兑换方式：点右下角“主城”—点上方“福利”—点“激活码” 关于网络问题 ...",
           5
          ],
          [
           "Towers Deck",
           "towers deck is a roguelike tower defense deck building game. buying cards, using them to destroy ene...",
           2
          ],
          [
           "Dragon Forge",
           "dragon forge is an incremental base-building adventure game about managing massive amounts of resour...",
           7
          ],
          [
           "Redemption Reapers",
           "the story descending suddenly on the world, the macabre mort armies destroy nation after nation, lea...",
           1
          ],
          [
           "The Warrior War",
           "about the game the warrior war is a shooting game that contains lots of action! with various gamepla...",
           1
          ],
          [
           "Locked Up",
           "you can get acquainted with my projects / / / you can get acquainted with my projects / update notes...",
           5
          ],
          [
           "Planetbase",
           "planetbase is a strategy game where you guide a group of space settlers trying to establish an outpo...",
           1
          ],
          [
           "Oscillatron: Alien Frequency",
           "oscillatron: alien frequency - music arcade in space! fight against the alien invaders. you are to c...",
           5
          ],
          [
           "Taras Bulba and platforms of Hoolion",
           "old-school bloody 2d-shooter! features a lot of monsters, thousands of monsters! big auto-generated ...",
           7
          ],
          [
           "Annual",
           "this is a classic fps with all the 90's feel. you are a survivor of a space expedition trying to sur...",
           7
          ],
          [
           "Astrodition",
           "in astrodition, all gamemodes can be played online with up to 8 players! invite your friends or hop ...",
           2
          ],
          [
           "Echoes of the Fey: The Fox's Trail",
           "echoes of the fey: the fox's trail is an english-language visual novel that mixes a high fantasy set...",
           3
          ],
          [
           "Ultimate Front",
           "in 'ultimate front,' step into the role of an archer and defend or conquer a mighty castle in a team...",
           4
          ],
          [
           "Palladium",
           "palladium is a one-man team videogame designed to mix classical fps and metroidvania elements. the g...",
           1
          ],
          [
           "Bunny Mahjo",
           "more from dillyframe / about the game bunny mahjo is the classic tile-matching game but in new look ...",
           7
          ],
          [
           "Nostradamus - The Four Horsemen of the Apocalypse",
           "france, 15th century... michel de nostradamus, europe's most famous prophet, receives a strange lett...",
           3
          ],
          [
           "PACTUM + EPISODE 1",
           "welcome back. are you bored ? enter this game to follow three friends exploring an a bandoned house....",
           2
          ],
          [
           "Woodland Empire",
           "woodland empire is a an anti-citybuilder ; a natural take on the typical city building game instead ...",
           1
          ],
          [
           "Outcasts of Dungeon:Epic Magic World Fight Rogue Game Simulator",
           "outcasts of dungeon is a third person fantasy action. being in the role of a powerful war mage with ...",
           1
          ],
          [
           "Grid Miner",
           "grid miner is a real-time strategy puzzle game where you mine asteroids to gather resources and expa...",
           7
          ],
          [
           "Furry Milfs",
           "furry milfs - is the simplest 2d puzzle the final goal of which to give you pleasure! the plot of it...",
           2
          ],
          [
           "My Bunny Girl",
           "this is a story about how a lonely guy finds his girlfriend where he did not expect to see her. one ...",
           3
          ],
          [
           "Coffee Crawl",
           "a strange phenomenon has swept across the globe. people began to fall asleep no matter where they ar...",
           2
          ],
          [
           "Elmarion: Dragon time",
           "'elmarion: dragon time' is an rpg where the main character is a big mighty dragon. the main idea of ...",
           1
          ],
          [
           "恐龙大冒险",
           "fifteen minutes to experience the prehistoric dinosaur world, live voice interpretation of the dinos...",
           4
          ],
          [
           "Capsule Hotel Simulator",
           "atmospheric experience for those wishing to get in a capsule hotel to catch the vibes of cyberpunky ...",
           7
          ],
          [
           "TINY ISLANDS",
           "tiny islands is a low poly point&amp;click game where you have to find all the ancient artifacts in ...",
           2
          ],
          [
           "Furious Goal",
           "【game introduction】 welcome to the soccer game 'furious goal'. you can start up your dream team in t...",
           5
          ],
          [
           "Nakawak: Expanded Color Edition",
           "mindless monsters roam the depths of the undercity - a hostile, sprawling, interconnected, semi-open...",
           4
          ],
          [
           "Recreational Dreaming",
           "recreational dreaming 'a sleepwalking simulator' recreational dreaming is a chill, casual game in wh...",
           4
          ],
          [
           "星尘战区 Stardust Theater",
           "☆ introduction the protagonist encounters a mysterious spaceship during a reconnaissance mission, an...",
           1
          ],
          [
           "Furry house",
           "the protagonist of a furry house is a boy forced by some events to move in with his mother. making t...",
           3
          ],
          [
           "Lost Borderline",
           "there have been rumors of strange creatures lurking in the woods. creatures no one has seen, only he...",
           4
          ],
          [
           "Blanket Heavy With Nightmares",
           "blanket heavy with nightmares is an art installation created by finnish artist suvi solkio in cooper...",
           1
          ],
          [
           "Pro Gamer Tycoon",
           "it’s not as easy to be a real gamer as you might think before: all those endless key combinations, d...",
           7
          ],
          [
           "Blue Fire: Void Maker",
           "create, play and share the voids of your wildest dreams blue fire's 3d action-adventure platforming ...",
           7
          ],
          [
           "Prismatica",
           "update notes after some really good feedback for version 1.1, update 1.2 is now live including the f...",
           4
          ],
          [
           "Soul Saga",
           "about soul saga is a uniquely challenging jrpg-rogue-lite hybrid with a strong focus on challenging ...",
           7
          ],
          [
           "The Train: Escape to Normandy",
           "the train : a daring and deadly escape behind enemy lines! august, 1944. the german stranglehold on ...",
           1
          ],
          [
           "Kohate",
           "in a time where commercial police forces monitor the galaxy, money is the driving force behind arres...",
           2
          ],
          [
           "Stash",
           "stash is bringing the magic back to mmos. with turn based combat, customizable housing as a core fea...",
           7
          ],
          [
           "Good Girls",
           "relaxing puzzle game. just relax and play. or play for speed. or look... :d if it's too hard you can...",
           5
          ],
          [
           "Brain Marmelade",
           "overview : brain marmelade is a 2d platformer/ adventure game with an hand-draw creepy art style and...",
           4
          ],
          [
           "Chesnakisnak",
           "what if we saw a glimpse of a world alien to us, a dimension where we had conquered space yet never ...",
           3
          ],
          [
           "DEXED",
           "from ninja theory, creators of heavenly sword and dmc: devil may cry comes dexed, an endless on-rail...",
           1
          ],
          [
           "Viking Brothers 2",
           "history says there was a time when the vikings ruled the world. but legend says it once took only tw...",
           3
          ],
          [
           "Lofi Checkers",
           "lofi checkers is a cozy version of a classic game when you have a moment to spare. relax, chill, and...",
           5
          ],
          [
           "Food Bomber",
           "nightmare takes control of the old villa because some unexpected guests are coming into the kitchen ...",
           2
          ],
          [
           "Terminal Conflict",
           "command history in this most definitive cold war strategy game . gain access to your retro terminal ...",
           1
          ],
          [
           "Roze Blud",
           "warning: for those with photosensitive epilepsy, this game features some flashing lights. take no pr...",
           4
          ],
          [
           "ABD: A Beautiful Day",
           "to view our f2p military veteran program, please visit our website (www.gagamaggotent.com) for detai...",
           1
          ],
          [
           "Ancient Tower",
           "watch out: they’re coming! can you stop them before they reach turrick? enjoy the cartoon graphics: ...",
           7
          ],
          [
           "MotorSport Revolution",
           "the game motorsport revolution is a single-player, physics-based racing game inspired by classic con...",
           4
          ],
          [
           "Malavision: The Beginning",
           "malavisión is a guarani legend spread throughout south america. according to the native, witnesses a...",
           3
          ],
          [
           "Fishman's Last Stand",
           "prepare yourself for a fight. the humans want your land, and they will do whatever they can to get i...",
           2
          ],
          [
           "Demolition Inc.",
           "full controller support free update with new features: gamepad support (windows only) : play the gam...",
           7
          ],
          [
           "Gael's Quest",
           "description gael's quest is a retro jrpg, that is, a turn-based rpg with pixel graphics. story incar...",
           7
          ],
          [
           "Metal Mind",
           "game tip！ hello gamers, i am sorry that the game controller experience is not satisfying at present....",
           1
          ],
          [
           "You Are Weak",
           "a ritual for the darkest of times. a game about community and change in a fractured world. -------- ...",
           5
          ],
          [
           "Fast Cubes",
           "fast cubes is a puzzle game with time limits. at each level, the player must place the cubes in thei...",
           5
          ],
          [
           "Way of the Samurai 3",
           "as a major release from the million+ selling way of the samurai series, way of the samurai 3 is the ...",
           7
          ],
          [
           "LABYRINTH OF TOUHOU - GENSOKYO AND THE HEAVEN-PIERCING TREE",
           "'there's no way we can leave something as ridiculous as the ame-no-murakumo being stolen alone.' cha...",
           7
          ],
          [
           "Soulker Defense",
           "soulker defense is a tactic defense game with a gameplay progressing to a hyperscaled insanity. gath...",
           7
          ],
          [
           "Easy Game",
           "easy game is a platformer game that breaks through the stage to avoid obstacles by stepping on the t...",
           5
          ],
          [
           "Grand Theft Auto IV: The Complete Edition",
           "important updates to grand theft auto iv and episodes from liberty city we are making a number of ch...",
           5
          ],
          [
           "DS Epoch",
           "in 2048 ad, an ai calling itself ds issued a notice to all mankind: that human society is temporaril...",
           1
          ],
          [
           "The Mimic",
           "mankind has colonized proxima centauri b, a tiny desolate world around a dim star, just 4 light year...",
           2
          ],
          [
           "Dungeons of Betrayal",
           "in this thrilling dungeon crawler rpg, regain your lost memories by navigating your way through vari...",
           2
          ],
          [
           "ELDEN RING",
           "elden ring deluxe edition the deluxe edition includes: • elden ring (full game) • digital artbook &a...",
           4
          ],
          [
           "Decoherence",
           "build robots from a wide variety of components. plan a strategy to carry you to victory. fight as a ...",
           7
          ],
          [
           "Dawn of the Monsters",
           "the cataclysmic battle between giant monsters has begun in this manga-inspired, side-scrolling, kaij...",
           1
          ],
          [
           "Destructamundo",
           "you want to hear a joke? universal peace. i mean, why settle for serenity when you can unleash an ar...",
           7
          ],
          [
           "Dark Traveller",
           "countless travels countless rebirths through the days and desperate times to rescue the family and t...",
           7
          ],
          [
           "RifleRange",
           "this game is a game that can only shoot rifle range targets. no enemy, no skill tree, no level. may ...",
           5
          ],
          [
           "Banished Monsters",
           "'banished monsters' is a visual novel put together by some random dude. follow the story of a fomori...",
           3
          ],
          [
           "Bunch of Games",
           "bunch of games is what name says it is - it's a bunch of games . take part in fast paced vehicle com...",
           2
          ],
          [
           "Stream Buddy",
           "stream buddy is a tool for twitch streamers to help you provide more entertainment for your viewers....",
           7
          ],
          [
           "Marmoset Hexels 3",
           "marmoset hexels™ is a unique, grid-based painting tool for vector art, pixel art, design, and animat...",
           4
          ],
          [
           "Wallpaper Builder",
           "wallpaper builder is not only a software for generating desktop wallpapers from files, web page url ...",
           4
          ],
          [
           "Who Is Mike - A Visual Novel",
           "you wake up with an aching head and the world out of focus. in front of you is a man accusing you of...",
           3
          ],
          [
           "Escape Dinosaur Island",
           "in the future world, a super boy accidentally crossed an island in the age of dinosaurs while drivin...",
           3
          ],
          [
           "Time Clickers",
           "time warpers - the evolution of time clickers check out the sequel to time clickers / about the game...",
           4
          ],
          [
           "Samira: Taken From Time",
           "as the world is ending around her, samira must find a way to flee planet earth and reunite with her ...",
           3
          ],
          [
           "drowning",
           "experience breath-taking gameplay, an open world, and death .... in this first-person drowning simul...",
           7
          ],
          [
           "True or False 2",
           "full-fledged sequel to the popular quiz game true or false! take a new quiz to test your knowledge a...",
           2
          ],
          [
           "Spooky Shelter",
           "a girl named sarah stood in front of the old abandoned orphanage where she had spent her childhood. ...",
           3
          ],
          [
           "Sam & Max: This Time It's Virtual!",
           "sam is a dog with a hat. max is a hyperkinetic naked rabbity thing. together, they’re the freelance ...",
           4
          ],
          [
           "IMMURE",
           "inescapable horror immure is a story driven, psychological horror game. will, the protagonist, has f...",
           3
          ],
          [
           "Saints Row IV - Reverse Cosplay Pack",
           "become the avatar of the saints row community with the reverse cosplay pack. chosen from the best of...",
           4
          ],
          [
           "Helicopter Simulator 2014: Search and Rescue",
           "upcoming release / about the game become an emergency pilot and test your skills to their limits, as...",
           1
          ],
          [
           "Kartong - Death by Cardboard!",
           "in a twisted world best described as ”a miniature cardboard city turned into a malicious science exp...",
           7
          ],
          [
           "Qbeh-1: The Atlas Cube",
           "level editor &amp; steam workshop get virtual! oculus rift dk1 &amp; dk2 support now included try be...",
           4
          ],
          [
           "Lab Inspect",
           "you play as an inspector assigned to check one of the tepas laboratories. it has been doing strange ...",
           5
          ],
          [
           "Celestial Command",
           "steam greenlight thanks for everyone who voted for us on steam greenlight! we are proud that communi...",
           1
          ],
          [
           "Invasive",
           "farming is tough. it's more difficult when nature is working against you. when insect sprays don't r...",
           2
          ],
          [
           "Raid of Battlefield",
           "many years later, the world was polluted by viruses, and human beings suffered from genetic mutation...",
           1
          ],
          [
           "CYBLOC",
           "you find yourself having remote control of the highly charged cybloc in a strange electrical realm. ...",
           5
          ],
          [
           "Niko: Through The Dream",
           "'niko: through the dream®' is a minimalist adventure accompanying niko in her return to her world. w...",
           7
          ],
          [
           "Solenars Edge Heroes",
           "an epic series of battles await you in the arena. are you strong enough to take them on? choose your...",
           1
          ],
          [
           "Time Tenshi (2015)",
           "the time window... an incredible invention, developed over decades in secret, empowers humans to mak...",
           3
          ],
          [
           "The Valiant",
           "we are the brave, the valiant, and the strength of our brotherhood will see us to victory in our que...",
           1
          ],
          [
           "Tile Battle",
           "tile battle focuses on a unique unit control system that allows players to control the flow of their...",
           5
          ],
          [
           "Empty Soul - S&S Edition",
           "special edition the game includes the soundtrack, the art book, and the fan book. everything can be ...",
           3
          ],
          [
           "Pinball Girlfriend",
           "this is a pinball game that shoots and scores from an overhead angle. players can move the shooting ...",
           5
          ],
          [
           "The Shapeshifting Detective",
           "the shapeshifting detective is a supernatural-noir murder mystery fmv game where you play as a detec...",
           3
          ],
          [
           "Walkerman",
           "setting: walkerman is a visual novel about a boy who embarks upon a career in monster hunting. as a ...",
           3
          ],
          [
           "Girls Tennis League",
           "'girls tennis league' is a tennis game that restores the movements of professional athletes and adds...",
           5
          ],
          [
           "Biosys Inc",
           "biosys inc. is a biology aquarium where you can observe and assist your cells and bacteria to become...",
           7
          ],
          [
           "Cosmophony",
           "cosmophony is a musical shooter designed for demanding gamers seeking an original and intense experi...",
           4
          ],
          [
           "Dash Realm",
           "using everything you can find, your goal is to push your opponents off the map. guns? potatos? (guys...",
           2
          ],
          [
           "Abandoned drive-in | 廃ドライブイン",
           "the main character, kaori, is on a date with her first boyfriend, who suggests that she go to a haun...",
           3
          ],
          [
           "Five dreams",
           "the five dream games are an immersive vr game (of course, you can also use the mouse to operate). th...",
           5
          ],
          [
           "Jewel Match Winter Wonderland 2 Collector's Edition",
           "’tis the season for chestnuts, mistletoe, and match-3. travel snow-clad lands across more than 200 h...",
           4
          ],
          [
           "Mostly Scared of Spiders",
           "mostly scared of spiders is an indie survival/adventure game with multiple endings depending on the ...",
           5
          ],
          [
           "Frigus İnferos",
           "'something that shouldn't be happened, the person who shouldn't die died' hell has been calm for tho...",
           2
          ],
          [
           "Luciform",
           "what is luciform? luciform is a 2d color-based precision platformer. this basically means that in th...",
           7
          ],
          [
           "TV Head: Eight Pages",
           "tv head eight pages is a classic first-person indie horror. you find yourself all alone, in the midd...",
           2
          ],
          [
           "ELF",
           "a rescue mission across enchanted and dangerous lands! necrilous the not very nice has kidnapped eli...",
           7
          ],
          [
           "Fallback",
           "just updated current game status: - the '2.0' uprising update is live! check it out! - make sure to ...",
           2
          ],
          [
           "UMA-War VR",
           "listen, fighter! an ufo crashed down a few days before and the world is suffering the attack by a hu...",
           5
          ],
          [
           "Life of a Mercenary",
           "lead a mercenary company seeking fame and fortune. be honorable and help defend the kingdom or take ...",
           3
          ],
          [
           "Space Merchants: Arena",
           "2021 update *** we are currently working on a new update for the vr and ar versions of the game. :) ...",
           1
          ],
          [
           "Apotheon",
           "the gods of olympus have abandoned humanity, leaving you to perish without their benevolence. take u...",
           1
          ],
          [
           "HEAVEN ATTACK!",
           "a turn-based command battle rpg created with 'rpg maker vx ace'. up to episode 1 is currently availa...",
           4
          ],
          [
           "The Land of Dasthir",
           "one day while staying at the distant city gailville, terret receives a letter asking for help in his...",
           3
          ],
          [
           "Stack Defense",
           "n stack defense, players stack 3d shapes on a table and try to get the biggest stack possible before...",
           7
          ],
          [
           "Hardland",
           "warnings this game contains mild swearing, suggestive themes, acts of violence, alcohol use, and sur...",
           3
          ],
          [
           "Boobs VR",
           "you can touch the breasts of beautiful ladies with huge breasts in the vr space. you can fondle and ...",
           2
          ],
          [
           "MarionetteAI",
           "marionetteai is a tactical battle game where you build an ai for your characters. the ai you make wi...",
           5
          ],
          [
           "AvoCuddle",
           "welcome to avocuddle world: avora and avoln live on avoplanet, a peaceful garden planet. they love e...",
           7
          ],
          [
           "Wizard Warfare",
           "wizard warfare is a fantasy-themed, 4x-style, turn-based strategy game with a strategic empire manag...",
           1
          ],
          [
           "The Culling",
           "battle royale is back! the game that took the world by storm in 2016 has returned to its roots and i...",
           2
          ],
          [
           "Warawara Invaders",
           "warawara invaders is a 2d casual rolling shooter. features 30 stages per round. the playing time unt...",
           5
          ],
          [
           "Empire Live",
           "what is empire live? empire live is a real-time strategy game focused on online matches where you wi...",
           2
          ],
          [
           "Ghoulboy - Dark Sword of Goblin",
           "beholgar is coming 'add whislist' / about the game ghoulboy is a retro-inspired style action platfor...",
           7
          ],
          [
           "Fire Protection Training Simulator",
           "just updated new updates for fire protection training simulator included: • grabbable on extinguishe...",
           1
          ],
          [
           "Secret Of Magia",
           "secret of magia is an action rpg. a ruthless tyrant is seizing control of village after village. rat...",
           3
          ],
          [
           "Talesworth Adventure: The Lost Artifacts",
           "talesworth adventure is a challenging, logic-based puzzle game that was originally launched on kongr...",
           7
          ],
          [
           "Dodge The Missionaries",
           "nothing gets the energy pumping like some banging music in a sweet ass venue, but what happens when ...",
           7
          ],
          [
           "Alan Wake",
           "when the wife of the best-selling writer alan wake disappears on their vacation, his search turns up...",
           4
          ],
          [
           "Forest Below",
           "forest below is a turn based token puzzler with intense tree growing action. teach the roots of the ...",
           2
          ],
          [
           "Just Another Memory",
           "you find yourself floating in an empty void. you can’t remember much except for your name: seth dunw...",
           3
          ],
          [
           "The Rhys510 Flash Back",
           "8 classic games in 1 place from rhys510. games single player gardini go farm iv pooper vermillion da...",
           7
          ],
          [
           "SEEP Universe",
           "seep universe allows the exploration of four bizzarre planets, inspired by retro games. run, jump an...",
           4
          ],
          [
           "Walstikski",
           "walstiki the best stupid game of the century walstiksi is a new game where you go through multiple v...",
           2
          ],
          [
           "Outer Darkness",
           "harness the power of eight different elements to cast spells and destroy the legion of darkness! you...",
           1
          ],
          [
           "Dark Days",
           "you are carter. a lone hunter stationed on the isolated island of colbrook. everyone on the island h...",
           2
          ],
          [
           "Cashtronauts",
           "cashtronauts is an arcade space combat &amp; trading game that takes place in an alternate universe ...",
           7
          ],
          [
           "廃病院探索",
           "exploring abandoned hospitals this is a free game. it's my first work, but i hope you enjoy it even ...",
           2
          ],
          [
           "MageWorks",
           "mageworks is a mage simulation combat and crafting game. players flip through their spellbooks and u...",
           7
          ],
          [
           "Dynasty Feud",
           "dynasty feud is a competitive, team-based, fast-paced platform brawler for 2-4 players. play either ...",
           2
          ],
          [
           "Up to the Unknown",
           "join our discord server link here - about the game welcome to our thrilling 2d platformer game! prep...",
           7
          ],
          [
           "Donut Shop",
           "enjoy this tasty puzzle game where you match the donuts up to beat your family and friends, maybe go...",
           2
          ],
          [
           "Falldown 79: Bottle of truth",
           "!!!attention!!! the game has no english! узнайте историю простого русского парня, который живет в ро...",
           6
          ],
          [
           "Another World - Thought Taboo",
           "in this mysterious world, you will set foot on dangerous areas, go through many difficulties, fight ...",
           2
          ],
          [
           "Luffy: Way Back Home",
           "also recommended for you: / / / about the game history after an unfortunate distraction on a vacatio...",
           7
          ],
          [
           "BoozeBall",
           "boozeball is a casual game where you will aim and throw a ball at variety of cups attempting to land...",
           5
          ],
          [
           "Cannon Block Ball",
           "in this game, your objective is to aim and shoot balls to knock down blocks from a platform. encount...",
           7
          ],
          [
           "Take No Prisoners",
           "blitz out, for the lads you are slade. before the nuclear war, special ops commando. now, survivor. ...",
           1
          ],
          [
           "XXZ: XXL",
           "zombie apocalypses turned out to be somewhat different from what science fiction authors used to wri...",
           3
          ],
          [
           "The Game We All Have To Play",
           "a word of caution to disclaim: it's more a poetry than a game. the story goes the way you pull it. a...",
           2
          ],
          [
           "The Watson-Scott Test",
           "take the watson-scott ™ personality test and discover your deepest and darkest fears. 30 multiple-ch...",
           2
          ],
          [
           "Shark Pinball",
           "get ready for shark pinball, a pinball machine where you'll try to score points avoiding sharks, oct...",
           7
          ],
          [
           "Dwarf Fortress",
           "prepare for the deepest, most intricate simulation of a world that has ever been created. not just g...",
           7
          ],
          [
           "Muscles And Bullets",
           "an evil dictator has transformed a peaceful tropical island into a nest of mercenaries and terrorist...",
           1
          ],
          [
           "Nemo_D.O",
           "nemo_d.o(a.k.a. nemo &amp; d.o) is a puzzle action game. player should control the two robots simult...",
           1
          ],
          [
           "Super Star Blast",
           "super star blast is a space based game with challenging levels of increasing difficulty. all enemies...",
           5
          ],
          [
           "Have a N.I.C.E day!",
           "further highlights / about the game in 'have a n.i.c.e. day' you drive on racing tracks that are so ...",
           2
          ],
          [
           "THE KING OF FIGHTERS '98 ULTIMATE MATCH FINAL EDITION",
           "kof '98 um fe , the ultimate &amp; final edition of 'kof '98 um', joins the tournament on steam! dis...",
           4
          ],
          [
           "Gates of Troy",
           "designed by wargaming world champion iain mcneil, gates of troy™ is the slitherine's critically accl...",
           1
          ],
          [
           "Armed and Dangerous®",
           "meet the lionhearts. a smack-talking rag-tag band of rebels bound on an impossible quest. with an ar...",
           1
          ],
          [
           "Junk Jack",
           "make the world truly yours in junk jack, a relaxing sandbox experience focused on building and impro...",
           7
          ],
          [
           "OLI",
           "*game does not have support to controller* do you believe in dreams ? oli its a brazilian indie shor...",
           5
          ],
          [
           "Death Roads: Tournament Prologue",
           "buy the full game! / about the game you'll take control of maggie 'liberty' murdock and her car, nav...",
           7
          ],
          [
           "Legend of Cenama",
           "legend of cenama is a retro rpg with a very existential story line. it's a story driven and emotiona...",
           2
          ],
          [
           "Iron Storm",
           "western germany, march 1964... the last great war rages on. madness at the front lines. men butcheri...",
           1
          ],
          [
           "猟奇リスナー ～ 狙われた姫配信者 ～ Lunatic Viewer - Streamer Girl at Risk -",
           "'lunatic viewer - streamer girl at risk' is a visual novel game about a reclusive protagonist who is...",
           3
          ],
          [
           "Adelantado Trilogy. Book one",
           "a game from the creators of roads of rome! the unique strategy hit - adelantado trilogy.book one! fe...",
           3
          ],
          [
           "Mission Z",
           "also recommended for you: join our discord about the game the game takes place in a region known as ...",
           1
          ],
          [
           "Wildland",
           "welcome to the last commune! the wild land, which never recovered after the death of the soviet unio...",
           2
          ],
          [
           "Cosmic Awakening VR",
           "preface cosmic awakening vr is a collection of horror scenarios set on a sci-fi stage. explore the m...",
           7
          ],
          [
           "Hidden Mysteries: Royal Family Secrets",
           "you were the queen’s most trusted handmaiden. yet all it took was a whisper for you to be falsely ac...",
           3
          ],
          [
           "Out of the Park Baseball 22",
           "out of the park baseball 22 - the 22nd version of the award-winning sports strategy series - is a gi...",
           5
          ],
          [
           "Project Horror Anthology: Project Prequel",
           "synopsis 'evelynn, is a military woman who has just returned to her hometown, where she lives with h...",
           2
          ],
          [
           "Battlesloths 2025: The Great Pizza Wars",
           "sloths. pizza. chaos. battlesloths 2025: the great pizza wars is the fast-paced multiplayer competit...",
           7
          ],
          [
           "Pandas Bridge",
           "pandas bridge is a 2d open world adventure game where you play as a panda to solve the mystery of wh...",
           3
          ],
          [
           "Gotcha",
           "gotcha is a chaotic couch co-op game for 1 - 4 players. you and your friends must escape from chasin...",
           7
          ],
          [
           "First Class Escape 2: Head in the Clouds",
           "'first class escape 2: head in the clouds” is a co-operative escape-room-style puzzle game, where yo...",
           2
          ],
          [
           "The Past Rhapsody",
           "embark on this new adventure, uncovering a brave hero's quest as he encounters a variety of daunting...",
           4
          ],
          [
           "Inbound UFO",
           "inbound ufo is an indie tower defense game created by a team of two developers over the course of 3 ...",
           1
          ],
          [
           "Day of Destruction",
           "communication systems receive atmospheric interference from a number of enormous objects heading tow...",
           1
          ],
          [
           "WarfareBattle",
           "welcome to the new warfarebattle era. tactical gameplay and daring new innovations that go beyond th...",
           1
          ],
          [
           "Level 20",
           "do you be able to reach level 20? basic mechanics level 20 is a 2d platform game with 20 randomly ge...",
           5
          ],
          [
           "Professor Teaches® Windows® 8.1",
           "professor teaches windows 8.1 is the quickest and easiest way to build your skills and improve your ...",
           7
          ],
          [
           "Cursed to Golf",
           "the press about cursed to golf: 'the dark souls of side-scrolling golf roguelikes is quite the pitch...",
           3
          ],
          [
           "The Wizard",
           "the wizard is the magic fantasy adventure. he helps him to find the mistery tower and discover the s...",
           4
          ],
          [
           "Atomic Society",
           "post apocalyptic town building where you set the laws can you rebuild a town that can keep hundreds ...",
           2
          ],
          [
           "Noita",
           "noita is a magical action roguelite set in a world where every pixel is physically simulated. fight,...",
           3
          ],
          [
           "Adventurer Flower",
           "you're a flower in an office and there are three hidden games based on balance and memory challenges...",
           2
          ],
          [
           "Keizudo",
           "summary keizudo is a command based visual novel that uses pre-rendered low polygon graphics. it has ...",
           3
          ],
          [
           "R.C. Bot Inc.",
           "update: basics video showing gameplay with the fully physics based robot (how to get up when things ...",
           7
          ],
          [
           "Cry of Fear",
           "cry of fear is a psychological single-player and co-op horror game set in a deserted town filled wit...",
           4
          ],
          [
           "Delila's Gift",
           "delila's gift is a vr picture book created using tilt brush! it tells the story of a small sea creat...",
           3
          ],
          [
           "Kyurinaga's Revenge",
           "kyurinaga's revenge is a 2d-based game with lots of platforming, action and puzzles. battle alongsid...",
           2
          ],
          [
           "Horror Loop",
           "horror loop tells the deep and unique story of a soldier. realism at twisted universe, we did our be...",
           5
          ],
          [
           "Mortal Fighter",
           "welcome to mortal fighter, an epic fighting game that will test your skills and unleash your inner w...",
           7
          ],
          [
           "佩尔霍宁",
           "introduction to playing method this is an adventure game with micro terror, shooting and puzzle solv...",
           5
          ],
          [
           "Log Jammers",
           "development roadmap about the game don your flannel! log jammers is a competitive online/couch arcad...",
           4
          ],
          [
           "Xpand Rally Xtreme",
           "xpand rally xtreme shows the true climate and conditions of rally racing. dangerous, technical track...",
           4
          ],
          [
           "Raji: Prologue",
           "add full game to your wishlist / about the game this is an opening chapter of raji: an ancient epic ...",
           3
          ],
          [
           "Distant Memoraĵo",
           "story rin - an ordinary high school girl lost in a parallel reality that looks just like the japan s...",
           3
          ],
          [
           "Dual Core",
           "a vibrant, futuristic, 'twin-stick' style shooter, for 1-4 players. it's 2147 and the human colony o...",
           4
          ],
          [
           "Full Gear",
           "songs of steam and bright machines... welcome to full gear! this is a steampunk-style traditional ro...",
           7
          ],
          [
           "Absolute Tennis Manager",
           "the most complete tennis management game! start your career by embodying an existing player, or crea...",
           5
          ],
          [
           "Aivolution",
           "aivolution is a machine learning educational game in which you design and train ai creatures to comp...",
           7
          ],
          [
           "Cubo ao topo",
           "'cubo ao topo' is a game that allows you , streamer, to play with your viewers in the chat of your t...",
           5
          ],
          [
           "Educator 2076: Basics in Education",
           "welcome to the most modern school, where all classes are improved and a new education system has bee...",
           2
          ],
          [
           "LOGistICAL 2: USA - Nevada",
           "package includes: logistical 2: nevada usa logistical 2: tuvalu (free l2 tutorial) logistical 2: sur...",
           1
          ],
          [
           "Chicory: A Colorful Tale",
           "chicory: a colorful tale is a top-down adventure game in a coloring book world where you can draw on...",
           7
          ],
          [
           "The Lonesome Fog",
           "might and delight invites you to step into an interactive diorama that expands on the world of paws ...",
           3
          ],
          [
           "Unlocked",
           "island of the lost / about the game unlocked is a short, relaxing, first person adventure game. as a...",
           4
          ],
          [
           "Cyber City 2157: The Visual Novel",
           "you wake up looking at the cell and trying to remember a dream you have seen last night. there are o...",
           3
          ],
          [
           "NUKITASHI",
           "join our community about the game a visual novel about a brother and sister who return to an island ...",
           3
          ],
          [
           "Ashwalkers",
           "wishlist ashwalkers &lt;3 more from us about the game from the co-founder of dontnod (life is strang...",
           1
          ],
          [
           "Now Testing: 407",
           "you are number 407, the new debugger for an upcoming sci-fi game. as a debugger, your job is simple!...",
           7
          ],
          [
           "Intelligence",
           "intelligence - a puzzle game in which you want to build the image so that the picture was like the o...",
           5
          ],
          [
           "StopTime Drive",
           "stoptime drive is a unique turn-based racing puzzle game that combines arcade racing with a top-down...",
           5
          ],
          [
           "aMAZE Valentine",
           "how long have you developed your thinking and attentiveness? today we will give you such an opportun...",
           2
          ],
          [
           "Kokoro Clover Season1",
           "gooooood mooooorning!!!!! plop down on the couch in your comfiest pajamas, grab a big bowl of cereal...",
           4
          ],
          [
           "带摄影师",
           "'take the photographer' is a simulated photo game. players will have a camera in the game. players c...",
           5
          ],
          [
           "Hang The Kings",
           "also recommended for you: / / about the game hang the kings is a chess-inspired puzzle game. capture...",
           5
          ],
          [
           "MicroTown",
           "build and manage your growing town in this relaxing village construction and management simulator wi...",
           1
          ],
          [
           "Pandemic Violence",
           "pandemic violence is an exaggerated take on the world dealing with a deadly pandemic virus. play thr...",
           1
          ],
          [
           "Marfusha",
           "a high-tempo shooting game with simple controls! become a guard of a dystopian world and defend the ...",
           1
          ],
          [
           "Pixel Puzzles 2: Birds",
           "featuring some truly fowl images indeed. pixel puzzles 2: birds is a traditional style jigsaw puzzle...",
           7
          ],
          [
           "Eight Winds",
           "master your sword, master your body, master your own mind to overcome your opponents. master your ow...",
           2
          ],
          [
           "Kaiju Panic",
           "kaiju panic is an action-strategy game with a bright and unique art style where you have to rescue s...",
           1
          ],
          [
           "RocketGirl",
           "rocketgirl is the greatest game ever made. take control of a beautiful heroine and grab a stolen roc...",
           0
          ],
          [
           "RESTLESS SOUL",
           "the adventure of a lifeti—er, afterlifetime—awaits! help a wayward soul return to the land of the li...",
           3
          ],
          [
           "Last Second",
           "this is a simple time survival game . players need to face endless enemies within 15 minutes, and av...",
           5
          ],
          [
           "Heart of Metal",
           "in heart of metal, two players have to control one robot together, and the robot is in two parts. on...",
           5
          ],
          [
           "Lucky Panda",
           "lucky panda is a simple platformer with elements of survival in which you have to pass a variety of ...",
           2
          ],
          [
           "Infect and Destroy",
           "play as the zombies! infect and destroy is an indie game in which you play as an infectious disease ...",
           1
          ],
          [
           "Earthquake Simulator VR",
           "virtual earthquake simulator made for the htc vive. experience a short earthquake and fire simulatio...",
           7
          ],
          [
           "MuGen - The Music Generator",
           "mugen - music generator using mugen you can create original music in seconds. get inspired, unleash ...",
           4
          ],
          [
           "Cross Set Infinity",
           "cross set is a sudoku-like brain-teasing novel number puzzle game with beautiful musics. the feeling...",
           5
          ],
          [
           "Phantom Signal — Sci-Fi Strategy Game",
           "a drifting space ship wakes up due to unusual interference in space. almost right after this, an unk...",
           1
          ],
          [
           "The Scary Square",
           "found out if mister square's was the killer and discovered the darkness story by picking up tracks t...",
           2
          ],
          [
           "The Neon Mate",
           "in the neon mate gravity is like it should be. get the highest score and make it to the top of the o...",
           5
          ],
          [
           "Bullet Heaven 2",
           "dodge hundreds of thousands of beautiful bullets! bullet heaven 2 is a shoot-em-up spinoff of the ep...",
           4
          ],
          [
           "PULSAR",
           "try to find the combination of paths to get to the goal. you will need reasoning, memorization and p...",
           2
          ],
          [
           "Island Defense",
           "get ready for modern battles! defend your islands against evil invaders in jungles! your team will c...",
           1
          ],
          [
           "Treasure Hunter Simulator",
           "check this as well / / about the game / treasure hunter simulator gives you a chance to explore hist...",
           7
          ],
          [
           "CountryBalls Heroes",
           "check out more from games operators! / / / about the game join our discord! about countryballs heroe...",
           7
          ],
          [
           "Daaang!",
           "daaang! is a hyper-casual physics-based sandbox platformer. roll around at your leisure with no time...",
           7
          ],
          [
           "Amaze Adventure",
           "welcome to amaze adventure! you are finally old enough to leave your quiet home in harvest park to f...",
           2
          ],
          [
           "Typed82",
           "about typed'82 a simple typing game to complement your keyboard and immerses you in an atmospheric t...",
           7
          ],
          [
           "Only A Dream",
           "backstory: - the date is 1990. the name is john simmons. three years ago your parents divorced after...",
           2
          ],
          [
           "Concrete and Steel",
           "concrete and steel is a 3d sandbox for creative people to build structures using a huge range of obj...",
           7
          ],
          [
           "Deep Madness",
           "in deep madness you jump deeper and deeper oh yes and even deeper. spikes on the edge make it diffic...",
           2
          ],
          [
           "W4RR-i/o-RS: Descent",
           "this is an art-game about a 4th millenium corporation zn, which semi-automatically mines astral part...",
           4
          ],
          [
           "1001 Jigsaw. World Tour: France",
           "1001 jigsaw. world tour: france is an exciting puzzle game and and a great opportunity to experience...",
           7
          ],
          [
           "Miracle Calamity Homeostasis",
           "the main character is the only one who can get in the way of an inevitable man-made catastrophe. the...",
           3
          ],
          [
           "Armored Evolution",
           "armored evolution is an arena-style top-down shooter where you fight through waves of enemies solo o...",
           7
          ],
          [
           "Geometry Boxer",
           "welcome to geometry island! you are just in time to partake in the biggest brawl between two warring...",
           1
          ],
          [
           "Have a Bloody Goal",
           "kill your enemies in style you hear their screams but you are not afraid, shoot them down to score. ...",
           2
          ],
          [
           "Ancestory",
           "ancestory offers the deep tactics of turn-based strategy mixed with the fun of card games and deck b...",
           7
          ],
          [
           "FUCK HITLER",
           "want to play with someone else? wishlist now! about the game you go back in time 80 years. in front ...",
           2
          ],
          [
           "Vulture for NetHack",
           "nethack nethack is the most celebrated member of the ancient and honorable family of games descended...",
           3
          ],
          [
           "Cold Waters",
           "after tracking a soviet landing force bound for iceland it is time to plan your attack. do you silen...",
           1
          ],
          [
           "MergeTD",
           "game features: 1. strategic compositing upgrades that let you indulge in mental calculations. 2. san...",
           1
          ],
          [
           "Dr. Umgebung's School of Life",
           "dr. umgebung's school of life is a game about simulating life in small glass terraria. you are atten...",
           5
          ],
          [
           "Umbrella Corps",
           "buzz about the game join the corps! umbrella corps is a new fast-paced third-person shooter set in t...",
           1
          ],
          [
           "Re:DESTINY",
           "❤ coming soon ❤ vtuber beats / about the game re:destiny has the story revolving around the onmyoji ...",
           3
          ],
          [
           "Great British Railway Journeys",
           "discover bradshaw’s britain george bradshaw’s handbook of 1840 was the first comprehensive tourist g...",
           1
          ],
          [
           "Dino Run DX",
           "we are making dino run 2! click here to check out the ongoing campaign to make the sequel we all des...",
           4
          ],
          [
           "Corporated Robots Wars",
           "new rts-strategy-actin game in cyberpunk style where you take control on squad full of robots. new s...",
           5
          ],
          [
           "Dyestributor",
           "dyestributor! from an aspiring duo of game developers comes an indie puzzler that will make you bang...",
           7
          ],
          [
           "Citizen of Rome - Dynasty Ascendant",
           "citizen of rome - dynasty ascendant is a family/dynasty life sim set in the roman republic. you get ...",
           3
          ],
          [
           "Galactic Crew II",
           "galactic crew ii is a roguelike sci-fi exploration game that takes place in a procedurally generated...",
           7
          ],
          [
           "Kimmy",
           "kimmy is a visual novel style game about a summer spent babysitting in late 1960s massachusetts. you...",
           3
          ],
          [
           "不可思议佣兵团",
           "with the rise of professional soldiers, the status of mercenary groups is at stake in the mainland. ...",
           3
          ],
          [
           "Abstract Hell",
           "abstract hell is a realm of many hostile creatures made of simple lines, curves, and light, and they...",
           7
          ],
          [
           "持猫少女凯蒂/Kaidi, armed with a cat",
           "have you ever been attacked by birds because of your fries in hand? have you ever met the famous rub...",
           3
          ],
          [
           "Kindred Spirits on the Roof",
           "- let’s make this a yuritopia! - kokonotsuboshi girls' academy of commerce, a school built on the si...",
           3
          ],
          [
           "Labyrinth Simulator",
           "labyrinth simulator offers you a endless levels of labyrinths and imagination. in labyrinth simulato...",
           2
          ],
          [
           "Potionomics",
           "deluxe edition about the game after the untimely death of her uncle, a penniless witch named sylvia ...",
           7
          ],
          [
           "Jump Jump",
           "'jump jump' is a casual game. play by jumping with the help of the operator. jumping onto the box co...",
           5
          ],
          [
           "Season's Beatings",
           "season's beatings is a fast and frantic one hit kill fps best described as first person hotline miam...",
           2
          ],
          [
           "Blooding Runner X",
           "play for blooding runner, to the neck of which a collar with explosives is fixed and whose timer is ...",
           7
          ],
          [
           "Rugby League Live 3",
           "rugby league enters the next-generation with rugby league live 3! featuring an all new be a pro care...",
           5
          ],
          [
           "Orbital X",
           "guide your planet along its orbit! an endless run through stars and galaxies! fast, challenging, rhy...",
           4
          ],
          [
           "Disney's Treasure Planet: Battle of Procyon",
           "disney's treasure planet: battle at procyon is a 3d rts game focusing on space combat. in the main c...",
           1
          ],
          [
           "El Mucho",
           "epic world the world is being attacked! liberika, a world hidden behind huge hills and endless river...",
           3
          ],
          [
           "Trenches of War",
           "trenches of war is a fast-paced world war i-inspired strategy game. battle through the alps by spawn...",
           1
          ],
          [
           "Chieftain",
           "chieftain is a fantasy game of world conquest - containing elements of a procedurally generated 4x w...",
           1
          ],
          [
           "World CHAMPIONS: Decathlon",
           "this winter: stay tuned! world champions: decathlon available now welcome to the world champs league...",
           5
          ],
          [
           "Age of Mythology: Extended Edition",
           "age of mythology the classic real time strategy game that transports players to a time when heroes d...",
           4
          ],
          [
           "The Guest",
           "'the guest' is a gloomy adventure full of enigmas where the exploration of your surroundings comes t...",
           3
          ],
          [
           "Super Donald World 2024 🦅",
           "for youtubers, twitch streamers and content creators about the game dodge obstacles and build the 1,...",
           1
          ],
          [
           "The Scrap",
           "the scrap is an independent third-person shooter that takes place in a futuristic world inhabited by...",
           1
          ],
          [
           "Castle Guardian",
           "castle guardian is a game where you play as a castle guard in fantastic medieval era. it is a tower ...",
           1
          ],
          [
           "The Dive",
           "the dive is a linear underwater horror game about a search dive that quickly turns into fight for su...",
           7
          ],
          [
           "Space Otter Charlie",
           "with humanity gone, it’s up to the otters to save animal-kind from an inhospitable earth. join charl...",
           7
          ],
          [
           "Force Reboot",
           "your health is a timer and it's draining move faster and lose less health force reboot is a fast-pac...",
           2
          ],
          [
           "BIG BALL SPORTS",
           "this game contains 6 popular sports: soccer, volleyball, dodgeball, kickball, tennis, and golf! but ...",
           5
          ],
          [
           "PRIMAFLOOWS",
           "the player controls a platform that can be moved from one wall to another, placing it under the ball...",
           5
          ],
          [
           "Empire of the Gods",
           "build flourishing cities and the largest monuments ever seen. enjoy an original card game with absor...",
           1
          ],
          [
           "Grappling Dash",
           "jump, swing, dash grappling dash is fast-pace, uniquely stylized platformer game. use your grappling...",
           2
          ],
          [
           "STRIKERS 1945",
           "this is the most popular and famous title from the psikyo shooter series! strikers 1945 is a vertica...",
           5
          ],
          [
           "Total Extreme Wrestling 2010",
           "step into the world of wrestling in world total extreme wrestling 2010. in this simulation title, yo...",
           5
          ],
          [
           "Comix Zone™",
           "just updated all sega megadrive/genesis titles now launch using the new sega megadrive/genesis inter...",
           4
          ],
          [
           "Soul Catcher",
           "★★★★★★★★★★★★★★★★★★★★★★★★★★★★★★★★★★★★★★★★★★★★★★★★★★★★★★★★★★★★★★★★★★★★★★★★★★★★★★★★★★★★★★★★★★ what a lo...",
           3
          ],
          [
           "Pop Some Eyes",
           "mr. pineapple bundy, a descendant of al bundy from the hit tv show 'married with children,' has just...",
           3
          ],
          [
           "Laruaville 6",
           "in this game you're looking for the treasure hidden on the uninhabited island. the most interesting ...",
           2
          ],
          [
           "Freed Software",
           "free soft is a simulator in which you have to create your own it company. in this world, you will ha...",
           2
          ],
          [
           "Super Scramble Simulator (Amiga/C64/CPC/Spectrum)",
           "originally released in 1989, this dirtbike simulator brought all the fun and challenge of motocross ...",
           4
          ],
          [
           "Swordia",
           "a community driven an adventure mmorpg. we threw aside the traditional mmo and made it for gamers by...",
           5
          ],
          [
           "UfoPilot : The Phadt Menace - Steam Edition",
           "ufopilot : the phadt menace - steam edition again puts you at the controls of a nimble vector-class ...",
           1
          ],
          [
           "Comedy Quest",
           "comedy quest is a point and click adventure game set in the magical world of standup comedy. it mesh...",
           4
          ],
          [
           "SHOWTIME 2073",
           "new from nicolas bernard about the game in 2073, the greatest show of all time playing with the live...",
           5
          ],
          [
           "Ghost Files: The Face of Guilt",
           "step into the shoes of emily meyer from boston pd to face the mysterious case of 10 homicides. using...",
           3
          ],
          [
           "Rupert and Riley Shipwrecked",
           "get wrecked, shipwrecked. in this charming 2d game, you'll be addicted to catching fish 'n' bubbles....",
           3
          ],
          [
           "Graviteam Tactics: Mius-Front",
           "new dlc available / special offer graviteam tactics: angola 1987 bundle graviteam tactics: operation...",
           1
          ],
          [
           "Kvark",
           "congratulations, valued future employee, on your decision to interview for a position of [redacted] ...",
           2
          ],
          [
           "Art Heist - Escape Room Adventure",
           "art heist – escape room adventure a rainy night, a secluded villa on a remote island and a thief who...",
           7
          ],
          [
           "Defenders of Legends",
           "'defenders of legends: turret tactics' is an addictive tower defense game that challenges players to...",
           1
          ],
          [
           "Dear Friend",
           "join us on this psychological and spiritual adventure in which you will have a very special friend w...",
           2
          ],
          [
           "The Far Kingdoms: Elements",
           "'the far kingdom: elements' is a mixture between match-3 and hidden object game. the evil enchantres...",
           3
          ],
          [
           "100 hidden turtles",
           "art by аnatoliy loginovskikh 100 hidden turtles is a hidden object game in the undersea world settin...",
           4
          ],
          [
           "We Are OFK",
           "🕐 episodic release all new episodes of we are ofk are included, and will be released every week, acc...",
           4
          ],
          [
           "The Big One",
           "in a galaxy not so far away machines rule the world and the human race has been enslaved ! reduced t...",
           2
          ],
          [
           "Queen of Honor",
           "wishlist and follow! / about the game queen of honor - is a classical 2d platformer with surviving e...",
           2
          ],
          [
           "Crash Drive 2",
           "this is the free demo of crash drive 2. get ready for ridiculous fun in this multiplayer free-roamin...",
           5
          ],
          [
           "Botanica: Into the Unknown Collector's Edition",
           "you are dr. ellie wright, a botanist stranded on a strange planet called botanica. full of curious c...",
           4
          ],
          [
           "Firework Simulator",
           "firework simulator lets you play with all kinds of different fireworks and even lets you make your o...",
           7
          ],
          [
           "The Disaster",
           "update notes - update notes - 29/05/2021 + improvements; + added 'protect the house' mode; + added n...",
           7
          ],
          [
           "Age of Solitaire : Build Civilization",
           "build your \bcivilization while playing solitaire games! a solitaire game that anyone can enjoy easil...",
           7
          ],
          [
           "8 Ball 2",
           "the most famous and charismatic pool ball is back, and now you can choose if you wanna play in third...",
           2
          ],
          [
           "Dreamcage Escape",
           "can you escape the dreamcage? are you ready to solve puzzles and crack codes in this new and innovat...",
           2
          ],
          [
           "DREAMO - Puzzle Adventure",
           "dreamo is a story-driven adventure puzzle game, where the player explores strange landscapes and sol...",
           4
          ],
          [
           "Deck Adventurers - Origins",
           "in deck adventurers: origins you will guide tasha and berem in the adventure that will make them the...",
           2
          ],
          [
           "Timerunner",
           "playtests here / about the game / / there the story's hero makes a stop to embark on a quest of trea...",
           2
          ],
          [
           "Abandoned Cabins in the Woods",
           "more games! / / / about the game abandoned cabins in the woods is a 2d top-down survival horror game...",
           3
          ],
          [
           "Crowd Sign: Emission",
           "crowd sign: emission is a game where you paint a signs and watch the action unfold then later you ca...",
           3
          ],
          [
           "Goblin Defenders: Steel‘n’ Wood",
           "tired of boring tower defense games? goblin defenders: steel 'n' wood breaks the mold with exciting ...",
           7
          ],
          [
           "Harvest Days: My Dream Farm",
           "further toplitz highlights / / / discord about the game no traffic jams. no skyscraper canyons. no b...",
           2
          ],
          [
           "Don Duality",
           "free expansions about the game you take on the role of a restaurant owner who just happens to be the...",
           2
          ],
          [
           "(VR)西汉帝陵 The Han Dynasty Imperial Mausoleums",
           "han dynasty imperial mausoleums supporting the room scale of htc vive devices and stand mode. the le...",
           1
          ],
          [
           "Bubsy Two-Fur",
           "bubsy: paws on fire! - available now! from the developers of the bit.trip series comes bubsy: paws o...",
           4
          ],
          [
           "Dark Light",
           "dark light is a single-player 3d puzzle game. levels present physical obstacles that must be conquer...",
           2
          ],
          [
           "Fart Simulator 2018",
           "trading cards soon about the game the fart simulator 2018 - a satirical action, without elements of ...",
           2
          ],
          [
           "Cursed Road Convoy",
           "have your convoy fight its way through the post-apocalyptic outback wasteland in turn-based battles ...",
           1
          ],
          [
           "GI Racing 2.0",
           "a pulse-pounding, arcade-style racer that lets you drive powerful cars on famous tracks from around ...",
           7
          ],
          [
           "Hookshot",
           "guide your hookshot ball or square through various levels. the ball hookshot can move in 360 degrees...",
           5
          ],
          [
           "Charge",
           "you play as a silent protagonist armed with a charge gun, and your ultimate goal is to progress thro...",
           2
          ],
          [
           "Sakura MMO Extra",
           "sakura mmo extra is a sequel to sakura mmo #3, which takes place after the harem ending. several mon...",
           3
          ],
          [
           "Rival Megagun",
           "transform into your mega gunship boss form to blast your rival head-on in this unique shooting game ...",
           4
          ],
          [
           "Hmmsim Metro",
           "line 1, the most complicated subway in seoul, is now coming in pc version. you can feel high immersi...",
           1
          ],
          [
           "Swarm Survivor",
           "you are one of the few survivors of the swarm's invasion. in this top-down, dark shooter, explore a ...",
           2
          ],
          [
           "Slingshot Hero VR",
           "slingshot hero vr was originally designed as an event vr game. after receiving tremendous feedback f...",
           4
          ],
          [
           "Worms Armageddon",
           "check out worms rumble: / about the game those intrepid invertebrates return with a vengeance in the...",
           7
          ],
          [
           "Cyberline Racing",
           "★★★ a race-to-the-death in a post-apocalypse world! ★★★ cyberline racing combines action packed shoo...",
           3
          ],
          [
           "Tower Survivors",
           "for the full story, also play tower escape! / the story the evil necromancer has escaped the tower, ...",
           3
          ],
          [
           "Penny Arcade's On the Rain-Slick Precipice of Darkness 4",
           "steam big picture about the game penny arcade’s “on the rain-slick precipice of darkness 4” conclude...",
           4
          ],
          [
           "Frosthaven: Official Companion",
           "frosthaven companion is a companion application meant to lower the setup time and maintenance while ...",
           5
          ],
          [
           "Puzzle Kingdoms",
           "puzzle kingdoms challenges players to plan out strategic attacks in order to defeat their opponents....",
           1
          ],
          [
           "Laid-Back Camp - Virtual - Lake Motosu",
           "experience laid-back camp in 3d! together, nadeshiko (you!) and rin embark on a new camping adventur...",
           4
          ],
          [
           "Octave",
           "octave is a point 'n click horror-adventure game with elements of action and quest. you play the rol...",
           2
          ],
          [
           "Buckler 2",
           "buckler 2 , originally titled rosefury: the golden plains , is an action-packed platformer with a fe...",
           7
          ],
          [
           "Adelantado Trilogy. Book Three",
           "the story of adelantado continues in book three – get ready for an epic conclusion of this amazing t...",
           3
          ],
          [
           "The Tau Ceti Terminus",
           "in this vr only game, you will solve a wide range of challenges, encounter various lifeforms, and de...",
           7
          ],
          [
           "Spiral Knights",
           "band together and fight to the core! spiral knights is a cooperative adventure in a persistent world...",
           1
          ],
          [
           "Wukong Odyssey",
           "wukong odyssey – a classic adventure game wukong odyssey is an epic adventure game with a classic pl...",
           7
          ],
          [
           "A Way To Be Dead",
           "overview about the game about the game a way to be dead is an asymmetrical multiplayer (up to 5 play...",
           1
          ],
          [
           "Chimera Island",
           "about chimera island is a casual monster collection and management game created by students. through...",
           1
          ],
          [
           "Void Stranger",
           "void stranger is a 2d sokoban-style puzzle game where every step counts. descend into the forgotten ...",
           2
          ],
          [
           "Them - The Summoning",
           "when a longtime friend contacts you to visit him with the utmost urgency, you arrive to find a troub...",
           3
          ],
          [
           "Shallow Swing",
           "are you ok bubbles? you look a bit like... shrinking?! ------------------------------------- shallow...",
           7
          ],
          [
           "Em-A-Li",
           "continue the story / other games by yobob / about the game story inspired by portal 2, em-a-li is an...",
           3
          ],
          [
           "Alice Running Adventures",
           "about this game what will alice face in wonderland? you can feel it with her in this 3d action game....",
           2
          ],
          [
           "Heaven & Hell",
           "in the devilish match-3 game heaven &amp; hell, you'll have to help the witty angel angelo bring bac...",
           4
          ],
          [
           "Galactic Liberation",
           "'galactic liberation' is a classic 2d arcade scrolling shooter, with a side view. nice graphics and ...",
           4
          ],
          [
           "5 Star Miami Resort",
           "🔥 upcoming games - wishlist now! / / about the game in the champions league of hotel management lucy...",
           7
          ],
          [
           "Penarium",
           "penarium is set in a sinister circus arena, where contestants, much like gladiators of old, are forc...",
           4
          ],
          [
           "Ephesus",
           "join our discord channel! road map updates schedule day 1 update 48 hour update weekly updates month...",
           1
          ],
          [
           "Kalinur",
           "description kalinur is a mini metroidvania full of action and adventure. in it you will have to expl...",
           2
          ],
          [
           "Where are My Pipes?",
           "beaver versus water supply – reverse the chaos caused by the furry troublemaker! you'll have to work...",
           1
          ],
          [
           "Super Bout: Champion's Tour",
           "2 fighters enter the ring, one will leave victorious. knock your opponent out or force them out of t...",
           5
          ],
          [
           "Convergence Compulsion",
           "convergence compulsion is an arcade-style, score-attack game that balances thinking fast and plannin...",
           7
          ],
          [
           "Touhou Block Fall ~ Yukari",
           "youkai are invading! take control of reimu as she teams up with yukari to handle the invasion! manag...",
           5
          ],
          [
           "Eleven Islands",
           "enjoy a thrilling match3 game! disaster struck the tribe of the eleven islands. a volcano eruption c...",
           1
          ],
          [
           "Silenced: The House",
           "the old house is hiding something. his dark empty rooms are full of secrets. blind windows are stari...",
           2
          ],
          [
           "Darksy's Adventure",
           "darksy's adventure is a 3d platformer with furry characters and abstract 3d worlds. it was to be ano...",
           4
          ],
          [
           "Rarity Chase",
           "rarity chase is an adventure for board game fans. quickly learn simple rules, roll the die and go in...",
           5
          ],
          [
           "Golems TD",
           "you are playing as a hero who took a vow to protect crystal core against waves of golems. ultimate g...",
           1
          ],
          [
           "Global Adventures",
           "in global adventures, your life gets turned upside down after you join the adventurous treasure hunt...",
           3
          ],
          [
           "Cubeland VR",
           "play multi-play casual shooting game just with your basic moves (collecting, throwing, and avoiding ...",
           5
          ],
          [
           "Astonia Resurgence",
           "discord: classes there are two available classes from the start: warriors, specializing in melee com...",
           7
          ],
          [
           "Nocturne of Steel",
           "become humanity's blade, the avatar of steel, and struggle against the elemental gods' uprising whil...",
           1
          ],
          [
           "Beach Bar VR",
           "beach bar vr is an arcade game about bar tending. see how quickly you can serve as many people as po...",
           5
          ],
          [
           "Mindsight",
           "mindsight is a minimalistic evolution of a match-3 game. the goal of the game is to find all sets of...",
           5
          ],
          [
           "Divine Combat",
           "divine combat is a turn-based strategy game wherein you lead a team to victory against another team....",
           5
          ],
          [
           "Tank Hero VR",
           "according to the suggestion from the players, we release the updated version and the new updated ver...",
           1
          ],
          [
           "Rise Of Enigmas",
           "these are series of enigmas games. enjoy thinking about puzzles. one series of puzzle is included fo...",
           5
          ],
          [
           "Date Night Bowling",
           "you're out at your local bowling alley for a dating event, so strike up a conversation, hop over to ...",
           2
          ],
          [
           "Learn Game Development, Unity Code Monkey",
           "hello and welcome! i am your code monkey and here you will learn everything about game development i...",
           7
          ],
          [
           "LocoMotion",
           "locomotion is a action, platformer game inspired by many other games out there. this game has a fasc...",
           5
          ],
          [
           "MEGALAN 11",
           "bad luck rescuers have only eleven days to get out of the trap on a planet long abandoned by all. th...",
           2
          ],
          [
           "A Street Cat's Tale",
           "'tale of a street cat' is a story of a baby kitten left alone at the town. it's an adventure game pl...",
           2
          ],
          [
           "Anna VS the A.I.maze",
           "a physics-based platforming game in which you escape a virtual maze. solve some mini puzzles, fight ...",
           5
          ],
          [
           "FEVER: FIGHT THE FEVER",
           "update notes we are constantly thinking of updates and new game mechanics. feel free to reach out wi...",
           2
          ],
          [
           "Vitality Girl Ⅱ:Fire",
           "is a cartoon style bullet screen shooting game. the game adopts the horizontal version of the game, ...",
           5
          ],
          [
           "The God",
           "the god is a creative-sandbox relaxing game available for pc and vr platform. feel the real power of...",
           7
          ],
          [
           "The Hellchemist",
           "picture: flavor text: in a world ravaged by wars, people sought shelter underground but some dug too...",
           1
          ],
          [
           "Emiko's Pledge 3",
           "recommended for you / / about the game emiko's pledge 3 is a 2d platform action game based on the st...",
           3
          ],
          [
           "Bombagun",
           "bombagun - is a competitive card game set in the immersive post-apocalyptic universe of atom rpg . t...",
           7
          ],
          [
           "Rear of Business",
           "the only aim in rob is to survive - overcome struggles such as poverty, shelter and business. protec...",
           2
          ],
          [
           "It Steals",
           "it steals is a challenging experiment in survival horror, revolving around stealthy and unpredictabl...",
           2
          ],
          [
           "Potio Mellow",
           "welcome to potio mellow potio mellow is a turn based collectathon where you stack cards to collect h...",
           2
          ],
          [
           "Greedy Guns",
           "greedy guns is a joyful, color-filled platformer that sprinkles elements of exploration on top of ex...",
           4
          ],
          [
           "Strange Horticulture",
           "find and identify new plants, pet your cat, speak to a coven, or join a cult. use your growing colle...",
           2
          ],
          [
           "Back 2 School",
           "back 2 school is an educational trivia game that pits the player against answering challenging prima...",
           5
          ],
          [
           "Sullen: Light is Your Friend",
           "five years ago in this forest.. a journalist wanted to go there.and (of course) he didnt come back. ...",
           2
          ],
          [
           "Are You Smarter Than A 5th Grader",
           "are you smarter than a 5th grader? is a charmingly humorous quiz game based on the popular tv franch...",
           4
          ],
          [
           "GUILTY GEAR Xrd -SIGN-",
           "kept you waitin'. guilty gear xrd -sign- is finally here on steam! about the game revolutionary grap...",
           4
          ],
          [
           "Lamoneo",
           "how does it feel to play a dream? abandon your wordly logic as you follow the rhythmic steps of ethe...",
           2
          ],
          [
           "RoboSquare",
           "jump into speedy hazard-packed robo battles with up to 15 other players where random series of synch...",
           5
          ],
          [
           "Trailer Shop Simulator",
           "you may be interested / about the game being on the run from the mafia for more than 10 years, you m...",
           2
          ],
          [
           "Ironsmith Medieval Simulator",
           "relaxing and casual games / / about the game welcome to the dark ages where weapons and armor of ste...",
           7
          ],
          [
           "Psi Project: Legacy",
           "adventure and romance! wishlist and follow! / play for free! / about the game psi project legacy - i...",
           2
          ],
          [
           "Final Hope: The Plot",
           "final hope: the plot is a turn-based tactical rpg with a medieval theme. create your hero and embark...",
           5
          ],
          [
           "Odium",
           "odium is a fast paced action roguelike, following chris's life as a bullied child, in a subtle and p...",
           3
          ],
          [
           "Phantasmagoria",
           "i feel its presence, the icy fingers upon my throat. i hear its eerie sounds, unsettling my every th...",
           3
          ],
          [
           "Royal Tumble",
           "meet king ono, ruler of square land, beloved by all. that is, apart from his arch enemy lord void, w...",
           2
          ],
          [
           "Dammerlicht",
           "summary dämmerlicht is a game based around the many worlds theory, where the actions of the player c...",
           5
          ],
          [
           "Daemonum",
           "created by vidas salavejus, creator of the timore series &amp; aaron wise, creator of the patient: a...",
           4
          ],
          [
           "Skeleton Troubles",
           "skeleton troubles have you ever wondered what happens to all skeleton enemies in video games after t...",
           2
          ],
          [
           "No Going Back",
           "no going back is a story, told between him and her. a story you uncover as you go along, along the o...",
           3
          ],
          [
           "M87",
           "about this game campaign: an computer's artificial intelligence (ai) becomes the dominant form of in...",
           1
          ],
          [
           "First Feudal",
           "localization mods and wiki subscribe to user-contributed localization mods to play first feudal in t...",
           7
          ],
          [
           "Jewel Match Solitaire L'Amour",
           "love is in the air. and so is solitaire! enter the enchanting world of jewel match as you fall head ...",
           4
          ],
          [
           "Pleim",
           "about this game pleim is an adventure game with a focus on immersion in the atmosphere of the city o...",
           5
          ],
          [
           "Magical Miri",
           "magical miri is a 2d side scroller platform video game in anime style and with a little fan service ...",
           4
          ],
          [
           "Pink Hour",
           "kero blaster / sequel: pink heaven / about the game this is a cute and fancy action game that lets y...",
           7
          ],
          [
           "Wheelchair Simulator VR",
           "we believe that the power of vr can help solve real world issues by putting you into other people’s ...",
           3
          ],
          [
           "Gazing from beyond",
           "this is a galgame about college life, where you'll pursuit the love of your life. you'll surely expe...",
           3
          ],
          [
           "血潭江湖百里荣",
           "introduction: the so-called happy jianghu, but the moment of revenge to kill the enemy, the sword fe...",
           3
          ],
          [
           "Star Girls",
           "star girls is a dating sim with a bullet hell combat system and light rpg elements in it. the story ...",
           2
          ],
          [
           "Mahjong Nagomi",
           "new title! / about the game authentic japanese mahjong has arrived! this isn't solitaire where you m...",
           5
          ],
          [
           "School Bus Driver Simulator",
           "such a simple job, but with a very big responsibility! the school bus driver simulator game offers y...",
           5
          ],
          [
           "Beat Blast",
           "bullet hell + music + roguelite = beat blast the music you make becomes your abilities a musical jou...",
           2
          ],
          [
           "LAB2-UndeR GrounD-",
           "-story- an incident occurred at the laboratory's underground facility. for investigation, sae heads ...",
           1
          ],
          [
           "Noelle Does Her Best!",
           "latest release / / / upcoming games / / about the game noelle has lived out in the sticks all her li...",
           2
          ],
          [
           "I'm Just a Slime",
           "you are just a slime. the weakest of the monsters. but when a dragon moves in on a nearby mountain, ...",
           2
          ],
          [
           "Block Buster",
           "destroy cities with your bare hands! burn buildings! toss tanks! grab – and eat – people! block bust...",
           4
          ],
          [
           "PlanetSide Arena",
           "planetside arena servers will be shutting down on january 10, 2020. read our dev letter to learn mor...",
           4
          ],
          [
           "Mauri Mursu's Hangover",
           "help mauri mursu on his adventure on the walrus islands and cure his hangover! you play as mauri the...",
           3
          ],
          [
           "The Jackbox Party Pack 5",
           "it’s the biggest party pack yet with five party-saving new games! 1) the pop-culture trivia mash-up ...",
           4
          ],
          [
           "Good Hell",
           "you will live the terrible experience of a camera with two arms ready to dodge red balls, not to fal...",
           2
          ],
          [
           "Zombie Crush VR",
           "zombie crush vr - is a dynamic 1st person vr shooter where your main goal would be trying to survive...",
           2
          ],
          [
           "Vulture Strike",
           "side-scrolling shooting game in which you have the ability to travel between 2 parallel timelines wh...",
           7
          ],
          [
           "Without Within 3 (初衷)",
           "singaporeans have reported ghost sightings of kiki, a calligrapher who had passed away several years...",
           3
          ],
          [
           "Noitapeli",
           "game first person horror game, you have to prevent noita for making a strange broth - find the last ...",
           2
          ],
          [
           "Dating Simulator",
           "check out new game from our publisher / / / about the game create your character and start matching ...",
           2
          ],
          [
           "Yujiro's Mansion",
           "you're a robber going around a neighborhood doing what you do best. after robbing many houses you st...",
           2
          ],
          [
           "The Last Hair",
           "pass through multiple obstacles to reach the goal and meet the princess! it is a platformer game whe...",
           2
          ],
          [
           "The Vale: Shadow of the Crown",
           "the vale is an audio-based action adventure game that places you in the worn leather boots of a blin...",
           3
          ],
          [
           "Red and Blue ~ Cycles of Existence",
           "at the planet somelody… when she was a child, salieka almost downed in the sea near seahant island, ...",
           3
          ],
          [
           "Talent Not Included",
           "set in the fantasy land of notthatmuchfurther, talent not included tells the story of three monsters...",
           3
          ],
          [
           "TO THE TOP",
           "vr platforming game , that gives you the freedom to move across the environment with superhuman abil...",
           2
          ],
          [
           "GDO Masters",
           "gdo masters is a 3d fighting game based on internet characters: joaquin teixeira/grampa, loen, gatow...",
           3
          ],
          [
           "IKUSAAAAAAAN!",
           "experience of 193% exhilaration like never before use the completely invincible fever system to shoo...",
           5
          ],
          [
           "Aeris&Zack",
           "due to an error in the world tree, the three goddesses of fate found me and asked me to help and tha...",
           2
          ],
          [
           "Good puzzle",
           "good puzzle - this puzzle type logic game. in the game, you need to collect a full-fledged image fro...",
           5
          ],
          [
           "Stickman Synthwave Escape",
           "play as stickman, escape the mysterious secret laboratory and collect all the pills! stickman synthw...",
           4
          ],
          [
           "INVISIBLE",
           "'you are in a closed space craft. your aim is to survive even though you defeat other passengers.' t...",
           5
          ],
          [
           "Holiday Jigsaw Christmas",
           "ho ho ho! santa's coming! in this year he is bringing for you: 100 beautiful photos more than 6 hour...",
           4
          ],
          [
           "Zombie Builder Defense",
           "survival update! survival update beta survival mode has been added. let us know what you think and h...",
           2
          ],
          [
           "Beyond Flesh and Blood",
           "the full version of episode 1 is now complete in early access! download today! become the master of ...",
           1
          ],
          [
           "Moo Lander",
           "optimized for steam deck metacritic rating about the game scour the unknown in search for the source...",
           1
          ],
          [
           "Haunted Gas Station",
           "after a vehicle accident, a man is forced to check a nearby gas station for help, unaware of its gha...",
           3
          ],
          [
           "Meteor Blasters",
           "overview meteor blasters is a modern re-imagining of the classic 80s asteroid shooters from the earl...",
           4
          ],
          [
           "RunningMarty",
           "marty gets into other dimensions on his trusty hoverboard, trying to evade obstacles, aggressive car...",
           4
          ],
          [
           "Perigee",
           "the great world-ship perigee is powered through deep space by the matter its generating core collect...",
           5
          ],
          [
           "Boomerang X",
           "reaving through hordes of nightmares isn’t the only thing your boomerang is good for: once thrown, y...",
           2
          ],
          [
           "Civatlas",
           "what to expect... the early access version of civatlas has core gameplay mechanics that we plan to e...",
           1
          ],
          [
           "Dimensions",
           "story drakken has destroyed the 2nd dimension. you must take on all of his minions, save each world,...",
           2
          ],
          [
           "Aim: Warmup",
           "aim: warmup is a game to assist your aim in games like valorant, cs: go, quake, and overwatch. this ...",
           5
          ],
          [
           "Nosy Little Fly",
           "a challenge like nothing else! accelerating, making turns and stopping are all done by controlling t...",
           7
          ],
          [
           "Lost Lands: The Wanderer",
           "the legendary susan the warmaide is back in the lost lands! a ghost ship, an evil overlord, an islan...",
           3
          ],
          [
           "Mixolumia",
           "mixolumia introduces a fresh twist on falling block puzzlers. scintillating visuals and entrancing m...",
           7
          ],
          [
           "Planetarium 2 - Zen Odyssey",
           "welcome to the universe playground planetarium 2 zen odyssey is a fun and interactive way to explore...",
           4
          ],
          [
           "Fission Superstar X",
           "experience a weird, relentless solar tour in this randomly generated space rogue-lite. travel from p...",
           1
          ],
          [
           "Red Colony 2 Uncensored",
           "the blue colony was a place of opportunity, a capitalist metropolis where hard work, determination a...",
           3
          ],
          [
           "Hermitage: Strange Case Files",
           "~ welcome to hermitage! ~ but beware: ye who enters here might start questioning reality as they kno...",
           3
          ],
          [
           "DIMENSION REIGN - ROGUELIKE DECKBUILDER",
           "the world has changed and is now under a tyrant’s rule. facing hordes of enemies, edge and camilla, ...",
           7
          ],
          [
           "Zombie Hunter",
           "zombie hunter is a action game you have to move forward, defeating numerous zombies. explore the map...",
           2
          ],
          [
           "Meaningless",
           "take a breath. think. manipulate the blocks. build your perfect own loop. enjoy your victory, it's s...",
           5
          ],
          [
           "Vera Swings",
           "a young girl named vera falls asleep while gazing at the moon in the night sky. in her dream, she wa...",
           3
          ],
          [
           "喰人記",
           "story -the man-eating monster the protagonist is a man-eater in the form of a young man. each time h...",
           3
          ],
          [
           "Legions of Steel",
           "the empire of the machines is threatening the entire universe. the league of aliens and the u.n.e. (...",
           1
          ],
          [
           "Cyber OutRun",
           "cyber outrun is an arcade pursuit game, inspired 80's aesthetic of neon lights and soundtracks. the ...",
           4
          ],
          [
           "Goblin and Coins II",
           "years have passed, decades maybe. little goblin moved on, all but forgot about the great coin troubl...",
           7
          ],
          [
           "Steel Assault",
           "join the community about the game punch, whip, and zipline your way through a post-apocalyptic ameri...",
           4
          ],
          [
           "Where is Mr Cloud",
           "where is mr cloud is a 2d mystery solving game. in this game where you are about to find our main ch...",
           2
          ],
          [
           "Euclidean",
           "behind our comfortable, familiar dimensions, beyond the timeless depths of space, there is a place t...",
           7
          ],
          [
           "Touhou Seirensen ~ Undefined Fantastic Object.",
           "ゲームシステム基本操作 人間を操作し、ショットで敵を倒します。 敵や弾、レーザーなど、当ると痛そうな物に当たるとミスとなってしまいます。 残機が０の時に、ミスをするとゲームオーバーです。 画面上部に移...",
           4
          ],
          [
           "Electrify",
           "if the game is not available in your country come to the discord immerse yourself in the world of th...",
           2
          ],
          [
           "Biglands: A Game Made By Kids",
           "embark on an epic adventure through unknown lands on a quest to save the world! fight your way throu...",
           7
          ],
          [
           "Void Rangers",
           "quotes from reviews 'if you wondered what space pirate trainer was training you for, it's void range...",
           7
          ],
          [
           "Dream UniVRse",
           "special offer dream univrse is out now! purchase now to get a limited 20% launch discount! about the...",
           5
          ],
          [
           "Hungry Wolf",
           "hungry wolf is a horror game. in it you need to shoot at enemies with a slingshot. they will appear ...",
           2
          ],
          [
           "Ostrich Runner",
           "ostrich runner – is the fascinating animated arcade racing where the main heroes are funny and a lit...",
           3
          ],
          [
           "Handball 16",
           "play with all your favourite teams in handball 16, the first handball simulation! a new way to play ...",
           5
          ],
          [
           "Frick, Inc.",
           "in frick, inc. you'll drive various trucks using on-screen control panels. each truck has a differen...",
           7
          ],
          [
           "Escape from hospital",
           "there is no dentist with a long line to him, from which you really want to get up and leave, althoug...",
           2
          ],
          [
           "Digital Mate",
           "[more preview videos] / [about software] digital mate, your exclusive and adorable desktop companion...",
           7
          ],
          [
           "Miami Cruise",
           "miami cruise is a game inspired by retrowave aesthetics. you're a hovercar driver, on an infinite be...",
           2
          ],
          [
           "Shan Gui (山桂)",
           "it is the end of summer. han hui, a university student, meets a mysterious young girl named he jia i...",
           3
          ],
          [
           "Mio Garden",
           "take a break from reality. mio garden offers up a calming virtual reality experience unlike any othe...",
           2
          ],
          [
           "Legends of Pixelia",
           "check out our upcoming game about the game legends of pixelia is an action role-playing game that co...",
           4
          ],
          [
           "Antigraviator",
           "join us on discord about the game in the year 2210, racing has evolved far beyond its expected limit...",
           4
          ],
          [
           "Tennis the Menace",
           "a tennis game with flash - tick. ✅ a tennis game with slomo - tick. ✅ a tennis game with rafa nadal ...",
           2
          ],
          [
           "Buddies in Boxes",
           "buddies in boxes is a quirky turn-based strategy game where adorable characters race for points to e...",
           5
          ],
          [
           "Pew-Pew Land",
           "you are armed and hostile creatures are wandering around the green meadow, ready to open fire on you...",
           1
          ],
          [
           "DawnOfCombat",
           "battle at dawn' is a game i developed independently in my spare time, created out of a passion for t...",
           5
          ],
          [
           "Grappledrome",
           "there is no life. there is no hope. there is only the grappledrome! in the future, mankind leaves th...",
           7
          ],
          [
           "Shake Ground",
           "'shake ground' is a classic top-down arena shooter. the player takes on the role of a fearless tanke...",
           1
          ],
          [
           "Bot Vice",
           "dya games follow us! / about the game show off your skills &amp; reflexes in this frantic gallery sh...",
           4
          ],
          [
           "Expanse",
           "warp off into the expanse and into the midst of battle with up to 4 players, as you try to rid the u...",
           5
          ],
          [
           "Frogman Magmaborn",
           "frogman wakes up underground - without memories, surrounded by magma and turned into a monster. all ...",
           4
          ],
          [
           "SojournVR",
           "in order to survive, you will need some good tools, weapons and guidance. your journey starts in the...",
           2
          ],
          [
           "Guardian",
           "about the game guardian is a 2d side scrolling platformer that follows the story of an unlikely hero...",
           4
          ],
          [
           "Cat Jigsaw Puzzle Games",
           "do puzzles in a new puzzle way! advanced puzzle layout and involving gameplay will help you to relax...",
           7
          ],
          [
           "Let's Learn Korean! Hangul",
           "want to learn to read korean? let's start learning hangul! study hangul as you explore the republic ...",
           7
          ],
          [
           "VoidOut Parkour",
           "can you escape the void? make your way across the sky in this challenging 3d platformer to see if yo...",
           2
          ],
          [
           "Celebrity Simulator",
           "it's marriage age and can't play anymore! after playing carefree for a few years, i suddenly found t...",
           2
          ],
          [
           "Bad Bots Battle Arena",
           "welcome to mini battle bot championship. bad bots battle arena is minibots &amp; robot fighting game...",
           7
          ],
          [
           "Fantasy Defense",
           "early beta access 'objectives of timely access - to collect and process feedback from players to imp...",
           1
          ],
          [
           "Progetto Ustica",
           "progetto ustica is a serious game that aims at keeping alive the memory of one of the most tragic ev...",
           1
          ],
          [
           "36 Fragments of Midnight",
           "this time midnight's friends lost of their star fragments! your task is to find them, and take them ...",
           2
          ],
          [
           "Changes",
           "in changes you solve puzzles by pushing cells to reshape the level and reveal latent possibilities. ...",
           7
          ],
          [
           "Coach Bus Simulator Parking",
           "are you ready to drive coach bus on bumpy roads? play the most realistic coach bus simulator game. d...",
           5
          ],
          [
           "Steve's Pub - Soda on tap",
           "it's all about service! steve's pub is a bartender simulator game for virtual reality with not too r...",
           7
          ],
          [
           "Investigation Stories : gunsound",
           "with complete freedom to move around the fictional town, you can: move around the map at any time 8 ...",
           2
          ],
          [
           "ARIA CHRONICLE",
           "princess aria of the kingdom of tamageria visits the small countryside village of latebra, while on ...",
           3
          ],
          [
           "SparkleWand Puzzle",
           "unique puzzle game ! seemingly easy casual game at first but will still challenge you. test you skil...",
           2
          ],
          [
           "Mutant Storm: Reloaded",
           "mutant storm progresses over 89 levels of twin-stick shooter mayhem! as you get deeper, you are ever...",
           7
          ],
          [
           "7 Wonders II",
           "journey back in time with the 7 wonders series to when magnificent structures were being built in fa...",
           5
          ],
          [
           "TealGrounds",
           "tealgrounds is a short, third-person, puzzle, horror game with randomly generated world that takes p...",
           3
          ],
          [
           "Pity Pit",
           "pity pit is a procedural 2d platformer about digging blocks, crafting powerful tools &amp; dangerous...",
           7
          ],
          [
           "Quible Sphere",
           "gameplay: quible sphere features simple gameplay; get from start to end. that's basically it! but ho...",
           5
          ],
          [
           "DARK ASTRAL",
           "dark astral is a 2d action-adventure platform game with fast-paced combat, world exploration, multip...",
           4
          ],
          [
           "Twilight Town: A Cyberpunk Day In Life",
           "you play as ikuro, a gambling addict looking to fuel his other addiction to his personalized a.i rob...",
           7
          ],
          [
           "The Lost Robot - Jigsaw Puzzle Stories",
           "cooming soon recomended for you / about the game through this app we will connect you with our remot...",
           7
          ],
          [
           "Gematombe",
           "wishlist now about the game gematombe is an action-puzzle-vs-game where you can play one-on-one matc...",
           5
          ],
          [
           "Trivia Vault: Mini Mixed Trivia",
           "now available / about the game welcome to the trivia vault contestant! play as a contestant in a gam...",
           5
          ],
          [
           "CubeZ",
           "early access warning cubez is in early access alpha. please do not purchase it unless you want to ac...",
           7
          ],
          [
           "Merchant of Bohemia",
           "are you ready to hop on a journey as a merchant in medieval bohemia? choose your character and start...",
           2
          ],
          [
           "Familiar - Battle of the Labyrinth",
           "in this game, familiar: battle of the labyrinth, you will embark on a treacherous journey through a ...",
           2
          ],
          [
           "Robot Programmer",
           "robots are changing the world. in robot programmer , we are building a fully automated factory and y...",
           7
          ],
          [
           "You Shall Not Break!",
           "the goal sounds simple but believe us, it is not! use your mouse to protect your grid tiles from the...",
           2
          ],
          [
           "Last Evil",
           "💘check this out!💘 / about the game humanity has sealed the great demon away. sealed away deep in the...",
           3
          ],
          [
           "Turtle Racer",
           "turtle racer is an educational racing game designed for players to learn about biological marine lif...",
           2
          ],
          [
           "Fallen Kingdom",
           "someday any kingdom comes to an end. most often this is due to wars, but what if it happens because ...",
           3
          ],
          [
           "Amicade",
           "amicade is a nostalgic trip to the arcades, where you'll find three score attack games with online l...",
           2
          ],
          [
           "Rocketbirds: Hardboiled Chicken",
           "annihilate an evil penguin regime in this cinematic platform adventure game offering full solo and c...",
           4
          ],
          [
           "Little Kingdom 2",
           "demo : a slow-paced rts based on influence and kingdom optimisation. managing a kingdom is not an ea...",
           7
          ],
          [
           "Scribbled Arena",
           "scribbled arena brings the retro tank battles of arcades in a hand-drawn, doodled and fast paced ava...",
           4
          ],
          [
           "Lunar Mirror:The Pavilion of Desire",
           "this is a mysterious party, all party members will wear a mask, losing the mask will also mean that ...",
           3
          ],
          [
           "Secret Savings",
           "story unfortunately, even though you are the master of the house, your wife grasps all rights of you...",
           2
          ],
          [
           "Bouncer Story",
           "bouncer story, a retro-inspired film-noir featuring a protagonist working as a bouncer to pay off a ...",
           2
          ],
          [
           "Offroad Racing On Line",
           "drift, slide, skid! offroad racing online is the isometric 3d perspective car racing game that makes...",
           4
          ],
          [
           "Endless Battlefield",
           "discover and experience fps battles in an endless battlefield world! fps includes 6 modes: conquer, ...",
           1
          ],
          [
           "The Resurrection Of Amelia : Across two worlds",
           "one night, amelia was involved in a dispute, died in a car accident, and then strangely resurrected....",
           5
          ],
          [
           "Element Runner",
           "across land, water and clouds! element runner is a fun, casual platformer where you can explore worl...",
           7
          ],
          [
           "The Solitaire Conspiracy",
           "high stakes, highly powered protego, the world’s leading spy agency, has been destroyed. only one pe...",
           4
          ],
          [
           "Ninja Hanrei",
           "ninja hanrei is a 2d run and gun platformer game inspired on ancient japan but with super powers. ex...",
           4
          ],
          [
           "Magical Strings",
           "take the battle to your opponents in magical strings, a unique rhythm-projectile-fighting game. trav...",
           5
          ],
          [
           "EBONY",
           "add to your wishlist - ebola 3 / about the game the plot tells the story of adam - a completely ordi...",
           3
          ],
          [
           "We Were Here Too",
           "a new chapter is here! continue the story of castle rock in we were here forever , out now! can you ...",
           2
          ],
          [
           "Grim Tales: Dual Disposition Collector's Edition",
           "elephant games returns with the latest mysterious case of the grim tales series! when a strange souv...",
           3
          ],
          [
           "Multibombers",
           "supporter pack multibombers - supporter pack it is optional to donate. any money gained from the sup...",
           5
          ],
          [
           "No men in this house",
           "when a widow dies a painful death, she becomes an evil spirit. the ghost wanders around the village,...",
           3
          ],
          [
           "Love Love Diary",
           "game introduction love love diary' is a fun and relaxing jigsaw puzzle game, where completing the pu...",
           2
          ],
          [
           "Blasphemous 2",
           "digital deluxe edition includes blasphemous 2 - full game blasphemous 2 - digital artbook blasphemou...",
           3
          ],
          [
           "Infinitum Vitas",
           "in the land of solace , a legend tells of powerful individuals known as the 'soul bound'. able to pe...",
           7
          ],
          [
           "Rebel Galaxy Outlaw",
           "out of cash, out of luck, out on the fringe. juno markev has a killer to tail, a debt to pay, and mo...",
           3
          ],
          [
           "The Adventures of Ten and Till",
           "the adventures of ten and till is a bullet hell shoot-em-up developed by japanese doujin designer to...",
           4
          ],
          [
           "ExoTanks",
           "discord about the game the legend the battlefield - the planet of mars. the confederation of the ear...",
           1
          ],
          [
           "Grave of the Petrified",
           "grave of the petrified is a single-player vr game. set in an ancient greek temple where medusa has b...",
           3
          ],
          [
           "Amaze: Interactive VR Movies",
           "be amazed by the best interactive vr movies and more, only on amazevr. • interactive vr movies take ...",
           2
          ],
          [
           "Blind and Schizophrenic",
           "sixty-nine year old richard cox is a washed up schizophrenic, who also happens to be blind on accoun...",
           2
          ],
          [
           "Medieval Engineers",
           "medieval engineers is a sandbox game about engineering, construction and the maintenance of architec...",
           1
          ],
          [
           "Minion Forest",
           "the legendary paradise of minions, mirica forest, is in great danger! the wicked bloody queen and th...",
           4
          ],
          [
           "Neon Force Pushers",
           "neon force pushers is an action packed, competitive multiplayer, platformer where your goal is to pu...",
           2
          ],
          [
           "Hells Bend on Wounded Knee",
           "fight the oppression. make it to the castle and find morbis. a fast paced single player fps arena sh...",
           4
          ],
          [
           "Succubus Sessions: Mami Mamiya's Sweet Slice of Hell",
           "join our community about the game gameplay &amp; features short-ish kinetic vn clocking in at 7+ hou...",
           3
          ],
          [
           "StarRaver",
           "hang out with your friends and party in this sci-fi music experience! visit the unique clubs definin...",
           4
          ],
          [
           "BLACKHOLE",
           "coming soon: / blackhole: complete edition out now! one of the highest-scoring puzzle platformers of...",
           4
          ],
          [
           "Cirque du Soleil",
           "enter the world of cirque du soleil for an up close and intimate look at their most provocative show...",
           4
          ],
          [
           "Club Dance Party VR",
           "- club dance party is a three-dimensional rhythmical action game within vr environment. using the fu...",
           7
          ],
          [
           "For Sparta",
           "300 warriors left sparta to stand between one million persians and the fate of greece in the pass of...",
           7
          ],
          [
           "4Tacos",
           "a cowardly goose against the whole dinosaur power mafia . in a distant country called tacotitlan, th...",
           3
          ],
          [
           "Riddle of the Jelly",
           "welcome to riddle of the jelly, a charming 2d platformer that's perfect for gamers of all ages! our ...",
           7
          ],
          [
           "Serious Sam 4",
           "watch the behind the schemes 'serious sam 4' episode digital deluxe edition expand your serious sam ...",
           4
          ],
          [
           "Occultism Limbo: The ritual of little nightmares",
           "are you innocent or guilty? a story of sinister magic, play and makes decisions in this evil adventu...",
           2
          ],
          [
           "Set Sail",
           "set sail is a western visual novel set in the modern day where the golden age of pirating never prop...",
           3
          ],
          [
           "SIZIF",
           "sisyphus had to push a rock on top of a hill, once on top, the rock roll down the hill then sisyphus...",
           2
          ],
          [
           "Little Ninja",
           "little ninja is a new stealth game from brex studios. set in a suburban house, little ninja is about...",
           3
          ],
          [
           "Lazy Galaxy 2",
           "lazy galaxy is an idle/clicker game with base-building and rts elements. lead an evil (albeit lazy) ...",
           7
          ],
          [
           "LOVEY ♡ DOVEY",
           "lovey ♡ dovey you've always been super into toilets. you use them so many times a day that you could...",
           7
          ],
          [
           "Real Orchestra",
           "'a gaming experience for aspiring conductors.' real orchestra is a life-like experience as a orchest...",
           5
          ],
          [
           "Minako",
           "minako is kind of like a tower defense game. the goal is to defend your castle for 30 nights. to do ...",
           2
          ],
          [
           "Surviv.io - 2D Battle Royale",
           "choose the mode that fits your mood. go it alone in solo mode, battle with a partner in duos, or fie...",
           7
          ],
          [
           "Save Room - The Merchant",
           "add to your wishlist! you may also like / about the game gameplay to progress through each level, th...",
           2
          ],
          [
           "Banana Hell",
           "banana hell is a platform jumping challenge game, move upwards to collect mysterious crystals! an ad...",
           2
          ],
          [
           "Relight The Dark",
           "relight the dark is a chilling and emotionally charged short horror experience that tells a story ab...",
           3
          ],
          [
           "Kingdoms Rise and Fall",
           "kingdoms rise and fall an engrossing real-time strategy game with grand strategy elements that embar...",
           1
          ],
          [
           "Run For Coins",
           "gameplay each map has a key that needs to be found to continue, kill all enemies and collect all coi...",
           5
          ],
          [
           "Crime Reaper",
           "welcome to your newest gig — solving murders in the afterlife for mx. death, the grimmest of reapers...",
           3
          ],
          [
           "来人 LIGHTWORKERS",
           "synopsis: on new year's eve of showa 1 (1926), hiroshi meets kiyoshi, his guardian angel. following ...",
           3
          ],
          [
           "Destroyer: The U-Boat Hunter",
           "roadmap buzz check out our upcoming game / about the game / destroyer: the u-boat hunter is an innov...",
           1
          ],
          [
           "Final Theosis",
           "bad news, you're dead. the second you wake up, you find yourself surrounded by ghosts who, like you,...",
           2
          ],
          [
           "Cult Of Babel : Prologue",
           "add full game to your wishlist about the game this is the free prologue to cult of babel - a rogueli...",
           7
          ],
          [
           "ABE VR",
           "abe vr is an intense experience that recreates the horrifying story about a misguided robot seeking ...",
           3
          ],
          [
           "Choice of Robots",
           "the robots you design will change the world! will you show them the true meaning of love, or conquer...",
           7
          ],
          [
           "Lawless West",
           "by personal order of the president, a group was created for especially important and dangerous cases...",
           1
          ],
          [
           "HUNDRED FIRES: The rising of red star - EPISODE 1",
           "hundred fires is an action, stealth and infiltration game with an exciting story and incredible cine...",
           1
          ],
          [
           "Spock in the Dama Kingdom",
           "spock in the dama kingdom is an 3d cartoon adventure game, an evil entity decides to throw a spell o...",
           7
          ],
          [
           "Adventures of JQ Jones: \"Isle of the Serpent Empress\"",
           "help explore and guide professor j.q. jones through the serpent's intricate mazes. collect gems, ser...",
           7
          ],
          [
           "VR Walking Simulator",
           "explore vr walking simulator lets you explore numerous realistic natural environments from the comfo...",
           2
          ],
          [
           "Warhammer 40,000: Space Wolf",
           "herocraft pc discord about the game take command of a space wolves squad led by valgard twice slain....",
           1
          ],
          [
           "Havsala: Into the Soul Palace",
           "can you escape the soul palace? ...or should you? havsala features: - beautiful hand-drawn artwork -...",
           3
          ],
          [
           "Slide - Animal Race",
           "follow to get the news about the game play quick &amp; fun races with your friends. ride cute animal...",
           2
          ],
          [
           "Templum de Malum",
           "a 'point and click' adventure game in the classic style but with modern day elements. philip is a yo...",
           7
          ],
          [
           "Furry Lust",
           "wishlist our friends' new game my furry dragon: / short arcade game with beautiful furry girls. rela...",
           4
          ],
          [
           "Foosball VR",
           "foosball vr is a table football simulator focused on the same sensation you get from playing it in t...",
           5
          ],
          [
           "Last Horizon",
           "a minimal, atmospheric space survival &amp; exploration game, set to deep ambient music. pilot the l...",
           1
          ],
          [
           "Scramble",
           "scramble is a resource management game in which you compete against other companies for the coloniza...",
           1
          ],
          [
           "COLDSTEEL's Sprite Studio",
           "coldsteel's sprite studio is a new generation pixel editor allowing you to create pixel art. you can...",
           7
          ],
          [
           "Autobahn Police Simulator 2",
           "start your even more exciting career as law enforcer on europe’s fastest road now with the successor...",
           1
          ],
          [
           "Demonheart: The Ice Demon",
           "in this otome visual novel, you play as the young witch shar, who was invited to live with the famou...",
           3
          ],
          [
           "Shattered Union",
           "following a great increase in terrorism, internal strife and ultimately, the nuclear destruction of ...",
           1
          ],
          [
           "Please, Touch The Artwork",
           "there are 160 paintings (2~3 hours of gameplay) spread over 3 unique games , the 1st game tells the ...",
           4
          ],
          [
           "S&M: FL",
           "welcome to join the group, where you can discuss the game with many players and give feedback about ...",
           2
          ],
          [
           "Card Battle Spirit Link",
           "card battle spirit link is a digital card game that uses a revolutionary spell book system! instead ...",
           1
          ],
          [
           "Flowers -Le volume sur automne-",
           "yuzuriha yatsushiro, president of the school's council of nicaea, knows the truth hidden within the ...",
           3
          ],
          [
           "Blockworks",
           "blockworks is a creative sandbox in vr. express your full creativity and build anything your mind ca...",
           7
          ],
          [
           "Portability",
           "portability is a 2d physics game where you teleport and destroy objects to solve puzzles. teleport o...",
           7
          ],
          [
           "Digitizer",
           "digitizer is my new project as a solo developer/artist. the game has 10 hours of gameplay for the ma...",
           1
          ],
          [
           "Ebony Spire: Heresy",
           "the game price is set to exorbitant levels for russia at this point. stop the war on ukraine. suppor...",
           7
          ],
          [
           "Prop Game",
           "prop game is the perfect place to have fun with your friends! host a game and invite them to compete...",
           2
          ],
          [
           "Meu",
           "meu is a new type of body language based communication. meu lets you explore, record and share your ...",
           7
          ],
          [
           "Awkward Date Hero",
           "you may be awkward, but so are they. this is your last resort for finding someone right for you. the...",
           2
          ],
          [
           "mdiapp+ SE",
           "mdiapp+ se is a paint tool for creating cartoon. it is equipped with the following convenient functi...",
           4
          ],
          [
           "Solstice",
           "solstice is a very retro wargame, heavily inspired by the classic games lords of midnight, doomdarks...",
           1
          ],
          [
           "Dan's Odyssey",
           "dan's odyssey is an arcade like arena top down shooter. you fight shapes in a futuristic setting wit...",
           4
          ],
          [
           "What The Dub?!",
           "remote play - quick start in what the dub?! players use any browser enabled device to enter text and...",
           5
          ],
          [
           "God of War",
           "enter the norse realm his vengeance against the gods of olympus years behind him, kratos now lives a...",
           4
          ],
          [
           "5 Days",
           "an open world time travel adventure welcome to a fully open world, no limits time travel puzzle adve...",
           2
          ],
          [
           "Mech Armada",
           "mech armada puts you in command of your own team of custom-built mechs. upgrade and build your roste...",
           7
          ],
          [
           "Leisure Town",
           "first person 3d casual games.which is suitable for people of all ages. you are a lost person. you ac...",
           2
          ],
          [
           "Karpov",
           "dreams. kingdom come. the astral. how connected are they? is it possible to dive into a conscious dr...",
           3
          ],
          [
           "Synth Pong",
           "synth pong is an electrifying pong game with synthwave theme that will transport you back to the 80s...",
           5
          ],
          [
           "Vacation Adventures: Park Ranger 6",
           "a sensational adventure in the great outdoors of pinecreek hills spend a sensational summer vacation...",
           4
          ],
          [
           "Rise Eterna",
           "feed your nostalgia with a tactical rpg inspired by the greatest classical titles. take on an advent...",
           7
          ],
          [
           "Slime Climb",
           "slime climb is a bouncy and approachable pixel platformer, made by a single developer. you play as a...",
           7
          ],
          [
           "JUMP",
           "jump , developed by endeavor one inc.©, enjoy the world's first large scale virtual reality jumping ...",
           4
          ],
          [
           "Its Simple, SHOOT",
           "its simple, shoot! has you navigating the level utilizing a range of weapons and abilities to fight ...",
           5
          ],
          [
           "Blowhards",
           "blowhards is a long range multiplayer fighting game, with king of the hill style gameplay. the chara...",
           5
          ],
          [
           "Harlow",
           "gold winner at the 2022 nyx game awards! we're thrilled to announce that harlow won gold at the 2022...",
           4
          ],
          [
           "The Legend of Viccess",
           "{game introduction} the original hybrid rpg game mode takes you deep experience of different world a...",
           3
          ],
          [
           "Woodways",
           "woodways is a puzzle game in which you control all characters at once. guide different animals to th...",
           5
          ],
          [
           "Bitcoin Farm",
           "become the new king of cryptocurrency! bitcoin farm is a clicker game where you will aim to undermin...",
           7
          ],
          [
           "DreamCatcher: Reflections Volume 1",
           "riza wolfe is the kind of person often referred to as a daydreamer. with her high school days approa...",
           3
          ],
          [
           "Funky Karts",
           "in funkyland a certain harmony has long existed between species. so much so that cross-breeding is q...",
           3
          ],
          [
           "Pixel Noir",
           "story: there was something rotten in that old hospital. you were just following your instincts, that...",
           2
          ],
          [
           "Tiki Brawl",
           "grab your friends and throw'em to the sacrifice pit before they throw you! tiki brawl is a fast-pace...",
           7
          ],
          [
           "The Knight of Turn",
           "knight of turn is a board game where the brave knight, imprisoned by the monsters in the deep dungeo...",
           1
          ],
          [
           "WarpThrough",
           "in warpthrough you won't survive by running around and spamming the attack button. ... because there...",
           7
          ],
          [
           "Dead Purge: Outbreak",
           "you are one of the few who have survived the outbreak of an epidemic disease that infected most of t...",
           1
          ],
          [
           "Scorch",
           "it's been 30 years since a terrible arson attack erased an entire family. until today the culprit ha...",
           3
          ],
          [
           "Vogvhathos",
           "vogvhathos is an epic fantasy that plays most similarly to a text adventure. you are an elf of unkno...",
           3
          ],
          [
           "Scalak",
           "hey, hamster here. i made push, zenge and art of gravity. goal: fill up the figures. relax. have fun...",
           2
          ],
          [
           "RoadkillerZ",
           "background: hidden deep beneath the breather metropolises are vast undercities carved out by slaving...",
           2
          ],
          [
           "Trapmania",
           "your homeland is under attack! travel far and wide, navigating beautiful maps and upgrading your tra...",
           7
          ],
          [
           "Zork: Grand Inquisitor",
           "magic has been banned from the great underground empire of zork. by edict of the grand inquisitor mi...",
           3
          ],
          [
           "Stadtleben",
           "stadtleben is a relaxing and strategic city building game where you gradually build a big city using...",
           5
          ],
          [
           "Brick Breaker VR",
           "the goal of the brick breaker vr is to bring the old brick breaker, breakout experiences to life in ...",
           2
          ],
          [
           "Mage and Monsters",
           "create an army and use spells while it fights for you. mage &amp; monsters is an active auto battler...",
           2
          ],
          [
           "人狼の仔",
           "◆ deck build rpg x dark fantasy style scenario the royal road dark fantasy scenario that was not in ...",
           3
          ],
          [
           "Fieldrunners 2",
           "get ready to defend the world! the biggest sequel in tower defense history is finally here: fieldrun...",
           1
          ],
          [
           "Crisis VRigade 2",
           "crisis vrigade 2 is a fast-paced virtual reality action shooter that lets players take on the role o...",
           7
          ],
          [
           "Typing Instructor Platinum 21 - Mac",
           "typing instructor platinum is the new typing leader! this program uses the latest technology to prov...",
           7
          ],
          [
           "Strata Spaces VR",
           "strata spaces vr is the ultimate application for modelers and designers to visualize their creations...",
           7
          ],
          [
           "Decay - a real time interactive experience",
           "decay, a real time interactive experience made in godot engine. basically a technology showcase for ...",
           7
          ],
          [
           "Shooting Covid",
           "bella's mission to restore hope and hunting for a vaccine is risky. she cannot do this on her own. s...",
           2
          ],
          [
           "NAMELESS",
           "warning contains flashing imagery, heavy topics such as mental illness and disturbing content. user ...",
           7
          ],
          [
           "Public Defense Corp",
           "latest release / / / upcoming games / / about the game japan, in the year 20xx... the evil secret so...",
           1
          ],
          [
           "Collecstar",
           "collecstar is a 2d platform arcade game where you have to climb as high as possible by jumping on ra...",
           5
          ],
          [
           "RACE On",
           "race on brings you the epic wtcc 2008 season down to the smallest detail and now you get the chance ...",
           5
          ],
          [
           "Survarium",
           "new dlc available get your new vepr 'molot' pack featuring a tier 4 premium weapon! new dlc availabl...",
           5
          ],
          [
           "Aliens Adventure",
           "check out more games from us / / / about the game aliens adventure is a super classic adventure game...",
           4
          ],
          [
           "King of Dragon Balls",
           "i`m the witness of those events. i saw how empires fall apart and ambitious turn to ashes. i saw how...",
           3
          ],
          [
           "Rise of the samurai in VR",
           "during the warring states period in japan, the tokugawa shogunate levied heavily and aggressively. s...",
           1
          ],
          [
           "Another Side",
           "sara, a lost girl, her vague memories say nothing. how did she get here? who brought her? and the ma...",
           2
          ],
          [
           "Mr. Maze",
           "mr. maze is a budget price first-person adventure story by mark j. lovegrove, for screen 7. penny po...",
           4
          ],
          [
           "Grand Theft Auto III – The Definitive Edition",
           "experience the epic open world adventure that started it all updated for a new generation with acros...",
           1
          ],
          [
           "Age",
           "this is a happy game. game gameplay: 1. various colored balls will appear in front of the player, an...",
           5
          ],
          [
           "DR MILOS REVENGE",
           "gameplay dr milos revenge is a challenging horror experience with suspenseful stealth gameplay, ligh...",
           4
          ],
          [
           "Tobari 2: Nightmare",
           "want to enjoy tobari 2 but without the insane difficulty? give tobari 2: dream ocean a go! this is a...",
           2
          ],
          [
           "Flyeeex",
           "brief description there are 10 levels available in the current version. the main character flyeeex i...",
           3
          ],
          [
           "Donut Arena",
           "donut arena is a gladiatorial action roguelite. choose the arena that best fits the current situatio...",
           5
          ],
          [
           "ライフワン- lifeOne",
           "the story is a general rpg where the brave defeat the devil. moreover, the aim is to defeat the demo...",
           5
          ],
          [
           "JUST DASH",
           "just dash! - this is a new hardcore platformer from a first person view. you have to run over obstac...",
           5
          ],
          [
           "41 Hours: Prologue",
           "the full version / about the game 41 hours - is a first-person shooter dramatic experience that foll...",
           7
          ],
          [
           "Clouds of Rain",
           "in clouds of rain you will play multiple characters, each with his own story. explore a hand drawn w...",
           1
          ],
          [
           "S.P.A.T.",
           "you have a unique opportunity to feel like an operator of a special squad to fight paranormal creatu...",
           2
          ],
          [
           "Without Escape",
           "without escape harkens back to first-person graphic adventures of the early ‘90s, which relied on pr...",
           2
          ],
          [
           "Holiday Jigsaw Thanksgiving Day 2",
           "a thanksgiving gift for all fans of classical puzzles – it’s a new holiday puzzle! holiday jigsaw th...",
           7
          ],
          [
           "DrumKit VR - Play drum kit in the world of VR",
           "' drumkit vr ' is a vr game lets you play drum kit in vr world. currently support htc vive. componen...",
           4
          ],
          [
           "Winter's Ankh",
           "an rpg from marix about humanity's struggles on the continent against previously unseen influences. ...",
           7
          ],
          [
           "Midnight's Blessing 2",
           "presentation midnight blessing 2 is the direct sequel to the 1st game, already available on steam. c...",
           3
          ],
          [
           "Freddi Fish and Luther's Water Worries",
           "humongous tees now available! official humongous entertainment t-shirts featuring pajama sam, spy fo...",
           7
          ],
          [
           "MouseCraft",
           "ever wondered what a cross between tetris and lemmings would look like? well, wonder no more, 'cause...",
           7
          ],
          [
           "Slymes",
           "slymes is a 3d multiplayer arena cell-game. it is inspired by games like agar.io and osmos, but with...",
           2
          ],
          [
           "Labyrinth Hearts II",
           "labyrinth hearts ii is a single-player 2.5 dungeon crawler. you are summoned from another world to e...",
           5
          ],
          [
           "Act of War: Direct Action",
           "tomorrow's war is now ripped from today's headlines, act of war: direct action™ is a frightening tal...",
           1
          ],
          [
           "Man in a Maze: Deathmatch",
           "enter the deadly game show of man in a maze and leave with much more than your life. get your fiftee...",
           7
          ],
          [
           "Ultimo Reino 2",
           "game requires a directx 11 card the second part has come. this is the time of guilds, wizards, warri...",
           7
          ],
          [
           "PRO EVOLUTION SOCCER 2018",
           "pro evolution soccer 2018 - fc barcelona edition bundle [premium edition] a special edition version ...",
           4
          ],
          [
           "Foxhole",
           "foxhole is a massively multiplayer game where thousands of players shape the outcome of a persistent...",
           1
          ],
          [
           "Company of Heroes 2 - Ardennes Assault",
           "company of heroes™ 2: ardennes assault is a single-player only standalone experience that will allow...",
           1
          ],
          [
           "FLASHOUT 2",
           "fight the pandemy in our recent title: about the game flashout 3 coming - wishlist now! now with fre...",
           4
          ],
          [
           "Beat.School: DJ Simulator",
           "mac os compatibility alert mac os users : you must be using a 64-bit mac &amp; os, and your mac must...",
           2
          ],
          [
           "SuperSecret",
           "supersecret is a tiny adventure made just for you. a very special secret is hidden on the strange is...",
           3
          ],
          [
           "Cities: Skylines",
           "featured dlc digital deluxe edition the deluxe edition: included in the deluxe edition are 5 in-game...",
           4
          ],
          [
           "Withering Rooms",
           "withering rooms is a 2.5d horror adventure set in a procedurally generated victorian mansion that ch...",
           4
          ],
          [
           "Starr Mazer: DSP",
           "starr mazer: dsp is a side-scrolling shoot’em up in the same vein as classics like gradius and lords...",
           1
          ],
          [
           "Puzzle 101: Edge of Galaxy 宇宙边际",
           "edge of galaxy - very beautiful game of space jigsaw puzzle game! collect the full image of the diff...",
           4
          ],
          [
           "Crystal core",
           "crystal core is a first person combat game made by individuals who use unity3d engine to learn progr...",
           2
          ],
          [
           "RUMBLE",
           "note to wmr users although rumble is fully playable with a windows mixed reality (wmr) headset, not ...",
           2
          ],
          [
           "PURGE FORCE 2070",
           "in 1960, the first station sputnik 986 was launched into space and since then it has been constantly...",
           1
          ],
          [
           "3on3 FreeStyle: Rebound",
           "join our discord (click image to join!) features 3 vs 3 online multiplayer mode 1 vs 1 online multip...",
           4
          ],
          [
           "BirdsBorough : Town of Alchemy",
           "*this game is currently very early access certain features are missing/not fully developed - updates...",
           2
          ],
          [
           "Battle Droid T1",
           "features old school metroidvania style game play with a similar level of old school difficulty. over...",
           1
          ],
          [
           "LUNA",
           "in this game you play as a little girl named 'luna'. survive from the dark being, while discovering ...",
           3
          ],
          [
           "Aqua Populo",
           "how deep can you go? pilot your sub through 100 waves of angry sea-life and punishing bosses in norm...",
           4
          ],
          [
           "The Clockwork Man: The Hidden World",
           "gear up for a fantastic journey in the clockwork man: the hidden world, a unique hidden object adven...",
           4
          ],
          [
           "Jewel of Kuru",
           "jewel of kuru - is 3d third person hack 'n slash action adventure game set in an beautiful world of ...",
           3
          ],
          [
           "Sacred 3",
           "sacred 3 is an arcade hack ‘n’ slash game for up to four players, set in the war for ancaria. choose...",
           4
          ],
          [
           "Cow Girls",
           "check out other games from hunny bunny studio / / / about the game you just want to buy milk, but fa...",
           2
          ],
          [
           "Not born to be King",
           "'my king, wake up … it's your first day. your people are waiting for you.' have you ever dreamt of b...",
           2
          ],
          [
           "Jump Challenge!",
           "(☞ ͡ ° ͜ʖ ͡°)☞ add jump challenge! to your wishlist / check out more games: / about the game jump ch...",
           5
          ],
          [
           "Nyan Cat: Lost In Space",
           "** official nyan cat game ** play with the most celebrated flying cat in human history. drink milk, ...",
           4
          ],
          [
           "Rage Melee",
           "update 2.0 n j fox is pleased to announce the 2.0 update for rage melee featureing its biggest add o...",
           5
          ],
          [
           "10 seconds",
           "have you ever heard of the phrase 'simple things are harder than they seem'? well, 10 seconds challe...",
           2
          ],
          [
           "Karate Master 2 Knock Down Blow",
           "karate master 2 knock down blow is a fighting game that mixes elements of rpg, simulation and arcade...",
           4
          ],
          [
           "Dead City",
           "you have survived another invasion of the infected in a dead city. feel the horror and adrenaline of...",
           2
          ],
          [
           "Project Torque - Free 2 Play MMO Racing Game",
           "project torque is a free-to-play mmorg (massively multiplayer online racing game) developed by invic...",
           5
          ],
          [
           "Tobari and the Night of the Curious Moon",
           "☆what kinda game is this? it's a platformer about magic and whacking things! what does that mean? it...",
           2
          ],
          [
           "Ben The Exorcist",
           "story: you are ben, an unknown exorcist, who has been summoned to the witherspoon house because of s...",
           3
          ],
          [
           "Timen runner",
           "play the demo / about the game hardcore pixel 2d platformer with steampunk elements, with randomly g...",
           5
          ],
          [
           "Gems And Knight",
           "after three days of sea travel, i finally found the black dragon's lair. just when i thought i was a...",
           5
          ],
          [
           "The Crisis Zone",
           "welcome to the captivating world of our game, 'the crisis zone'! this thrilling exploration game com...",
           3
          ],
          [
           "Creekside Creep Invasion",
           "stop the creeps in this nostalgic action roguelite! halloween night. a sleepy town called creekside....",
           4
          ],
          [
           "Richie's Plank Experience",
           "commercial licencing 100's of arcades, businesses and entrepreneurs generate revenue using richie's ...",
           7
          ],
          [
           "SokoFrog",
           "sokofrog is a puzzle game about pushing boxes, push the boxes in their proper places to get to the n...",
           7
          ],
          [
           "Proxy - Ultimate Hacker",
           "have you ever wanted to experience the thrill of breaking into a secure computer network? in proxy: ...",
           7
          ],
          [
           "Professor Lupo: Ocean",
           "professor lupo: ocean is the epilogue and standalone sequel to the ' professor lupo and his horrible...",
           7
          ],
          [
           "DARK MAGIC",
           "you have to go through 16 different levels, fight monsters, overcome traps, etc. you have to collect...",
           7
          ],
          [
           "Leprechaun Shadow",
           "as the brave knight sir typhil of creulor continues his quest to bring a unicorn to the castle and b...",
           3
          ],
          [
           "The Legend of Protey",
           "feature list kid-oriented design (play-tested by schoolchildren!) ultra cheesy humor (dad jokes ftw!...",
           4
          ],
          [
           "Wind Angel",
           "[game introduction] 'wind angel' is a vertical scrolling flying shooting game. the player controls t...",
           1
          ],
          [
           "Sagrada",
           "bring your stained glass masterpiece to dazzling digital life in sagrada, the dice-drafting board ga...",
           7
          ],
          [
           "Disk Dashers",
           "plan trajectories, distribute energy, and outsmart your opponents in this simple but deep turn-based...",
           1
          ],
          [
           "Punch Club 2: Fast Forward",
           "join our discord play the og punch club! / about the game you’ve spent 20 long years living in the c...",
           2
          ],
          [
           "Galaxy's Extreme",
           "galaxy's extreme is a futuristic spaceship racing game, inspired by classic 90's success racing game...",
           4
          ],
          [
           "Ascent Spirit",
           "set in 1940, you're a french legionnaire in one of the last military hot air balloon to oversee the ...",
           1
          ],
          [
           "Stunts Contest Monster Car",
           "it`s time to have some fun together. stunts contest : monster car presents a funny racing game that ...",
           7
          ],
          [
           "BeerLeague Superstar",
           "- play 21 games through the 2020-2021 beerleague season. - customize your appearance, jersey, and sh...",
           5
          ],
          [
           "Kult: Heretic Kingdoms",
           "in the world of the heretic kingdoms, a world where god is dead and religion heresy, you are cast as...",
           3
          ],
          [
           "The Bolt Age",
           "about the game ‘the bolt age” is a dynamic action game, full of prodigious retro-futurist designs (s...",
           1
          ],
          [
           "Otherland MMO",
           "the fascinating multiverse of tad williams’ critically acclaimed otherland novels transformed into a...",
           1
          ],
          [
           "Pond Wars",
           "this pond ain't big enough for the both of us. two toy boats go in. only one comes out. can you time...",
           5
          ],
          [
           "Champions Online",
           "new content shadow of destruction brings us the qliphothic warzone, a new epic end-game zone set in ...",
           4
          ],
          [
           "Gun Rage",
           "gun rage is an old-school, fast-paced, side-scrolling run and gun, with 16-bit era graphics, inspire...",
           1
          ],
          [
           "Call of Cthulhu: Prisoner of Ice",
           "amid an atmosphere of suspense and intrigue you'll launch your voyage in the icy cold wastelands of ...",
           3
          ],
          [
           "Last Epoch",
           "your purchase includes buying last epoch through steam gets you the ardent gladiator supporter pack:...",
           7
          ],
          [
           "SWORD HERO",
           "sword hero is an action pigeon game where you will kill many zombies and learn skills to strengthen ...",
           2
          ],
          [
           "Car Trader Simulator",
           "more games / / / about the game about this game welcome to the car trader simulator! it's here where...",
           2
          ],
          [
           "Mon-Yu: Defeat Monsters And Gain Strong Weapons And Armor. You May Be Defeated, But Don’t Give Up. Become Stronger. I Believe There Will Be A Day When The Heroes Defeat The Devil King.",
           "defeat the devil kings! you have been guided to the land of fairies where the dragon king’s tower ho...",
           3
          ],
          [
           "Mata Hari",
           "trust no one but yourself as you adventure into the dark world of espionage amidst the volatile atmo...",
           3
          ],
          [
           "DreamWatcher",
           "this game requires a controller. the great library of dreams is in big trouble. when a librarian in ...",
           3
          ],
          [
           "NecroBouncer",
           "grab your magic staff and step into the shoes of a necromancer working as a bouncer at a nightclub. ...",
           7
          ],
          [
           "VINDICTA",
           "behind the gates of their massive hn1 facility, ub industries reveals itself to be the evil corporat...",
           1
          ],
          [
           "Asteroid Arcade",
           "shoot lasers in space because a fish told you to. asteroid arcade is a side-scrolling space shoot-em...",
           4
          ],
          [
           "Dismantle: Construct Carnage",
           "in dismantle you play as 'constructs', fantastical creations built to fight in a tournament where th...",
           7
          ],
          [
           "B.O.T.S. and the Robofriends",
           "b.o.t.s. and the robofriends is a top-down shooter rouge-lite with two games modes, a narrative base...",
           4
          ],
          [
           "Aldebaran Legend",
           "aldebaran legend is a 2d action game of the rpg subgenre, with a medieval setting, where it tells th...",
           1
          ],
          [
           "Out of Fuel",
           "out of fuel is an exciting and challenging game that puts you in control of a powerful chainsaw as y...",
           2
          ],
          [
           "Arcadia",
           "originally released in 1982, arcadia was a classic top-down shoot-em-up for home computers, includin...",
           4
          ],
          [
           "Perchang",
           "it's a puzzle action strategy game with some lovely contraptions to really make you ponder. a beauti...",
           7
          ],
          [
           "Mr. Robot",
           "asimov is a lowly service mechanoid aboard the interstellar colony ship eidolon. carrying hundreds o...",
           4
          ],
          [
           "Zombie Vikings: Stab-a-thon",
           "zombie vikings: stab-a-thon is a free to play game that takes place in the zombie vikings universe. ...",
           7
          ],
          [
           "Vulkan: Lost Planet",
           "also recommended for you: / / / about the game choose between 5 weapons cards, upgrade your abilitie...",
           7
          ],
          [
           "ZeroZone2020",
           "zero zone 2020 is a classic tower defense game where you will need to defend a home base from swarms...",
           2
          ],
          [
           "Gold Digger Maze",
           "special offer about the game the most valuable wealth is always hidden in the most remote places. fo...",
           2
          ],
          [
           "Genius Calculator",
           "genius calculator genius calculator is a game that will challenge all your math skills and turn you ...",
           5
          ],
          [
           "BuildMoreCubes",
           "it is an army vs army game, where you need to constantly rebuild and grow your army in order to surv...",
           1
          ],
          [
           "Abfense",
           "the peace and quiet of everyday life will be dispelled like an illusion after the appearance of a my...",
           3
          ],
          [
           "The Hero We Need",
           "join the community roadmap about the game create your unique towers, upgrade only the parts you need...",
           1
          ],
          [
           "Hidden Valley Tower Defense",
           "hidden valley td is a tower defense with rogue-like elements offering many different strategies. bui...",
           7
          ],
          [
           "Isle of Jura",
           "eternal edge + soon on steam (wishlist/follow today) / about the game alex needs to finish her biolo...",
           3
          ],
          [
           "FunWar",
           "funwar is a casual combat game, where your objective is to be the last one standing, for that you'll...",
           5
          ],
          [
           "Mazetools Mutant",
           "experimenting trough intuitive controls all interactions are recorded and played back in loops, simi...",
           7
          ],
          [
           "Undead Legions II",
           "undead legions 2 is a fast paced and chaotic top-down shooter combining action-rpg gameplay with tow...",
           7
          ],
          [
           "Escape from Poalet",
           "escape from poalet (prologue) is a point &amp; click 3d graphic adventure game for one player. some ...",
           3
          ],
          [
           "Rounded",
           "classic puzzle games are bored, right? how about changing your perception of the puzzle game. a very...",
           2
          ],
          [
           "Valley of Decay",
           "basic information: valley of decay is a 2d pixel-art multi-player hack and slash game. you can not o...",
           2
          ],
          [
           "Octarina",
           "octarina is a physics-based 3d puzzle platformer featuring a trapped little octopus who must find a ...",
           2
          ],
          [
           "Greyhill Incident",
           "this story-driven survival-horror game is about a classic alien-invasion which takes place during th...",
           3
          ],
          [
           "Mixed Feelings: While You Were Away (Yaoi BL Visual Novel)",
           "gale and arthur have been dating since high school, but after graduation, arthur moved away to go to...",
           3
          ],
          [
           "CONCLUSE",
           "you won't find your now typical jump scares here; there is something deeper at work, something which...",
           3
          ],
          [
           "Runaway: A Twist of Fate",
           "runaway: a twist of fate is the adventure game of the year! featuring a production worthy of a big 2...",
           3
          ],
          [
           "Grid Tales",
           "a real-time strategy game with different game modes, such as vs pc, pvp lan and steam lobby, etc, di...",
           4
          ],
          [
           "Masters of Puzzle",
           "puzzle boxes &amp; downloadable content it is important to note from the start that the puzzle boxes...",
           2
          ],
          [
           "Ironclads 2: American Civil War",
           "in 1862, when farragut's union squadron was preparing to occupy the vital hub of the south - new orl...",
           1
          ],
          [
           "Flowers -Le volume sur hiver-",
           "story suoh shirahane has passed yuzuriha yatsushiro's test to become the president of the council of...",
           3
          ],
          [
           "Nauticrawl",
           "pilot a nauticrawl in vr - available now about the game in a grasp for salvation with sentinels clos...",
           2
          ],
          [
           "DUCK CASINO: BULLET",
           "duck casino is a casual shooting game, in which player is a traveler passing a casino. this casino i...",
           5
          ],
          [
           "Regenesis",
           "the game years ago an alien plant scattered spores through all the planet. this has caused the flora...",
           5
          ],
          [
           "Nyanco Impact",
           "hello, world! was that a cat i saw? in this game, pre-generated ai artwork will be randomly loaded t...",
           2
          ],
          [
           "Card Survival: Tropical Island - The First Days",
           "full game available / about the game card survival: tropical island is a card-based survival experie...",
           7
          ],
          [
           "三国虎将传VR2-Sanguo Warriors VR2",
           "introduction this is a three-nation theme, second-generation, realistic style, cold weapon fighting ...",
           1
          ],
          [
           "Locoland",
           "a unique and mysterious point-and-click adventure unusual findings! try the demo now! / a unique and...",
           7
          ],
          [
           "LOST EGG 2: Be together",
           "the fifth of low-price series of kimidorisoft! 'lost egg 2: be together' appeared! * this game allow...",
           5
          ],
          [
           "Rise of Humanity: Prologue",
           "get the early access game join our discord about the game this prologue allows you to experience the...",
           1
          ],
          [
           "Pill Puzzle",
           "always paying attention to the color, type and position of the tablets, you will need to fit one tab...",
           2
          ],
          [
           "Rogue Warlords",
           "warlords, massive godly constructs, have been set free upon an uninhabited island in order to do bat...",
           1
          ],
          [
           "青之镇物语",
           "the betrayal of your partner makes you choose a different life. although you have a vengeful heart, ...",
           2
          ],
          [
           "Runefall 2",
           "return to the kingdom of silverdale and continue the story of rivermoor in this brand new match-3 ad...",
           7
          ],
          [
           "Crate Knight",
           "one day, the kingdom wakes up to a morning in which all inner chambers' gates are locked and their k...",
           4
          ],
          [
           "Dark Dragonkin",
           "dark dragonkin is an rpg adventure in which the player alternates control a party of characters, gui...",
           3
          ],
          [
           "Lucky Gem",
           "mysterious omda on the mysterious island of omda lives a group of omda people who make a living by c...",
           3
          ],
          [
           "Witchcraft",
           "in witchcraft you will be able to create your own character configuration and fight against your fri...",
           2
          ],
          [
           "Freddy's Archives: Remains Of The Past",
           "=| welcome to freddy`s archive |= a n old company focused on creating entertaining eateries featurin...",
           3
          ],
          [
           "Don't Shoot Rabbit / 不要射中兔子",
           "don’t shoot rabbit is a mini game, as my first completed game product. though i didn’t provide engli...",
           2
          ],
          [
           "DG2: Defense Grid 2",
           "defense grid 2, dg2, is the sequel to hidden path entertainment’s 2008 defense grid: the awakening. ...",
           4
          ],
          [
           "Time of Dragons",
           "this is an mmo shooter where you ride dragons armed with missiles and lasers! the plot of the game u...",
           1
          ],
          [
           "Pushing POPO",
           "this game is a simple and highly challenging 2d puzzle game with a system similar to 'sokoban,' in w...",
           5
          ],
          [
           "Up Against Aliens",
           "welcome to the mind-bending adventure of 'up against aliens,' a captivating 3d platform puzzle game ...",
           7
          ],
          [
           "Faraway Proximity",
           "faraway proximity is a third-person puzzle game about recovering lost books. in this side of the uni...",
           2
          ],
          [
           "ToriDori",
           "toridori is designed for a leisurely search for differences accompanied by specially selected music,...",
           5
          ],
          [
           "Get Out! Snakes!",
           "get out! snakes! it's a new way to play the famous 90's cell phone classic, now you're not the snake...",
           4
          ],
          [
           "Mactabilis",
           "mactabilis is a modern shooter with rpg elements. customize your ship, select from a large array of ...",
           7
          ],
          [
           "Dawn of a Soul",
           "dawn of a soul is a mathematical puzzle game starring chains and combos. progress through levels by ...",
           7
          ],
          [
           "The Genesis Project",
           "sburb, but real the genesis project is the homestuck fandom's attempt at recreating sburb, the legen...",
           3
          ],
          [
           "GUNGRAVE VR",
           "the acclaimed gungrave series is reborn in vr! many years have passed since the war against the nefa...",
           3
          ]
         ],
         "hovertemplate": "TSNE_1=%{x}<br>TSNE_2=%{y}<br>Name=%{customdata[0]}<br>Description=%{customdata[1]}<br>Cluster=%{marker.color}<extra></extra>",
         "legendgroup": "",
         "marker": {
          "color": [
           3,
           1,
           5,
           1,
           5,
           2,
           3,
           4,
           5,
           2,
           4,
           4,
           2,
           3,
           3,
           2,
           1,
           3,
           2,
           3,
           2,
           5,
           2,
           1,
           1,
           4,
           5,
           3,
           5,
           7,
           3,
           5,
           2,
           1,
           2,
           2,
           5,
           2,
           2,
           3,
           7,
           1,
           4,
           5,
           5,
           5,
           5,
           2,
           3,
           4,
           3,
           4,
           2,
           2,
           2,
           2,
           5,
           2,
           1,
           3,
           1,
           7,
           3,
           1,
           4,
           7,
           1,
           4,
           7,
           2,
           3,
           2,
           3,
           7,
           5,
           5,
           7,
           5,
           4,
           7,
           2,
           5,
           3,
           2,
           2,
           3,
           1,
           2,
           2,
           1,
           5,
           1,
           3,
           7,
           7,
           1,
           3,
           1,
           2,
           1,
           5,
           1,
           7,
           3,
           2,
           5,
           5,
           2,
           5,
           7,
           4,
           4,
           2,
           1,
           4,
           2,
           2,
           2,
           7,
           2,
           7,
           2,
           1,
           3,
           5,
           2,
           5,
           3,
           7,
           2,
           1,
           7,
           1,
           1,
           5,
           1,
           5,
           2,
           7,
           1,
           1,
           5,
           1,
           5,
           7,
           7,
           2,
           3,
           4,
           1,
           7,
           3,
           2,
           1,
           1,
           7,
           2,
           3,
           2,
           1,
           4,
           7,
           2,
           5,
           4,
           4,
           1,
           3,
           4,
           1,
           7,
           7,
           4,
           7,
           1,
           2,
           7,
           5,
           4,
           3,
           1,
           3,
           5,
           2,
           1,
           4,
           1,
           7,
           4,
           3,
           2,
           7,
           7,
           1,
           5,
           5,
           7,
           7,
           7,
           5,
           5,
           1,
           2,
           2,
           4,
           7,
           1,
           7,
           7,
           5,
           3,
           2,
           7,
           4,
           4,
           3,
           3,
           4,
           3,
           7,
           2,
           3,
           4,
           3,
           4,
           1,
           7,
           4,
           5,
           1,
           2,
           1,
           5,
           7,
           1,
           3,
           1,
           5,
           3,
           5,
           3,
           3,
           5,
           7,
           4,
           2,
           3,
           5,
           4,
           5,
           2,
           7,
           2,
           7,
           2,
           5,
           3,
           1,
           1,
           4,
           3,
           7,
           3,
           2,
           5,
           7,
           1,
           2,
           5,
           2,
           7,
           1,
           3,
           7,
           7,
           4,
           2,
           3,
           7,
           4,
           2,
           1,
           2,
           7,
           2,
           7,
           2,
           7,
           2,
           6,
           2,
           7,
           5,
           7,
           1,
           3,
           2,
           2,
           7,
           7,
           1,
           1,
           5,
           2,
           4,
           1,
           1,
           7,
           5,
           7,
           2,
           1,
           3,
           3,
           1,
           2,
           7,
           3,
           5,
           2,
           7,
           3,
           7,
           2,
           4,
           1,
           1,
           1,
           5,
           7,
           3,
           4,
           2,
           3,
           2,
           3,
           7,
           4,
           3,
           2,
           5,
           7,
           5,
           4,
           4,
           3,
           3,
           4,
           7,
           5,
           7,
           5,
           2,
           1,
           7,
           3,
           4,
           3,
           3,
           1,
           7,
           5,
           5,
           2,
           4,
           5,
           5,
           1,
           1,
           1,
           7,
           2,
           1,
           0,
           3,
           5,
           5,
           2,
           1,
           7,
           4,
           5,
           1,
           2,
           5,
           4,
           2,
           1,
           7,
           7,
           7,
           2,
           7,
           2,
           7,
           2,
           4,
           7,
           3,
           7,
           1,
           2,
           7,
           2,
           3,
           1,
           1,
           5,
           1,
           3,
           1,
           4,
           5,
           7,
           3,
           7,
           3,
           3,
           7,
           3,
           3,
           2,
           7,
           5,
           2,
           7,
           5,
           4,
           1,
           3,
           1,
           1,
           5,
           4,
           3,
           1,
           1,
           1,
           7,
           7,
           2,
           5,
           5,
           1,
           2,
           5,
           5,
           4,
           3,
           3,
           2,
           2,
           4,
           5,
           1,
           4,
           5,
           3,
           3,
           1,
           2,
           7,
           1,
           2,
           3,
           4,
           4,
           2,
           2,
           5,
           4,
           7,
           7,
           7,
           2,
           2,
           4,
           2,
           2,
           3,
           3,
           7,
           2,
           2,
           1,
           4,
           2,
           2,
           1,
           7,
           5,
           2,
           3,
           4,
           1,
           2,
           4,
           7,
           3,
           3,
           4,
           5,
           1,
           4,
           2,
           7,
           3,
           7,
           1,
           7,
           1,
           1,
           2,
           3,
           7,
           3,
           2,
           4,
           4,
           7,
           4,
           1,
           2,
           1,
           5,
           7,
           5,
           1,
           2,
           4,
           5,
           1,
           3,
           5,
           7,
           1,
           5,
           5,
           5,
           1,
           5,
           2,
           7,
           5,
           2,
           2,
           5,
           2,
           5,
           7,
           1,
           3,
           7,
           2,
           2,
           2,
           4,
           2,
           5,
           2,
           4,
           4,
           2,
           5,
           2,
           7,
           2,
           5,
           3,
           3,
           2,
           5,
           4,
           2,
           3,
           1,
           7,
           4,
           5,
           4,
           7,
           3,
           3,
           3,
           2,
           5,
           5,
           2,
           1,
           2,
           2,
           4,
           4,
           3,
           4,
           2,
           2,
           7,
           3,
           2,
           2,
           2,
           2,
           3,
           3,
           3,
           2,
           3,
           5,
           2,
           5,
           4,
           5,
           4,
           2,
           1,
           1,
           3,
           4,
           4,
           5,
           2,
           1,
           2,
           5,
           7,
           3,
           7,
           4,
           1,
           3,
           3,
           7,
           2,
           5,
           3,
           3,
           1,
           4,
           7,
           4,
           2,
           7,
           4,
           2,
           7,
           7,
           5,
           2,
           3,
           5,
           7,
           2,
           7,
           2,
           3,
           2,
           4,
           4,
           2,
           5,
           1,
           5,
           7,
           1,
           4,
           5,
           4,
           2,
           4,
           7,
           7,
           2,
           2,
           7,
           1,
           1,
           2,
           7,
           5,
           7,
           2,
           3,
           2,
           7,
           5,
           3,
           7,
           5,
           4,
           7,
           7,
           5,
           5,
           7,
           2,
           2,
           7,
           2,
           3,
           2,
           3,
           2,
           4,
           7,
           4,
           3,
           2,
           2,
           4,
           1,
           5,
           7,
           4,
           4,
           5,
           3,
           2,
           3,
           5,
           3,
           2,
           3,
           7,
           3,
           4,
           1,
           3,
           2,
           2,
           1,
           4,
           2,
           4,
           3,
           4,
           4,
           4,
           7,
           7,
           3,
           7,
           4,
           2,
           3,
           2,
           3,
           7,
           7,
           5,
           2,
           7,
           2,
           2,
           3,
           1,
           5,
           3,
           3,
           1,
           2,
           7,
           3,
           7,
           1,
           1,
           7,
           7,
           2,
           1,
           3,
           2,
           7,
           4,
           5,
           1,
           1,
           7,
           1,
           3,
           1,
           4,
           2,
           1,
           3,
           7,
           7,
           1,
           7,
           2,
           7,
           2,
           4,
           1,
           4,
           5,
           4,
           2,
           7,
           2,
           3,
           5,
           4,
           7,
           7,
           4,
           5,
           5,
           4,
           3,
           5,
           7,
           3,
           3,
           2,
           7,
           1,
           7,
           1,
           3,
           3,
           2,
           2,
           7,
           3,
           5,
           2,
           2,
           3,
           1,
           7,
           7,
           7,
           7,
           2,
           7,
           1,
           5,
           5,
           5,
           4,
           3,
           1,
           2,
           4,
           1,
           5,
           4,
           2,
           3,
           5,
           5,
           5,
           7,
           1,
           2,
           2,
           7,
           4,
           7,
           3,
           7,
           7,
           2,
           5,
           1,
           7,
           7,
           4,
           1,
           1,
           4,
           2,
           3,
           4,
           4,
           1,
           4,
           2,
           2,
           1,
           4,
           2,
           1,
           3,
           4,
           4,
           3,
           4,
           2,
           2,
           5,
           4,
           5,
           2,
           4,
           2,
           5,
           2,
           3,
           5,
           5,
           3,
           4,
           7,
           7,
           7,
           7,
           7,
           3,
           4,
           1,
           7,
           1,
           2,
           4,
           1,
           7,
           5,
           3,
           1,
           1,
           5,
           4,
           1,
           3,
           7,
           2,
           2,
           3,
           3,
           3,
           7,
           1,
           4,
           7,
           4,
           1,
           2,
           4,
           7,
           4,
           7,
           7,
           2,
           2,
           5,
           1,
           3,
           1,
           7,
           3,
           5,
           7,
           7,
           3,
           2,
           2,
           2,
           3,
           3,
           3,
           3,
           4,
           2,
           1,
           3,
           2,
           5,
           5,
           2,
           7,
           1,
           7,
           5,
           1,
           2,
           1,
           2,
           7,
           4,
           3,
           3,
           2,
           3,
           2,
           4,
           1,
           5,
           7,
           2,
           5,
           4,
           7,
           7,
           3,
           3
          ],
          "coloraxis": "coloraxis",
          "opacity": 0.7,
          "size": 5,
          "symbol": "circle"
         },
         "mode": "markers",
         "name": "",
         "orientation": "v",
         "showlegend": false,
         "type": "scatter",
         "x": [
          7.831142425537109,
          -7.29727840423584,
          -11.286642074584961,
          2.7212979793548584,
          -10.316690444946289,
          14.069698333740234,
          0.6840224862098694,
          -7.455509185791016,
          -5.857452392578125,
          13.856744766235352,
          -21.801816940307617,
          -11.207383155822754,
          12.65222454071045,
          4.853121757507324,
          -2.4932594299316406,
          18.518993377685547,
          -10.576390266418457,
          5.539936065673828,
          19.008359909057617,
          -0.6349788904190063,
          7.0493059158325195,
          -16.757341384887695,
          22.178871154785156,
          -6.262932300567627,
          10.57011604309082,
          -21.03976058959961,
          -3.140240430831909,
          3.0937020778656006,
          -14.17546272277832,
          -2.6962249279022217,
          6.838053226470947,
          -17.54905891418457,
          14.209657669067383,
          -10.295398712158203,
          10.228133201599121,
          19.121267318725586,
          -3.165818691253662,
          11.867047309875488,
          11.674161911010742,
          5.57531213760376,
          -1.3290245532989502,
          0.9879297614097595,
          -11.155104637145996,
          -6.727115631103516,
          -2.6521196365356445,
          -4.711377143859863,
          -11.71144962310791,
          17.01194953918457,
          -3.898451805114746,
          -18.80951499938965,
          0.37241169810295105,
          -7.946293354034424,
          19.641273498535156,
          7.159841060638428,
          22.939157485961914,
          15.131723403930664,
          -13.977783203125,
          20.23634147644043,
          -6.510672092437744,
          0.6320132613182068,
          0.5877154469490051,
          -19.033557891845703,
          4.469117164611816,
          -8.78371810913086,
          -15.105609893798828,
          4.558770179748535,
          -7.705357074737549,
          -11.415030479431152,
          4.31644344329834,
          13.528984069824219,
          -4.237126350402832,
          14.030035972595215,
          4.367389678955078,
          5.88249397277832,
          -5.484372138977051,
          -9.061409950256348,
          4.9264116287231445,
          -3.8022096157073975,
          -16.32149887084961,
          -17.0317325592041,
          11.127758026123047,
          -5.9532246589660645,
          -4.474742889404297,
          12.52237606048584,
          14.513333320617676,
          2.849439859390259,
          -0.6474500894546509,
          10.127699851989746,
          13.963348388671875,
          -11.47455883026123,
          -13.244782447814941,
          -10.4810791015625,
          23.705360412597656,
          0.9590548872947693,
          22.456480026245117,
          16.281688690185547,
          0.923804521560669,
          -11.562180519104004,
          19.009403228759766,
          -8.270580291748047,
          -1.1321442127227783,
          0.7406215667724609,
          -10.598282814025879,
          9.554186820983887,
          18.160085678100586,
          0.619938850402832,
          -12.892443656921387,
          18.97615623474121,
          -2.572190046310425,
          -10.652643203735352,
          -13.70003890991211,
          -13.382813453674316,
          12.60817813873291,
          9.25535774230957,
          -12.501302719116211,
          8.783492088317871,
          19.416963577270508,
          14.699645042419434,
          -10.656064987182617,
          8.78601360321045,
          3.9935569763183594,
          13.233443260192871,
          -6.649867534637451,
          6.572939395904541,
          -5.297175407409668,
          10.148162841796875,
          -2.400949239730835,
          5.331335544586182,
          -13.243339538574219,
          16.180768966674805,
          1.0109416246414185,
          -3.699342727661133,
          7.064361572265625,
          -8.209881782531738,
          -14.057488441467285,
          8.741418838500977,
          -4.401161193847656,
          13.333910942077637,
          0.8913936614990234,
          -6.8583664894104,
          -4.737644195556641,
          -14.612900733947754,
          16.30982780456543,
          0.3696078658103943,
          -6.979395866394043,
          2.0681893825531006,
          12.725284576416016,
          0.004334303084760904,
          -5.0783772468566895,
          -7.378138542175293,
          9.732684135437012,
          -6.358432292938232,
          14.270654678344727,
          17.1117000579834,
          -4.348589897155762,
          5.880217552185059,
          5.086953639984131,
          6.859289169311523,
          10.769615173339844,
          0.572844922542572,
          -2.415844678878784,
          3.39565110206604,
          11.611519813537598,
          -17.876848220825195,
          -12.112076759338379,
          -7.262650966644287,
          -13.506855010986328,
          8.507875442504883,
          -2.086533546447754,
          -11.593738555908203,
          9.032005310058594,
          5.764237403869629,
          -16.75136947631836,
          2.780547857284546,
          -5.436630725860596,
          8.076322555541992,
          -3.486173152923584,
          11.862244606018066,
          -11.321993827819824,
          6.055718421936035,
          -4.566993713378906,
          6.098984718322754,
          -9.612668991088867,
          8.908906936645508,
          -4.53939962387085,
          -11.660380363464355,
          -9.130778312683105,
          3.5322909355163574,
          -21.557790756225586,
          0.5902262926101685,
          16.581741333007812,
          4.316552639007568,
          3.4002184867858887,
          8.355360984802246,
          -10.170092582702637,
          -14.466657638549805,
          -1.6240159273147583,
          1.3271970748901367,
          0.7628175616264343,
          -7.079095840454102,
          -12.8130521774292,
          -6.658016204833984,
          6.9899115562438965,
          20.01112174987793,
          -6.683992862701416,
          5.331108570098877,
          -4.7357378005981445,
          6.587022304534912,
          -1.672672986984253,
          -0.8164345622062683,
          3.384917974472046,
          11.84457015991211,
          8.727229118347168,
          -15.060347557067871,
          5.5397725105285645,
          6.987825393676758,
          -0.8238369226455688,
          -14.940277099609375,
          9.74611759185791,
          -3.867568254470825,
          19.12960433959961,
          9.003464698791504,
          -17.01617431640625,
          -3.4065098762512207,
          -16.24666976928711,
          2.087217330932617,
          7.062963008880615,
          -8.200556755065918,
          -0.17515194416046143,
          2.890500783920288,
          16.475339889526367,
          -5.684802532196045,
          -3.9965660572052,
          -3.2792513370513916,
          1.7871930599212646,
          -2.3502748012542725,
          -7.08709192276001,
          -4.2331953048706055,
          3.6354448795318604,
          -12.17323112487793,
          4.367587089538574,
          -3.0394442081451416,
          -18.549320220947266,
          11.858518600463867,
          -17.22604751586914,
          10.779380798339844,
          -2.2602624893188477,
          4.517830848693848,
          -14.152695655822754,
          -5.164488315582275,
          16.012859344482422,
          -3.662104606628418,
          13.490791320800781,
          -4.357314109802246,
          13.326395988464355,
          -1.1591835021972656,
          -2.52607798576355,
          -10.392622947692871,
          -6.979022979736328,
          -13.043023109436035,
          -1.085561990737915,
          9.46159839630127,
          -3.2059519290924072,
          21.58954620361328,
          -16.356531143188477,
          -4.162261009216309,
          -4.817265510559082,
          12.282461166381836,
          -11.901481628417969,
          16.092435836791992,
          -2.4904825687408447,
          -8.452269554138184,
          13.068161964416504,
          -0.011949209496378899,
          4.236364364624023,
          -11.373800277709961,
          17.030685424804688,
          4.473840713500977,
          6.083444118499756,
          -10.639054298400879,
          22.281030654907227,
          1.6347367763519287,
          9.280054092407227,
          4.452932834625244,
          12.80094051361084,
          4.681538105010986,
          4.281816482543945,
          -3.8013362884521484,
          20.95543098449707,
          -15.904664039611816,
          12.000722885131836,
          -2.395085334777832,
          -14.383023262023926,
          -10.434521675109863,
          8.798097610473633,
          1.9462944269180298,
          16.351747512817383,
          19.621776580810547,
          -12.488751411437988,
          -6.150504112243652,
          -7.6090593338012695,
          -4.48022985458374,
          -4.314671993255615,
          15.571562767028809,
          -14.243247032165527,
          -7.5643463134765625,
          -5.1947526931762695,
          4.265857219696045,
          -10.043253898620605,
          3.1285455226898193,
          10.60877799987793,
          -5.042197227478027,
          3.8790130615234375,
          -0.7183825373649597,
          -11.033400535583496,
          10.139981269836426,
          3.4785265922546387,
          -3.3115181922912598,
          -17.051212310791016,
          16.455730438232422,
          -1.32810378074646,
          6.305543422698975,
          8.900737762451172,
          12.348633766174316,
          -12.916584014892578,
          -6.828860759735107,
          2.263835906982422,
          -13.611366271972656,
          -3.2662055492401123,
          9.683937072753906,
          5.759355068206787,
          -9.022433280944824,
          16.487056732177734,
          -4.27075719833374,
          11.640899658203125,
          0.8109840750694275,
          -9.364370346069336,
          -11.837921142578125,
          -5.810638904571533,
          2.8888869285583496,
          -6.016448497772217,
          -2.4336400032043457,
          0.6588371992111206,
          -16.628498077392578,
          -21.668352127075195,
          -1.1792970895767212,
          5.045298099517822,
          -7.165256977081299,
          4.3431925773620605,
          -16.608375549316406,
          13.042797088623047,
          -11.050885200500488,
          15.912261009216309,
          4.190800666809082,
          -0.9525041580200195,
          2.8738012313842773,
          -12.442051887512207,
          3.380075454711914,
          4.002664089202881,
          -5.943070888519287,
          21.359529495239258,
          -8.618142127990723,
          -10.810687065124512,
          11.336432456970215,
          -15.012743949890137,
          -7.32422399520874,
          -12.299524307250977,
          6.113504886627197,
          -8.785758018493652,
          -1.075922966003418,
          -7.411670684814453,
          16.08740997314453,
          1.3561981916427612,
          10.222000122070312,
          1.293108344078064,
          -4.0294013023376465,
          -1.644692063331604,
          3.0154552459716797,
          11.21917724609375,
          -3.317959785461426,
          -14.84925651550293,
          -11.188809394836426,
          2.4936349391937256,
          16.106815338134766,
          0.4986947774887085,
          -13.56613540649414,
          15.862142562866211,
          -3.618269681930542,
          5.956442832946777,
          1.2624248266220093,
          -11.643072128295898,
          13.499242782592773,
          9.19157600402832,
          17.81007194519043,
          5.73899507522583,
          19.499507904052734,
          -5.197385311126709,
          -1.0507947206497192,
          -4.129759788513184,
          -0.2647404372692108,
          -8.278692245483398,
          22.085783004760742,
          1.5027616024017334,
          8.583282470703125,
          5.894399642944336,
          -6.011749744415283,
          -9.644732475280762,
          1.6256986856460571,
          -6.088072299957275,
          -9.030248641967773,
          -11.26742935180664,
          -13.164435386657715,
          -8.8721342086792,
          6.728710174560547,
          2.8281917572021484,
          3.2011759281158447,
          2.78531551361084,
          1.3272815942764282,
          -5.9476704597473145,
          -0.38477471470832825,
          2.0109522342681885,
          14.403718948364258,
          2.83804988861084,
          -11.946374893188477,
          11.15878963470459,
          6.487569808959961,
          -17.43511199951172,
          -12.91859245300293,
          -6.205451965332031,
          -6.533321380615234,
          -4.515714168548584,
          1.5174064636230469,
          -20.24374008178711,
          -12.278351783752441,
          -1.6538023948669434,
          -12.474543571472168,
          -9.525702476501465,
          0.2523379921913147,
          -4.505970478057861,
          -4.568639278411865,
          10.598078727722168,
          -18.987323760986328,
          -8.18449592590332,
          -7.403753757476807,
          11.813762664794922,
          -3.391672372817993,
          -15.859182357788086,
          -14.34329605102539,
          6.192750930786133,
          3.007473945617676,
          21.0714168548584,
          19.05925941467285,
          -20.865385055541992,
          -6.290432929992676,
          -7.844786643981934,
          -17.138017654418945,
          -12.52230453491211,
          5.640531063079834,
          8.323460578918457,
          -5.741916179656982,
          17.769315719604492,
          6.535105228424072,
          -2.9082694053649902,
          11.228549003601074,
          -4.885462760925293,
          -1.0381050109863281,
          -16.926836013793945,
          12.949991226196289,
          11.87714672088623,
          -21.121925354003906,
          1.0420067310333252,
          4.950927257537842,
          0.6979667544364929,
          8.237017631530762,
          11.72939682006836,
          15.13403606414795,
          -11.741866111755371,
          16.07938003540039,
          9.342514038085938,
          0.7547951340675354,
          -4.662868022918701,
          -2.9870553016662598,
          19.080413818359375,
          18.450965881347656,
          -9.16114616394043,
          -12.284382820129395,
          12.411977767944336,
          7.453087329864502,
          -0.7919272780418396,
          -21.563600540161133,
          12.281367301940918,
          10.209012985229492,
          3.7304739952087402,
          -8.815013885498047,
          -11.045970916748047,
          13.566041946411133,
          -11.365365982055664,
          -1.0429801940917969,
          1.1871161460876465,
          6.320413112640381,
          -11.69070816040039,
          4.587512016296387,
          -2.2326877117156982,
          -16.113792419433594,
          12.693743705749512,
          2.1809804439544678,
          -2.4637155532836914,
          5.946622848510742,
          -8.744295120239258,
          -4.700380325317383,
          7.787473201751709,
          2.231433391571045,
          20.560388565063477,
          19.61764144897461,
          6.748820781707764,
          3.6669626235961914,
          13.933483123779297,
          -13.714999198913574,
          -9.139057159423828,
          5.050404071807861,
          -15.978065490722656,
          -9.401644706726074,
          9.531850814819336,
          10.430777549743652,
          -15.829249382019043,
          4.3410162925720215,
          -3.888232946395874,
          0.20397408306598663,
          14.263018608093262,
          -9.842548370361328,
          -16.622365951538086,
          -0.7849873900413513,
          -2.499413013458252,
          -7.961849212646484,
          4.705514430999756,
          -7.697677135467529,
          8.611655235290527,
          -11.355449676513672,
          9.827491760253906,
          -6.0488481521606445,
          9.919045448303223,
          20.35759162902832,
          17.852069854736328,
          -15.192915916442871,
          10.977705955505371,
          10.0419340133667,
          -9.212250709533691,
          14.319294929504395,
          -1.8359586000442505,
          -6.082377910614014,
          -5.702841281890869,
          -1.3171839714050293,
          -15.13973331451416,
          1.1487312316894531,
          18.701913833618164,
          15.132497787475586,
          -7.504392623901367,
          19.35381507873535,
          -13.990057945251465,
          15.981572151184082,
          -16.66539192199707,
          -14.098353385925293,
          6.696626663208008,
          -3.6523594856262207,
          18.46233367919922,
          3.020362138748169,
          11.379371643066406,
          -0.9038432240486145,
          4.228914260864258,
          16.834659576416016,
          10.959528923034668,
          -6.252288341522217,
          -16.122514724731445,
          12.662970542907715,
          10.819784164428711,
          -7.632834434509277,
          7.7461838722229,
          -14.121050834655762,
          -6.913634777069092,
          -15.617020606994629,
          2.8856279850006104,
          3.930359363555908,
          3.9037320613861084,
          -6.0654802322387695,
          4.245511531829834,
          -17.071687698364258,
          14.967041015625,
          14.718151092529297,
          -0.6099075675010681,
          6.8548808097839355,
          12.749826431274414,
          -4.689040660858154,
          -6.625089645385742,
          5.509981155395508,
          -15.92525863647461,
          14.023260116577148,
          7.380341053009033,
          -12.010970115661621,
          4.603176116943359,
          18.668182373046875,
          20.798023223876953,
          20.555715560913086,
          15.212916374206543,
          -5.086896896362305,
          3.079638957977295,
          5.203139781951904,
          12.088438034057617,
          -5.268104076385498,
          -3.4164679050445557,
          13.50847339630127,
          -8.638367652893066,
          -12.099605560302734,
          -1.794844388961792,
          -15.545588493347168,
          9.751693725585938,
          -8.436013221740723,
          0.16017475724220276,
          10.046346664428711,
          -9.286316871643066,
          -6.500190734863281,
          -7.804211616516113,
          18.551027297973633,
          -6.2626142501831055,
          13.73848819732666,
          -13.328254699707031,
          7.282773494720459,
          -1.8998725414276123,
          -14.121847152709961,
          2.7455475330352783,
          7.183303356170654,
          2.55639386177063,
          4.759070873260498,
          2.2809901237487793,
          9.640449523925781,
          -10.533451080322266,
          9.626565933227539,
          4.711400032043457,
          -7.651648998260498,
          -18.467914581298828,
          -2.403594732284546,
          -18.070110321044922,
          13.81865406036377,
          4.025050640106201,
          -16.01590919494629,
          15.36684799194336,
          -1.292283058166504,
          -9.509065628051758,
          4.706390857696533,
          20.232765197753906,
          -0.32775622606277466,
          -17.867002487182617,
          -16.010574340820312,
          12.629451751708984,
          4.223064422607422,
          18.09969711303711,
          3.1209514141082764,
          6.7417426109313965,
          -18.94212532043457,
          -12.547057151794434,
          20.007761001586914,
          -13.511493682861328,
          -0.7460229396820068,
          -4.350154399871826,
          -7.729432106018066,
          -3.5220532417297363,
          -18.6313533782959,
          4.086591720581055,
          -8.19658088684082,
          10.68833065032959,
          -7.697462558746338,
          -7.611903667449951,
          10.64510726928711,
          12.629348754882812,
          16.367761611938477,
          -2.4326488971710205,
          -2.156034231185913,
          -10.096084594726562,
          17.86022186279297,
          -2.2171804904937744,
          -21.713647842407227,
          8.258167266845703,
          15.007946968078613,
          -2.6705801486968994,
          20.872343063354492,
          7.739734649658203,
          1.6932810544967651,
          -3.766517400741577,
          -6.384242534637451,
          2.0041184425354004,
          -19.208024978637695,
          13.058327674865723,
          2.375326633453369,
          2.0899298191070557,
          -3.315005302429199,
          -14.901444435119629,
          18.44123077392578,
          12.99197006225586,
          -9.6912260055542,
          14.979071617126465,
          2.9768826961517334,
          8.893267631530762,
          8.659173011779785,
          10.880400657653809,
          -11.262635231018066,
          4.0156378746032715,
          -6.464959621429443,
          -1.8047325611114502,
          17.37017250061035,
          20.902639389038086,
          -21.6258602142334,
          -13.591670989990234,
          -13.267462730407715,
          -1.6552742719650269,
          -12.600911140441895,
          -14.279387474060059,
          1.8840374946594238,
          0.21076065301895142,
          10.886752128601074,
          -0.8445761799812317,
          -14.380583763122559,
          2.5957441329956055,
          23.30780029296875,
          -6.963390350341797,
          1.2317512035369873,
          -0.9327471852302551,
          -11.912047386169434,
          -6.589728355407715,
          -10.197298049926758,
          4.728971004486084,
          17.536375045776367,
          -8.4579439163208,
          -4.8186774253845215,
          11.289074897766113,
          -10.949027061462402,
          4.232483386993408,
          -17.11302375793457,
          -12.63663387298584,
          -10.773364067077637,
          -17.377119064331055,
          2.6825788021087646,
          -0.7410292625427246,
          -0.5415327548980713,
          -10.870552062988281,
          17.666561126708984,
          -0.7362363934516907,
          13.993404388427734,
          -10.27305793762207,
          3.0017659664154053,
          7.658963680267334,
          -18.25897979736328,
          14.946221351623535,
          -8.570037841796875,
          15.28512954711914,
          19.833988189697266,
          4.183727741241455,
          -4.137217998504639,
          6.525941848754883,
          0.8558661341667175,
          -1.1854276657104492,
          -6.143243312835693,
          9.586484909057617,
          -8.105905532836914,
          2.8732142448425293,
          7.5876145362854,
          -6.5114240646362305,
          9.201497077941895,
          -9.587064743041992,
          -3.485822916030884,
          13.317147254943848,
          -3.839972496032715,
          9.855289459228516,
          11.239347457885742,
          -5.282341003417969,
          2.3684446811676025,
          -12.10177993774414,
          1.0416957139968872,
          16.010379791259766,
          6.0882673263549805,
          -10.524653434753418,
          3.327183723449707,
          -5.056784152984619,
          -16.707700729370117,
          15.380523681640625,
          -3.77010440826416,
          -3.883845567703247,
          7.695915222167969,
          -2.5389411449432373,
          -8.067276954650879,
          -3.671464443206787,
          13.289525032043457,
          4.082119464874268,
          16.402538299560547,
          -14.794245719909668,
          -7.513300895690918,
          -10.67361831665039,
          -18.692869186401367,
          -7.350595951080322,
          13.54091739654541,
          2.0927910804748535,
          4.762248992919922,
          9.607634544372559,
          -7.445147514343262,
          -0.4195634126663208,
          -2.466341972351074,
          5.547028064727783,
          -12.001104354858398,
          6.097996711730957,
          -16.297258377075195,
          -8.736555099487305,
          -4.221197128295898,
          -10.992708206176758,
          5.336951732635498,
          3.96409010887146,
          -2.6164097785949707,
          19.46576690673828,
          4.156106472015381,
          -1.5785160064697266,
          3.2435412406921387,
          -3.657848358154297,
          5.3402299880981445,
          7.284262657165527,
          20.974136352539062,
          7.391307353973389,
          -0.44380369782447815,
          -8.450143814086914,
          -7.878223419189453,
          7.894639015197754,
          6.167191028594971,
          -3.502681255340576,
          -6.018570423126221,
          -0.5672070980072021,
          9.75621223449707,
          5.591263294219971,
          -14.019925117492676,
          10.274702072143555,
          3.9703454971313477,
          -5.59067440032959,
          -1.0900444984436035,
          -21.664138793945312,
          5.171868801116943,
          -15.104696273803711,
          5.5869011878967285,
          -7.231860637664795,
          11.070212364196777,
          2.7775728702545166,
          -12.578372955322266,
          -13.133503913879395,
          -17.576129913330078,
          10.080218315124512,
          -0.3725476562976837,
          -3.302884578704834,
          -4.2461676597595215,
          -2.311859607696533,
          -3.1754655838012695,
          0.6461983323097229,
          11.902630805969238,
          19.56970977783203,
          -0.7892431020736694,
          -11.997456550598145,
          -5.163564682006836,
          2.414738178253174,
          -12.439437866210938,
          -6.421609878540039,
          10.112303733825684,
          1.7167428731918335,
          -7.663260459899902,
          -1.466521978378296,
          3.31248140335083,
          -18.066465377807617,
          -7.330735206604004,
          -7.040825843811035,
          -18.893566131591797,
          17.58538818359375,
          6.3656792640686035,
          -12.079411506652832,
          -5.678493022918701,
          -0.20580363273620605,
          -16.61998176574707,
          10.774696350097656,
          14.885811805725098,
          -6.250417232513428,
          -17.217721939086914,
          13.778243064880371,
          1.2668890953063965,
          6.166399002075195,
          -11.06372356414795,
          -12.959280967712402,
          -8.316207885742188,
          -2.2843031883239746,
          23.58796501159668,
          16.773479461669922,
          -1.4250820875167847,
          -7.58578634262085,
          -15.127857208251953,
          16.58954620361328,
          -10.536334991455078,
          9.306037902832031,
          -21.54655647277832,
          18.947311401367188,
          11.745678901672363,
          -10.211848258972168,
          -5.4813313484191895,
          -3.7353744506835938,
          -6.680936336517334,
          7.126119613647461,
          5.771245002746582,
          7.6556396484375,
          -4.268036365509033,
          3.5815627574920654,
          -5.669294357299805,
          -13.603714942932129,
          -4.989568710327148,
          15.220090866088867,
          0.8257225751876831,
          18.02372169494629,
          -19.184370040893555,
          -0.43207255005836487,
          5.722362995147705,
          -18.570560455322266,
          7.230048656463623,
          -9.096323013305664,
          -9.393218994140625,
          0.2898674011230469,
          -7.834267616271973,
          -10.23437213897705,
          -4.817342758178711,
          1.459992527961731,
          12.379157066345215,
          14.850914001464844,
          -0.06494218856096268,
          2.1350085735321045,
          -4.552865028381348,
          2.419454336166382,
          -2.3598055839538574,
          -14.835755348205566,
          10.265542030334473,
          -10.093802452087402,
          -5.796820163726807,
          14.958803176879883,
          -20.88814353942871,
          4.386425018310547,
          -8.726604461669922,
          -8.683137893676758,
          -0.5675010681152344,
          14.64218521118164,
          11.395931243896484,
          7.192280292510986,
          8.612544059753418,
          2.676192283630371,
          -7.528778553009033,
          4.357027053833008,
          -0.6837320327758789,
          -6.9955267906188965,
          -14.221957206726074,
          -2.989335775375366,
          -5.848807334899902,
          22.691421508789062,
          12.98708724975586,
          10.731124877929688,
          0.7282548546791077,
          5.191310405731201,
          5.6158342361450195,
          3.306114435195923,
          -19.137306213378906,
          16.085599899291992,
          -5.678719520568848,
          -3.8831822872161865,
          18.46669578552246,
          -1.2282350063323975,
          -4.898585796356201,
          19.80570411682129,
          -0.676536500453949,
          -7.163058280944824,
          3.378293991088867,
          1.2350692749023438,
          -5.618947982788086,
          14.339548110961914,
          1.3977824449539185,
          9.31192398071289,
          6.189955234527588,
          -9.312277793884277,
          -3.8170645236968994,
          -5.628653049468994,
          15.974456787109375,
          0.6839925646781921,
          22.254234313964844,
          -12.617443084716797,
          -5.093501567840576,
          -10.270210266113281,
          -3.744600534439087,
          16.457443237304688,
          2.171177387237549,
          -17.159997940063477,
          0.26080048084259033,
          -16.777475357055664,
          0.9584776163101196,
          -6.695682525634766
         ],
         "xaxis": "x",
         "y": [
          14.837940216064453,
          -5.699248313903809,
          9.338813781738281,
          -11.889082908630371,
          7.895096302032471,
          -1.2168724536895752,
          12.69595718383789,
          -3.061613082885742,
          8.532828330993652,
          7.487429618835449,
          -1.7322003841400146,
          -14.1231107711792,
          6.7876129150390625,
          12.953340530395508,
          13.593546867370605,
          9.360258102416992,
          -2.4452130794525146,
          19.354164123535156,
          -2.1772830486297607,
          9.21950626373291,
          8.526586532592773,
          3.6545603275299072,
          9.834424018859863,
          -20.827741622924805,
          -9.648988723754883,
          -2.841146945953369,
          7.781332015991211,
          9.942648887634277,
          8.573555946350098,
          -13.934582710266113,
          10.331985473632812,
          8.837936401367188,
          0.24637368321418762,
          1.7515149116516113,
          -1.06992769241333,
          0.34817224740982056,
          2.6948082447052,
          8.997005462646484,
          -0.05486090108752251,
          16.417186737060547,
          -11.16913890838623,
          -18.722328186035156,
          -15.363504409790039,
          11.843521118164062,
          3.3561346530914307,
          8.304814338684082,
          11.729039192199707,
          4.20778751373291,
          12.974123001098633,
          3.298356294631958,
          15.905951499938965,
          -8.723197937011719,
          7.847447872161865,
          16.935962677001953,
          10.53248405456543,
          12.663969039916992,
          13.422494888305664,
          9.712481498718262,
          -17.706806182861328,
          19.540864944458008,
          -6.309484004974365,
          2.941894769668579,
          14.046663284301758,
          -9.843342781066895,
          -4.187215805053711,
          -0.2618521749973297,
          -1.1092828512191772,
          -14.214579582214355,
          -12.045557022094727,
          6.456284046173096,
          14.11443042755127,
          -9.401273727416992,
          19.263221740722656,
          -5.084408760070801,
          7.076724529266357,
          9.202737808227539,
          -4.599343299865723,
          2.9168999195098877,
          -12.755257606506348,
          1.500570297241211,
          6.272726535797119,
          10.88316535949707,
          -3.6517741680145264,
          11.929754257202148,
          0.38831835985183716,
          13.14242935180664,
          -8.190484046936035,
          6.199741840362549,
          10.902495384216309,
          4.605060577392578,
          8.113516807556152,
          -1.3189175128936768,
          4.770101070404053,
          -8.44439697265625,
          5.884059906005859,
          -6.849128723144531,
          10.165778160095215,
          1.2771703004837036,
          -4.436774253845215,
          -17.267047882080078,
          4.484994888305664,
          -1.0903416872024536,
          -9.630396842956543,
          -6.375428199768066,
          -4.340591907501221,
          3.597140073776245,
          11.775006294250488,
          -4.699563026428223,
          6.391380310058594,
          -6.574304103851318,
          -13.512149810791016,
          -4.6246843338012695,
          11.050914764404297,
          -8.948823928833008,
          -1.3690637350082397,
          6.171370983123779,
          -3.5012054443359375,
          7.845219135284424,
          -5.703085899353027,
          7.295310020446777,
          1.3688305616378784,
          -2.4658281803131104,
          3.0840489864349365,
          18.900014877319336,
          8.200704574584961,
          0.387628972530365,
          7.736468315124512,
          13.571375846862793,
          -11.233111381530762,
          4.3726959228515625,
          -3.484083414077759,
          -8.768644332885742,
          -8.274696350097656,
          -0.7399323582649231,
          -0.5356490015983582,
          -9.335646629333496,
          6.379899978637695,
          -2.6182668209075928,
          -9.86982536315918,
          1.8848985433578491,
          -22.423158645629883,
          5.544969081878662,
          -6.949531555175781,
          4.969731330871582,
          -8.377384185791016,
          -0.12120319157838821,
          1.8097401857376099,
          16.668033599853516,
          -15.24424934387207,
          8.263348579406738,
          -1.6903868913650513,
          -1.5495429039001465,
          9.197161674499512,
          -8.462868690490723,
          -13.607134819030762,
          -13.626927375793457,
          6.974469184875488,
          16.702999114990234,
          4.426128387451172,
          -5.101477146148682,
          -18.673566818237305,
          5.533779621124268,
          7.880428791046143,
          8.572888374328613,
          -14.803160667419434,
          -11.717061996459961,
          3.8998630046844482,
          9.572022438049316,
          -18.770998001098633,
          0.4658517837524414,
          -2.5703158378601074,
          -15.85859489440918,
          -11.50854206085205,
          -11.06409740447998,
          -21.24017906188965,
          7.993663311004639,
          -2.435126543045044,
          -3.9768829345703125,
          -5.420129776000977,
          14.36575698852539,
          -14.0953950881958,
          9.87522029876709,
          14.459917068481445,
          1.3220953941345215,
          -17.395225524902344,
          -8.842179298400879,
          2.4988601207733154,
          -9.186518669128418,
          -4.462740421295166,
          16.748666763305664,
          -1.0216999053955078,
          -10.841930389404297,
          -5.995611667633057,
          -9.76530933380127,
          10.1981782913208,
          12.68502426147461,
          -8.660372734069824,
          -3.067129611968994,
          -12.743387222290039,
          11.910247802734375,
          2.4606804847717285,
          4.2515869140625,
          -0.23805612325668335,
          6.133961200714111,
          -4.400315284729004,
          -7.114645957946777,
          -13.909924507141113,
          -0.509531557559967,
          -1.2916702032089233,
          7.41303825378418,
          8.334033012390137,
          4.081552505493164,
          -4.145224571228027,
          -12.13296890258789,
          -18.305788040161133,
          13.389692306518555,
          15.673190116882324,
          5.028693675994873,
          12.61262035369873,
          -1.7149772644042969,
          6.026744842529297,
          17.184553146362305,
          -16.669845581054688,
          -5.864869594573975,
          -7.188930511474609,
          -13.279657363891602,
          -0.4115222096443176,
          -7.501316547393799,
          2.271880865097046,
          -14.158098220825195,
          -6.4935302734375,
          5.695542812347412,
          5.045266151428223,
          -6.065793037414551,
          -3.689570903778076,
          11.6731538772583,
          1.079587459564209,
          4.1757659912109375,
          7.347382068634033,
          14.155689239501953,
          13.15988826751709,
          11.09664249420166,
          7.331309795379639,
          -10.867192268371582,
          -4.628979206085205,
          -3.0945794582366943,
          13.725802421569824,
          6.635193347930908,
          -7.064833164215088,
          9.83763599395752,
          10.324116706848145,
          -0.7564776539802551,
          11.04818058013916,
          -9.465836524963379,
          1.6715480089187622,
          5.983668804168701,
          10.006762504577637,
          1.8295154571533203,
          -1.8316984176635742,
          -2.6654417514801025,
          14.439562797546387,
          -3.7060952186584473,
          -5.432394504547119,
          1.2000128030776978,
          4.715344429016113,
          -9.021089553833008,
          -17.01122283935547,
          2.649345874786377,
          7.220524787902832,
          0.7411733269691467,
          -11.296141624450684,
          5.008339881896973,
          -8.484640121459961,
          -2.5968070030212402,
          -5.372949123382568,
          -3.641557216644287,
          -7.996757984161377,
          10.7107515335083,
          1.673159122467041,
          -1.8500827550888062,
          8.128665924072266,
          -4.756195545196533,
          -7.342243194580078,
          -7.475074291229248,
          8.213777542114258,
          -15.047749519348145,
          2.7864978313446045,
          -7.4151291847229,
          9.936857223510742,
          -15.637443542480469,
          5.525608062744141,
          -2.1632723808288574,
          12.522171974182129,
          -10.760218620300293,
          -8.065499305725098,
          12.94877815246582,
          8.87044620513916,
          6.437423229217529,
          -6.769066333770752,
          -7.8667826652526855,
          -17.759214401245117,
          1.1701748371124268,
          3.8168883323669434,
          8.769845008850098,
          -2.358410120010376,
          0.7863922119140625,
          -12.12630558013916,
          -16.035215377807617,
          10.482277870178223,
          -10.553557395935059,
          8.991260528564453,
          -21.39958953857422,
          18.037220001220703,
          17.436054229736328,
          -1.0931068658828735,
          0.21766722202301025,
          6.002792835235596,
          -4.901910781860352,
          8.103133201599121,
          8.05224323272705,
          -12.496458053588867,
          7.232907295227051,
          2.9389700889587402,
          9.194129943847656,
          -15.064499855041504,
          4.584615707397461,
          -14.637622833251953,
          0.8373876810073853,
          7.746331691741943,
          -14.93975830078125,
          2.611538887023926,
          -3.5543293952941895,
          -4.604664325714111,
          -3.4290781021118164,
          7.296465873718262,
          17.37249755859375,
          4.603718280792236,
          -2.6688923835754395,
          -5.181663990020752,
          0.24974966049194336,
          11.74049186706543,
          -9.656610488891602,
          2.156805992126465,
          -6.640615463256836,
          -4.437504291534424,
          16.87265396118164,
          17.555849075317383,
          -12.059499740600586,
          -9.502927780151367,
          8.967659950256348,
          -6.788801193237305,
          13.427973747253418,
          7.438589096069336,
          -13.357586860656738,
          -2.8342599868774414,
          6.472900867462158,
          -3.652406692504883,
          6.682460308074951,
          18.431528091430664,
          -7.234651565551758,
          7.195882797241211,
          12.380030632019043,
          6.306979179382324,
          2.3709442615509033,
          -4.3540143966674805,
          13.652792930603027,
          8.971046447753906,
          -13.679678916931152,
          2.5608506202697754,
          -9.328518867492676,
          -10.19207763671875,
          0.09358041733503342,
          -6.047308444976807,
          4.24384069442749,
          -0.5763797760009766,
          7.643764495849609,
          5.647359848022461,
          2.534884214401245,
          -9.810945510864258,
          -3.806824207305908,
          -10.258764266967773,
          9.593632698059082,
          -12.545435905456543,
          10.018645286560059,
          3.816344738006592,
          -3.5187814235687256,
          3.013904333114624,
          -21.198116302490234,
          -11.81131649017334,
          -8.20418643951416,
          -10.993759155273438,
          3.990793228149414,
          -14.422026634216309,
          10.238402366638184,
          -16.038240432739258,
          9.198175430297852,
          -2.123230457305908,
          -1.0637882947921753,
          14.961151123046875,
          -10.888754844665527,
          1.2209564447402954,
          3.624791145324707,
          -10.89632797241211,
          -0.4746243953704834,
          3.569363832473755,
          -20.67180824279785,
          -12.185422897338867,
          6.283533573150635,
          -16.716785430908203,
          -2.1442134380340576,
          3.591754198074341,
          -5.53496789932251,
          4.305720329284668,
          -2.9307923316955566,
          11.630990982055664,
          -12.877098083496094,
          20.75277328491211,
          17.095651626586914,
          -9.119863510131836,
          12.264920234680176,
          18.96340560913086,
          3.2329256534576416,
          -8.854870796203613,
          14.207160949707031,
          -6.034483909606934,
          -2.888362407684326,
          8.122034072875977,
          -8.426603317260742,
          -19.675003051757812,
          -0.45162951946258545,
          -20.651323318481445,
          -8.047002792358398,
          -2.5130653381347656,
          -16.878332138061523,
          -1.147878885269165,
          -7.628267765045166,
          -18.858325958251953,
          -8.219639778137207,
          -7.26768159866333,
          -10.960439682006836,
          -3.0613131523132324,
          7.3103437423706055,
          9.895553588867188,
          -0.7712218761444092,
          0.47448664903640747,
          3.5862646102905273,
          8.845725059509277,
          -4.58436393737793,
          3.552717924118042,
          14.522492408752441,
          4.810175895690918,
          -1.0276187658309937,
          -7.001334190368652,
          9.029233932495117,
          -20.196462631225586,
          -16.771163940429688,
          11.823558807373047,
          13.026019096374512,
          2.038968324661255,
          -18.050127029418945,
          -0.27124255895614624,
          6.38228178024292,
          -16.48444175720215,
          9.866106033325195,
          18.183422088623047,
          -3.246061325073242,
          -16.544099807739258,
          0.5294395089149475,
          4.1110334396362305,
          -0.8237378001213074,
          -16.051843643188477,
          -9.632670402526855,
          1.3020213842391968,
          -2.127690553665161,
          1.3416188955307007,
          12.736001014709473,
          -13.73681926727295,
          1.647060751914978,
          8.686595916748047,
          15.106088638305664,
          12.87100601196289,
          -12.025883674621582,
          -4.883506774902344,
          -1.286125898361206,
          -1.061094045639038,
          -4.58200216293335,
          -0.2686375677585602,
          3.1630592346191406,
          -21.417306900024414,
          -3.9482009410858154,
          -1.5644291639328003,
          1.8369560241699219,
          19.07973861694336,
          -13.292901992797852,
          4.060661792755127,
          1.067086935043335,
          -8.946816444396973,
          -12.91144847869873,
          10.195974349975586,
          10.366321563720703,
          -16.61406898498535,
          -3.8761773109436035,
          -16.80348014831543,
          -15.748936653137207,
          10.970260620117188,
          -2.74540376663208,
          16.687070846557617,
          -0.0964687317609787,
          0.5345062613487244,
          -8.717741012573242,
          -7.233410358428955,
          -9.964194297790527,
          6.919181823730469,
          4.134694576263428,
          0.8159095644950867,
          7.379748821258545,
          9.025288581848145,
          -6.229226589202881,
          -11.34946060180664,
          -2.37215256690979,
          -5.723336219787598,
          2.663222074508667,
          7.4681196212768555,
          -9.933818817138672,
          5.922342300415039,
          -8.770575523376465,
          2.4952642917633057,
          -5.1825852394104,
          10.482013702392578,
          -6.948058128356934,
          2.1250972747802734,
          -14.853489875793457,
          -5.211902618408203,
          4.61509370803833,
          -5.278079509735107,
          -1.9762076139450073,
          4.55175256729126,
          11.059319496154785,
          5.351344585418701,
          6.178029537200928,
          2.6756482124328613,
          2.3343937397003174,
          2.6549341678619385,
          11.901349067687988,
          8.236284255981445,
          6.231440544128418,
          7.469884872436523,
          -0.6099185347557068,
          2.52951979637146,
          -4.4656805992126465,
          0.6201338768005371,
          17.13538360595703,
          -0.06447500735521317,
          8.275199890136719,
          6.907131671905518,
          -3.335783004760742,
          -12.862726211547852,
          -5.23085880279541,
          10.025079727172852,
          10.986540794372559,
          -11.172492980957031,
          -0.5794147253036499,
          4.871973514556885,
          1.913615107536316,
          -1.3635756969451904,
          -4.673128604888916,
          5.07649564743042,
          9.452156066894531,
          10.709254264831543,
          14.893610954284668,
          -7.876702785491943,
          10.510560035705566,
          -3.789766311645508,
          5.407358169555664,
          11.318611145019531,
          7.159496307373047,
          -11.318585395812988,
          -6.832365036010742,
          9.815464973449707,
          -4.734281063079834,
          1.48428475856781,
          10.752176284790039,
          17.34518051147461,
          -3.012269973754883,
          2.8201987743377686,
          1.6200231313705444,
          4.463063716888428,
          3.2501306533813477,
          2.2316131591796875,
          18.544145584106445,
          4.59108829498291,
          -12.253857612609863,
          -15.571269989013672,
          2.133517265319824,
          -1.8584462404251099,
          5.844422817230225,
          2.5090742111206055,
          -10.841924667358398,
          18.552480697631836,
          8.464886665344238,
          -1.7802543640136719,
          7.546913146972656,
          6.3916730880737305,
          -4.544386863708496,
          17.3309268951416,
          4.316086769104004,
          1.0605685710906982,
          -0.7832677364349365,
          4.310523986816406,
          4.255589485168457,
          12.402673721313477,
          -12.841001510620117,
          6.155249118804932,
          -2.760952949523926,
          -6.428444862365723,
          -17.112709045410156,
          -8.364130020141602,
          14.719751358032227,
          -11.430618286132812,
          -9.52392864227295,
          8.554096221923828,
          11.015036582946777,
          -6.594428062438965,
          0.7657212018966675,
          7.2716875076293945,
          -1.3748369216918945,
          16.05727767944336,
          -10.188100814819336,
          -14.774622917175293,
          -9.936844825744629,
          15.246801376342773,
          12.917153358459473,
          -2.557037115097046,
          -6.03908109664917,
          12.419610023498535,
          10.432808876037598,
          16.228376388549805,
          4.311657905578613,
          -1.2209358215332031,
          -2.7054898738861084,
          -10.779243469238281,
          12.749923706054688,
          4.216362953186035,
          -14.090086936950684,
          4.449818134307861,
          -7.356743335723877,
          -9.769391059875488,
          6.898214340209961,
          10.6398286819458,
          14.530813217163086,
          8.374804496765137,
          -8.629796981811523,
          7.5158820152282715,
          -16.862314224243164,
          1.7284963130950928,
          19.154497146606445,
          4.48436975479126,
          -8.948779106140137,
          -7.788192272186279,
          8.66106128692627,
          6.930692672729492,
          5.843747615814209,
          7.343874931335449,
          -5.651409149169922,
          -14.976521492004395,
          -9.905607223510742,
          -3.7653942108154297,
          -7.79207181930542,
          0.9758897423744202,
          -7.265955448150635,
          -10.306884765625,
          -14.891708374023438,
          -0.7102863192558289,
          8.312414169311523,
          -12.66838550567627,
          1.0360355377197266,
          0.17030932009220123,
          5.325954914093018,
          -6.299702167510986,
          0.3675937354564667,
          4.391285419464111,
          7.773252487182617,
          10.74322509765625,
          8.119498252868652,
          -1.1620320081710815,
          4.755727767944336,
          11.957210540771484,
          -12.320569038391113,
          3.440823793411255,
          -9.030464172363281,
          -13.283108711242676,
          4.207266330718994,
          1.4241085052490234,
          0.8350278735160828,
          -8.304512977600098,
          -2.0304951667785645,
          3.808150053024292,
          5.18126106262207,
          -1.6301213502883911,
          -3.0870590209960938,
          8.615704536437988,
          11.224274635314941,
          3.1152913570404053,
          -17.522994995117188,
          -6.937524795532227,
          -15.633116722106934,
          14.08940601348877,
          10.039041519165039,
          -1.759015440940857,
          -4.369983673095703,
          0.9258490800857544,
          4.676030158996582,
          -4.039724826812744,
          -3.680964946746826,
          -1.2935385704040527,
          1.2797197103500366,
          21.200233459472656,
          7.420042037963867,
          -2.257739305496216,
          7.584781169891357,
          15.993979454040527,
          7.570211887359619,
          -2.8879637718200684,
          -9.801176071166992,
          0.8023635149002075,
          -2.3728435039520264,
          3.7585268020629883,
          -3.5188870429992676,
          5.2978692054748535,
          11.444429397583008,
          6.249461650848389,
          -10.06782054901123,
          -1.6753692626953125,
          -4.502904891967773,
          18.262409210205078,
          -0.6444495916366577,
          -3.7221593856811523,
          -14.610906600952148,
          0.6901371479034424,
          -3.773646593093872,
          16.394790649414062,
          -0.358228862285614,
          -16.90373992919922,
          8.125882148742676,
          12.392677307128906,
          5.890352249145508,
          -4.858031749725342,
          -12.700491905212402,
          0.6228175759315491,
          -4.296020030975342,
          1.3020962476730347,
          -6.188743591308594,
          -2.606513023376465,
          7.931071758270264,
          15.843610763549805,
          -16.878520965576172,
          -6.440335750579834,
          -0.3347702622413635,
          19.11942481994629,
          -18.643909454345703,
          3.8756959438323975,
          -4.370975971221924,
          21.801904678344727,
          12.385149002075195,
          7.49383020401001,
          -11.305011749267578,
          -5.74762487411499,
          -10.828689575195312,
          11.528428077697754,
          -13.02628231048584,
          12.571741104125977,
          3.302887439727783,
          -3.793879270553589,
          -6.616250514984131,
          11.921934127807617,
          -18.671363830566406,
          -6.958806037902832,
          -17.423721313476562,
          4.083934307098389,
          18.68952751159668,
          -21.26618194580078,
          -11.402514457702637,
          2.5269968509674072,
          10.809065818786621,
          15.92710018157959,
          -4.019400119781494,
          -0.7201318144798279,
          3.256387948989868,
          -1.7116646766662598,
          16.256366729736328,
          -17.23654556274414,
          8.866265296936035,
          -12.078926086425781,
          0.12404274940490723,
          -9.53709602355957,
          3.3974413871765137,
          -1.8225352764129639,
          2.8339576721191406,
          -11.299941062927246,
          7.865113258361816,
          9.453278541564941,
          7.200286865234375,
          -16.79259490966797,
          -9.247267723083496,
          0.963345468044281,
          -0.4388270378112793,
          -3.374286413192749,
          -1.3082069158554077,
          -15.831377983093262,
          13.37448787689209,
          6.256380558013916,
          -8.304388046264648,
          16.95033836364746,
          18.428791046142578,
          2.9961001873016357,
          -9.740571022033691,
          10.525246620178223,
          -0.10381412506103516,
          -15.29427433013916,
          14.06143569946289,
          12.274921417236328,
          6.181512832641602,
          2.6345863342285156,
          -11.831294059753418,
          -2.53914475440979,
          9.468782424926758,
          5.742646217346191,
          -4.490641117095947,
          13.900690078735352,
          0.787909746170044,
          -10.802389144897461,
          -14.878209114074707,
          -16.446422576904297,
          -11.120680809020996,
          -6.110811710357666,
          0.5929226279258728,
          5.494253158569336,
          3.8110740184783936,
          -1.3830058574676514,
          -5.746036529541016,
          -5.849874496459961,
          9.862279891967773,
          5.6985063552856445,
          10.389973640441895,
          21.01430320739746,
          2.4879982471466064,
          7.667195796966553,
          -11.960319519042969,
          9.625494003295898,
          14.374516487121582,
          1.192026138305664,
          9.339977264404297,
          4.032432556152344,
          -7.65446138381958,
          -6.550685405731201,
          4.540241718292236,
          4.132986545562744,
          -1.025343894958496,
          -9.463558197021484,
          -2.7533912658691406,
          17.969074249267578,
          -5.5340495109558105,
          -8.663865089416504,
          -1.4051588773727417,
          1.8827900886535645,
          -18.1737003326416,
          -11.845918655395508,
          -7.569655895233154,
          -7.136582374572754,
          3.2206852436065674,
          2.6427958011627197,
          -7.724841594696045,
          2.557875156402588,
          5.8020219802856445,
          0.11445509642362595,
          -10.847580909729004,
          -6.673187732696533,
          -9.921102523803711,
          5.546103477478027,
          2.529829740524292,
          4.680986404418945,
          -6.146512985229492,
          -4.82801628112793,
          -12.00008487701416,
          17.034351348876953,
          -11.739420890808105,
          -14.753785133361816,
          -1.83074152469635,
          -9.890741348266602,
          7.614099025726318,
          7.653848648071289,
          3.995952844619751,
          -13.677306175231934,
          5.5401387214660645,
          6.84266471862793,
          -7.924583435058594,
          -7.447319030761719,
          -1.3564077615737915,
          8.057158470153809,
          13.931313514709473,
          8.701333045959473,
          8.962363243103027,
          -6.516322612762451,
          -12.243992805480957,
          -0.048165880143642426,
          -9.677078247070312,
          -5.2997307777404785,
          -6.6381659507751465,
          -2.563142776489258,
          12.25411605834961,
          -14.443923950195312,
          3.7942025661468506,
          -11.455448150634766,
          -13.67182731628418,
          10.837364196777344,
          -7.103138446807861,
          -6.05618143081665,
          -1.4636199474334717,
          8.762214660644531,
          12.470251083374023,
          -0.1507364809513092,
          0.15795518457889557,
          6.7322468757629395,
          -2.2793233394622803,
          -16.81728744506836,
          -5.757112503051758,
          -9.599196434020996,
          2.5807480812072754,
          4.448832988739014,
          10.033442497253418,
          -1.3846714496612549,
          -3.7573494911193848,
          -9.026994705200195,
          -14.546133995056152,
          2.063506841659546,
          -7.634579181671143,
          -6.38408088684082,
          -13.795919418334961,
          -2.7891087532043457,
          -7.019591331481934,
          -1.543408751487732,
          -16.013019561767578,
          -4.865370273590088,
          -9.631424903869629,
          1.6821333169937134,
          7.034204006195068,
          -3.0530288219451904,
          -8.226967811584473,
          -1.9691455364227295,
          -3.946685314178467,
          -12.19688892364502,
          -4.292775630950928,
          10.50700855255127,
          -10.141711235046387,
          -11.914862632751465,
          12.97307014465332,
          7.569225788116455,
          -5.017696857452393,
          8.53442096710205,
          15.180482864379883,
          19.584081649780273,
          14.4127197265625,
          8.450437545776367,
          -8.334474563598633,
          5.23771333694458,
          -20.33292579650879,
          15.611364364624023,
          9.578170776367188,
          7.2916483879089355,
          7.002520561218262,
          11.823575019836426,
          -4.190981388092041,
          5.196667671203613,
          -0.7444899082183838,
          -2.196631669998169,
          1.4658735990524292,
          5.6149115562438965,
          -11.907577514648438,
          7.4461588859558105,
          -6.38991117477417,
          -8.027953147888184,
          8.997570037841797,
          15.484314918518066,
          0.5700581073760986,
          15.529863357543945,
          9.874228477478027,
          0.019968708977103233,
          2.349722385406494,
          11.617056846618652,
          -7.2036967277526855,
          5.706164836883545,
          4.175379753112793,
          -2.613391637802124,
          -10.950685501098633,
          -12.657841682434082,
          8.188867568969727,
          1.0099588632583618
         ],
         "yaxis": "y"
        }
       ],
       "layout": {
        "coloraxis": {
         "colorbar": {
          "title": {
           "text": "Cluster"
          }
         },
         "colorscale": [
          [
           0,
           "#0d0887"
          ],
          [
           0.1111111111111111,
           "#46039f"
          ],
          [
           0.2222222222222222,
           "#7201a8"
          ],
          [
           0.3333333333333333,
           "#9c179e"
          ],
          [
           0.4444444444444444,
           "#bd3786"
          ],
          [
           0.5555555555555556,
           "#d8576b"
          ],
          [
           0.6666666666666666,
           "#ed7953"
          ],
          [
           0.7777777777777778,
           "#fb9f3a"
          ],
          [
           0.8888888888888888,
           "#fdca26"
          ],
          [
           1,
           "#f0f921"
          ]
         ]
        },
        "legend": {
         "tracegroupgap": 0
        },
        "template": {
         "data": {
          "bar": [
           {
            "error_x": {
             "color": "#2a3f5f"
            },
            "error_y": {
             "color": "#2a3f5f"
            },
            "marker": {
             "line": {
              "color": "#E5ECF6",
              "width": 0.5
             },
             "pattern": {
              "fillmode": "overlay",
              "size": 10,
              "solidity": 0.2
             }
            },
            "type": "bar"
           }
          ],
          "barpolar": [
           {
            "marker": {
             "line": {
              "color": "#E5ECF6",
              "width": 0.5
             },
             "pattern": {
              "fillmode": "overlay",
              "size": 10,
              "solidity": 0.2
             }
            },
            "type": "barpolar"
           }
          ],
          "carpet": [
           {
            "aaxis": {
             "endlinecolor": "#2a3f5f",
             "gridcolor": "white",
             "linecolor": "white",
             "minorgridcolor": "white",
             "startlinecolor": "#2a3f5f"
            },
            "baxis": {
             "endlinecolor": "#2a3f5f",
             "gridcolor": "white",
             "linecolor": "white",
             "minorgridcolor": "white",
             "startlinecolor": "#2a3f5f"
            },
            "type": "carpet"
           }
          ],
          "choropleth": [
           {
            "colorbar": {
             "outlinewidth": 0,
             "ticks": ""
            },
            "type": "choropleth"
           }
          ],
          "contour": [
           {
            "colorbar": {
             "outlinewidth": 0,
             "ticks": ""
            },
            "colorscale": [
             [
              0,
              "#0d0887"
             ],
             [
              0.1111111111111111,
              "#46039f"
             ],
             [
              0.2222222222222222,
              "#7201a8"
             ],
             [
              0.3333333333333333,
              "#9c179e"
             ],
             [
              0.4444444444444444,
              "#bd3786"
             ],
             [
              0.5555555555555556,
              "#d8576b"
             ],
             [
              0.6666666666666666,
              "#ed7953"
             ],
             [
              0.7777777777777778,
              "#fb9f3a"
             ],
             [
              0.8888888888888888,
              "#fdca26"
             ],
             [
              1,
              "#f0f921"
             ]
            ],
            "type": "contour"
           }
          ],
          "contourcarpet": [
           {
            "colorbar": {
             "outlinewidth": 0,
             "ticks": ""
            },
            "type": "contourcarpet"
           }
          ],
          "heatmap": [
           {
            "colorbar": {
             "outlinewidth": 0,
             "ticks": ""
            },
            "colorscale": [
             [
              0,
              "#0d0887"
             ],
             [
              0.1111111111111111,
              "#46039f"
             ],
             [
              0.2222222222222222,
              "#7201a8"
             ],
             [
              0.3333333333333333,
              "#9c179e"
             ],
             [
              0.4444444444444444,
              "#bd3786"
             ],
             [
              0.5555555555555556,
              "#d8576b"
             ],
             [
              0.6666666666666666,
              "#ed7953"
             ],
             [
              0.7777777777777778,
              "#fb9f3a"
             ],
             [
              0.8888888888888888,
              "#fdca26"
             ],
             [
              1,
              "#f0f921"
             ]
            ],
            "type": "heatmap"
           }
          ],
          "heatmapgl": [
           {
            "colorbar": {
             "outlinewidth": 0,
             "ticks": ""
            },
            "colorscale": [
             [
              0,
              "#0d0887"
             ],
             [
              0.1111111111111111,
              "#46039f"
             ],
             [
              0.2222222222222222,
              "#7201a8"
             ],
             [
              0.3333333333333333,
              "#9c179e"
             ],
             [
              0.4444444444444444,
              "#bd3786"
             ],
             [
              0.5555555555555556,
              "#d8576b"
             ],
             [
              0.6666666666666666,
              "#ed7953"
             ],
             [
              0.7777777777777778,
              "#fb9f3a"
             ],
             [
              0.8888888888888888,
              "#fdca26"
             ],
             [
              1,
              "#f0f921"
             ]
            ],
            "type": "heatmapgl"
           }
          ],
          "histogram": [
           {
            "marker": {
             "pattern": {
              "fillmode": "overlay",
              "size": 10,
              "solidity": 0.2
             }
            },
            "type": "histogram"
           }
          ],
          "histogram2d": [
           {
            "colorbar": {
             "outlinewidth": 0,
             "ticks": ""
            },
            "colorscale": [
             [
              0,
              "#0d0887"
             ],
             [
              0.1111111111111111,
              "#46039f"
             ],
             [
              0.2222222222222222,
              "#7201a8"
             ],
             [
              0.3333333333333333,
              "#9c179e"
             ],
             [
              0.4444444444444444,
              "#bd3786"
             ],
             [
              0.5555555555555556,
              "#d8576b"
             ],
             [
              0.6666666666666666,
              "#ed7953"
             ],
             [
              0.7777777777777778,
              "#fb9f3a"
             ],
             [
              0.8888888888888888,
              "#fdca26"
             ],
             [
              1,
              "#f0f921"
             ]
            ],
            "type": "histogram2d"
           }
          ],
          "histogram2dcontour": [
           {
            "colorbar": {
             "outlinewidth": 0,
             "ticks": ""
            },
            "colorscale": [
             [
              0,
              "#0d0887"
             ],
             [
              0.1111111111111111,
              "#46039f"
             ],
             [
              0.2222222222222222,
              "#7201a8"
             ],
             [
              0.3333333333333333,
              "#9c179e"
             ],
             [
              0.4444444444444444,
              "#bd3786"
             ],
             [
              0.5555555555555556,
              "#d8576b"
             ],
             [
              0.6666666666666666,
              "#ed7953"
             ],
             [
              0.7777777777777778,
              "#fb9f3a"
             ],
             [
              0.8888888888888888,
              "#fdca26"
             ],
             [
              1,
              "#f0f921"
             ]
            ],
            "type": "histogram2dcontour"
           }
          ],
          "mesh3d": [
           {
            "colorbar": {
             "outlinewidth": 0,
             "ticks": ""
            },
            "type": "mesh3d"
           }
          ],
          "parcoords": [
           {
            "line": {
             "colorbar": {
              "outlinewidth": 0,
              "ticks": ""
             }
            },
            "type": "parcoords"
           }
          ],
          "pie": [
           {
            "automargin": true,
            "type": "pie"
           }
          ],
          "scatter": [
           {
            "fillpattern": {
             "fillmode": "overlay",
             "size": 10,
             "solidity": 0.2
            },
            "type": "scatter"
           }
          ],
          "scatter3d": [
           {
            "line": {
             "colorbar": {
              "outlinewidth": 0,
              "ticks": ""
             }
            },
            "marker": {
             "colorbar": {
              "outlinewidth": 0,
              "ticks": ""
             }
            },
            "type": "scatter3d"
           }
          ],
          "scattercarpet": [
           {
            "marker": {
             "colorbar": {
              "outlinewidth": 0,
              "ticks": ""
             }
            },
            "type": "scattercarpet"
           }
          ],
          "scattergeo": [
           {
            "marker": {
             "colorbar": {
              "outlinewidth": 0,
              "ticks": ""
             }
            },
            "type": "scattergeo"
           }
          ],
          "scattergl": [
           {
            "marker": {
             "colorbar": {
              "outlinewidth": 0,
              "ticks": ""
             }
            },
            "type": "scattergl"
           }
          ],
          "scattermapbox": [
           {
            "marker": {
             "colorbar": {
              "outlinewidth": 0,
              "ticks": ""
             }
            },
            "type": "scattermapbox"
           }
          ],
          "scatterpolar": [
           {
            "marker": {
             "colorbar": {
              "outlinewidth": 0,
              "ticks": ""
             }
            },
            "type": "scatterpolar"
           }
          ],
          "scatterpolargl": [
           {
            "marker": {
             "colorbar": {
              "outlinewidth": 0,
              "ticks": ""
             }
            },
            "type": "scatterpolargl"
           }
          ],
          "scatterternary": [
           {
            "marker": {
             "colorbar": {
              "outlinewidth": 0,
              "ticks": ""
             }
            },
            "type": "scatterternary"
           }
          ],
          "surface": [
           {
            "colorbar": {
             "outlinewidth": 0,
             "ticks": ""
            },
            "colorscale": [
             [
              0,
              "#0d0887"
             ],
             [
              0.1111111111111111,
              "#46039f"
             ],
             [
              0.2222222222222222,
              "#7201a8"
             ],
             [
              0.3333333333333333,
              "#9c179e"
             ],
             [
              0.4444444444444444,
              "#bd3786"
             ],
             [
              0.5555555555555556,
              "#d8576b"
             ],
             [
              0.6666666666666666,
              "#ed7953"
             ],
             [
              0.7777777777777778,
              "#fb9f3a"
             ],
             [
              0.8888888888888888,
              "#fdca26"
             ],
             [
              1,
              "#f0f921"
             ]
            ],
            "type": "surface"
           }
          ],
          "table": [
           {
            "cells": {
             "fill": {
              "color": "#EBF0F8"
             },
             "line": {
              "color": "white"
             }
            },
            "header": {
             "fill": {
              "color": "#C8D4E3"
             },
             "line": {
              "color": "white"
             }
            },
            "type": "table"
           }
          ]
         },
         "layout": {
          "annotationdefaults": {
           "arrowcolor": "#2a3f5f",
           "arrowhead": 0,
           "arrowwidth": 1
          },
          "autotypenumbers": "strict",
          "coloraxis": {
           "colorbar": {
            "outlinewidth": 0,
            "ticks": ""
           }
          },
          "colorscale": {
           "diverging": [
            [
             0,
             "#8e0152"
            ],
            [
             0.1,
             "#c51b7d"
            ],
            [
             0.2,
             "#de77ae"
            ],
            [
             0.3,
             "#f1b6da"
            ],
            [
             0.4,
             "#fde0ef"
            ],
            [
             0.5,
             "#f7f7f7"
            ],
            [
             0.6,
             "#e6f5d0"
            ],
            [
             0.7,
             "#b8e186"
            ],
            [
             0.8,
             "#7fbc41"
            ],
            [
             0.9,
             "#4d9221"
            ],
            [
             1,
             "#276419"
            ]
           ],
           "sequential": [
            [
             0,
             "#0d0887"
            ],
            [
             0.1111111111111111,
             "#46039f"
            ],
            [
             0.2222222222222222,
             "#7201a8"
            ],
            [
             0.3333333333333333,
             "#9c179e"
            ],
            [
             0.4444444444444444,
             "#bd3786"
            ],
            [
             0.5555555555555556,
             "#d8576b"
            ],
            [
             0.6666666666666666,
             "#ed7953"
            ],
            [
             0.7777777777777778,
             "#fb9f3a"
            ],
            [
             0.8888888888888888,
             "#fdca26"
            ],
            [
             1,
             "#f0f921"
            ]
           ],
           "sequentialminus": [
            [
             0,
             "#0d0887"
            ],
            [
             0.1111111111111111,
             "#46039f"
            ],
            [
             0.2222222222222222,
             "#7201a8"
            ],
            [
             0.3333333333333333,
             "#9c179e"
            ],
            [
             0.4444444444444444,
             "#bd3786"
            ],
            [
             0.5555555555555556,
             "#d8576b"
            ],
            [
             0.6666666666666666,
             "#ed7953"
            ],
            [
             0.7777777777777778,
             "#fb9f3a"
            ],
            [
             0.8888888888888888,
             "#fdca26"
            ],
            [
             1,
             "#f0f921"
            ]
           ]
          },
          "colorway": [
           "#636efa",
           "#EF553B",
           "#00cc96",
           "#ab63fa",
           "#FFA15A",
           "#19d3f3",
           "#FF6692",
           "#B6E880",
           "#FF97FF",
           "#FECB52"
          ],
          "font": {
           "color": "#2a3f5f"
          },
          "geo": {
           "bgcolor": "white",
           "lakecolor": "white",
           "landcolor": "#E5ECF6",
           "showlakes": true,
           "showland": true,
           "subunitcolor": "white"
          },
          "hoverlabel": {
           "align": "left"
          },
          "hovermode": "closest",
          "mapbox": {
           "style": "light"
          },
          "paper_bgcolor": "white",
          "plot_bgcolor": "#E5ECF6",
          "polar": {
           "angularaxis": {
            "gridcolor": "white",
            "linecolor": "white",
            "ticks": ""
           },
           "bgcolor": "#E5ECF6",
           "radialaxis": {
            "gridcolor": "white",
            "linecolor": "white",
            "ticks": ""
           }
          },
          "scene": {
           "xaxis": {
            "backgroundcolor": "#E5ECF6",
            "gridcolor": "white",
            "gridwidth": 2,
            "linecolor": "white",
            "showbackground": true,
            "ticks": "",
            "zerolinecolor": "white"
           },
           "yaxis": {
            "backgroundcolor": "#E5ECF6",
            "gridcolor": "white",
            "gridwidth": 2,
            "linecolor": "white",
            "showbackground": true,
            "ticks": "",
            "zerolinecolor": "white"
           },
           "zaxis": {
            "backgroundcolor": "#E5ECF6",
            "gridcolor": "white",
            "gridwidth": 2,
            "linecolor": "white",
            "showbackground": true,
            "ticks": "",
            "zerolinecolor": "white"
           }
          },
          "shapedefaults": {
           "line": {
            "color": "#2a3f5f"
           }
          },
          "ternary": {
           "aaxis": {
            "gridcolor": "white",
            "linecolor": "white",
            "ticks": ""
           },
           "baxis": {
            "gridcolor": "white",
            "linecolor": "white",
            "ticks": ""
           },
           "bgcolor": "#E5ECF6",
           "caxis": {
            "gridcolor": "white",
            "linecolor": "white",
            "ticks": ""
           }
          },
          "title": {
           "x": 0.05
          },
          "xaxis": {
           "automargin": true,
           "gridcolor": "white",
           "linecolor": "white",
           "ticks": "",
           "title": {
            "standoff": 15
           },
           "zerolinecolor": "white",
           "zerolinewidth": 2
          },
          "yaxis": {
           "automargin": true,
           "gridcolor": "white",
           "linecolor": "white",
           "ticks": "",
           "title": {
            "standoff": 15
           },
           "zerolinecolor": "white",
           "zerolinewidth": 2
          }
         }
        },
        "title": {
         "text": "TSNE of Initial Embeddings"
        },
        "xaxis": {
         "anchor": "y",
         "domain": [
          0,
          1
         ],
         "title": {
          "text": "TSNE_1"
         }
        },
        "yaxis": {
         "anchor": "x",
         "domain": [
          0,
          1
         ],
         "title": {
          "text": "TSNE_2"
         }
        }
       }
      }
     },
     "metadata": {},
     "output_type": "display_data"
    },
    {
     "data": {
      "application/vnd.plotly.v1+json": {
       "config": {
        "plotlyServerURL": "https://plot.ly"
       },
       "data": [
        {
         "customdata": [
          [
           "Bound by Love",
           "latest release / / / upcoming games / / about the game yokoshima is an unsuccessful magazine editor ...",
           3
          ],
          [
           "Warstride Challenges",
           "living roadmap about the game race, aim, fire! blast hordes of demons at lightning speed in bloody g...",
           1
          ],
          [
           "The Cubedex of Brass and Wood",
           "the cubedex of brass and wood is a puzzle game concerning mysterious electromechanical devices linke...",
           5
          ],
          [
           "Beyond Sol",
           "beyond sol is a unique blend of action space combat and grand strategy empire building in a procedur...",
           1
          ],
          [
           "Aesthetic Melody",
           "the year is 1999 . it is the future .... ａｅｓｔｈｅｔｉｃ ｍｅｌｏｄｙ invert gravity to avoid traps and dangers....",
           5
          ],
          [
           "Entropy 2120",
           "entropy 2120 is an extremely difficult first person shooter set in a dystopian futuristic world on t...",
           2
          ],
          [
           "Treasure Adventure Game",
           "treasure adventure game casts you in the role of a young boy who lands on an island that is a fragme...",
           3
          ],
          [
           "Elohim Eternal - Prologue",
           "a free prologue to elohim eternal: the babel code, a turn-based jrpg-inspired indie title inspired b...",
           4
          ],
          [
           "湛蓝星球-迷失·赛博之城",
           "due to poor sales of the game, and finally due to financial problems, the studio disbanded, played, ...",
           5
          ],
          [
           "Escape to Moscow",
           "the game takes place in the modern russian setting. freelance it specialist semyon meet a girl from ...",
           2
          ],
          [
           "Track & Burn",
           "track &amp; burn is a stylish free-to-play racing game, combining the best of old school racing with...",
           4
          ],
          [
           "Vaudeville",
           "the answer is hidden in plain sight, you just need to ask the right questions. join the early access...",
           4
          ],
          [
           "Gas Station Simulator: Prologue - Early Days",
           "play the food truck simulator demo: / get the full game now / about the game / / gas station simulat...",
           2
          ],
          [
           "Twin Mind: Power of Love Collector's Edition",
           "when a young woman is kidnapped from a public place, in the middle of the day, with no witnesses, th...",
           3
          ],
          [
           "The Forest of Drizzling Rain",
           "■about this game first released on 'freem!' october 11, 2013, the exploration horror game the forest...",
           3
          ],
          [
           "Seance",
           "run, hide, scream. it is up to you to do whatever it takes to survive. survive what, you might ask? ...",
           2
          ],
          [
           "ToeJam & Earl in Panic on Funkotron",
           "just updated all sega megadrive/genesis titles now launch using the new sega megadrive/genesis inter...",
           1
          ],
          [
           "My Douchey Boss Has a Gentle Twin Brother?! - BL Visual Novel",
           "when kyle gets a new job at a fashion company, he meets vincent zircon, who happens to be his eccent...",
           3
          ],
          [
           "Mega Mall Story",
           "next kairogames coming soon / about the game design a towering mega mall in this mall management sim...",
           2
          ],
          [
           "The Tribe Game",
           "the tribe game is a story-driven roleplaying game where the player creates their own custom characte...",
           3
          ],
          [
           "Hillbomb",
           "hillbomb was born from the love of two things: bombing steep hills on a skateboard and sega's 1986 c...",
           2
          ],
          [
           "了不起的棋盘",
           "through this game, players can design their favorite chess games, or improve the playing methods of ...",
           5
          ],
          [
           "Cream Me 2",
           "cream me 2 is a puzzle and flipping card game, in which all you need is to click by elements like cu...",
           2
          ],
          [
           "B-17 Flying Fortress: The Mighty 8th",
           "the missions undertaken by the crews of b-17 bombers during world war ii are the stuff of legend. wh...",
           1
          ],
          [
           "Z-STOP",
           "you are the last human, abandoned on a zombie infested island. there’s only one thing you must do, e...",
           1
          ],
          [
           "Snow Moto Racing Freedom",
           "snow moto racing freedom let's you take your rightful place on a high-speed snowmobile on snocross t...",
           4
          ],
          [
           "The Teleport",
           "developer's description: 1 - sit on camera system. 2 - transfer energy with the robot(wasd) (to fini...",
           5
          ],
          [
           "Disturbed: Beyond Aramor",
           "taunted by the anxiety and horrors beneath the shadows of his mind, fate finds gabriel, exiled away ...",
           3
          ],
          [
           "KURT - DER FUSSBALLMANAGER",
           "fußballmanager fun / about the game last generation management! kurt ´99 - the football manager [/] ...",
           5
          ],
          [
           "Air Attack",
           "take a 5 minute break to de-stress with this high-intensity, ultra simple, retro arcade shooter! tak...",
           7
          ],
          [
           "Daardoa",
           "bring the ancients to the church. bring the ancients to their homes. you can't fight, but you can ru...",
           3
          ],
          [
           "Draft Day Sports: College Football 2021",
           "prepare to lead your favorite school to championship glory as you experience the most realistic coll...",
           5
          ],
          [
           "TrES-2b",
           "you fell on the unexplored planet tres-2b, the ship is broken, and around the army of insects. you n...",
           2
          ],
          [
           "Medieval II: Total War™ Kingdoms",
           "medieval ii: total war kingdoms is the official expansion to last year's award-winning medieval ii: ...",
           1
          ],
          [
           "I See You",
           "i see you is a multiplayer online vr game, in which you can experience a hide&amp;seek game with you...",
           2
          ],
          [
           "Crafting Town",
           "wishlist&amp;follow crafting town! in this adventure that you started as a craftsman, you will gradu...",
           2
          ],
          [
           "Bomb Bowling",
           "bomb bowling is an indie puzzle game with physics. the goal of the game is to knock all the pins out...",
           5
          ],
          [
           "VEREDA - Mystery Escape Room Adventure",
           "vereda - mystery escape room adventure as a secret undercover agent used to adventure and mystery yo...",
           2
          ],
          [
           "Cult达人极限攀岩",
           "use your skill to climb to the top! you will control a cut climber with your own limbs, explore the ...",
           2
          ],
          [
           "Rescue Elves",
           "you can also like this about the game young hiki-mori guy in his school years, he was apathetic to e...",
           3
          ],
          [
           "Chroma Blast",
           "chroma blast is a fast paced twin stick shooter with many different styles of play where you fight t...",
           7
          ],
          [
           "Plasticalypse - Submarine Adventures",
           "story experience a journey through a sunken world, as the last surviving cleaner of the seas sets ou...",
           1
          ],
          [
           "Ascending Madness",
           "ascending madness is a hardcore, psychedelic, twinstick shooter with a dark trippy vibe and fast flu...",
           4
          ],
          [
           "Go Over The Edge",
           "'go over the edge' is a simple 3d platformer simulation game. the game is made with very simple mani...",
           5
          ],
          [
           "Precision Sniping: Competitive",
           "become a true sniper. precision sniper is an arcade simulation in which each level gets harder and h...",
           5
          ],
          [
           "Super Blasting Boy",
           "super blasting boy is a logical platform platformer made in the best traditions of retro games of th...",
           5
          ],
          [
           "Othello 2018",
           "othello (reversi) is a strategy board game for two players, played on an 8x8 uncheckered board. ther...",
           5
          ],
          [
           "Cupcake Remember",
           "cupcake remember is a fun, challenging and cute game. where you need to help a baker deliver your cu...",
           2
          ],
          [
           "Echo of the Last Light",
           "student collaboration with the university of utah: the fat bear society, a studio consisting of 2 pr...",
           3
          ],
          [
           "Groove Runner",
           "groove runner is a rhythm running game where the character takes action based on the timing of the n...",
           4
          ],
          [
           "Milo",
           "milo is a horror game where the player will find himself trapped in dungeons from which he will have...",
           3
          ],
          [
           "Procemon: You Must Catch Them",
           "proćemon is a retro-style procedurally generated monster collecting game. everything is a glitch, al...",
           4
          ],
          [
           "Splinter Zone",
           "check out my next game! / check out gb rober! / about the game splinter zone is a fast paced, run &a...",
           2
          ],
          [
           "Ambre - a heartbreaking kinetic novel",
           "a classic story available for free now with new enhanced graphics! as he is passing by a park, a dep...",
           2
          ],
          [
           "Bash Sports Online Bowling",
           "bash game studio presents bash sports online bowling. bso bowling is the first of arcade style sport...",
           2
          ],
          [
           "Escape First 2",
           "more escape rooms want more? challenge your friends or escape together on escape first 3! / take the...",
           2
          ],
          [
           "Total 15",
           "check out our other games about the game challenge your problem-solving skills in this game. each ro...",
           5
          ],
          [
           "Cruel Arena",
           "cruel arena is a classic arena survival zombie game. face endless hordes and survive as much as you ...",
           2
          ],
          [
           "Red Faction Guerrilla Re-Mars-tered",
           "set 50 years after the climactic events of the original red faction, red faction: guerrilla allows p...",
           1
          ],
          [
           "Let's make... sports",
           "dasha is a 1st-course student, and the increased scholarship is almost in her pocket ... but her spo...",
           3
          ],
          [
           "Recovery Search & Rescue Simulation",
           "“rescue team one to base. missing person found safe and well. mission accomplished. returning to bas...",
           1
          ],
          [
           "Turba",
           "turba provides a gameplay experience unlike any you have encountered before. load in music from your...",
           7
          ],
          [
           "Criminal Archives: City on Fire Collector's Edition",
           "in this hidden-object puzzle adventure: a string of mysterious murders has left san francisco police...",
           3
          ],
          [
           "DIM-EGION",
           "dim-egion is a single player shooting game with 2d collision detection and 3d rendering. story: in a...",
           1
          ],
          [
           "Pixel Game Maker Series OMA2RI ADVENTURE",
           "■game features a combination of a simple yet satisfying platformer &amp; speedrun! can you beat the ...",
           4
          ],
          [
           "VVVVVV",
           "help! everyone has been teleported away randomly! as the heroic captain viridian, it's up to you to ...",
           7
          ],
          [
           "Kingdom Two Crowns",
           "buzz / featured dlc / about the game kingdom two crowns is a side-scrolling micro strategy game with...",
           1
          ],
          [
           "FORSISTED : The Sacred Souls",
           "forsisted is a psychological horror game that tells the story of a criminal from the past who has to...",
           4
          ],
          [
           "Among the Skies",
           "among the skies is an indie naval-style game based around medieval airships built like castles. the ...",
           7
          ],
          [
           "Tides of Despair",
           "after a shipwreck, you are one of the survivors. you make it to land, but soon discover that you are...",
           2
          ],
          [
           "Book of Shadows",
           "the game takes place 1,000 years after the battle of the holy devil, the book of shadows suddenly ap...",
           3
          ],
          [
           "Deus Lo Veult",
           "play as one of the three great leader in the year 1135 in the middle east. become sultan of egypt, k...",
           2
          ],
          [
           "Would you like to run an idol café?",
           "in this visual novel yokoyama naoya is a decidedly ordinary guy, but that wasn't always the case. ba...",
           3
          ],
          [
           "Zeal",
           "zeal is a 3rd person action rpg focusing on customizable character builds and competitive pvp/pve wi...",
           7
          ],
          [
           "Coronavirus - Nano Force",
           "train to become a pilot in the newly formed nano force. the nano force is being formed to aid in the...",
           5
          ],
          [
           "LX Patterns",
           "also recommended for you: / / about the game lx patterns is a puzzle game based on iq tests, where t...",
           5
          ],
          [
           "Infinite Turtles",
           "you are but a cog in infinite machine. yet you are all the cogs. there is no end and no beginning. o...",
           7
          ],
          [
           "Danger Cliff",
           "danger cliff is a 2d collectathon platformer that harkens back to the golden age of internet browser...",
           5
          ],
          [
           "Unbalance",
           "unbalance is a minimalist physics puzzle about minimal geometry and balance. unbalance the shape by ...",
           4
          ],
          [
           "Battlegun",
           "battlegun is a fun and online cartoon fps game. create a room and kill the rival team. see more fun ...",
           7
          ],
          [
           "HexDefense",
           "hexdefense is a roguelike tower defense with an emphasis on constant action with little to no downti...",
           2
          ],
          [
           "1941 - Operation Barbarossa",
           "this game is a pc conversion of the board war game 1941, which is a hex-strategy turn-based game for...",
           5
          ],
          [
           "FORM",
           "coming soon / about the game charm games brings you form, a surreal adventure that unfolds within th...",
           3
          ],
          [
           "Seven Days",
           "seven days is a single-player first-person exploration game. play as a camper who comes to camp summ...",
           2
          ],
          [
           "Misplaced",
           "when humanity is at stake its up to each and every remaining person alive to do their part in saving...",
           2
          ],
          [
           "Heaven Dust",
           "add wishlist to heaven dust 2! / about the game when you awake, you find yourself in a mansion, wher...",
           3
          ],
          [
           "Captain Lycop : Invasion of the Heters",
           "mankind has received a transmission from space. an alien ship is coming. a hardened officer has been...",
           1
          ],
          [
           "24 Hours 'til Rescue",
           "the game 24 hours ‘til rescue plunges you into dynamic, hand-crafted, city overrun by the undead wit...",
           2
          ],
          [
           "The Skeleton",
           "the skeleton is a survival horror game in which you must survive for as long as you can until the ti...",
           2
          ],
          [
           "Aviation Manager",
           "choose your origin, create a route to nearby airports, choose the right plane, set a schedule for yo...",
           1
          ],
          [
           "再苟一步 One More Step",
           "words from the developer hello everyone, i am the developer of the game 'one more step'. though ther...",
           5
          ],
          [
           "Magirune 2",
           "magirune 2 - is the sequel to the beloved 2d dungeon crawler in the spirit of old school classics. d...",
           1
          ],
          [
           "The Inner Darkness",
           "the inner darkness: a lone man's journey through a strange world. unique dimension switching mechani...",
           3
          ],
          [
           "Mahokenshi",
           "join our discord about the game wielding both blade and magic, it is your duty to protect the floati...",
           7
          ],
          [
           "Collect Objects",
           "you need to collect objects as much as you can. solve puzzles, explore new puzzles, can you solve al...",
           7
          ],
          [
           "Sigma Draconis",
           "a group of colonists from a distant world have arrived at their new home. equipped with advanced tec...",
           1
          ],
          [
           "Navyblue and the Spectrum Killers",
           "challenge your skills in this new action-platformer adventure. jump, shoot and dash throughout the c...",
           3
          ],
          [
           "Lord Mayor",
           "lord mayor is a real-time strategy game with a vintage aesthetic that plays like a cross between a p...",
           1
          ],
          [
           "Lost Nova",
           "lost during a vacation gone wrong, help mia gather what she needs to fix her ship and get home. use ...",
           2
          ],
          [
           "XF5700 Mantis Experimental Fighter",
           "earth had no warning. out of nowhere, an army of insect-like creatures from a distant world, using t...",
           1
          ],
          [
           "Ultra Boat Game!!!",
           "a reflex game you try to get the highest score by avoid the obstacles in the river with your small b...",
           5
          ],
          [
           "The Bounty Huntress",
           "in this metroidvania style game , join rhea , a bounty huntress with a task to save some people kidn...",
           1
          ],
          [
           "Capsular",
           "now with 4 player coop! fast, frantic and simple to pickup. capsular is a unique arena shooter featu...",
           7
          ],
          [
           "Keep Trying! Zombie Apocalypse",
           "get ready for an ego-shooter of a very different kind. keep trying – zombie apocalypse is a single p...",
           3
          ],
          [
           "Global City",
           "build your city: global city's graphics stand out - be amazed by the amazing appearance of your resi...",
           2
          ],
          [
           "Dark Mechanism - Virtual reality",
           "in this vr exclusive game, travel through clockwork and use your gaze to dodge obstacles, collect pe...",
           5
          ],
          [
           "Double Play: 2-Player VR Baseball",
           "double play is a local two-player vr baseball game. one player pitches, one player hits, and ai fiel...",
           5
          ],
          [
           "Brinefall",
           "join us on discord! experience the ultimate adventure in brinefall, where you'll gather resources, b...",
           2
          ],
          [
           "VRAstroSmash",
           "vrastrosmash was originally designed for the vive cosmos, but it is compatible with the oculus quest...",
           5
          ],
          [
           "Duo Defenders - Tower Defense",
           "tower defense from a place down under. play as sally the platypus and koko the koala in this cute, l...",
           7
          ],
          [
           "Rift Wizard",
           "community join us on discord for development discussions, contests, and more: about the game rift wi...",
           4
          ],
          [
           "Legendary Mahjong 2",
           "in this anticipated sequel to legendary mahjong, peaceful life in shambhala has come to an end when ...",
           4
          ],
          [
           "Sign of Silence",
           "join our official discord community get the latest news and chat directly with us: about the game yo...",
           2
          ],
          [
           "Bots Rush",
           "no one asks where the towers take the shells, but here you have to answer this question. build quarr...",
           1
          ],
          [
           "Doorways: Old Prototype",
           "doorways: old prototype is a short game created before the development of doorways: prelude, the fir...",
           4
          ],
          [
           "Burgers",
           "💘check this out!💘 about the game experience the story of a small group of german soldiers sent to a ...",
           2
          ],
          [
           "Hotel Renovator",
           "unleash your inner designer and renovate the hotel of your dreams! embark on a makeover journey to t...",
           2
          ],
          [
           "Sparky's Hunt",
           "you return home late from work only to hear that something has been causing chaos and panic in small...",
           2
          ],
          [
           "FIREWORK",
           "follow yan the defective one through his fight against the fire troops and let him unveil the facili...",
           7
          ],
          [
           "Delicious - Emily's Road Trip",
           "climb aboard for a nostalgic road trip with emily and her family in the latest delicious time manage...",
           2
          ],
          [
           "Finding Fifi",
           "'finding fifi' is a point&amp;click puzzle game with just a touch of christmas. in a house full of c...",
           7
          ],
          [
           "Skedaddle",
           "in skedaddle your ultimate goal is to run through 10 levels having only 1 life. it may sound simple,...",
           2
          ],
          [
           "Shadow Watcher",
           "game background the continent of yatdis has remained calm. humans, orcs and elves live in peace on t...",
           1
          ],
          [
           "Material Girl",
           "sakura parents used to give her only a little money for her living costs. now they donât give her ...",
           3
          ],
          [
           "Memetric: Classic",
           "it's a 'side-scrolling' real-time strategy game, pixelart style, with a few small 'rouge-lite' eleme...",
           5
          ],
          [
           "Hyperborean Charter",
           "hyperborean charter frost and snow envelop the klondike region as the days grow shorter. a remote re...",
           2
          ],
          [
           "GasCraft",
           "this is a casual mini game where players need to use directional keys to control a car and collect g...",
           5
          ],
          [
           "Clash: Robot Detective - Complete Edition",
           "a relaxing time on a high-tech cruise ship turns into a mystery for the ages! the robot staff onboar...",
           3
          ],
          [
           "Juice FX",
           "easily create juicy animations add any animation to your sprite to make them juicy! what is juice fx...",
           7
          ],
          [
           "Content Creator Simulator",
           "step into the life of a true content creator! it's your job to make the best content possible for yo...",
           2
          ],
          [
           "Fortix",
           "can you reclaim your ancestors’ land? evil forces have taken over the once fertile land of fortiana....",
           1
          ],
          [
           "Little Dog Bob",
           "welcome to little dog bob's world! make bob happy by collecting stars and crossing obstacles. run th...",
           7
          ],
          [
           "The King's Cards",
           "the king's cards is a deckbuilding roguelike where you travel through several areas, defeat monsters...",
           1
          ],
          [
           "Il Sole e la Luna 2",
           "plot il sole e la luna 2 the end of 'il sole e la luna' sees our two protagonists sunny and moony ta...",
           1
          ],
          [
           "THE KING OF FIGHTERS XIII STEAM EDITION",
           "[[i]i]“the king of fighters xiii”[/i], snk playmore’s flagship 2d versus fighting title returns in a...",
           5
          ],
          [
           "Space Grunts",
           "the year 2476, earth's space-federation has been building moon-bases across the galaxy. one of those...",
           1
          ],
          [
           "怀旧版三国志Idle RPG",
           "qq福利群：917098493 加入qq群917098493，找礼包专员可领取入群礼包，参与社区活动还有更多礼包等你拿！ 礼包码兑换方式：点右下角“主城”—点上方“福利”—点“激活码” 关于网络问题 ...",
           5
          ],
          [
           "Towers Deck",
           "towers deck is a roguelike tower defense deck building game. buying cards, using them to destroy ene...",
           2
          ],
          [
           "Dragon Forge",
           "dragon forge is an incremental base-building adventure game about managing massive amounts of resour...",
           7
          ],
          [
           "Redemption Reapers",
           "the story descending suddenly on the world, the macabre mort armies destroy nation after nation, lea...",
           1
          ],
          [
           "The Warrior War",
           "about the game the warrior war is a shooting game that contains lots of action! with various gamepla...",
           1
          ],
          [
           "Locked Up",
           "you can get acquainted with my projects / / / you can get acquainted with my projects / update notes...",
           5
          ],
          [
           "Planetbase",
           "planetbase is a strategy game where you guide a group of space settlers trying to establish an outpo...",
           1
          ],
          [
           "Oscillatron: Alien Frequency",
           "oscillatron: alien frequency - music arcade in space! fight against the alien invaders. you are to c...",
           5
          ],
          [
           "Taras Bulba and platforms of Hoolion",
           "old-school bloody 2d-shooter! features a lot of monsters, thousands of monsters! big auto-generated ...",
           7
          ],
          [
           "Annual",
           "this is a classic fps with all the 90's feel. you are a survivor of a space expedition trying to sur...",
           7
          ],
          [
           "Astrodition",
           "in astrodition, all gamemodes can be played online with up to 8 players! invite your friends or hop ...",
           2
          ],
          [
           "Echoes of the Fey: The Fox's Trail",
           "echoes of the fey: the fox's trail is an english-language visual novel that mixes a high fantasy set...",
           3
          ],
          [
           "Ultimate Front",
           "in 'ultimate front,' step into the role of an archer and defend or conquer a mighty castle in a team...",
           4
          ],
          [
           "Palladium",
           "palladium is a one-man team videogame designed to mix classical fps and metroidvania elements. the g...",
           1
          ],
          [
           "Bunny Mahjo",
           "more from dillyframe / about the game bunny mahjo is the classic tile-matching game but in new look ...",
           7
          ],
          [
           "Nostradamus - The Four Horsemen of the Apocalypse",
           "france, 15th century... michel de nostradamus, europe's most famous prophet, receives a strange lett...",
           3
          ],
          [
           "PACTUM + EPISODE 1",
           "welcome back. are you bored ? enter this game to follow three friends exploring an a bandoned house....",
           2
          ],
          [
           "Woodland Empire",
           "woodland empire is a an anti-citybuilder ; a natural take on the typical city building game instead ...",
           1
          ],
          [
           "Outcasts of Dungeon:Epic Magic World Fight Rogue Game Simulator",
           "outcasts of dungeon is a third person fantasy action. being in the role of a powerful war mage with ...",
           1
          ],
          [
           "Grid Miner",
           "grid miner is a real-time strategy puzzle game where you mine asteroids to gather resources and expa...",
           7
          ],
          [
           "Furry Milfs",
           "furry milfs - is the simplest 2d puzzle the final goal of which to give you pleasure! the plot of it...",
           2
          ],
          [
           "My Bunny Girl",
           "this is a story about how a lonely guy finds his girlfriend where he did not expect to see her. one ...",
           3
          ],
          [
           "Coffee Crawl",
           "a strange phenomenon has swept across the globe. people began to fall asleep no matter where they ar...",
           2
          ],
          [
           "Elmarion: Dragon time",
           "'elmarion: dragon time' is an rpg where the main character is a big mighty dragon. the main idea of ...",
           1
          ],
          [
           "恐龙大冒险",
           "fifteen minutes to experience the prehistoric dinosaur world, live voice interpretation of the dinos...",
           4
          ],
          [
           "Capsule Hotel Simulator",
           "atmospheric experience for those wishing to get in a capsule hotel to catch the vibes of cyberpunky ...",
           7
          ],
          [
           "TINY ISLANDS",
           "tiny islands is a low poly point&amp;click game where you have to find all the ancient artifacts in ...",
           2
          ],
          [
           "Furious Goal",
           "【game introduction】 welcome to the soccer game 'furious goal'. you can start up your dream team in t...",
           5
          ],
          [
           "Nakawak: Expanded Color Edition",
           "mindless monsters roam the depths of the undercity - a hostile, sprawling, interconnected, semi-open...",
           4
          ],
          [
           "Recreational Dreaming",
           "recreational dreaming 'a sleepwalking simulator' recreational dreaming is a chill, casual game in wh...",
           4
          ],
          [
           "星尘战区 Stardust Theater",
           "☆ introduction the protagonist encounters a mysterious spaceship during a reconnaissance mission, an...",
           1
          ],
          [
           "Furry house",
           "the protagonist of a furry house is a boy forced by some events to move in with his mother. making t...",
           3
          ],
          [
           "Lost Borderline",
           "there have been rumors of strange creatures lurking in the woods. creatures no one has seen, only he...",
           4
          ],
          [
           "Blanket Heavy With Nightmares",
           "blanket heavy with nightmares is an art installation created by finnish artist suvi solkio in cooper...",
           1
          ],
          [
           "Pro Gamer Tycoon",
           "it’s not as easy to be a real gamer as you might think before: all those endless key combinations, d...",
           7
          ],
          [
           "Blue Fire: Void Maker",
           "create, play and share the voids of your wildest dreams blue fire's 3d action-adventure platforming ...",
           7
          ],
          [
           "Prismatica",
           "update notes after some really good feedback for version 1.1, update 1.2 is now live including the f...",
           4
          ],
          [
           "Soul Saga",
           "about soul saga is a uniquely challenging jrpg-rogue-lite hybrid with a strong focus on challenging ...",
           7
          ],
          [
           "The Train: Escape to Normandy",
           "the train : a daring and deadly escape behind enemy lines! august, 1944. the german stranglehold on ...",
           1
          ],
          [
           "Kohate",
           "in a time where commercial police forces monitor the galaxy, money is the driving force behind arres...",
           2
          ],
          [
           "Stash",
           "stash is bringing the magic back to mmos. with turn based combat, customizable housing as a core fea...",
           7
          ],
          [
           "Good Girls",
           "relaxing puzzle game. just relax and play. or play for speed. or look... :d if it's too hard you can...",
           5
          ],
          [
           "Brain Marmelade",
           "overview : brain marmelade is a 2d platformer/ adventure game with an hand-draw creepy art style and...",
           4
          ],
          [
           "Chesnakisnak",
           "what if we saw a glimpse of a world alien to us, a dimension where we had conquered space yet never ...",
           3
          ],
          [
           "DEXED",
           "from ninja theory, creators of heavenly sword and dmc: devil may cry comes dexed, an endless on-rail...",
           1
          ],
          [
           "Viking Brothers 2",
           "history says there was a time when the vikings ruled the world. but legend says it once took only tw...",
           3
          ],
          [
           "Lofi Checkers",
           "lofi checkers is a cozy version of a classic game when you have a moment to spare. relax, chill, and...",
           5
          ],
          [
           "Food Bomber",
           "nightmare takes control of the old villa because some unexpected guests are coming into the kitchen ...",
           2
          ],
          [
           "Terminal Conflict",
           "command history in this most definitive cold war strategy game . gain access to your retro terminal ...",
           1
          ],
          [
           "Roze Blud",
           "warning: for those with photosensitive epilepsy, this game features some flashing lights. take no pr...",
           4
          ],
          [
           "ABD: A Beautiful Day",
           "to view our f2p military veteran program, please visit our website (www.gagamaggotent.com) for detai...",
           1
          ],
          [
           "Ancient Tower",
           "watch out: they’re coming! can you stop them before they reach turrick? enjoy the cartoon graphics: ...",
           7
          ],
          [
           "MotorSport Revolution",
           "the game motorsport revolution is a single-player, physics-based racing game inspired by classic con...",
           4
          ],
          [
           "Malavision: The Beginning",
           "malavisión is a guarani legend spread throughout south america. according to the native, witnesses a...",
           3
          ],
          [
           "Fishman's Last Stand",
           "prepare yourself for a fight. the humans want your land, and they will do whatever they can to get i...",
           2
          ],
          [
           "Demolition Inc.",
           "full controller support free update with new features: gamepad support (windows only) : play the gam...",
           7
          ],
          [
           "Gael's Quest",
           "description gael's quest is a retro jrpg, that is, a turn-based rpg with pixel graphics. story incar...",
           7
          ],
          [
           "Metal Mind",
           "game tip！ hello gamers, i am sorry that the game controller experience is not satisfying at present....",
           1
          ],
          [
           "You Are Weak",
           "a ritual for the darkest of times. a game about community and change in a fractured world. -------- ...",
           5
          ],
          [
           "Fast Cubes",
           "fast cubes is a puzzle game with time limits. at each level, the player must place the cubes in thei...",
           5
          ],
          [
           "Way of the Samurai 3",
           "as a major release from the million+ selling way of the samurai series, way of the samurai 3 is the ...",
           7
          ],
          [
           "LABYRINTH OF TOUHOU - GENSOKYO AND THE HEAVEN-PIERCING TREE",
           "'there's no way we can leave something as ridiculous as the ame-no-murakumo being stolen alone.' cha...",
           7
          ],
          [
           "Soulker Defense",
           "soulker defense is a tactic defense game with a gameplay progressing to a hyperscaled insanity. gath...",
           7
          ],
          [
           "Easy Game",
           "easy game is a platformer game that breaks through the stage to avoid obstacles by stepping on the t...",
           5
          ],
          [
           "Grand Theft Auto IV: The Complete Edition",
           "important updates to grand theft auto iv and episodes from liberty city we are making a number of ch...",
           5
          ],
          [
           "DS Epoch",
           "in 2048 ad, an ai calling itself ds issued a notice to all mankind: that human society is temporaril...",
           1
          ],
          [
           "The Mimic",
           "mankind has colonized proxima centauri b, a tiny desolate world around a dim star, just 4 light year...",
           2
          ],
          [
           "Dungeons of Betrayal",
           "in this thrilling dungeon crawler rpg, regain your lost memories by navigating your way through vari...",
           2
          ],
          [
           "ELDEN RING",
           "elden ring deluxe edition the deluxe edition includes: • elden ring (full game) • digital artbook &a...",
           4
          ],
          [
           "Decoherence",
           "build robots from a wide variety of components. plan a strategy to carry you to victory. fight as a ...",
           7
          ],
          [
           "Dawn of the Monsters",
           "the cataclysmic battle between giant monsters has begun in this manga-inspired, side-scrolling, kaij...",
           1
          ],
          [
           "Destructamundo",
           "you want to hear a joke? universal peace. i mean, why settle for serenity when you can unleash an ar...",
           7
          ],
          [
           "Dark Traveller",
           "countless travels countless rebirths through the days and desperate times to rescue the family and t...",
           7
          ],
          [
           "RifleRange",
           "this game is a game that can only shoot rifle range targets. no enemy, no skill tree, no level. may ...",
           5
          ],
          [
           "Banished Monsters",
           "'banished monsters' is a visual novel put together by some random dude. follow the story of a fomori...",
           3
          ],
          [
           "Bunch of Games",
           "bunch of games is what name says it is - it's a bunch of games . take part in fast paced vehicle com...",
           2
          ],
          [
           "Stream Buddy",
           "stream buddy is a tool for twitch streamers to help you provide more entertainment for your viewers....",
           7
          ],
          [
           "Marmoset Hexels 3",
           "marmoset hexels™ is a unique, grid-based painting tool for vector art, pixel art, design, and animat...",
           4
          ],
          [
           "Wallpaper Builder",
           "wallpaper builder is not only a software for generating desktop wallpapers from files, web page url ...",
           4
          ],
          [
           "Who Is Mike - A Visual Novel",
           "you wake up with an aching head and the world out of focus. in front of you is a man accusing you of...",
           3
          ],
          [
           "Escape Dinosaur Island",
           "in the future world, a super boy accidentally crossed an island in the age of dinosaurs while drivin...",
           3
          ],
          [
           "Time Clickers",
           "time warpers - the evolution of time clickers check out the sequel to time clickers / about the game...",
           4
          ],
          [
           "Samira: Taken From Time",
           "as the world is ending around her, samira must find a way to flee planet earth and reunite with her ...",
           3
          ],
          [
           "drowning",
           "experience breath-taking gameplay, an open world, and death .... in this first-person drowning simul...",
           7
          ],
          [
           "True or False 2",
           "full-fledged sequel to the popular quiz game true or false! take a new quiz to test your knowledge a...",
           2
          ],
          [
           "Spooky Shelter",
           "a girl named sarah stood in front of the old abandoned orphanage where she had spent her childhood. ...",
           3
          ],
          [
           "Sam & Max: This Time It's Virtual!",
           "sam is a dog with a hat. max is a hyperkinetic naked rabbity thing. together, they’re the freelance ...",
           4
          ],
          [
           "IMMURE",
           "inescapable horror immure is a story driven, psychological horror game. will, the protagonist, has f...",
           3
          ],
          [
           "Saints Row IV - Reverse Cosplay Pack",
           "become the avatar of the saints row community with the reverse cosplay pack. chosen from the best of...",
           4
          ],
          [
           "Helicopter Simulator 2014: Search and Rescue",
           "upcoming release / about the game become an emergency pilot and test your skills to their limits, as...",
           1
          ],
          [
           "Kartong - Death by Cardboard!",
           "in a twisted world best described as ”a miniature cardboard city turned into a malicious science exp...",
           7
          ],
          [
           "Qbeh-1: The Atlas Cube",
           "level editor &amp; steam workshop get virtual! oculus rift dk1 &amp; dk2 support now included try be...",
           4
          ],
          [
           "Lab Inspect",
           "you play as an inspector assigned to check one of the tepas laboratories. it has been doing strange ...",
           5
          ],
          [
           "Celestial Command",
           "steam greenlight thanks for everyone who voted for us on steam greenlight! we are proud that communi...",
           1
          ],
          [
           "Invasive",
           "farming is tough. it's more difficult when nature is working against you. when insect sprays don't r...",
           2
          ],
          [
           "Raid of Battlefield",
           "many years later, the world was polluted by viruses, and human beings suffered from genetic mutation...",
           1
          ],
          [
           "CYBLOC",
           "you find yourself having remote control of the highly charged cybloc in a strange electrical realm. ...",
           5
          ],
          [
           "Niko: Through The Dream",
           "'niko: through the dream®' is a minimalist adventure accompanying niko in her return to her world. w...",
           7
          ],
          [
           "Solenars Edge Heroes",
           "an epic series of battles await you in the arena. are you strong enough to take them on? choose your...",
           1
          ],
          [
           "Time Tenshi (2015)",
           "the time window... an incredible invention, developed over decades in secret, empowers humans to mak...",
           3
          ],
          [
           "The Valiant",
           "we are the brave, the valiant, and the strength of our brotherhood will see us to victory in our que...",
           1
          ],
          [
           "Tile Battle",
           "tile battle focuses on a unique unit control system that allows players to control the flow of their...",
           5
          ],
          [
           "Empty Soul - S&S Edition",
           "special edition the game includes the soundtrack, the art book, and the fan book. everything can be ...",
           3
          ],
          [
           "Pinball Girlfriend",
           "this is a pinball game that shoots and scores from an overhead angle. players can move the shooting ...",
           5
          ],
          [
           "The Shapeshifting Detective",
           "the shapeshifting detective is a supernatural-noir murder mystery fmv game where you play as a detec...",
           3
          ],
          [
           "Walkerman",
           "setting: walkerman is a visual novel about a boy who embarks upon a career in monster hunting. as a ...",
           3
          ],
          [
           "Girls Tennis League",
           "'girls tennis league' is a tennis game that restores the movements of professional athletes and adds...",
           5
          ],
          [
           "Biosys Inc",
           "biosys inc. is a biology aquarium where you can observe and assist your cells and bacteria to become...",
           7
          ],
          [
           "Cosmophony",
           "cosmophony is a musical shooter designed for demanding gamers seeking an original and intense experi...",
           4
          ],
          [
           "Dash Realm",
           "using everything you can find, your goal is to push your opponents off the map. guns? potatos? (guys...",
           2
          ],
          [
           "Abandoned drive-in | 廃ドライブイン",
           "the main character, kaori, is on a date with her first boyfriend, who suggests that she go to a haun...",
           3
          ],
          [
           "Five dreams",
           "the five dream games are an immersive vr game (of course, you can also use the mouse to operate). th...",
           5
          ],
          [
           "Jewel Match Winter Wonderland 2 Collector's Edition",
           "’tis the season for chestnuts, mistletoe, and match-3. travel snow-clad lands across more than 200 h...",
           4
          ],
          [
           "Mostly Scared of Spiders",
           "mostly scared of spiders is an indie survival/adventure game with multiple endings depending on the ...",
           5
          ],
          [
           "Frigus İnferos",
           "'something that shouldn't be happened, the person who shouldn't die died' hell has been calm for tho...",
           2
          ],
          [
           "Luciform",
           "what is luciform? luciform is a 2d color-based precision platformer. this basically means that in th...",
           7
          ],
          [
           "TV Head: Eight Pages",
           "tv head eight pages is a classic first-person indie horror. you find yourself all alone, in the midd...",
           2
          ],
          [
           "ELF",
           "a rescue mission across enchanted and dangerous lands! necrilous the not very nice has kidnapped eli...",
           7
          ],
          [
           "Fallback",
           "just updated current game status: - the '2.0' uprising update is live! check it out! - make sure to ...",
           2
          ],
          [
           "UMA-War VR",
           "listen, fighter! an ufo crashed down a few days before and the world is suffering the attack by a hu...",
           5
          ],
          [
           "Life of a Mercenary",
           "lead a mercenary company seeking fame and fortune. be honorable and help defend the kingdom or take ...",
           3
          ],
          [
           "Space Merchants: Arena",
           "2021 update *** we are currently working on a new update for the vr and ar versions of the game. :) ...",
           1
          ],
          [
           "Apotheon",
           "the gods of olympus have abandoned humanity, leaving you to perish without their benevolence. take u...",
           1
          ],
          [
           "HEAVEN ATTACK!",
           "a turn-based command battle rpg created with 'rpg maker vx ace'. up to episode 1 is currently availa...",
           4
          ],
          [
           "The Land of Dasthir",
           "one day while staying at the distant city gailville, terret receives a letter asking for help in his...",
           3
          ],
          [
           "Stack Defense",
           "n stack defense, players stack 3d shapes on a table and try to get the biggest stack possible before...",
           7
          ],
          [
           "Hardland",
           "warnings this game contains mild swearing, suggestive themes, acts of violence, alcohol use, and sur...",
           3
          ],
          [
           "Boobs VR",
           "you can touch the breasts of beautiful ladies with huge breasts in the vr space. you can fondle and ...",
           2
          ],
          [
           "MarionetteAI",
           "marionetteai is a tactical battle game where you build an ai for your characters. the ai you make wi...",
           5
          ],
          [
           "AvoCuddle",
           "welcome to avocuddle world: avora and avoln live on avoplanet, a peaceful garden planet. they love e...",
           7
          ],
          [
           "Wizard Warfare",
           "wizard warfare is a fantasy-themed, 4x-style, turn-based strategy game with a strategic empire manag...",
           1
          ],
          [
           "The Culling",
           "battle royale is back! the game that took the world by storm in 2016 has returned to its roots and i...",
           2
          ],
          [
           "Warawara Invaders",
           "warawara invaders is a 2d casual rolling shooter. features 30 stages per round. the playing time unt...",
           5
          ],
          [
           "Empire Live",
           "what is empire live? empire live is a real-time strategy game focused on online matches where you wi...",
           2
          ],
          [
           "Ghoulboy - Dark Sword of Goblin",
           "beholgar is coming 'add whislist' / about the game ghoulboy is a retro-inspired style action platfor...",
           7
          ],
          [
           "Fire Protection Training Simulator",
           "just updated new updates for fire protection training simulator included: • grabbable on extinguishe...",
           1
          ],
          [
           "Secret Of Magia",
           "secret of magia is an action rpg. a ruthless tyrant is seizing control of village after village. rat...",
           3
          ],
          [
           "Talesworth Adventure: The Lost Artifacts",
           "talesworth adventure is a challenging, logic-based puzzle game that was originally launched on kongr...",
           7
          ],
          [
           "Dodge The Missionaries",
           "nothing gets the energy pumping like some banging music in a sweet ass venue, but what happens when ...",
           7
          ],
          [
           "Alan Wake",
           "when the wife of the best-selling writer alan wake disappears on their vacation, his search turns up...",
           4
          ],
          [
           "Forest Below",
           "forest below is a turn based token puzzler with intense tree growing action. teach the roots of the ...",
           2
          ],
          [
           "Just Another Memory",
           "you find yourself floating in an empty void. you can’t remember much except for your name: seth dunw...",
           3
          ],
          [
           "The Rhys510 Flash Back",
           "8 classic games in 1 place from rhys510. games single player gardini go farm iv pooper vermillion da...",
           7
          ],
          [
           "SEEP Universe",
           "seep universe allows the exploration of four bizzarre planets, inspired by retro games. run, jump an...",
           4
          ],
          [
           "Walstikski",
           "walstiki the best stupid game of the century walstiksi is a new game where you go through multiple v...",
           2
          ],
          [
           "Outer Darkness",
           "harness the power of eight different elements to cast spells and destroy the legion of darkness! you...",
           1
          ],
          [
           "Dark Days",
           "you are carter. a lone hunter stationed on the isolated island of colbrook. everyone on the island h...",
           2
          ],
          [
           "Cashtronauts",
           "cashtronauts is an arcade space combat &amp; trading game that takes place in an alternate universe ...",
           7
          ],
          [
           "廃病院探索",
           "exploring abandoned hospitals this is a free game. it's my first work, but i hope you enjoy it even ...",
           2
          ],
          [
           "MageWorks",
           "mageworks is a mage simulation combat and crafting game. players flip through their spellbooks and u...",
           7
          ],
          [
           "Dynasty Feud",
           "dynasty feud is a competitive, team-based, fast-paced platform brawler for 2-4 players. play either ...",
           2
          ],
          [
           "Up to the Unknown",
           "join our discord server link here - about the game welcome to our thrilling 2d platformer game! prep...",
           7
          ],
          [
           "Donut Shop",
           "enjoy this tasty puzzle game where you match the donuts up to beat your family and friends, maybe go...",
           2
          ],
          [
           "Falldown 79: Bottle of truth",
           "!!!attention!!! the game has no english! узнайте историю простого русского парня, который живет в ро...",
           6
          ],
          [
           "Another World - Thought Taboo",
           "in this mysterious world, you will set foot on dangerous areas, go through many difficulties, fight ...",
           2
          ],
          [
           "Luffy: Way Back Home",
           "also recommended for you: / / / about the game history after an unfortunate distraction on a vacatio...",
           7
          ],
          [
           "BoozeBall",
           "boozeball is a casual game where you will aim and throw a ball at variety of cups attempting to land...",
           5
          ],
          [
           "Cannon Block Ball",
           "in this game, your objective is to aim and shoot balls to knock down blocks from a platform. encount...",
           7
          ],
          [
           "Take No Prisoners",
           "blitz out, for the lads you are slade. before the nuclear war, special ops commando. now, survivor. ...",
           1
          ],
          [
           "XXZ: XXL",
           "zombie apocalypses turned out to be somewhat different from what science fiction authors used to wri...",
           3
          ],
          [
           "The Game We All Have To Play",
           "a word of caution to disclaim: it's more a poetry than a game. the story goes the way you pull it. a...",
           2
          ],
          [
           "The Watson-Scott Test",
           "take the watson-scott ™ personality test and discover your deepest and darkest fears. 30 multiple-ch...",
           2
          ],
          [
           "Shark Pinball",
           "get ready for shark pinball, a pinball machine where you'll try to score points avoiding sharks, oct...",
           7
          ],
          [
           "Dwarf Fortress",
           "prepare for the deepest, most intricate simulation of a world that has ever been created. not just g...",
           7
          ],
          [
           "Muscles And Bullets",
           "an evil dictator has transformed a peaceful tropical island into a nest of mercenaries and terrorist...",
           1
          ],
          [
           "Nemo_D.O",
           "nemo_d.o(a.k.a. nemo &amp; d.o) is a puzzle action game. player should control the two robots simult...",
           1
          ],
          [
           "Super Star Blast",
           "super star blast is a space based game with challenging levels of increasing difficulty. all enemies...",
           5
          ],
          [
           "Have a N.I.C.E day!",
           "further highlights / about the game in 'have a n.i.c.e. day' you drive on racing tracks that are so ...",
           2
          ],
          [
           "THE KING OF FIGHTERS '98 ULTIMATE MATCH FINAL EDITION",
           "kof '98 um fe , the ultimate &amp; final edition of 'kof '98 um', joins the tournament on steam! dis...",
           4
          ],
          [
           "Gates of Troy",
           "designed by wargaming world champion iain mcneil, gates of troy™ is the slitherine's critically accl...",
           1
          ],
          [
           "Armed and Dangerous®",
           "meet the lionhearts. a smack-talking rag-tag band of rebels bound on an impossible quest. with an ar...",
           1
          ],
          [
           "Junk Jack",
           "make the world truly yours in junk jack, a relaxing sandbox experience focused on building and impro...",
           7
          ],
          [
           "OLI",
           "*game does not have support to controller* do you believe in dreams ? oli its a brazilian indie shor...",
           5
          ],
          [
           "Death Roads: Tournament Prologue",
           "buy the full game! / about the game you'll take control of maggie 'liberty' murdock and her car, nav...",
           7
          ],
          [
           "Legend of Cenama",
           "legend of cenama is a retro rpg with a very existential story line. it's a story driven and emotiona...",
           2
          ],
          [
           "Iron Storm",
           "western germany, march 1964... the last great war rages on. madness at the front lines. men butcheri...",
           1
          ],
          [
           "猟奇リスナー ～ 狙われた姫配信者 ～ Lunatic Viewer - Streamer Girl at Risk -",
           "'lunatic viewer - streamer girl at risk' is a visual novel game about a reclusive protagonist who is...",
           3
          ],
          [
           "Adelantado Trilogy. Book one",
           "a game from the creators of roads of rome! the unique strategy hit - adelantado trilogy.book one! fe...",
           3
          ],
          [
           "Mission Z",
           "also recommended for you: join our discord about the game the game takes place in a region known as ...",
           1
          ],
          [
           "Wildland",
           "welcome to the last commune! the wild land, which never recovered after the death of the soviet unio...",
           2
          ],
          [
           "Cosmic Awakening VR",
           "preface cosmic awakening vr is a collection of horror scenarios set on a sci-fi stage. explore the m...",
           7
          ],
          [
           "Hidden Mysteries: Royal Family Secrets",
           "you were the queen’s most trusted handmaiden. yet all it took was a whisper for you to be falsely ac...",
           3
          ],
          [
           "Out of the Park Baseball 22",
           "out of the park baseball 22 - the 22nd version of the award-winning sports strategy series - is a gi...",
           5
          ],
          [
           "Project Horror Anthology: Project Prequel",
           "synopsis 'evelynn, is a military woman who has just returned to her hometown, where she lives with h...",
           2
          ],
          [
           "Battlesloths 2025: The Great Pizza Wars",
           "sloths. pizza. chaos. battlesloths 2025: the great pizza wars is the fast-paced multiplayer competit...",
           7
          ],
          [
           "Pandas Bridge",
           "pandas bridge is a 2d open world adventure game where you play as a panda to solve the mystery of wh...",
           3
          ],
          [
           "Gotcha",
           "gotcha is a chaotic couch co-op game for 1 - 4 players. you and your friends must escape from chasin...",
           7
          ],
          [
           "First Class Escape 2: Head in the Clouds",
           "'first class escape 2: head in the clouds” is a co-operative escape-room-style puzzle game, where yo...",
           2
          ],
          [
           "The Past Rhapsody",
           "embark on this new adventure, uncovering a brave hero's quest as he encounters a variety of daunting...",
           4
          ],
          [
           "Inbound UFO",
           "inbound ufo is an indie tower defense game created by a team of two developers over the course of 3 ...",
           1
          ],
          [
           "Day of Destruction",
           "communication systems receive atmospheric interference from a number of enormous objects heading tow...",
           1
          ],
          [
           "WarfareBattle",
           "welcome to the new warfarebattle era. tactical gameplay and daring new innovations that go beyond th...",
           1
          ],
          [
           "Level 20",
           "do you be able to reach level 20? basic mechanics level 20 is a 2d platform game with 20 randomly ge...",
           5
          ],
          [
           "Professor Teaches® Windows® 8.1",
           "professor teaches windows 8.1 is the quickest and easiest way to build your skills and improve your ...",
           7
          ],
          [
           "Cursed to Golf",
           "the press about cursed to golf: 'the dark souls of side-scrolling golf roguelikes is quite the pitch...",
           3
          ],
          [
           "The Wizard",
           "the wizard is the magic fantasy adventure. he helps him to find the mistery tower and discover the s...",
           4
          ],
          [
           "Atomic Society",
           "post apocalyptic town building where you set the laws can you rebuild a town that can keep hundreds ...",
           2
          ],
          [
           "Noita",
           "noita is a magical action roguelite set in a world where every pixel is physically simulated. fight,...",
           3
          ],
          [
           "Adventurer Flower",
           "you're a flower in an office and there are three hidden games based on balance and memory challenges...",
           2
          ],
          [
           "Keizudo",
           "summary keizudo is a command based visual novel that uses pre-rendered low polygon graphics. it has ...",
           3
          ],
          [
           "R.C. Bot Inc.",
           "update: basics video showing gameplay with the fully physics based robot (how to get up when things ...",
           7
          ],
          [
           "Cry of Fear",
           "cry of fear is a psychological single-player and co-op horror game set in a deserted town filled wit...",
           4
          ],
          [
           "Delila's Gift",
           "delila's gift is a vr picture book created using tilt brush! it tells the story of a small sea creat...",
           3
          ],
          [
           "Kyurinaga's Revenge",
           "kyurinaga's revenge is a 2d-based game with lots of platforming, action and puzzles. battle alongsid...",
           2
          ],
          [
           "Horror Loop",
           "horror loop tells the deep and unique story of a soldier. realism at twisted universe, we did our be...",
           5
          ],
          [
           "Mortal Fighter",
           "welcome to mortal fighter, an epic fighting game that will test your skills and unleash your inner w...",
           7
          ],
          [
           "佩尔霍宁",
           "introduction to playing method this is an adventure game with micro terror, shooting and puzzle solv...",
           5
          ],
          [
           "Log Jammers",
           "development roadmap about the game don your flannel! log jammers is a competitive online/couch arcad...",
           4
          ],
          [
           "Xpand Rally Xtreme",
           "xpand rally xtreme shows the true climate and conditions of rally racing. dangerous, technical track...",
           4
          ],
          [
           "Raji: Prologue",
           "add full game to your wishlist / about the game this is an opening chapter of raji: an ancient epic ...",
           3
          ],
          [
           "Distant Memoraĵo",
           "story rin - an ordinary high school girl lost in a parallel reality that looks just like the japan s...",
           3
          ],
          [
           "Dual Core",
           "a vibrant, futuristic, 'twin-stick' style shooter, for 1-4 players. it's 2147 and the human colony o...",
           4
          ],
          [
           "Full Gear",
           "songs of steam and bright machines... welcome to full gear! this is a steampunk-style traditional ro...",
           7
          ],
          [
           "Absolute Tennis Manager",
           "the most complete tennis management game! start your career by embodying an existing player, or crea...",
           5
          ],
          [
           "Aivolution",
           "aivolution is a machine learning educational game in which you design and train ai creatures to comp...",
           7
          ],
          [
           "Cubo ao topo",
           "'cubo ao topo' is a game that allows you , streamer, to play with your viewers in the chat of your t...",
           5
          ],
          [
           "Educator 2076: Basics in Education",
           "welcome to the most modern school, where all classes are improved and a new education system has bee...",
           2
          ],
          [
           "LOGistICAL 2: USA - Nevada",
           "package includes: logistical 2: nevada usa logistical 2: tuvalu (free l2 tutorial) logistical 2: sur...",
           1
          ],
          [
           "Chicory: A Colorful Tale",
           "chicory: a colorful tale is a top-down adventure game in a coloring book world where you can draw on...",
           7
          ],
          [
           "The Lonesome Fog",
           "might and delight invites you to step into an interactive diorama that expands on the world of paws ...",
           3
          ],
          [
           "Unlocked",
           "island of the lost / about the game unlocked is a short, relaxing, first person adventure game. as a...",
           4
          ],
          [
           "Cyber City 2157: The Visual Novel",
           "you wake up looking at the cell and trying to remember a dream you have seen last night. there are o...",
           3
          ],
          [
           "NUKITASHI",
           "join our community about the game a visual novel about a brother and sister who return to an island ...",
           3
          ],
          [
           "Ashwalkers",
           "wishlist ashwalkers &lt;3 more from us about the game from the co-founder of dontnod (life is strang...",
           1
          ],
          [
           "Now Testing: 407",
           "you are number 407, the new debugger for an upcoming sci-fi game. as a debugger, your job is simple!...",
           7
          ],
          [
           "Intelligence",
           "intelligence - a puzzle game in which you want to build the image so that the picture was like the o...",
           5
          ],
          [
           "StopTime Drive",
           "stoptime drive is a unique turn-based racing puzzle game that combines arcade racing with a top-down...",
           5
          ],
          [
           "aMAZE Valentine",
           "how long have you developed your thinking and attentiveness? today we will give you such an opportun...",
           2
          ],
          [
           "Kokoro Clover Season1",
           "gooooood mooooorning!!!!! plop down on the couch in your comfiest pajamas, grab a big bowl of cereal...",
           4
          ],
          [
           "带摄影师",
           "'take the photographer' is a simulated photo game. players will have a camera in the game. players c...",
           5
          ],
          [
           "Hang The Kings",
           "also recommended for you: / / about the game hang the kings is a chess-inspired puzzle game. capture...",
           5
          ],
          [
           "MicroTown",
           "build and manage your growing town in this relaxing village construction and management simulator wi...",
           1
          ],
          [
           "Pandemic Violence",
           "pandemic violence is an exaggerated take on the world dealing with a deadly pandemic virus. play thr...",
           1
          ],
          [
           "Marfusha",
           "a high-tempo shooting game with simple controls! become a guard of a dystopian world and defend the ...",
           1
          ],
          [
           "Pixel Puzzles 2: Birds",
           "featuring some truly fowl images indeed. pixel puzzles 2: birds is a traditional style jigsaw puzzle...",
           7
          ],
          [
           "Eight Winds",
           "master your sword, master your body, master your own mind to overcome your opponents. master your ow...",
           2
          ],
          [
           "Kaiju Panic",
           "kaiju panic is an action-strategy game with a bright and unique art style where you have to rescue s...",
           1
          ],
          [
           "RocketGirl",
           "rocketgirl is the greatest game ever made. take control of a beautiful heroine and grab a stolen roc...",
           0
          ],
          [
           "RESTLESS SOUL",
           "the adventure of a lifeti—er, afterlifetime—awaits! help a wayward soul return to the land of the li...",
           3
          ],
          [
           "Last Second",
           "this is a simple time survival game . players need to face endless enemies within 15 minutes, and av...",
           5
          ],
          [
           "Heart of Metal",
           "in heart of metal, two players have to control one robot together, and the robot is in two parts. on...",
           5
          ],
          [
           "Lucky Panda",
           "lucky panda is a simple platformer with elements of survival in which you have to pass a variety of ...",
           2
          ],
          [
           "Infect and Destroy",
           "play as the zombies! infect and destroy is an indie game in which you play as an infectious disease ...",
           1
          ],
          [
           "Earthquake Simulator VR",
           "virtual earthquake simulator made for the htc vive. experience a short earthquake and fire simulatio...",
           7
          ],
          [
           "MuGen - The Music Generator",
           "mugen - music generator using mugen you can create original music in seconds. get inspired, unleash ...",
           4
          ],
          [
           "Cross Set Infinity",
           "cross set is a sudoku-like brain-teasing novel number puzzle game with beautiful musics. the feeling...",
           5
          ],
          [
           "Phantom Signal — Sci-Fi Strategy Game",
           "a drifting space ship wakes up due to unusual interference in space. almost right after this, an unk...",
           1
          ],
          [
           "The Scary Square",
           "found out if mister square's was the killer and discovered the darkness story by picking up tracks t...",
           2
          ],
          [
           "The Neon Mate",
           "in the neon mate gravity is like it should be. get the highest score and make it to the top of the o...",
           5
          ],
          [
           "Bullet Heaven 2",
           "dodge hundreds of thousands of beautiful bullets! bullet heaven 2 is a shoot-em-up spinoff of the ep...",
           4
          ],
          [
           "PULSAR",
           "try to find the combination of paths to get to the goal. you will need reasoning, memorization and p...",
           2
          ],
          [
           "Island Defense",
           "get ready for modern battles! defend your islands against evil invaders in jungles! your team will c...",
           1
          ],
          [
           "Treasure Hunter Simulator",
           "check this as well / / about the game / treasure hunter simulator gives you a chance to explore hist...",
           7
          ],
          [
           "CountryBalls Heroes",
           "check out more from games operators! / / / about the game join our discord! about countryballs heroe...",
           7
          ],
          [
           "Daaang!",
           "daaang! is a hyper-casual physics-based sandbox platformer. roll around at your leisure with no time...",
           7
          ],
          [
           "Amaze Adventure",
           "welcome to amaze adventure! you are finally old enough to leave your quiet home in harvest park to f...",
           2
          ],
          [
           "Typed82",
           "about typed'82 a simple typing game to complement your keyboard and immerses you in an atmospheric t...",
           7
          ],
          [
           "Only A Dream",
           "backstory: - the date is 1990. the name is john simmons. three years ago your parents divorced after...",
           2
          ],
          [
           "Concrete and Steel",
           "concrete and steel is a 3d sandbox for creative people to build structures using a huge range of obj...",
           7
          ],
          [
           "Deep Madness",
           "in deep madness you jump deeper and deeper oh yes and even deeper. spikes on the edge make it diffic...",
           2
          ],
          [
           "W4RR-i/o-RS: Descent",
           "this is an art-game about a 4th millenium corporation zn, which semi-automatically mines astral part...",
           4
          ],
          [
           "1001 Jigsaw. World Tour: France",
           "1001 jigsaw. world tour: france is an exciting puzzle game and and a great opportunity to experience...",
           7
          ],
          [
           "Miracle Calamity Homeostasis",
           "the main character is the only one who can get in the way of an inevitable man-made catastrophe. the...",
           3
          ],
          [
           "Armored Evolution",
           "armored evolution is an arena-style top-down shooter where you fight through waves of enemies solo o...",
           7
          ],
          [
           "Geometry Boxer",
           "welcome to geometry island! you are just in time to partake in the biggest brawl between two warring...",
           1
          ],
          [
           "Have a Bloody Goal",
           "kill your enemies in style you hear their screams but you are not afraid, shoot them down to score. ...",
           2
          ],
          [
           "Ancestory",
           "ancestory offers the deep tactics of turn-based strategy mixed with the fun of card games and deck b...",
           7
          ],
          [
           "FUCK HITLER",
           "want to play with someone else? wishlist now! about the game you go back in time 80 years. in front ...",
           2
          ],
          [
           "Vulture for NetHack",
           "nethack nethack is the most celebrated member of the ancient and honorable family of games descended...",
           3
          ],
          [
           "Cold Waters",
           "after tracking a soviet landing force bound for iceland it is time to plan your attack. do you silen...",
           1
          ],
          [
           "MergeTD",
           "game features: 1. strategic compositing upgrades that let you indulge in mental calculations. 2. san...",
           1
          ],
          [
           "Dr. Umgebung's School of Life",
           "dr. umgebung's school of life is a game about simulating life in small glass terraria. you are atten...",
           5
          ],
          [
           "Umbrella Corps",
           "buzz about the game join the corps! umbrella corps is a new fast-paced third-person shooter set in t...",
           1
          ],
          [
           "Re:DESTINY",
           "❤ coming soon ❤ vtuber beats / about the game re:destiny has the story revolving around the onmyoji ...",
           3
          ],
          [
           "Great British Railway Journeys",
           "discover bradshaw’s britain george bradshaw’s handbook of 1840 was the first comprehensive tourist g...",
           1
          ],
          [
           "Dino Run DX",
           "we are making dino run 2! click here to check out the ongoing campaign to make the sequel we all des...",
           4
          ],
          [
           "Corporated Robots Wars",
           "new rts-strategy-actin game in cyberpunk style where you take control on squad full of robots. new s...",
           5
          ],
          [
           "Dyestributor",
           "dyestributor! from an aspiring duo of game developers comes an indie puzzler that will make you bang...",
           7
          ],
          [
           "Citizen of Rome - Dynasty Ascendant",
           "citizen of rome - dynasty ascendant is a family/dynasty life sim set in the roman republic. you get ...",
           3
          ],
          [
           "Galactic Crew II",
           "galactic crew ii is a roguelike sci-fi exploration game that takes place in a procedurally generated...",
           7
          ],
          [
           "Kimmy",
           "kimmy is a visual novel style game about a summer spent babysitting in late 1960s massachusetts. you...",
           3
          ],
          [
           "不可思议佣兵团",
           "with the rise of professional soldiers, the status of mercenary groups is at stake in the mainland. ...",
           3
          ],
          [
           "Abstract Hell",
           "abstract hell is a realm of many hostile creatures made of simple lines, curves, and light, and they...",
           7
          ],
          [
           "持猫少女凯蒂/Kaidi, armed with a cat",
           "have you ever been attacked by birds because of your fries in hand? have you ever met the famous rub...",
           3
          ],
          [
           "Kindred Spirits on the Roof",
           "- let’s make this a yuritopia! - kokonotsuboshi girls' academy of commerce, a school built on the si...",
           3
          ],
          [
           "Labyrinth Simulator",
           "labyrinth simulator offers you a endless levels of labyrinths and imagination. in labyrinth simulato...",
           2
          ],
          [
           "Potionomics",
           "deluxe edition about the game after the untimely death of her uncle, a penniless witch named sylvia ...",
           7
          ],
          [
           "Jump Jump",
           "'jump jump' is a casual game. play by jumping with the help of the operator. jumping onto the box co...",
           5
          ],
          [
           "Season's Beatings",
           "season's beatings is a fast and frantic one hit kill fps best described as first person hotline miam...",
           2
          ],
          [
           "Blooding Runner X",
           "play for blooding runner, to the neck of which a collar with explosives is fixed and whose timer is ...",
           7
          ],
          [
           "Rugby League Live 3",
           "rugby league enters the next-generation with rugby league live 3! featuring an all new be a pro care...",
           5
          ],
          [
           "Orbital X",
           "guide your planet along its orbit! an endless run through stars and galaxies! fast, challenging, rhy...",
           4
          ],
          [
           "Disney's Treasure Planet: Battle of Procyon",
           "disney's treasure planet: battle at procyon is a 3d rts game focusing on space combat. in the main c...",
           1
          ],
          [
           "El Mucho",
           "epic world the world is being attacked! liberika, a world hidden behind huge hills and endless river...",
           3
          ],
          [
           "Trenches of War",
           "trenches of war is a fast-paced world war i-inspired strategy game. battle through the alps by spawn...",
           1
          ],
          [
           "Chieftain",
           "chieftain is a fantasy game of world conquest - containing elements of a procedurally generated 4x w...",
           1
          ],
          [
           "World CHAMPIONS: Decathlon",
           "this winter: stay tuned! world champions: decathlon available now welcome to the world champs league...",
           5
          ],
          [
           "Age of Mythology: Extended Edition",
           "age of mythology the classic real time strategy game that transports players to a time when heroes d...",
           4
          ],
          [
           "The Guest",
           "'the guest' is a gloomy adventure full of enigmas where the exploration of your surroundings comes t...",
           3
          ],
          [
           "Super Donald World 2024 🦅",
           "for youtubers, twitch streamers and content creators about the game dodge obstacles and build the 1,...",
           1
          ],
          [
           "The Scrap",
           "the scrap is an independent third-person shooter that takes place in a futuristic world inhabited by...",
           1
          ],
          [
           "Castle Guardian",
           "castle guardian is a game where you play as a castle guard in fantastic medieval era. it is a tower ...",
           1
          ],
          [
           "The Dive",
           "the dive is a linear underwater horror game about a search dive that quickly turns into fight for su...",
           7
          ],
          [
           "Space Otter Charlie",
           "with humanity gone, it’s up to the otters to save animal-kind from an inhospitable earth. join charl...",
           7
          ],
          [
           "Force Reboot",
           "your health is a timer and it's draining move faster and lose less health force reboot is a fast-pac...",
           2
          ],
          [
           "BIG BALL SPORTS",
           "this game contains 6 popular sports: soccer, volleyball, dodgeball, kickball, tennis, and golf! but ...",
           5
          ],
          [
           "PRIMAFLOOWS",
           "the player controls a platform that can be moved from one wall to another, placing it under the ball...",
           5
          ],
          [
           "Empire of the Gods",
           "build flourishing cities and the largest monuments ever seen. enjoy an original card game with absor...",
           1
          ],
          [
           "Grappling Dash",
           "jump, swing, dash grappling dash is fast-pace, uniquely stylized platformer game. use your grappling...",
           2
          ],
          [
           "STRIKERS 1945",
           "this is the most popular and famous title from the psikyo shooter series! strikers 1945 is a vertica...",
           5
          ],
          [
           "Total Extreme Wrestling 2010",
           "step into the world of wrestling in world total extreme wrestling 2010. in this simulation title, yo...",
           5
          ],
          [
           "Comix Zone™",
           "just updated all sega megadrive/genesis titles now launch using the new sega megadrive/genesis inter...",
           4
          ],
          [
           "Soul Catcher",
           "★★★★★★★★★★★★★★★★★★★★★★★★★★★★★★★★★★★★★★★★★★★★★★★★★★★★★★★★★★★★★★★★★★★★★★★★★★★★★★★★★★★★★★★★★★ what a lo...",
           3
          ],
          [
           "Pop Some Eyes",
           "mr. pineapple bundy, a descendant of al bundy from the hit tv show 'married with children,' has just...",
           3
          ],
          [
           "Laruaville 6",
           "in this game you're looking for the treasure hidden on the uninhabited island. the most interesting ...",
           2
          ],
          [
           "Freed Software",
           "free soft is a simulator in which you have to create your own it company. in this world, you will ha...",
           2
          ],
          [
           "Super Scramble Simulator (Amiga/C64/CPC/Spectrum)",
           "originally released in 1989, this dirtbike simulator brought all the fun and challenge of motocross ...",
           4
          ],
          [
           "Swordia",
           "a community driven an adventure mmorpg. we threw aside the traditional mmo and made it for gamers by...",
           5
          ],
          [
           "UfoPilot : The Phadt Menace - Steam Edition",
           "ufopilot : the phadt menace - steam edition again puts you at the controls of a nimble vector-class ...",
           1
          ],
          [
           "Comedy Quest",
           "comedy quest is a point and click adventure game set in the magical world of standup comedy. it mesh...",
           4
          ],
          [
           "SHOWTIME 2073",
           "new from nicolas bernard about the game in 2073, the greatest show of all time playing with the live...",
           5
          ],
          [
           "Ghost Files: The Face of Guilt",
           "step into the shoes of emily meyer from boston pd to face the mysterious case of 10 homicides. using...",
           3
          ],
          [
           "Rupert and Riley Shipwrecked",
           "get wrecked, shipwrecked. in this charming 2d game, you'll be addicted to catching fish 'n' bubbles....",
           3
          ],
          [
           "Graviteam Tactics: Mius-Front",
           "new dlc available / special offer graviteam tactics: angola 1987 bundle graviteam tactics: operation...",
           1
          ],
          [
           "Kvark",
           "congratulations, valued future employee, on your decision to interview for a position of [redacted] ...",
           2
          ],
          [
           "Art Heist - Escape Room Adventure",
           "art heist – escape room adventure a rainy night, a secluded villa on a remote island and a thief who...",
           7
          ],
          [
           "Defenders of Legends",
           "'defenders of legends: turret tactics' is an addictive tower defense game that challenges players to...",
           1
          ],
          [
           "Dear Friend",
           "join us on this psychological and spiritual adventure in which you will have a very special friend w...",
           2
          ],
          [
           "The Far Kingdoms: Elements",
           "'the far kingdom: elements' is a mixture between match-3 and hidden object game. the evil enchantres...",
           3
          ],
          [
           "100 hidden turtles",
           "art by аnatoliy loginovskikh 100 hidden turtles is a hidden object game in the undersea world settin...",
           4
          ],
          [
           "We Are OFK",
           "🕐 episodic release all new episodes of we are ofk are included, and will be released every week, acc...",
           4
          ],
          [
           "The Big One",
           "in a galaxy not so far away machines rule the world and the human race has been enslaved ! reduced t...",
           2
          ],
          [
           "Queen of Honor",
           "wishlist and follow! / about the game queen of honor - is a classical 2d platformer with surviving e...",
           2
          ],
          [
           "Crash Drive 2",
           "this is the free demo of crash drive 2. get ready for ridiculous fun in this multiplayer free-roamin...",
           5
          ],
          [
           "Botanica: Into the Unknown Collector's Edition",
           "you are dr. ellie wright, a botanist stranded on a strange planet called botanica. full of curious c...",
           4
          ],
          [
           "Firework Simulator",
           "firework simulator lets you play with all kinds of different fireworks and even lets you make your o...",
           7
          ],
          [
           "The Disaster",
           "update notes - update notes - 29/05/2021 + improvements; + added 'protect the house' mode; + added n...",
           7
          ],
          [
           "Age of Solitaire : Build Civilization",
           "build your \bcivilization while playing solitaire games! a solitaire game that anyone can enjoy easil...",
           7
          ],
          [
           "8 Ball 2",
           "the most famous and charismatic pool ball is back, and now you can choose if you wanna play in third...",
           2
          ],
          [
           "Dreamcage Escape",
           "can you escape the dreamcage? are you ready to solve puzzles and crack codes in this new and innovat...",
           2
          ],
          [
           "DREAMO - Puzzle Adventure",
           "dreamo is a story-driven adventure puzzle game, where the player explores strange landscapes and sol...",
           4
          ],
          [
           "Deck Adventurers - Origins",
           "in deck adventurers: origins you will guide tasha and berem in the adventure that will make them the...",
           2
          ],
          [
           "Timerunner",
           "playtests here / about the game / / there the story's hero makes a stop to embark on a quest of trea...",
           2
          ],
          [
           "Abandoned Cabins in the Woods",
           "more games! / / / about the game abandoned cabins in the woods is a 2d top-down survival horror game...",
           3
          ],
          [
           "Crowd Sign: Emission",
           "crowd sign: emission is a game where you paint a signs and watch the action unfold then later you ca...",
           3
          ],
          [
           "Goblin Defenders: Steel‘n’ Wood",
           "tired of boring tower defense games? goblin defenders: steel 'n' wood breaks the mold with exciting ...",
           7
          ],
          [
           "Harvest Days: My Dream Farm",
           "further toplitz highlights / / / discord about the game no traffic jams. no skyscraper canyons. no b...",
           2
          ],
          [
           "Don Duality",
           "free expansions about the game you take on the role of a restaurant owner who just happens to be the...",
           2
          ],
          [
           "(VR)西汉帝陵 The Han Dynasty Imperial Mausoleums",
           "han dynasty imperial mausoleums supporting the room scale of htc vive devices and stand mode. the le...",
           1
          ],
          [
           "Bubsy Two-Fur",
           "bubsy: paws on fire! - available now! from the developers of the bit.trip series comes bubsy: paws o...",
           4
          ],
          [
           "Dark Light",
           "dark light is a single-player 3d puzzle game. levels present physical obstacles that must be conquer...",
           2
          ],
          [
           "Fart Simulator 2018",
           "trading cards soon about the game the fart simulator 2018 - a satirical action, without elements of ...",
           2
          ],
          [
           "Cursed Road Convoy",
           "have your convoy fight its way through the post-apocalyptic outback wasteland in turn-based battles ...",
           1
          ],
          [
           "GI Racing 2.0",
           "a pulse-pounding, arcade-style racer that lets you drive powerful cars on famous tracks from around ...",
           7
          ],
          [
           "Hookshot",
           "guide your hookshot ball or square through various levels. the ball hookshot can move in 360 degrees...",
           5
          ],
          [
           "Charge",
           "you play as a silent protagonist armed with a charge gun, and your ultimate goal is to progress thro...",
           2
          ],
          [
           "Sakura MMO Extra",
           "sakura mmo extra is a sequel to sakura mmo #3, which takes place after the harem ending. several mon...",
           3
          ],
          [
           "Rival Megagun",
           "transform into your mega gunship boss form to blast your rival head-on in this unique shooting game ...",
           4
          ],
          [
           "Hmmsim Metro",
           "line 1, the most complicated subway in seoul, is now coming in pc version. you can feel high immersi...",
           1
          ],
          [
           "Swarm Survivor",
           "you are one of the few survivors of the swarm's invasion. in this top-down, dark shooter, explore a ...",
           2
          ],
          [
           "Slingshot Hero VR",
           "slingshot hero vr was originally designed as an event vr game. after receiving tremendous feedback f...",
           4
          ],
          [
           "Worms Armageddon",
           "check out worms rumble: / about the game those intrepid invertebrates return with a vengeance in the...",
           7
          ],
          [
           "Cyberline Racing",
           "★★★ a race-to-the-death in a post-apocalypse world! ★★★ cyberline racing combines action packed shoo...",
           3
          ],
          [
           "Tower Survivors",
           "for the full story, also play tower escape! / the story the evil necromancer has escaped the tower, ...",
           3
          ],
          [
           "Penny Arcade's On the Rain-Slick Precipice of Darkness 4",
           "steam big picture about the game penny arcade’s “on the rain-slick precipice of darkness 4” conclude...",
           4
          ],
          [
           "Frosthaven: Official Companion",
           "frosthaven companion is a companion application meant to lower the setup time and maintenance while ...",
           5
          ],
          [
           "Puzzle Kingdoms",
           "puzzle kingdoms challenges players to plan out strategic attacks in order to defeat their opponents....",
           1
          ],
          [
           "Laid-Back Camp - Virtual - Lake Motosu",
           "experience laid-back camp in 3d! together, nadeshiko (you!) and rin embark on a new camping adventur...",
           4
          ],
          [
           "Octave",
           "octave is a point 'n click horror-adventure game with elements of action and quest. you play the rol...",
           2
          ],
          [
           "Buckler 2",
           "buckler 2 , originally titled rosefury: the golden plains , is an action-packed platformer with a fe...",
           7
          ],
          [
           "Adelantado Trilogy. Book Three",
           "the story of adelantado continues in book three – get ready for an epic conclusion of this amazing t...",
           3
          ],
          [
           "The Tau Ceti Terminus",
           "in this vr only game, you will solve a wide range of challenges, encounter various lifeforms, and de...",
           7
          ],
          [
           "Spiral Knights",
           "band together and fight to the core! spiral knights is a cooperative adventure in a persistent world...",
           1
          ],
          [
           "Wukong Odyssey",
           "wukong odyssey – a classic adventure game wukong odyssey is an epic adventure game with a classic pl...",
           7
          ],
          [
           "A Way To Be Dead",
           "overview about the game about the game a way to be dead is an asymmetrical multiplayer (up to 5 play...",
           1
          ],
          [
           "Chimera Island",
           "about chimera island is a casual monster collection and management game created by students. through...",
           1
          ],
          [
           "Void Stranger",
           "void stranger is a 2d sokoban-style puzzle game where every step counts. descend into the forgotten ...",
           2
          ],
          [
           "Them - The Summoning",
           "when a longtime friend contacts you to visit him with the utmost urgency, you arrive to find a troub...",
           3
          ],
          [
           "Shallow Swing",
           "are you ok bubbles? you look a bit like... shrinking?! ------------------------------------- shallow...",
           7
          ],
          [
           "Em-A-Li",
           "continue the story / other games by yobob / about the game story inspired by portal 2, em-a-li is an...",
           3
          ],
          [
           "Alice Running Adventures",
           "about this game what will alice face in wonderland? you can feel it with her in this 3d action game....",
           2
          ],
          [
           "Heaven & Hell",
           "in the devilish match-3 game heaven &amp; hell, you'll have to help the witty angel angelo bring bac...",
           4
          ],
          [
           "Galactic Liberation",
           "'galactic liberation' is a classic 2d arcade scrolling shooter, with a side view. nice graphics and ...",
           4
          ],
          [
           "5 Star Miami Resort",
           "🔥 upcoming games - wishlist now! / / about the game in the champions league of hotel management lucy...",
           7
          ],
          [
           "Penarium",
           "penarium is set in a sinister circus arena, where contestants, much like gladiators of old, are forc...",
           4
          ],
          [
           "Ephesus",
           "join our discord channel! road map updates schedule day 1 update 48 hour update weekly updates month...",
           1
          ],
          [
           "Kalinur",
           "description kalinur is a mini metroidvania full of action and adventure. in it you will have to expl...",
           2
          ],
          [
           "Where are My Pipes?",
           "beaver versus water supply – reverse the chaos caused by the furry troublemaker! you'll have to work...",
           1
          ],
          [
           "Super Bout: Champion's Tour",
           "2 fighters enter the ring, one will leave victorious. knock your opponent out or force them out of t...",
           5
          ],
          [
           "Convergence Compulsion",
           "convergence compulsion is an arcade-style, score-attack game that balances thinking fast and plannin...",
           7
          ],
          [
           "Touhou Block Fall ~ Yukari",
           "youkai are invading! take control of reimu as she teams up with yukari to handle the invasion! manag...",
           5
          ],
          [
           "Eleven Islands",
           "enjoy a thrilling match3 game! disaster struck the tribe of the eleven islands. a volcano eruption c...",
           1
          ],
          [
           "Silenced: The House",
           "the old house is hiding something. his dark empty rooms are full of secrets. blind windows are stari...",
           2
          ],
          [
           "Darksy's Adventure",
           "darksy's adventure is a 3d platformer with furry characters and abstract 3d worlds. it was to be ano...",
           4
          ],
          [
           "Rarity Chase",
           "rarity chase is an adventure for board game fans. quickly learn simple rules, roll the die and go in...",
           5
          ],
          [
           "Golems TD",
           "you are playing as a hero who took a vow to protect crystal core against waves of golems. ultimate g...",
           1
          ],
          [
           "Global Adventures",
           "in global adventures, your life gets turned upside down after you join the adventurous treasure hunt...",
           3
          ],
          [
           "Cubeland VR",
           "play multi-play casual shooting game just with your basic moves (collecting, throwing, and avoiding ...",
           5
          ],
          [
           "Astonia Resurgence",
           "discord: classes there are two available classes from the start: warriors, specializing in melee com...",
           7
          ],
          [
           "Nocturne of Steel",
           "become humanity's blade, the avatar of steel, and struggle against the elemental gods' uprising whil...",
           1
          ],
          [
           "Beach Bar VR",
           "beach bar vr is an arcade game about bar tending. see how quickly you can serve as many people as po...",
           5
          ],
          [
           "Mindsight",
           "mindsight is a minimalistic evolution of a match-3 game. the goal of the game is to find all sets of...",
           5
          ],
          [
           "Divine Combat",
           "divine combat is a turn-based strategy game wherein you lead a team to victory against another team....",
           5
          ],
          [
           "Tank Hero VR",
           "according to the suggestion from the players, we release the updated version and the new updated ver...",
           1
          ],
          [
           "Rise Of Enigmas",
           "these are series of enigmas games. enjoy thinking about puzzles. one series of puzzle is included fo...",
           5
          ],
          [
           "Date Night Bowling",
           "you're out at your local bowling alley for a dating event, so strike up a conversation, hop over to ...",
           2
          ],
          [
           "Learn Game Development, Unity Code Monkey",
           "hello and welcome! i am your code monkey and here you will learn everything about game development i...",
           7
          ],
          [
           "LocoMotion",
           "locomotion is a action, platformer game inspired by many other games out there. this game has a fasc...",
           5
          ],
          [
           "MEGALAN 11",
           "bad luck rescuers have only eleven days to get out of the trap on a planet long abandoned by all. th...",
           2
          ],
          [
           "A Street Cat's Tale",
           "'tale of a street cat' is a story of a baby kitten left alone at the town. it's an adventure game pl...",
           2
          ],
          [
           "Anna VS the A.I.maze",
           "a physics-based platforming game in which you escape a virtual maze. solve some mini puzzles, fight ...",
           5
          ],
          [
           "FEVER: FIGHT THE FEVER",
           "update notes we are constantly thinking of updates and new game mechanics. feel free to reach out wi...",
           2
          ],
          [
           "Vitality Girl Ⅱ:Fire",
           "is a cartoon style bullet screen shooting game. the game adopts the horizontal version of the game, ...",
           5
          ],
          [
           "The God",
           "the god is a creative-sandbox relaxing game available for pc and vr platform. feel the real power of...",
           7
          ],
          [
           "The Hellchemist",
           "picture: flavor text: in a world ravaged by wars, people sought shelter underground but some dug too...",
           1
          ],
          [
           "Emiko's Pledge 3",
           "recommended for you / / about the game emiko's pledge 3 is a 2d platform action game based on the st...",
           3
          ],
          [
           "Bombagun",
           "bombagun - is a competitive card game set in the immersive post-apocalyptic universe of atom rpg . t...",
           7
          ],
          [
           "Rear of Business",
           "the only aim in rob is to survive - overcome struggles such as poverty, shelter and business. protec...",
           2
          ],
          [
           "It Steals",
           "it steals is a challenging experiment in survival horror, revolving around stealthy and unpredictabl...",
           2
          ],
          [
           "Potio Mellow",
           "welcome to potio mellow potio mellow is a turn based collectathon where you stack cards to collect h...",
           2
          ],
          [
           "Greedy Guns",
           "greedy guns is a joyful, color-filled platformer that sprinkles elements of exploration on top of ex...",
           4
          ],
          [
           "Strange Horticulture",
           "find and identify new plants, pet your cat, speak to a coven, or join a cult. use your growing colle...",
           2
          ],
          [
           "Back 2 School",
           "back 2 school is an educational trivia game that pits the player against answering challenging prima...",
           5
          ],
          [
           "Sullen: Light is Your Friend",
           "five years ago in this forest.. a journalist wanted to go there.and (of course) he didnt come back. ...",
           2
          ],
          [
           "Are You Smarter Than A 5th Grader",
           "are you smarter than a 5th grader? is a charmingly humorous quiz game based on the popular tv franch...",
           4
          ],
          [
           "GUILTY GEAR Xrd -SIGN-",
           "kept you waitin'. guilty gear xrd -sign- is finally here on steam! about the game revolutionary grap...",
           4
          ],
          [
           "Lamoneo",
           "how does it feel to play a dream? abandon your wordly logic as you follow the rhythmic steps of ethe...",
           2
          ],
          [
           "RoboSquare",
           "jump into speedy hazard-packed robo battles with up to 15 other players where random series of synch...",
           5
          ],
          [
           "Trailer Shop Simulator",
           "you may be interested / about the game being on the run from the mafia for more than 10 years, you m...",
           2
          ],
          [
           "Ironsmith Medieval Simulator",
           "relaxing and casual games / / about the game welcome to the dark ages where weapons and armor of ste...",
           7
          ],
          [
           "Psi Project: Legacy",
           "adventure and romance! wishlist and follow! / play for free! / about the game psi project legacy - i...",
           2
          ],
          [
           "Final Hope: The Plot",
           "final hope: the plot is a turn-based tactical rpg with a medieval theme. create your hero and embark...",
           5
          ],
          [
           "Odium",
           "odium is a fast paced action roguelike, following chris's life as a bullied child, in a subtle and p...",
           3
          ],
          [
           "Phantasmagoria",
           "i feel its presence, the icy fingers upon my throat. i hear its eerie sounds, unsettling my every th...",
           3
          ],
          [
           "Royal Tumble",
           "meet king ono, ruler of square land, beloved by all. that is, apart from his arch enemy lord void, w...",
           2
          ],
          [
           "Dammerlicht",
           "summary dämmerlicht is a game based around the many worlds theory, where the actions of the player c...",
           5
          ],
          [
           "Daemonum",
           "created by vidas salavejus, creator of the timore series &amp; aaron wise, creator of the patient: a...",
           4
          ],
          [
           "Skeleton Troubles",
           "skeleton troubles have you ever wondered what happens to all skeleton enemies in video games after t...",
           2
          ],
          [
           "No Going Back",
           "no going back is a story, told between him and her. a story you uncover as you go along, along the o...",
           3
          ],
          [
           "M87",
           "about this game campaign: an computer's artificial intelligence (ai) becomes the dominant form of in...",
           1
          ],
          [
           "First Feudal",
           "localization mods and wiki subscribe to user-contributed localization mods to play first feudal in t...",
           7
          ],
          [
           "Jewel Match Solitaire L'Amour",
           "love is in the air. and so is solitaire! enter the enchanting world of jewel match as you fall head ...",
           4
          ],
          [
           "Pleim",
           "about this game pleim is an adventure game with a focus on immersion in the atmosphere of the city o...",
           5
          ],
          [
           "Magical Miri",
           "magical miri is a 2d side scroller platform video game in anime style and with a little fan service ...",
           4
          ],
          [
           "Pink Hour",
           "kero blaster / sequel: pink heaven / about the game this is a cute and fancy action game that lets y...",
           7
          ],
          [
           "Wheelchair Simulator VR",
           "we believe that the power of vr can help solve real world issues by putting you into other people’s ...",
           3
          ],
          [
           "Gazing from beyond",
           "this is a galgame about college life, where you'll pursuit the love of your life. you'll surely expe...",
           3
          ],
          [
           "血潭江湖百里荣",
           "introduction: the so-called happy jianghu, but the moment of revenge to kill the enemy, the sword fe...",
           3
          ],
          [
           "Star Girls",
           "star girls is a dating sim with a bullet hell combat system and light rpg elements in it. the story ...",
           2
          ],
          [
           "Mahjong Nagomi",
           "new title! / about the game authentic japanese mahjong has arrived! this isn't solitaire where you m...",
           5
          ],
          [
           "School Bus Driver Simulator",
           "such a simple job, but with a very big responsibility! the school bus driver simulator game offers y...",
           5
          ],
          [
           "Beat Blast",
           "bullet hell + music + roguelite = beat blast the music you make becomes your abilities a musical jou...",
           2
          ],
          [
           "LAB2-UndeR GrounD-",
           "-story- an incident occurred at the laboratory's underground facility. for investigation, sae heads ...",
           1
          ],
          [
           "Noelle Does Her Best!",
           "latest release / / / upcoming games / / about the game noelle has lived out in the sticks all her li...",
           2
          ],
          [
           "I'm Just a Slime",
           "you are just a slime. the weakest of the monsters. but when a dragon moves in on a nearby mountain, ...",
           2
          ],
          [
           "Block Buster",
           "destroy cities with your bare hands! burn buildings! toss tanks! grab – and eat – people! block bust...",
           4
          ],
          [
           "PlanetSide Arena",
           "planetside arena servers will be shutting down on january 10, 2020. read our dev letter to learn mor...",
           4
          ],
          [
           "Mauri Mursu's Hangover",
           "help mauri mursu on his adventure on the walrus islands and cure his hangover! you play as mauri the...",
           3
          ],
          [
           "The Jackbox Party Pack 5",
           "it’s the biggest party pack yet with five party-saving new games! 1) the pop-culture trivia mash-up ...",
           4
          ],
          [
           "Good Hell",
           "you will live the terrible experience of a camera with two arms ready to dodge red balls, not to fal...",
           2
          ],
          [
           "Zombie Crush VR",
           "zombie crush vr - is a dynamic 1st person vr shooter where your main goal would be trying to survive...",
           2
          ],
          [
           "Vulture Strike",
           "side-scrolling shooting game in which you have the ability to travel between 2 parallel timelines wh...",
           7
          ],
          [
           "Without Within 3 (初衷)",
           "singaporeans have reported ghost sightings of kiki, a calligrapher who had passed away several years...",
           3
          ],
          [
           "Noitapeli",
           "game first person horror game, you have to prevent noita for making a strange broth - find the last ...",
           2
          ],
          [
           "Dating Simulator",
           "check out new game from our publisher / / / about the game create your character and start matching ...",
           2
          ],
          [
           "Yujiro's Mansion",
           "you're a robber going around a neighborhood doing what you do best. after robbing many houses you st...",
           2
          ],
          [
           "The Last Hair",
           "pass through multiple obstacles to reach the goal and meet the princess! it is a platformer game whe...",
           2
          ],
          [
           "The Vale: Shadow of the Crown",
           "the vale is an audio-based action adventure game that places you in the worn leather boots of a blin...",
           3
          ],
          [
           "Red and Blue ~ Cycles of Existence",
           "at the planet somelody… when she was a child, salieka almost downed in the sea near seahant island, ...",
           3
          ],
          [
           "Talent Not Included",
           "set in the fantasy land of notthatmuchfurther, talent not included tells the story of three monsters...",
           3
          ],
          [
           "TO THE TOP",
           "vr platforming game , that gives you the freedom to move across the environment with superhuman abil...",
           2
          ],
          [
           "GDO Masters",
           "gdo masters is a 3d fighting game based on internet characters: joaquin teixeira/grampa, loen, gatow...",
           3
          ],
          [
           "IKUSAAAAAAAN!",
           "experience of 193% exhilaration like never before use the completely invincible fever system to shoo...",
           5
          ],
          [
           "Aeris&Zack",
           "due to an error in the world tree, the three goddesses of fate found me and asked me to help and tha...",
           2
          ],
          [
           "Good puzzle",
           "good puzzle - this puzzle type logic game. in the game, you need to collect a full-fledged image fro...",
           5
          ],
          [
           "Stickman Synthwave Escape",
           "play as stickman, escape the mysterious secret laboratory and collect all the pills! stickman synthw...",
           4
          ],
          [
           "INVISIBLE",
           "'you are in a closed space craft. your aim is to survive even though you defeat other passengers.' t...",
           5
          ],
          [
           "Holiday Jigsaw Christmas",
           "ho ho ho! santa's coming! in this year he is bringing for you: 100 beautiful photos more than 6 hour...",
           4
          ],
          [
           "Zombie Builder Defense",
           "survival update! survival update beta survival mode has been added. let us know what you think and h...",
           2
          ],
          [
           "Beyond Flesh and Blood",
           "the full version of episode 1 is now complete in early access! download today! become the master of ...",
           1
          ],
          [
           "Moo Lander",
           "optimized for steam deck metacritic rating about the game scour the unknown in search for the source...",
           1
          ],
          [
           "Haunted Gas Station",
           "after a vehicle accident, a man is forced to check a nearby gas station for help, unaware of its gha...",
           3
          ],
          [
           "Meteor Blasters",
           "overview meteor blasters is a modern re-imagining of the classic 80s asteroid shooters from the earl...",
           4
          ],
          [
           "RunningMarty",
           "marty gets into other dimensions on his trusty hoverboard, trying to evade obstacles, aggressive car...",
           4
          ],
          [
           "Perigee",
           "the great world-ship perigee is powered through deep space by the matter its generating core collect...",
           5
          ],
          [
           "Boomerang X",
           "reaving through hordes of nightmares isn’t the only thing your boomerang is good for: once thrown, y...",
           2
          ],
          [
           "Civatlas",
           "what to expect... the early access version of civatlas has core gameplay mechanics that we plan to e...",
           1
          ],
          [
           "Dimensions",
           "story drakken has destroyed the 2nd dimension. you must take on all of his minions, save each world,...",
           2
          ],
          [
           "Aim: Warmup",
           "aim: warmup is a game to assist your aim in games like valorant, cs: go, quake, and overwatch. this ...",
           5
          ],
          [
           "Nosy Little Fly",
           "a challenge like nothing else! accelerating, making turns and stopping are all done by controlling t...",
           7
          ],
          [
           "Lost Lands: The Wanderer",
           "the legendary susan the warmaide is back in the lost lands! a ghost ship, an evil overlord, an islan...",
           3
          ],
          [
           "Mixolumia",
           "mixolumia introduces a fresh twist on falling block puzzlers. scintillating visuals and entrancing m...",
           7
          ],
          [
           "Planetarium 2 - Zen Odyssey",
           "welcome to the universe playground planetarium 2 zen odyssey is a fun and interactive way to explore...",
           4
          ],
          [
           "Fission Superstar X",
           "experience a weird, relentless solar tour in this randomly generated space rogue-lite. travel from p...",
           1
          ],
          [
           "Red Colony 2 Uncensored",
           "the blue colony was a place of opportunity, a capitalist metropolis where hard work, determination a...",
           3
          ],
          [
           "Hermitage: Strange Case Files",
           "~ welcome to hermitage! ~ but beware: ye who enters here might start questioning reality as they kno...",
           3
          ],
          [
           "DIMENSION REIGN - ROGUELIKE DECKBUILDER",
           "the world has changed and is now under a tyrant’s rule. facing hordes of enemies, edge and camilla, ...",
           7
          ],
          [
           "Zombie Hunter",
           "zombie hunter is a action game you have to move forward, defeating numerous zombies. explore the map...",
           2
          ],
          [
           "Meaningless",
           "take a breath. think. manipulate the blocks. build your perfect own loop. enjoy your victory, it's s...",
           5
          ],
          [
           "Vera Swings",
           "a young girl named vera falls asleep while gazing at the moon in the night sky. in her dream, she wa...",
           3
          ],
          [
           "喰人記",
           "story -the man-eating monster the protagonist is a man-eater in the form of a young man. each time h...",
           3
          ],
          [
           "Legions of Steel",
           "the empire of the machines is threatening the entire universe. the league of aliens and the u.n.e. (...",
           1
          ],
          [
           "Cyber OutRun",
           "cyber outrun is an arcade pursuit game, inspired 80's aesthetic of neon lights and soundtracks. the ...",
           4
          ],
          [
           "Goblin and Coins II",
           "years have passed, decades maybe. little goblin moved on, all but forgot about the great coin troubl...",
           7
          ],
          [
           "Steel Assault",
           "join the community about the game punch, whip, and zipline your way through a post-apocalyptic ameri...",
           4
          ],
          [
           "Where is Mr Cloud",
           "where is mr cloud is a 2d mystery solving game. in this game where you are about to find our main ch...",
           2
          ],
          [
           "Euclidean",
           "behind our comfortable, familiar dimensions, beyond the timeless depths of space, there is a place t...",
           7
          ],
          [
           "Touhou Seirensen ~ Undefined Fantastic Object.",
           "ゲームシステム基本操作 人間を操作し、ショットで敵を倒します。 敵や弾、レーザーなど、当ると痛そうな物に当たるとミスとなってしまいます。 残機が０の時に、ミスをするとゲームオーバーです。 画面上部に移...",
           4
          ],
          [
           "Electrify",
           "if the game is not available in your country come to the discord immerse yourself in the world of th...",
           2
          ],
          [
           "Biglands: A Game Made By Kids",
           "embark on an epic adventure through unknown lands on a quest to save the world! fight your way throu...",
           7
          ],
          [
           "Void Rangers",
           "quotes from reviews 'if you wondered what space pirate trainer was training you for, it's void range...",
           7
          ],
          [
           "Dream UniVRse",
           "special offer dream univrse is out now! purchase now to get a limited 20% launch discount! about the...",
           5
          ],
          [
           "Hungry Wolf",
           "hungry wolf is a horror game. in it you need to shoot at enemies with a slingshot. they will appear ...",
           2
          ],
          [
           "Ostrich Runner",
           "ostrich runner – is the fascinating animated arcade racing where the main heroes are funny and a lit...",
           3
          ],
          [
           "Handball 16",
           "play with all your favourite teams in handball 16, the first handball simulation! a new way to play ...",
           5
          ],
          [
           "Frick, Inc.",
           "in frick, inc. you'll drive various trucks using on-screen control panels. each truck has a differen...",
           7
          ],
          [
           "Escape from hospital",
           "there is no dentist with a long line to him, from which you really want to get up and leave, althoug...",
           2
          ],
          [
           "Digital Mate",
           "[more preview videos] / [about software] digital mate, your exclusive and adorable desktop companion...",
           7
          ],
          [
           "Miami Cruise",
           "miami cruise is a game inspired by retrowave aesthetics. you're a hovercar driver, on an infinite be...",
           2
          ],
          [
           "Shan Gui (山桂)",
           "it is the end of summer. han hui, a university student, meets a mysterious young girl named he jia i...",
           3
          ],
          [
           "Mio Garden",
           "take a break from reality. mio garden offers up a calming virtual reality experience unlike any othe...",
           2
          ],
          [
           "Legends of Pixelia",
           "check out our upcoming game about the game legends of pixelia is an action role-playing game that co...",
           4
          ],
          [
           "Antigraviator",
           "join us on discord about the game in the year 2210, racing has evolved far beyond its expected limit...",
           4
          ],
          [
           "Tennis the Menace",
           "a tennis game with flash - tick. ✅ a tennis game with slomo - tick. ✅ a tennis game with rafa nadal ...",
           2
          ],
          [
           "Buddies in Boxes",
           "buddies in boxes is a quirky turn-based strategy game where adorable characters race for points to e...",
           5
          ],
          [
           "Pew-Pew Land",
           "you are armed and hostile creatures are wandering around the green meadow, ready to open fire on you...",
           1
          ],
          [
           "DawnOfCombat",
           "battle at dawn' is a game i developed independently in my spare time, created out of a passion for t...",
           5
          ],
          [
           "Grappledrome",
           "there is no life. there is no hope. there is only the grappledrome! in the future, mankind leaves th...",
           7
          ],
          [
           "Shake Ground",
           "'shake ground' is a classic top-down arena shooter. the player takes on the role of a fearless tanke...",
           1
          ],
          [
           "Bot Vice",
           "dya games follow us! / about the game show off your skills &amp; reflexes in this frantic gallery sh...",
           4
          ],
          [
           "Expanse",
           "warp off into the expanse and into the midst of battle with up to 4 players, as you try to rid the u...",
           5
          ],
          [
           "Frogman Magmaborn",
           "frogman wakes up underground - without memories, surrounded by magma and turned into a monster. all ...",
           4
          ],
          [
           "SojournVR",
           "in order to survive, you will need some good tools, weapons and guidance. your journey starts in the...",
           2
          ],
          [
           "Guardian",
           "about the game guardian is a 2d side scrolling platformer that follows the story of an unlikely hero...",
           4
          ],
          [
           "Cat Jigsaw Puzzle Games",
           "do puzzles in a new puzzle way! advanced puzzle layout and involving gameplay will help you to relax...",
           7
          ],
          [
           "Let's Learn Korean! Hangul",
           "want to learn to read korean? let's start learning hangul! study hangul as you explore the republic ...",
           7
          ],
          [
           "VoidOut Parkour",
           "can you escape the void? make your way across the sky in this challenging 3d platformer to see if yo...",
           2
          ],
          [
           "Celebrity Simulator",
           "it's marriage age and can't play anymore! after playing carefree for a few years, i suddenly found t...",
           2
          ],
          [
           "Bad Bots Battle Arena",
           "welcome to mini battle bot championship. bad bots battle arena is minibots &amp; robot fighting game...",
           7
          ],
          [
           "Fantasy Defense",
           "early beta access 'objectives of timely access - to collect and process feedback from players to imp...",
           1
          ],
          [
           "Progetto Ustica",
           "progetto ustica is a serious game that aims at keeping alive the memory of one of the most tragic ev...",
           1
          ],
          [
           "36 Fragments of Midnight",
           "this time midnight's friends lost of their star fragments! your task is to find them, and take them ...",
           2
          ],
          [
           "Changes",
           "in changes you solve puzzles by pushing cells to reshape the level and reveal latent possibilities. ...",
           7
          ],
          [
           "Coach Bus Simulator Parking",
           "are you ready to drive coach bus on bumpy roads? play the most realistic coach bus simulator game. d...",
           5
          ],
          [
           "Steve's Pub - Soda on tap",
           "it's all about service! steve's pub is a bartender simulator game for virtual reality with not too r...",
           7
          ],
          [
           "Investigation Stories : gunsound",
           "with complete freedom to move around the fictional town, you can: move around the map at any time 8 ...",
           2
          ],
          [
           "ARIA CHRONICLE",
           "princess aria of the kingdom of tamageria visits the small countryside village of latebra, while on ...",
           3
          ],
          [
           "SparkleWand Puzzle",
           "unique puzzle game ! seemingly easy casual game at first but will still challenge you. test you skil...",
           2
          ],
          [
           "Mutant Storm: Reloaded",
           "mutant storm progresses over 89 levels of twin-stick shooter mayhem! as you get deeper, you are ever...",
           7
          ],
          [
           "7 Wonders II",
           "journey back in time with the 7 wonders series to when magnificent structures were being built in fa...",
           5
          ],
          [
           "TealGrounds",
           "tealgrounds is a short, third-person, puzzle, horror game with randomly generated world that takes p...",
           3
          ],
          [
           "Pity Pit",
           "pity pit is a procedural 2d platformer about digging blocks, crafting powerful tools &amp; dangerous...",
           7
          ],
          [
           "Quible Sphere",
           "gameplay: quible sphere features simple gameplay; get from start to end. that's basically it! but ho...",
           5
          ],
          [
           "DARK ASTRAL",
           "dark astral is a 2d action-adventure platform game with fast-paced combat, world exploration, multip...",
           4
          ],
          [
           "Twilight Town: A Cyberpunk Day In Life",
           "you play as ikuro, a gambling addict looking to fuel his other addiction to his personalized a.i rob...",
           7
          ],
          [
           "The Lost Robot - Jigsaw Puzzle Stories",
           "cooming soon recomended for you / about the game through this app we will connect you with our remot...",
           7
          ],
          [
           "Gematombe",
           "wishlist now about the game gematombe is an action-puzzle-vs-game where you can play one-on-one matc...",
           5
          ],
          [
           "Trivia Vault: Mini Mixed Trivia",
           "now available / about the game welcome to the trivia vault contestant! play as a contestant in a gam...",
           5
          ],
          [
           "CubeZ",
           "early access warning cubez is in early access alpha. please do not purchase it unless you want to ac...",
           7
          ],
          [
           "Merchant of Bohemia",
           "are you ready to hop on a journey as a merchant in medieval bohemia? choose your character and start...",
           2
          ],
          [
           "Familiar - Battle of the Labyrinth",
           "in this game, familiar: battle of the labyrinth, you will embark on a treacherous journey through a ...",
           2
          ],
          [
           "Robot Programmer",
           "robots are changing the world. in robot programmer , we are building a fully automated factory and y...",
           7
          ],
          [
           "You Shall Not Break!",
           "the goal sounds simple but believe us, it is not! use your mouse to protect your grid tiles from the...",
           2
          ],
          [
           "Last Evil",
           "💘check this out!💘 / about the game humanity has sealed the great demon away. sealed away deep in the...",
           3
          ],
          [
           "Turtle Racer",
           "turtle racer is an educational racing game designed for players to learn about biological marine lif...",
           2
          ],
          [
           "Fallen Kingdom",
           "someday any kingdom comes to an end. most often this is due to wars, but what if it happens because ...",
           3
          ],
          [
           "Amicade",
           "amicade is a nostalgic trip to the arcades, where you'll find three score attack games with online l...",
           2
          ],
          [
           "Rocketbirds: Hardboiled Chicken",
           "annihilate an evil penguin regime in this cinematic platform adventure game offering full solo and c...",
           4
          ],
          [
           "Little Kingdom 2",
           "demo : a slow-paced rts based on influence and kingdom optimisation. managing a kingdom is not an ea...",
           7
          ],
          [
           "Scribbled Arena",
           "scribbled arena brings the retro tank battles of arcades in a hand-drawn, doodled and fast paced ava...",
           4
          ],
          [
           "Lunar Mirror:The Pavilion of Desire",
           "this is a mysterious party, all party members will wear a mask, losing the mask will also mean that ...",
           3
          ],
          [
           "Secret Savings",
           "story unfortunately, even though you are the master of the house, your wife grasps all rights of you...",
           2
          ],
          [
           "Bouncer Story",
           "bouncer story, a retro-inspired film-noir featuring a protagonist working as a bouncer to pay off a ...",
           2
          ],
          [
           "Offroad Racing On Line",
           "drift, slide, skid! offroad racing online is the isometric 3d perspective car racing game that makes...",
           4
          ],
          [
           "Endless Battlefield",
           "discover and experience fps battles in an endless battlefield world! fps includes 6 modes: conquer, ...",
           1
          ],
          [
           "The Resurrection Of Amelia : Across two worlds",
           "one night, amelia was involved in a dispute, died in a car accident, and then strangely resurrected....",
           5
          ],
          [
           "Element Runner",
           "across land, water and clouds! element runner is a fun, casual platformer where you can explore worl...",
           7
          ],
          [
           "The Solitaire Conspiracy",
           "high stakes, highly powered protego, the world’s leading spy agency, has been destroyed. only one pe...",
           4
          ],
          [
           "Ninja Hanrei",
           "ninja hanrei is a 2d run and gun platformer game inspired on ancient japan but with super powers. ex...",
           4
          ],
          [
           "Magical Strings",
           "take the battle to your opponents in magical strings, a unique rhythm-projectile-fighting game. trav...",
           5
          ],
          [
           "EBONY",
           "add to your wishlist - ebola 3 / about the game the plot tells the story of adam - a completely ordi...",
           3
          ],
          [
           "We Were Here Too",
           "a new chapter is here! continue the story of castle rock in we were here forever , out now! can you ...",
           2
          ],
          [
           "Grim Tales: Dual Disposition Collector's Edition",
           "elephant games returns with the latest mysterious case of the grim tales series! when a strange souv...",
           3
          ],
          [
           "Multibombers",
           "supporter pack multibombers - supporter pack it is optional to donate. any money gained from the sup...",
           5
          ],
          [
           "No men in this house",
           "when a widow dies a painful death, she becomes an evil spirit. the ghost wanders around the village,...",
           3
          ],
          [
           "Love Love Diary",
           "game introduction love love diary' is a fun and relaxing jigsaw puzzle game, where completing the pu...",
           2
          ],
          [
           "Blasphemous 2",
           "digital deluxe edition includes blasphemous 2 - full game blasphemous 2 - digital artbook blasphemou...",
           3
          ],
          [
           "Infinitum Vitas",
           "in the land of solace , a legend tells of powerful individuals known as the 'soul bound'. able to pe...",
           7
          ],
          [
           "Rebel Galaxy Outlaw",
           "out of cash, out of luck, out on the fringe. juno markev has a killer to tail, a debt to pay, and mo...",
           3
          ],
          [
           "The Adventures of Ten and Till",
           "the adventures of ten and till is a bullet hell shoot-em-up developed by japanese doujin designer to...",
           4
          ],
          [
           "ExoTanks",
           "discord about the game the legend the battlefield - the planet of mars. the confederation of the ear...",
           1
          ],
          [
           "Grave of the Petrified",
           "grave of the petrified is a single-player vr game. set in an ancient greek temple where medusa has b...",
           3
          ],
          [
           "Amaze: Interactive VR Movies",
           "be amazed by the best interactive vr movies and more, only on amazevr. • interactive vr movies take ...",
           2
          ],
          [
           "Blind and Schizophrenic",
           "sixty-nine year old richard cox is a washed up schizophrenic, who also happens to be blind on accoun...",
           2
          ],
          [
           "Medieval Engineers",
           "medieval engineers is a sandbox game about engineering, construction and the maintenance of architec...",
           1
          ],
          [
           "Minion Forest",
           "the legendary paradise of minions, mirica forest, is in great danger! the wicked bloody queen and th...",
           4
          ],
          [
           "Neon Force Pushers",
           "neon force pushers is an action packed, competitive multiplayer, platformer where your goal is to pu...",
           2
          ],
          [
           "Hells Bend on Wounded Knee",
           "fight the oppression. make it to the castle and find morbis. a fast paced single player fps arena sh...",
           4
          ],
          [
           "Succubus Sessions: Mami Mamiya's Sweet Slice of Hell",
           "join our community about the game gameplay &amp; features short-ish kinetic vn clocking in at 7+ hou...",
           3
          ],
          [
           "StarRaver",
           "hang out with your friends and party in this sci-fi music experience! visit the unique clubs definin...",
           4
          ],
          [
           "BLACKHOLE",
           "coming soon: / blackhole: complete edition out now! one of the highest-scoring puzzle platformers of...",
           4
          ],
          [
           "Cirque du Soleil",
           "enter the world of cirque du soleil for an up close and intimate look at their most provocative show...",
           4
          ],
          [
           "Club Dance Party VR",
           "- club dance party is a three-dimensional rhythmical action game within vr environment. using the fu...",
           7
          ],
          [
           "For Sparta",
           "300 warriors left sparta to stand between one million persians and the fate of greece in the pass of...",
           7
          ],
          [
           "4Tacos",
           "a cowardly goose against the whole dinosaur power mafia . in a distant country called tacotitlan, th...",
           3
          ],
          [
           "Riddle of the Jelly",
           "welcome to riddle of the jelly, a charming 2d platformer that's perfect for gamers of all ages! our ...",
           7
          ],
          [
           "Serious Sam 4",
           "watch the behind the schemes 'serious sam 4' episode digital deluxe edition expand your serious sam ...",
           4
          ],
          [
           "Occultism Limbo: The ritual of little nightmares",
           "are you innocent or guilty? a story of sinister magic, play and makes decisions in this evil adventu...",
           2
          ],
          [
           "Set Sail",
           "set sail is a western visual novel set in the modern day where the golden age of pirating never prop...",
           3
          ],
          [
           "SIZIF",
           "sisyphus had to push a rock on top of a hill, once on top, the rock roll down the hill then sisyphus...",
           2
          ],
          [
           "Little Ninja",
           "little ninja is a new stealth game from brex studios. set in a suburban house, little ninja is about...",
           3
          ],
          [
           "Lazy Galaxy 2",
           "lazy galaxy is an idle/clicker game with base-building and rts elements. lead an evil (albeit lazy) ...",
           7
          ],
          [
           "LOVEY ♡ DOVEY",
           "lovey ♡ dovey you've always been super into toilets. you use them so many times a day that you could...",
           7
          ],
          [
           "Real Orchestra",
           "'a gaming experience for aspiring conductors.' real orchestra is a life-like experience as a orchest...",
           5
          ],
          [
           "Minako",
           "minako is kind of like a tower defense game. the goal is to defend your castle for 30 nights. to do ...",
           2
          ],
          [
           "Surviv.io - 2D Battle Royale",
           "choose the mode that fits your mood. go it alone in solo mode, battle with a partner in duos, or fie...",
           7
          ],
          [
           "Save Room - The Merchant",
           "add to your wishlist! you may also like / about the game gameplay to progress through each level, th...",
           2
          ],
          [
           "Banana Hell",
           "banana hell is a platform jumping challenge game, move upwards to collect mysterious crystals! an ad...",
           2
          ],
          [
           "Relight The Dark",
           "relight the dark is a chilling and emotionally charged short horror experience that tells a story ab...",
           3
          ],
          [
           "Kingdoms Rise and Fall",
           "kingdoms rise and fall an engrossing real-time strategy game with grand strategy elements that embar...",
           1
          ],
          [
           "Run For Coins",
           "gameplay each map has a key that needs to be found to continue, kill all enemies and collect all coi...",
           5
          ],
          [
           "Crime Reaper",
           "welcome to your newest gig — solving murders in the afterlife for mx. death, the grimmest of reapers...",
           3
          ],
          [
           "来人 LIGHTWORKERS",
           "synopsis: on new year's eve of showa 1 (1926), hiroshi meets kiyoshi, his guardian angel. following ...",
           3
          ],
          [
           "Destroyer: The U-Boat Hunter",
           "roadmap buzz check out our upcoming game / about the game / destroyer: the u-boat hunter is an innov...",
           1
          ],
          [
           "Final Theosis",
           "bad news, you're dead. the second you wake up, you find yourself surrounded by ghosts who, like you,...",
           2
          ],
          [
           "Cult Of Babel : Prologue",
           "add full game to your wishlist about the game this is the free prologue to cult of babel - a rogueli...",
           7
          ],
          [
           "ABE VR",
           "abe vr is an intense experience that recreates the horrifying story about a misguided robot seeking ...",
           3
          ],
          [
           "Choice of Robots",
           "the robots you design will change the world! will you show them the true meaning of love, or conquer...",
           7
          ],
          [
           "Lawless West",
           "by personal order of the president, a group was created for especially important and dangerous cases...",
           1
          ],
          [
           "HUNDRED FIRES: The rising of red star - EPISODE 1",
           "hundred fires is an action, stealth and infiltration game with an exciting story and incredible cine...",
           1
          ],
          [
           "Spock in the Dama Kingdom",
           "spock in the dama kingdom is an 3d cartoon adventure game, an evil entity decides to throw a spell o...",
           7
          ],
          [
           "Adventures of JQ Jones: \"Isle of the Serpent Empress\"",
           "help explore and guide professor j.q. jones through the serpent's intricate mazes. collect gems, ser...",
           7
          ],
          [
           "VR Walking Simulator",
           "explore vr walking simulator lets you explore numerous realistic natural environments from the comfo...",
           2
          ],
          [
           "Warhammer 40,000: Space Wolf",
           "herocraft pc discord about the game take command of a space wolves squad led by valgard twice slain....",
           1
          ],
          [
           "Havsala: Into the Soul Palace",
           "can you escape the soul palace? ...or should you? havsala features: - beautiful hand-drawn artwork -...",
           3
          ],
          [
           "Slide - Animal Race",
           "follow to get the news about the game play quick &amp; fun races with your friends. ride cute animal...",
           2
          ],
          [
           "Templum de Malum",
           "a 'point and click' adventure game in the classic style but with modern day elements. philip is a yo...",
           7
          ],
          [
           "Furry Lust",
           "wishlist our friends' new game my furry dragon: / short arcade game with beautiful furry girls. rela...",
           4
          ],
          [
           "Foosball VR",
           "foosball vr is a table football simulator focused on the same sensation you get from playing it in t...",
           5
          ],
          [
           "Last Horizon",
           "a minimal, atmospheric space survival &amp; exploration game, set to deep ambient music. pilot the l...",
           1
          ],
          [
           "Scramble",
           "scramble is a resource management game in which you compete against other companies for the coloniza...",
           1
          ],
          [
           "COLDSTEEL's Sprite Studio",
           "coldsteel's sprite studio is a new generation pixel editor allowing you to create pixel art. you can...",
           7
          ],
          [
           "Autobahn Police Simulator 2",
           "start your even more exciting career as law enforcer on europe’s fastest road now with the successor...",
           1
          ],
          [
           "Demonheart: The Ice Demon",
           "in this otome visual novel, you play as the young witch shar, who was invited to live with the famou...",
           3
          ],
          [
           "Shattered Union",
           "following a great increase in terrorism, internal strife and ultimately, the nuclear destruction of ...",
           1
          ],
          [
           "Please, Touch The Artwork",
           "there are 160 paintings (2~3 hours of gameplay) spread over 3 unique games , the 1st game tells the ...",
           4
          ],
          [
           "S&M: FL",
           "welcome to join the group, where you can discuss the game with many players and give feedback about ...",
           2
          ],
          [
           "Card Battle Spirit Link",
           "card battle spirit link is a digital card game that uses a revolutionary spell book system! instead ...",
           1
          ],
          [
           "Flowers -Le volume sur automne-",
           "yuzuriha yatsushiro, president of the school's council of nicaea, knows the truth hidden within the ...",
           3
          ],
          [
           "Blockworks",
           "blockworks is a creative sandbox in vr. express your full creativity and build anything your mind ca...",
           7
          ],
          [
           "Portability",
           "portability is a 2d physics game where you teleport and destroy objects to solve puzzles. teleport o...",
           7
          ],
          [
           "Digitizer",
           "digitizer is my new project as a solo developer/artist. the game has 10 hours of gameplay for the ma...",
           1
          ],
          [
           "Ebony Spire: Heresy",
           "the game price is set to exorbitant levels for russia at this point. stop the war on ukraine. suppor...",
           7
          ],
          [
           "Prop Game",
           "prop game is the perfect place to have fun with your friends! host a game and invite them to compete...",
           2
          ],
          [
           "Meu",
           "meu is a new type of body language based communication. meu lets you explore, record and share your ...",
           7
          ],
          [
           "Awkward Date Hero",
           "you may be awkward, but so are they. this is your last resort for finding someone right for you. the...",
           2
          ],
          [
           "mdiapp+ SE",
           "mdiapp+ se is a paint tool for creating cartoon. it is equipped with the following convenient functi...",
           4
          ],
          [
           "Solstice",
           "solstice is a very retro wargame, heavily inspired by the classic games lords of midnight, doomdarks...",
           1
          ],
          [
           "Dan's Odyssey",
           "dan's odyssey is an arcade like arena top down shooter. you fight shapes in a futuristic setting wit...",
           4
          ],
          [
           "What The Dub?!",
           "remote play - quick start in what the dub?! players use any browser enabled device to enter text and...",
           5
          ],
          [
           "God of War",
           "enter the norse realm his vengeance against the gods of olympus years behind him, kratos now lives a...",
           4
          ],
          [
           "5 Days",
           "an open world time travel adventure welcome to a fully open world, no limits time travel puzzle adve...",
           2
          ],
          [
           "Mech Armada",
           "mech armada puts you in command of your own team of custom-built mechs. upgrade and build your roste...",
           7
          ],
          [
           "Leisure Town",
           "first person 3d casual games.which is suitable for people of all ages. you are a lost person. you ac...",
           2
          ],
          [
           "Karpov",
           "dreams. kingdom come. the astral. how connected are they? is it possible to dive into a conscious dr...",
           3
          ],
          [
           "Synth Pong",
           "synth pong is an electrifying pong game with synthwave theme that will transport you back to the 80s...",
           5
          ],
          [
           "Vacation Adventures: Park Ranger 6",
           "a sensational adventure in the great outdoors of pinecreek hills spend a sensational summer vacation...",
           4
          ],
          [
           "Rise Eterna",
           "feed your nostalgia with a tactical rpg inspired by the greatest classical titles. take on an advent...",
           7
          ],
          [
           "Slime Climb",
           "slime climb is a bouncy and approachable pixel platformer, made by a single developer. you play as a...",
           7
          ],
          [
           "JUMP",
           "jump , developed by endeavor one inc.©, enjoy the world's first large scale virtual reality jumping ...",
           4
          ],
          [
           "Its Simple, SHOOT",
           "its simple, shoot! has you navigating the level utilizing a range of weapons and abilities to fight ...",
           5
          ],
          [
           "Blowhards",
           "blowhards is a long range multiplayer fighting game, with king of the hill style gameplay. the chara...",
           5
          ],
          [
           "Harlow",
           "gold winner at the 2022 nyx game awards! we're thrilled to announce that harlow won gold at the 2022...",
           4
          ],
          [
           "The Legend of Viccess",
           "{game introduction} the original hybrid rpg game mode takes you deep experience of different world a...",
           3
          ],
          [
           "Woodways",
           "woodways is a puzzle game in which you control all characters at once. guide different animals to th...",
           5
          ],
          [
           "Bitcoin Farm",
           "become the new king of cryptocurrency! bitcoin farm is a clicker game where you will aim to undermin...",
           7
          ],
          [
           "DreamCatcher: Reflections Volume 1",
           "riza wolfe is the kind of person often referred to as a daydreamer. with her high school days approa...",
           3
          ],
          [
           "Funky Karts",
           "in funkyland a certain harmony has long existed between species. so much so that cross-breeding is q...",
           3
          ],
          [
           "Pixel Noir",
           "story: there was something rotten in that old hospital. you were just following your instincts, that...",
           2
          ],
          [
           "Tiki Brawl",
           "grab your friends and throw'em to the sacrifice pit before they throw you! tiki brawl is a fast-pace...",
           7
          ],
          [
           "The Knight of Turn",
           "knight of turn is a board game where the brave knight, imprisoned by the monsters in the deep dungeo...",
           1
          ],
          [
           "WarpThrough",
           "in warpthrough you won't survive by running around and spamming the attack button. ... because there...",
           7
          ],
          [
           "Dead Purge: Outbreak",
           "you are one of the few who have survived the outbreak of an epidemic disease that infected most of t...",
           1
          ],
          [
           "Scorch",
           "it's been 30 years since a terrible arson attack erased an entire family. until today the culprit ha...",
           3
          ],
          [
           "Vogvhathos",
           "vogvhathos is an epic fantasy that plays most similarly to a text adventure. you are an elf of unkno...",
           3
          ],
          [
           "Scalak",
           "hey, hamster here. i made push, zenge and art of gravity. goal: fill up the figures. relax. have fun...",
           2
          ],
          [
           "RoadkillerZ",
           "background: hidden deep beneath the breather metropolises are vast undercities carved out by slaving...",
           2
          ],
          [
           "Trapmania",
           "your homeland is under attack! travel far and wide, navigating beautiful maps and upgrading your tra...",
           7
          ],
          [
           "Zork: Grand Inquisitor",
           "magic has been banned from the great underground empire of zork. by edict of the grand inquisitor mi...",
           3
          ],
          [
           "Stadtleben",
           "stadtleben is a relaxing and strategic city building game where you gradually build a big city using...",
           5
          ],
          [
           "Brick Breaker VR",
           "the goal of the brick breaker vr is to bring the old brick breaker, breakout experiences to life in ...",
           2
          ],
          [
           "Mage and Monsters",
           "create an army and use spells while it fights for you. mage &amp; monsters is an active auto battler...",
           2
          ],
          [
           "人狼の仔",
           "◆ deck build rpg x dark fantasy style scenario the royal road dark fantasy scenario that was not in ...",
           3
          ],
          [
           "Fieldrunners 2",
           "get ready to defend the world! the biggest sequel in tower defense history is finally here: fieldrun...",
           1
          ],
          [
           "Crisis VRigade 2",
           "crisis vrigade 2 is a fast-paced virtual reality action shooter that lets players take on the role o...",
           7
          ],
          [
           "Typing Instructor Platinum 21 - Mac",
           "typing instructor platinum is the new typing leader! this program uses the latest technology to prov...",
           7
          ],
          [
           "Strata Spaces VR",
           "strata spaces vr is the ultimate application for modelers and designers to visualize their creations...",
           7
          ],
          [
           "Decay - a real time interactive experience",
           "decay, a real time interactive experience made in godot engine. basically a technology showcase for ...",
           7
          ],
          [
           "Shooting Covid",
           "bella's mission to restore hope and hunting for a vaccine is risky. she cannot do this on her own. s...",
           2
          ],
          [
           "NAMELESS",
           "warning contains flashing imagery, heavy topics such as mental illness and disturbing content. user ...",
           7
          ],
          [
           "Public Defense Corp",
           "latest release / / / upcoming games / / about the game japan, in the year 20xx... the evil secret so...",
           1
          ],
          [
           "Collecstar",
           "collecstar is a 2d platform arcade game where you have to climb as high as possible by jumping on ra...",
           5
          ],
          [
           "RACE On",
           "race on brings you the epic wtcc 2008 season down to the smallest detail and now you get the chance ...",
           5
          ],
          [
           "Survarium",
           "new dlc available get your new vepr 'molot' pack featuring a tier 4 premium weapon! new dlc availabl...",
           5
          ],
          [
           "Aliens Adventure",
           "check out more games from us / / / about the game aliens adventure is a super classic adventure game...",
           4
          ],
          [
           "King of Dragon Balls",
           "i`m the witness of those events. i saw how empires fall apart and ambitious turn to ashes. i saw how...",
           3
          ],
          [
           "Rise of the samurai in VR",
           "during the warring states period in japan, the tokugawa shogunate levied heavily and aggressively. s...",
           1
          ],
          [
           "Another Side",
           "sara, a lost girl, her vague memories say nothing. how did she get here? who brought her? and the ma...",
           2
          ],
          [
           "Mr. Maze",
           "mr. maze is a budget price first-person adventure story by mark j. lovegrove, for screen 7. penny po...",
           4
          ],
          [
           "Grand Theft Auto III – The Definitive Edition",
           "experience the epic open world adventure that started it all updated for a new generation with acros...",
           1
          ],
          [
           "Age",
           "this is a happy game. game gameplay: 1. various colored balls will appear in front of the player, an...",
           5
          ],
          [
           "DR MILOS REVENGE",
           "gameplay dr milos revenge is a challenging horror experience with suspenseful stealth gameplay, ligh...",
           4
          ],
          [
           "Tobari 2: Nightmare",
           "want to enjoy tobari 2 but without the insane difficulty? give tobari 2: dream ocean a go! this is a...",
           2
          ],
          [
           "Flyeeex",
           "brief description there are 10 levels available in the current version. the main character flyeeex i...",
           3
          ],
          [
           "Donut Arena",
           "donut arena is a gladiatorial action roguelite. choose the arena that best fits the current situatio...",
           5
          ],
          [
           "ライフワン- lifeOne",
           "the story is a general rpg where the brave defeat the devil. moreover, the aim is to defeat the demo...",
           5
          ],
          [
           "JUST DASH",
           "just dash! - this is a new hardcore platformer from a first person view. you have to run over obstac...",
           5
          ],
          [
           "41 Hours: Prologue",
           "the full version / about the game 41 hours - is a first-person shooter dramatic experience that foll...",
           7
          ],
          [
           "Clouds of Rain",
           "in clouds of rain you will play multiple characters, each with his own story. explore a hand drawn w...",
           1
          ],
          [
           "S.P.A.T.",
           "you have a unique opportunity to feel like an operator of a special squad to fight paranormal creatu...",
           2
          ],
          [
           "Without Escape",
           "without escape harkens back to first-person graphic adventures of the early ‘90s, which relied on pr...",
           2
          ],
          [
           "Holiday Jigsaw Thanksgiving Day 2",
           "a thanksgiving gift for all fans of classical puzzles – it’s a new holiday puzzle! holiday jigsaw th...",
           7
          ],
          [
           "DrumKit VR - Play drum kit in the world of VR",
           "' drumkit vr ' is a vr game lets you play drum kit in vr world. currently support htc vive. componen...",
           4
          ],
          [
           "Winter's Ankh",
           "an rpg from marix about humanity's struggles on the continent against previously unseen influences. ...",
           7
          ],
          [
           "Midnight's Blessing 2",
           "presentation midnight blessing 2 is the direct sequel to the 1st game, already available on steam. c...",
           3
          ],
          [
           "Freddi Fish and Luther's Water Worries",
           "humongous tees now available! official humongous entertainment t-shirts featuring pajama sam, spy fo...",
           7
          ],
          [
           "MouseCraft",
           "ever wondered what a cross between tetris and lemmings would look like? well, wonder no more, 'cause...",
           7
          ],
          [
           "Slymes",
           "slymes is a 3d multiplayer arena cell-game. it is inspired by games like agar.io and osmos, but with...",
           2
          ],
          [
           "Labyrinth Hearts II",
           "labyrinth hearts ii is a single-player 2.5 dungeon crawler. you are summoned from another world to e...",
           5
          ],
          [
           "Act of War: Direct Action",
           "tomorrow's war is now ripped from today's headlines, act of war: direct action™ is a frightening tal...",
           1
          ],
          [
           "Man in a Maze: Deathmatch",
           "enter the deadly game show of man in a maze and leave with much more than your life. get your fiftee...",
           7
          ],
          [
           "Ultimo Reino 2",
           "game requires a directx 11 card the second part has come. this is the time of guilds, wizards, warri...",
           7
          ],
          [
           "PRO EVOLUTION SOCCER 2018",
           "pro evolution soccer 2018 - fc barcelona edition bundle [premium edition] a special edition version ...",
           4
          ],
          [
           "Foxhole",
           "foxhole is a massively multiplayer game where thousands of players shape the outcome of a persistent...",
           1
          ],
          [
           "Company of Heroes 2 - Ardennes Assault",
           "company of heroes™ 2: ardennes assault is a single-player only standalone experience that will allow...",
           1
          ],
          [
           "FLASHOUT 2",
           "fight the pandemy in our recent title: about the game flashout 3 coming - wishlist now! now with fre...",
           4
          ],
          [
           "Beat.School: DJ Simulator",
           "mac os compatibility alert mac os users : you must be using a 64-bit mac &amp; os, and your mac must...",
           2
          ],
          [
           "SuperSecret",
           "supersecret is a tiny adventure made just for you. a very special secret is hidden on the strange is...",
           3
          ],
          [
           "Cities: Skylines",
           "featured dlc digital deluxe edition the deluxe edition: included in the deluxe edition are 5 in-game...",
           4
          ],
          [
           "Withering Rooms",
           "withering rooms is a 2.5d horror adventure set in a procedurally generated victorian mansion that ch...",
           4
          ],
          [
           "Starr Mazer: DSP",
           "starr mazer: dsp is a side-scrolling shoot’em up in the same vein as classics like gradius and lords...",
           1
          ],
          [
           "Puzzle 101: Edge of Galaxy 宇宙边际",
           "edge of galaxy - very beautiful game of space jigsaw puzzle game! collect the full image of the diff...",
           4
          ],
          [
           "Crystal core",
           "crystal core is a first person combat game made by individuals who use unity3d engine to learn progr...",
           2
          ],
          [
           "RUMBLE",
           "note to wmr users although rumble is fully playable with a windows mixed reality (wmr) headset, not ...",
           2
          ],
          [
           "PURGE FORCE 2070",
           "in 1960, the first station sputnik 986 was launched into space and since then it has been constantly...",
           1
          ],
          [
           "3on3 FreeStyle: Rebound",
           "join our discord (click image to join!) features 3 vs 3 online multiplayer mode 1 vs 1 online multip...",
           4
          ],
          [
           "BirdsBorough : Town of Alchemy",
           "*this game is currently very early access certain features are missing/not fully developed - updates...",
           2
          ],
          [
           "Battle Droid T1",
           "features old school metroidvania style game play with a similar level of old school difficulty. over...",
           1
          ],
          [
           "LUNA",
           "in this game you play as a little girl named 'luna'. survive from the dark being, while discovering ...",
           3
          ],
          [
           "Aqua Populo",
           "how deep can you go? pilot your sub through 100 waves of angry sea-life and punishing bosses in norm...",
           4
          ],
          [
           "The Clockwork Man: The Hidden World",
           "gear up for a fantastic journey in the clockwork man: the hidden world, a unique hidden object adven...",
           4
          ],
          [
           "Jewel of Kuru",
           "jewel of kuru - is 3d third person hack 'n slash action adventure game set in an beautiful world of ...",
           3
          ],
          [
           "Sacred 3",
           "sacred 3 is an arcade hack ‘n’ slash game for up to four players, set in the war for ancaria. choose...",
           4
          ],
          [
           "Cow Girls",
           "check out other games from hunny bunny studio / / / about the game you just want to buy milk, but fa...",
           2
          ],
          [
           "Not born to be King",
           "'my king, wake up … it's your first day. your people are waiting for you.' have you ever dreamt of b...",
           2
          ],
          [
           "Jump Challenge!",
           "(☞ ͡ ° ͜ʖ ͡°)☞ add jump challenge! to your wishlist / check out more games: / about the game jump ch...",
           5
          ],
          [
           "Nyan Cat: Lost In Space",
           "** official nyan cat game ** play with the most celebrated flying cat in human history. drink milk, ...",
           4
          ],
          [
           "Rage Melee",
           "update 2.0 n j fox is pleased to announce the 2.0 update for rage melee featureing its biggest add o...",
           5
          ],
          [
           "10 seconds",
           "have you ever heard of the phrase 'simple things are harder than they seem'? well, 10 seconds challe...",
           2
          ],
          [
           "Karate Master 2 Knock Down Blow",
           "karate master 2 knock down blow is a fighting game that mixes elements of rpg, simulation and arcade...",
           4
          ],
          [
           "Dead City",
           "you have survived another invasion of the infected in a dead city. feel the horror and adrenaline of...",
           2
          ],
          [
           "Project Torque - Free 2 Play MMO Racing Game",
           "project torque is a free-to-play mmorg (massively multiplayer online racing game) developed by invic...",
           5
          ],
          [
           "Tobari and the Night of the Curious Moon",
           "☆what kinda game is this? it's a platformer about magic and whacking things! what does that mean? it...",
           2
          ],
          [
           "Ben The Exorcist",
           "story: you are ben, an unknown exorcist, who has been summoned to the witherspoon house because of s...",
           3
          ],
          [
           "Timen runner",
           "play the demo / about the game hardcore pixel 2d platformer with steampunk elements, with randomly g...",
           5
          ],
          [
           "Gems And Knight",
           "after three days of sea travel, i finally found the black dragon's lair. just when i thought i was a...",
           5
          ],
          [
           "The Crisis Zone",
           "welcome to the captivating world of our game, 'the crisis zone'! this thrilling exploration game com...",
           3
          ],
          [
           "Creekside Creep Invasion",
           "stop the creeps in this nostalgic action roguelite! halloween night. a sleepy town called creekside....",
           4
          ],
          [
           "Richie's Plank Experience",
           "commercial licencing 100's of arcades, businesses and entrepreneurs generate revenue using richie's ...",
           7
          ],
          [
           "SokoFrog",
           "sokofrog is a puzzle game about pushing boxes, push the boxes in their proper places to get to the n...",
           7
          ],
          [
           "Proxy - Ultimate Hacker",
           "have you ever wanted to experience the thrill of breaking into a secure computer network? in proxy: ...",
           7
          ],
          [
           "Professor Lupo: Ocean",
           "professor lupo: ocean is the epilogue and standalone sequel to the ' professor lupo and his horrible...",
           7
          ],
          [
           "DARK MAGIC",
           "you have to go through 16 different levels, fight monsters, overcome traps, etc. you have to collect...",
           7
          ],
          [
           "Leprechaun Shadow",
           "as the brave knight sir typhil of creulor continues his quest to bring a unicorn to the castle and b...",
           3
          ],
          [
           "The Legend of Protey",
           "feature list kid-oriented design (play-tested by schoolchildren!) ultra cheesy humor (dad jokes ftw!...",
           4
          ],
          [
           "Wind Angel",
           "[game introduction] 'wind angel' is a vertical scrolling flying shooting game. the player controls t...",
           1
          ],
          [
           "Sagrada",
           "bring your stained glass masterpiece to dazzling digital life in sagrada, the dice-drafting board ga...",
           7
          ],
          [
           "Disk Dashers",
           "plan trajectories, distribute energy, and outsmart your opponents in this simple but deep turn-based...",
           1
          ],
          [
           "Punch Club 2: Fast Forward",
           "join our discord play the og punch club! / about the game you’ve spent 20 long years living in the c...",
           2
          ],
          [
           "Galaxy's Extreme",
           "galaxy's extreme is a futuristic spaceship racing game, inspired by classic 90's success racing game...",
           4
          ],
          [
           "Ascent Spirit",
           "set in 1940, you're a french legionnaire in one of the last military hot air balloon to oversee the ...",
           1
          ],
          [
           "Stunts Contest Monster Car",
           "it`s time to have some fun together. stunts contest : monster car presents a funny racing game that ...",
           7
          ],
          [
           "BeerLeague Superstar",
           "- play 21 games through the 2020-2021 beerleague season. - customize your appearance, jersey, and sh...",
           5
          ],
          [
           "Kult: Heretic Kingdoms",
           "in the world of the heretic kingdoms, a world where god is dead and religion heresy, you are cast as...",
           3
          ],
          [
           "The Bolt Age",
           "about the game ‘the bolt age” is a dynamic action game, full of prodigious retro-futurist designs (s...",
           1
          ],
          [
           "Otherland MMO",
           "the fascinating multiverse of tad williams’ critically acclaimed otherland novels transformed into a...",
           1
          ],
          [
           "Pond Wars",
           "this pond ain't big enough for the both of us. two toy boats go in. only one comes out. can you time...",
           5
          ],
          [
           "Champions Online",
           "new content shadow of destruction brings us the qliphothic warzone, a new epic end-game zone set in ...",
           4
          ],
          [
           "Gun Rage",
           "gun rage is an old-school, fast-paced, side-scrolling run and gun, with 16-bit era graphics, inspire...",
           1
          ],
          [
           "Call of Cthulhu: Prisoner of Ice",
           "amid an atmosphere of suspense and intrigue you'll launch your voyage in the icy cold wastelands of ...",
           3
          ],
          [
           "Last Epoch",
           "your purchase includes buying last epoch through steam gets you the ardent gladiator supporter pack:...",
           7
          ],
          [
           "SWORD HERO",
           "sword hero is an action pigeon game where you will kill many zombies and learn skills to strengthen ...",
           2
          ],
          [
           "Car Trader Simulator",
           "more games / / / about the game about this game welcome to the car trader simulator! it's here where...",
           2
          ],
          [
           "Mon-Yu: Defeat Monsters And Gain Strong Weapons And Armor. You May Be Defeated, But Don’t Give Up. Become Stronger. I Believe There Will Be A Day When The Heroes Defeat The Devil King.",
           "defeat the devil kings! you have been guided to the land of fairies where the dragon king’s tower ho...",
           3
          ],
          [
           "Mata Hari",
           "trust no one but yourself as you adventure into the dark world of espionage amidst the volatile atmo...",
           3
          ],
          [
           "DreamWatcher",
           "this game requires a controller. the great library of dreams is in big trouble. when a librarian in ...",
           3
          ],
          [
           "NecroBouncer",
           "grab your magic staff and step into the shoes of a necromancer working as a bouncer at a nightclub. ...",
           7
          ],
          [
           "VINDICTA",
           "behind the gates of their massive hn1 facility, ub industries reveals itself to be the evil corporat...",
           1
          ],
          [
           "Asteroid Arcade",
           "shoot lasers in space because a fish told you to. asteroid arcade is a side-scrolling space shoot-em...",
           4
          ],
          [
           "Dismantle: Construct Carnage",
           "in dismantle you play as 'constructs', fantastical creations built to fight in a tournament where th...",
           7
          ],
          [
           "B.O.T.S. and the Robofriends",
           "b.o.t.s. and the robofriends is a top-down shooter rouge-lite with two games modes, a narrative base...",
           4
          ],
          [
           "Aldebaran Legend",
           "aldebaran legend is a 2d action game of the rpg subgenre, with a medieval setting, where it tells th...",
           1
          ],
          [
           "Out of Fuel",
           "out of fuel is an exciting and challenging game that puts you in control of a powerful chainsaw as y...",
           2
          ],
          [
           "Arcadia",
           "originally released in 1982, arcadia was a classic top-down shoot-em-up for home computers, includin...",
           4
          ],
          [
           "Perchang",
           "it's a puzzle action strategy game with some lovely contraptions to really make you ponder. a beauti...",
           7
          ],
          [
           "Mr. Robot",
           "asimov is a lowly service mechanoid aboard the interstellar colony ship eidolon. carrying hundreds o...",
           4
          ],
          [
           "Zombie Vikings: Stab-a-thon",
           "zombie vikings: stab-a-thon is a free to play game that takes place in the zombie vikings universe. ...",
           7
          ],
          [
           "Vulkan: Lost Planet",
           "also recommended for you: / / / about the game choose between 5 weapons cards, upgrade your abilitie...",
           7
          ],
          [
           "ZeroZone2020",
           "zero zone 2020 is a classic tower defense game where you will need to defend a home base from swarms...",
           2
          ],
          [
           "Gold Digger Maze",
           "special offer about the game the most valuable wealth is always hidden in the most remote places. fo...",
           2
          ],
          [
           "Genius Calculator",
           "genius calculator genius calculator is a game that will challenge all your math skills and turn you ...",
           5
          ],
          [
           "BuildMoreCubes",
           "it is an army vs army game, where you need to constantly rebuild and grow your army in order to surv...",
           1
          ],
          [
           "Abfense",
           "the peace and quiet of everyday life will be dispelled like an illusion after the appearance of a my...",
           3
          ],
          [
           "The Hero We Need",
           "join the community roadmap about the game create your unique towers, upgrade only the parts you need...",
           1
          ],
          [
           "Hidden Valley Tower Defense",
           "hidden valley td is a tower defense with rogue-like elements offering many different strategies. bui...",
           7
          ],
          [
           "Isle of Jura",
           "eternal edge + soon on steam (wishlist/follow today) / about the game alex needs to finish her biolo...",
           3
          ],
          [
           "FunWar",
           "funwar is a casual combat game, where your objective is to be the last one standing, for that you'll...",
           5
          ],
          [
           "Mazetools Mutant",
           "experimenting trough intuitive controls all interactions are recorded and played back in loops, simi...",
           7
          ],
          [
           "Undead Legions II",
           "undead legions 2 is a fast paced and chaotic top-down shooter combining action-rpg gameplay with tow...",
           7
          ],
          [
           "Escape from Poalet",
           "escape from poalet (prologue) is a point &amp; click 3d graphic adventure game for one player. some ...",
           3
          ],
          [
           "Rounded",
           "classic puzzle games are bored, right? how about changing your perception of the puzzle game. a very...",
           2
          ],
          [
           "Valley of Decay",
           "basic information: valley of decay is a 2d pixel-art multi-player hack and slash game. you can not o...",
           2
          ],
          [
           "Octarina",
           "octarina is a physics-based 3d puzzle platformer featuring a trapped little octopus who must find a ...",
           2
          ],
          [
           "Greyhill Incident",
           "this story-driven survival-horror game is about a classic alien-invasion which takes place during th...",
           3
          ],
          [
           "Mixed Feelings: While You Were Away (Yaoi BL Visual Novel)",
           "gale and arthur have been dating since high school, but after graduation, arthur moved away to go to...",
           3
          ],
          [
           "CONCLUSE",
           "you won't find your now typical jump scares here; there is something deeper at work, something which...",
           3
          ],
          [
           "Runaway: A Twist of Fate",
           "runaway: a twist of fate is the adventure game of the year! featuring a production worthy of a big 2...",
           3
          ],
          [
           "Grid Tales",
           "a real-time strategy game with different game modes, such as vs pc, pvp lan and steam lobby, etc, di...",
           4
          ],
          [
           "Masters of Puzzle",
           "puzzle boxes &amp; downloadable content it is important to note from the start that the puzzle boxes...",
           2
          ],
          [
           "Ironclads 2: American Civil War",
           "in 1862, when farragut's union squadron was preparing to occupy the vital hub of the south - new orl...",
           1
          ],
          [
           "Flowers -Le volume sur hiver-",
           "story suoh shirahane has passed yuzuriha yatsushiro's test to become the president of the council of...",
           3
          ],
          [
           "Nauticrawl",
           "pilot a nauticrawl in vr - available now about the game in a grasp for salvation with sentinels clos...",
           2
          ],
          [
           "DUCK CASINO: BULLET",
           "duck casino is a casual shooting game, in which player is a traveler passing a casino. this casino i...",
           5
          ],
          [
           "Regenesis",
           "the game years ago an alien plant scattered spores through all the planet. this has caused the flora...",
           5
          ],
          [
           "Nyanco Impact",
           "hello, world! was that a cat i saw? in this game, pre-generated ai artwork will be randomly loaded t...",
           2
          ],
          [
           "Card Survival: Tropical Island - The First Days",
           "full game available / about the game card survival: tropical island is a card-based survival experie...",
           7
          ],
          [
           "三国虎将传VR2-Sanguo Warriors VR2",
           "introduction this is a three-nation theme, second-generation, realistic style, cold weapon fighting ...",
           1
          ],
          [
           "Locoland",
           "a unique and mysterious point-and-click adventure unusual findings! try the demo now! / a unique and...",
           7
          ],
          [
           "LOST EGG 2: Be together",
           "the fifth of low-price series of kimidorisoft! 'lost egg 2: be together' appeared! * this game allow...",
           5
          ],
          [
           "Rise of Humanity: Prologue",
           "get the early access game join our discord about the game this prologue allows you to experience the...",
           1
          ],
          [
           "Pill Puzzle",
           "always paying attention to the color, type and position of the tablets, you will need to fit one tab...",
           2
          ],
          [
           "Rogue Warlords",
           "warlords, massive godly constructs, have been set free upon an uninhabited island in order to do bat...",
           1
          ],
          [
           "青之镇物语",
           "the betrayal of your partner makes you choose a different life. although you have a vengeful heart, ...",
           2
          ],
          [
           "Runefall 2",
           "return to the kingdom of silverdale and continue the story of rivermoor in this brand new match-3 ad...",
           7
          ],
          [
           "Crate Knight",
           "one day, the kingdom wakes up to a morning in which all inner chambers' gates are locked and their k...",
           4
          ],
          [
           "Dark Dragonkin",
           "dark dragonkin is an rpg adventure in which the player alternates control a party of characters, gui...",
           3
          ],
          [
           "Lucky Gem",
           "mysterious omda on the mysterious island of omda lives a group of omda people who make a living by c...",
           3
          ],
          [
           "Witchcraft",
           "in witchcraft you will be able to create your own character configuration and fight against your fri...",
           2
          ],
          [
           "Freddy's Archives: Remains Of The Past",
           "=| welcome to freddy`s archive |= a n old company focused on creating entertaining eateries featurin...",
           3
          ],
          [
           "Don't Shoot Rabbit / 不要射中兔子",
           "don’t shoot rabbit is a mini game, as my first completed game product. though i didn’t provide engli...",
           2
          ],
          [
           "DG2: Defense Grid 2",
           "defense grid 2, dg2, is the sequel to hidden path entertainment’s 2008 defense grid: the awakening. ...",
           4
          ],
          [
           "Time of Dragons",
           "this is an mmo shooter where you ride dragons armed with missiles and lasers! the plot of the game u...",
           1
          ],
          [
           "Pushing POPO",
           "this game is a simple and highly challenging 2d puzzle game with a system similar to 'sokoban,' in w...",
           5
          ],
          [
           "Up Against Aliens",
           "welcome to the mind-bending adventure of 'up against aliens,' a captivating 3d platform puzzle game ...",
           7
          ],
          [
           "Faraway Proximity",
           "faraway proximity is a third-person puzzle game about recovering lost books. in this side of the uni...",
           2
          ],
          [
           "ToriDori",
           "toridori is designed for a leisurely search for differences accompanied by specially selected music,...",
           5
          ],
          [
           "Get Out! Snakes!",
           "get out! snakes! it's a new way to play the famous 90's cell phone classic, now you're not the snake...",
           4
          ],
          [
           "Mactabilis",
           "mactabilis is a modern shooter with rpg elements. customize your ship, select from a large array of ...",
           7
          ],
          [
           "Dawn of a Soul",
           "dawn of a soul is a mathematical puzzle game starring chains and combos. progress through levels by ...",
           7
          ],
          [
           "The Genesis Project",
           "sburb, but real the genesis project is the homestuck fandom's attempt at recreating sburb, the legen...",
           3
          ],
          [
           "GUNGRAVE VR",
           "the acclaimed gungrave series is reborn in vr! many years have passed since the war against the nefa...",
           3
          ]
         ],
         "hovertemplate": "TSNE_1=%{x}<br>TSNE_2=%{y}<br>Name=%{customdata[0]}<br>Description=%{customdata[1]}<br>Cluster=%{marker.color}<extra></extra>",
         "legendgroup": "",
         "marker": {
          "color": [
           3,
           1,
           5,
           1,
           5,
           2,
           3,
           4,
           5,
           2,
           4,
           4,
           2,
           3,
           3,
           2,
           1,
           3,
           2,
           3,
           2,
           5,
           2,
           1,
           1,
           4,
           5,
           3,
           5,
           7,
           3,
           5,
           2,
           1,
           2,
           2,
           5,
           2,
           2,
           3,
           7,
           1,
           4,
           5,
           5,
           5,
           5,
           2,
           3,
           4,
           3,
           4,
           2,
           2,
           2,
           2,
           5,
           2,
           1,
           3,
           1,
           7,
           3,
           1,
           4,
           7,
           1,
           4,
           7,
           2,
           3,
           2,
           3,
           7,
           5,
           5,
           7,
           5,
           4,
           7,
           2,
           5,
           3,
           2,
           2,
           3,
           1,
           2,
           2,
           1,
           5,
           1,
           3,
           7,
           7,
           1,
           3,
           1,
           2,
           1,
           5,
           1,
           7,
           3,
           2,
           5,
           5,
           2,
           5,
           7,
           4,
           4,
           2,
           1,
           4,
           2,
           2,
           2,
           7,
           2,
           7,
           2,
           1,
           3,
           5,
           2,
           5,
           3,
           7,
           2,
           1,
           7,
           1,
           1,
           5,
           1,
           5,
           2,
           7,
           1,
           1,
           5,
           1,
           5,
           7,
           7,
           2,
           3,
           4,
           1,
           7,
           3,
           2,
           1,
           1,
           7,
           2,
           3,
           2,
           1,
           4,
           7,
           2,
           5,
           4,
           4,
           1,
           3,
           4,
           1,
           7,
           7,
           4,
           7,
           1,
           2,
           7,
           5,
           4,
           3,
           1,
           3,
           5,
           2,
           1,
           4,
           1,
           7,
           4,
           3,
           2,
           7,
           7,
           1,
           5,
           5,
           7,
           7,
           7,
           5,
           5,
           1,
           2,
           2,
           4,
           7,
           1,
           7,
           7,
           5,
           3,
           2,
           7,
           4,
           4,
           3,
           3,
           4,
           3,
           7,
           2,
           3,
           4,
           3,
           4,
           1,
           7,
           4,
           5,
           1,
           2,
           1,
           5,
           7,
           1,
           3,
           1,
           5,
           3,
           5,
           3,
           3,
           5,
           7,
           4,
           2,
           3,
           5,
           4,
           5,
           2,
           7,
           2,
           7,
           2,
           5,
           3,
           1,
           1,
           4,
           3,
           7,
           3,
           2,
           5,
           7,
           1,
           2,
           5,
           2,
           7,
           1,
           3,
           7,
           7,
           4,
           2,
           3,
           7,
           4,
           2,
           1,
           2,
           7,
           2,
           7,
           2,
           7,
           2,
           6,
           2,
           7,
           5,
           7,
           1,
           3,
           2,
           2,
           7,
           7,
           1,
           1,
           5,
           2,
           4,
           1,
           1,
           7,
           5,
           7,
           2,
           1,
           3,
           3,
           1,
           2,
           7,
           3,
           5,
           2,
           7,
           3,
           7,
           2,
           4,
           1,
           1,
           1,
           5,
           7,
           3,
           4,
           2,
           3,
           2,
           3,
           7,
           4,
           3,
           2,
           5,
           7,
           5,
           4,
           4,
           3,
           3,
           4,
           7,
           5,
           7,
           5,
           2,
           1,
           7,
           3,
           4,
           3,
           3,
           1,
           7,
           5,
           5,
           2,
           4,
           5,
           5,
           1,
           1,
           1,
           7,
           2,
           1,
           0,
           3,
           5,
           5,
           2,
           1,
           7,
           4,
           5,
           1,
           2,
           5,
           4,
           2,
           1,
           7,
           7,
           7,
           2,
           7,
           2,
           7,
           2,
           4,
           7,
           3,
           7,
           1,
           2,
           7,
           2,
           3,
           1,
           1,
           5,
           1,
           3,
           1,
           4,
           5,
           7,
           3,
           7,
           3,
           3,
           7,
           3,
           3,
           2,
           7,
           5,
           2,
           7,
           5,
           4,
           1,
           3,
           1,
           1,
           5,
           4,
           3,
           1,
           1,
           1,
           7,
           7,
           2,
           5,
           5,
           1,
           2,
           5,
           5,
           4,
           3,
           3,
           2,
           2,
           4,
           5,
           1,
           4,
           5,
           3,
           3,
           1,
           2,
           7,
           1,
           2,
           3,
           4,
           4,
           2,
           2,
           5,
           4,
           7,
           7,
           7,
           2,
           2,
           4,
           2,
           2,
           3,
           3,
           7,
           2,
           2,
           1,
           4,
           2,
           2,
           1,
           7,
           5,
           2,
           3,
           4,
           1,
           2,
           4,
           7,
           3,
           3,
           4,
           5,
           1,
           4,
           2,
           7,
           3,
           7,
           1,
           7,
           1,
           1,
           2,
           3,
           7,
           3,
           2,
           4,
           4,
           7,
           4,
           1,
           2,
           1,
           5,
           7,
           5,
           1,
           2,
           4,
           5,
           1,
           3,
           5,
           7,
           1,
           5,
           5,
           5,
           1,
           5,
           2,
           7,
           5,
           2,
           2,
           5,
           2,
           5,
           7,
           1,
           3,
           7,
           2,
           2,
           2,
           4,
           2,
           5,
           2,
           4,
           4,
           2,
           5,
           2,
           7,
           2,
           5,
           3,
           3,
           2,
           5,
           4,
           2,
           3,
           1,
           7,
           4,
           5,
           4,
           7,
           3,
           3,
           3,
           2,
           5,
           5,
           2,
           1,
           2,
           2,
           4,
           4,
           3,
           4,
           2,
           2,
           7,
           3,
           2,
           2,
           2,
           2,
           3,
           3,
           3,
           2,
           3,
           5,
           2,
           5,
           4,
           5,
           4,
           2,
           1,
           1,
           3,
           4,
           4,
           5,
           2,
           1,
           2,
           5,
           7,
           3,
           7,
           4,
           1,
           3,
           3,
           7,
           2,
           5,
           3,
           3,
           1,
           4,
           7,
           4,
           2,
           7,
           4,
           2,
           7,
           7,
           5,
           2,
           3,
           5,
           7,
           2,
           7,
           2,
           3,
           2,
           4,
           4,
           2,
           5,
           1,
           5,
           7,
           1,
           4,
           5,
           4,
           2,
           4,
           7,
           7,
           2,
           2,
           7,
           1,
           1,
           2,
           7,
           5,
           7,
           2,
           3,
           2,
           7,
           5,
           3,
           7,
           5,
           4,
           7,
           7,
           5,
           5,
           7,
           2,
           2,
           7,
           2,
           3,
           2,
           3,
           2,
           4,
           7,
           4,
           3,
           2,
           2,
           4,
           1,
           5,
           7,
           4,
           4,
           5,
           3,
           2,
           3,
           5,
           3,
           2,
           3,
           7,
           3,
           4,
           1,
           3,
           2,
           2,
           1,
           4,
           2,
           4,
           3,
           4,
           4,
           4,
           7,
           7,
           3,
           7,
           4,
           2,
           3,
           2,
           3,
           7,
           7,
           5,
           2,
           7,
           2,
           2,
           3,
           1,
           5,
           3,
           3,
           1,
           2,
           7,
           3,
           7,
           1,
           1,
           7,
           7,
           2,
           1,
           3,
           2,
           7,
           4,
           5,
           1,
           1,
           7,
           1,
           3,
           1,
           4,
           2,
           1,
           3,
           7,
           7,
           1,
           7,
           2,
           7,
           2,
           4,
           1,
           4,
           5,
           4,
           2,
           7,
           2,
           3,
           5,
           4,
           7,
           7,
           4,
           5,
           5,
           4,
           3,
           5,
           7,
           3,
           3,
           2,
           7,
           1,
           7,
           1,
           3,
           3,
           2,
           2,
           7,
           3,
           5,
           2,
           2,
           3,
           1,
           7,
           7,
           7,
           7,
           2,
           7,
           1,
           5,
           5,
           5,
           4,
           3,
           1,
           2,
           4,
           1,
           5,
           4,
           2,
           3,
           5,
           5,
           5,
           7,
           1,
           2,
           2,
           7,
           4,
           7,
           3,
           7,
           7,
           2,
           5,
           1,
           7,
           7,
           4,
           1,
           1,
           4,
           2,
           3,
           4,
           4,
           1,
           4,
           2,
           2,
           1,
           4,
           2,
           1,
           3,
           4,
           4,
           3,
           4,
           2,
           2,
           5,
           4,
           5,
           2,
           4,
           2,
           5,
           2,
           3,
           5,
           5,
           3,
           4,
           7,
           7,
           7,
           7,
           7,
           3,
           4,
           1,
           7,
           1,
           2,
           4,
           1,
           7,
           5,
           3,
           1,
           1,
           5,
           4,
           1,
           3,
           7,
           2,
           2,
           3,
           3,
           3,
           7,
           1,
           4,
           7,
           4,
           1,
           2,
           4,
           7,
           4,
           7,
           7,
           2,
           2,
           5,
           1,
           3,
           1,
           7,
           3,
           5,
           7,
           7,
           3,
           2,
           2,
           2,
           3,
           3,
           3,
           3,
           4,
           2,
           1,
           3,
           2,
           5,
           5,
           2,
           7,
           1,
           7,
           5,
           1,
           2,
           1,
           2,
           7,
           4,
           3,
           3,
           2,
           3,
           2,
           4,
           1,
           5,
           7,
           2,
           5,
           4,
           7,
           7,
           3,
           3
          ],
          "coloraxis": "coloraxis",
          "opacity": 0.7,
          "size": 5,
          "symbol": "circle"
         },
         "mode": "markers",
         "name": "",
         "orientation": "v",
         "showlegend": false,
         "type": "scatter",
         "x": [
          -10.799174308776855,
          -36.149208068847656,
          7.3212571144104,
          -15.729296684265137,
          -0.4411078095436096,
          -2.9366745948791504,
          7.861431121826172,
          -3.256608247756958,
          28.794145584106445,
          40.702362060546875,
          -33.66131591796875,
          -35.603328704833984,
          36.16005325317383,
          -3.9651026725769043,
          26.992998123168945,
          42.93891525268555,
          -12.220126152038574,
          -13.129549026489258,
          18.070228576660156,
          28.842924118041992,
          24.222091674804688,
          27.64065170288086,
          45.855690002441406,
          -26.233577728271484,
          10.942915916442871,
          -34.014156341552734,
          20.29108238220215,
          -1.3575574159622192,
          -9.246294021606445,
          -44.43827438354492,
          33.80134201049805,
          17.031904220581055,
          29.91328239440918,
          -14.809962272644043,
          41.8629035949707,
          43.01540756225586,
          21.123985290527344,
          36.056365966796875,
          20.160852432250977,
          23.159950256347656,
          -7.413466453552246,
          -22.515762329101562,
          -41.61236572265625,
          41.22010803222656,
          -1.2496081590652466,
          26.237930297851562,
          20.178678512573242,
          46.21980285644531,
          25.206220626831055,
          -3.6342523097991943,
          11.879495620727539,
          -27.610794067382812,
          40.45588684082031,
          -0.027722559869289398,
          38.53437423706055,
          37.26641082763672,
          41.99470520019531,
          -2.508213758468628,
          -33.09415054321289,
          5.009363651275635,
          -21.26119041442871,
          -7.529696941375732,
          -19.372676849365234,
          -12.986801147460938,
          -5.550777435302734,
          -3.9370315074920654,
          -14.753902435302734,
          -33.947105407714844,
          22.097639083862305,
          40.75178146362305,
          27.374820709228516,
          -13.182382583618164,
          -26.86136817932129,
          -3.265439987182617,
          13.017179489135742,
          8.88583755493164,
          -4.542048454284668,
          10.558493614196777,
          -29.57903289794922,
          26.339712142944336,
          19.930606842041016,
          30.764556884765625,
          -24.397441864013672,
          8.774168014526367,
          34.65380096435547,
          -5.057168006896973,
          -15.340099334716797,
          38.1036262512207,
          41.678375244140625,
          -18.855606079101562,
          27.867084503173828,
          9.845463752746582,
          0.5850756168365479,
          -15.121166229248047,
          -1.4227417707443237,
          9.979462623596191,
          14.968634605407715,
          -23.183061599731445,
          5.020906925201416,
          -31.293514251708984,
          42.0767822265625,
          -11.696967124938965,
          -30.974395751953125,
          5.315737724304199,
          9.228588104248047,
          1.2369275093078613,
          -3.0351192951202393,
          7.814164161682129,
          21.4008731842041,
          -13.931876182556152,
          -31.211589813232422,
          -31.248638153076172,
          21.31043815612793,
          28.04855728149414,
          -11.255614280700684,
          21.809961318969727,
          17.606033325195312,
          41.85060119628906,
          -22.070199966430664,
          22.86293601989746,
          -4.318571090698242,
          21.652740478515625,
          13.431594848632812,
          10.750082015991211,
          26.51329803466797,
          25.53228759765625,
          35.33015441894531,
          -8.80478286743164,
          -28.69354248046875,
          39.31772232055664,
          12.303257942199707,
          -21.949905395507812,
          -13.355548858642578,
          -18.117507934570312,
          8.570977210998535,
          10.158685684204102,
          12.016753196716309,
          32.33797836303711,
          -25.314332962036133,
          -14.778070449829102,
          15.946257591247559,
          21.119016647338867,
          10.037075996398926,
          23.978612899780273,
          3.8864076137542725,
          4.3046722412109375,
          19.620223999023438,
          5.260265827178955,
          -32.384857177734375,
          9.238264083862305,
          29.823490142822266,
          -29.06580352783203,
          40.63928985595703,
          -13.498526573181152,
          -31.171985626220703,
          -36.8416633605957,
          32.1727294921875,
          35.290225982666016,
          26.790945053100586,
          14.739415168762207,
          -45.644142150878906,
          0.9426862597465515,
          34.919559478759766,
          19.46222496032715,
          -30.021562576293945,
          -44.13471603393555,
          -7.49041223526001,
          40.30909729003906,
          -30.069299697875977,
          -29.04464340209961,
          0.8091926574707031,
          -24.637643814086914,
          -30.832304000854492,
          -12.034422874450684,
          -24.94196128845215,
          16.377408981323242,
          6.438107490539551,
          19.452594757080078,
          -35.62091064453125,
          5.127285480499268,
          -32.919891357421875,
          12.521309852600098,
          24.61079216003418,
          24.855562210083008,
          -43.15803527832031,
          -34.36362075805664,
          -21.794233322143555,
          -4.498083591461182,
          -36.570011138916016,
          -7.896708965301514,
          33.23173904418945,
          -6.005829811096191,
          3.334472894668579,
          -9.097326278686523,
          26.46048927307129,
          37.523101806640625,
          -17.283313751220703,
          9.662315368652344,
          -5.825455665588379,
          7.020526885986328,
          -23.024276733398438,
          8.570432662963867,
          -1.481938362121582,
          1.7065534591674805,
          3.101935625076294,
          -8.920689582824707,
          -41.23387145996094,
          -6.6712188720703125,
          5.174272537231445,
          42.69134521484375,
          4.072812557220459,
          17.1130428314209,
          -3.8480584621429443,
          -28.493942260742188,
          -38.665950775146484,
          -0.4298000931739807,
          -10.144431114196777,
          -29.77427864074707,
          32.931312561035156,
          -3.8015220165252686,
          -0.376583993434906,
          -25.835350036621094,
          -39.589046478271484,
          -1.2928303480148315,
          -43.269020080566406,
          -29.802913665771484,
          -6.770876884460449,
          -20.879104614257812,
          8.431082725524902,
          -14.368884086608887,
          36.07299041748047,
          14.67508602142334,
          13.829278945922852,
          -2.9834392070770264,
          -11.286746978759766,
          -7.759420394897461,
          -19.446571350097656,
          14.701923370361328,
          3.4242639541625977,
          35.434364318847656,
          -31.57421112060547,
          6.89425802230835,
          8.473917007446289,
          -10.759530067443848,
          -30.76506996154785,
          28.717374801635742,
          33.271671295166016,
          30.642200469970703,
          -36.14094543457031,
          27.24702262878418,
          43.921688079833984,
          -8.58352279663086,
          41.06508255004883,
          -17.827083587646484,
          18.363901138305664,
          40.95443344116211,
          8.40747356414795,
          -16.746990203857422,
          -31.29594612121582,
          -29.08019256591797,
          13.652393341064453,
          -30.49989891052246,
          -18.061279296875,
          40.57074737548828,
          39.66454315185547,
          -23.141250610351562,
          -13.077235221862793,
          20.23375129699707,
          -1.9416521787643433,
          34.55108642578125,
          -20.352672576904297,
          -21.22024917602539,
          4.234267234802246,
          -14.181660652160645,
          -7.91569185256958,
          -30.61871910095215,
          11.100324630737305,
          2.9924120903015137,
          -6.986644744873047,
          5.51021671295166,
          33.7022705078125,
          11.98853874206543,
          7.8482489585876465,
          -9.606183052062988,
          41.557823181152344,
          3.422945737838745,
          23.648096084594727,
          -24.986083984375,
          46.304405212402344,
          -46.22171401977539,
          38.46826171875,
          -2.196176052093506,
          37.404911041259766,
          -35.82415008544922,
          -12.21529769897461,
          14.297490119934082,
          46.01605987548828,
          1.1711528301239014,
          -2.7359416484832764,
          -29.11124610900879,
          -31.411258697509766,
          -1.853131651878357,
          13.790474891662598,
          42.075565338134766,
          -40.264984130859375,
          -17.86667823791504,
          -33.142799377441406,
          -26.67228126525879,
          29.115764617919922,
          -14.860897064208984,
          39.41606140136719,
          -23.824417114257812,
          -25.673370361328125,
          -9.389955520629883,
          -16.644386291503906,
          27.91891098022461,
          3.4679274559020996,
          -14.256834983825684,
          18.956315994262695,
          40.915103912353516,
          -16.57509422302246,
          27.851741790771484,
          -5.893513202667236,
          43.25369644165039,
          -8.894468307495117,
          13.162430763244629,
          -39.9948844909668,
          -8.188353538513184,
          26.910768508911133,
          -10.103793144226074,
          -11.278801918029785,
          4.216148853302002,
          9.809357643127441,
          -21.23919677734375,
          38.87861251831055,
          -7.574162483215332,
          -1.809744954109192,
          -20.269756317138672,
          -28.48157501220703,
          25.258163452148438,
          30.026630401611328,
          -25.0970458984375,
          26.762136459350586,
          -40.434696197509766,
          -40.962345123291016,
          10.832029342651367,
          -11.402971267700195,
          -34.03561019897461,
          -17.18195343017578,
          18.01390266418457,
          -3.263223171234131,
          22.38182830810547,
          40.537757873535156,
          -24.3789005279541,
          -5.564045429229736,
          3.212999105453491,
          -17.180103302001953,
          25.29245948791504,
          -26.861555099487305,
          -28.960803985595703,
          1.6265394687652588,
          18.088865280151367,
          8.604823112487793,
          21.714214324951172,
          -5.913356781005859,
          42.11283874511719,
          25.868244171142578,
          -37.052276611328125,
          -32.59433364868164,
          -11.026652336120605,
          -25.732662200927734,
          -3.6738197803497314,
          -21.536115646362305,
          -9.482819557189941,
          0.9731539487838745,
          30.18791389465332,
          40.61708450317383,
          27.579980850219727,
          -11.866876602172852,
          -32.830196380615234,
          -37.707096099853516,
          -0.1935933530330658,
          -14.851982116699219,
          44.48577117919922,
          23.17092514038086,
          -25.250497817993164,
          44.33203125,
          -16.038658142089844,
          -3.50040864944458,
          -12.631330490112305,
          -23.782011032104492,
          39.52053451538086,
          -1.4009464979171753,
          43.229026794433594,
          -12.146671295166016,
          43.20613479614258,
          -22.962318420410156,
          6.129334449768066,
          14.018962860107422,
          -7.149261951446533,
          -14.553031921386719,
          44.409400939941406,
          -16.01747703552246,
          -3.6353843212127686,
          1.6113475561141968,
          -25.145517349243164,
          -25.623096466064453,
          16.294464111328125,
          -31.372142791748047,
          -14.381769180297852,
          -27.77318572998047,
          -26.713726043701172,
          -8.832387924194336,
          -1.0355467796325684,
          7.222097396850586,
          -14.239681243896484,
          -27.634540557861328,
          10.757467269897461,
          -27.381746292114258,
          30.40521812438965,
          -24.837919235229492,
          37.474002838134766,
          -31.308961868286133,
          35.44879150390625,
          -3.245512008666992,
          0.12153417617082596,
          9.585408210754395,
          -40.264808654785156,
          -38.50023651123047,
          -17.92862892150879,
          -26.634902954101562,
          -15.429692268371582,
          -8.723878860473633,
          -42.43182373046875,
          5.539021015167236,
          -36.06181335449219,
          -27.394319534301758,
          -12.549225807189941,
          -1.4936941862106323,
          -25.239517211914062,
          -3.2286198139190674,
          -17.40328598022461,
          31.543149948120117,
          -13.362630844116211,
          18.953771591186523,
          21.36418342590332,
          17.45330047607422,
          -20.77676773071289,
          3.846226692199707,
          -7.14645528793335,
          38.21045684814453,
          43.4571533203125,
          -30.28957176208496,
          30.001529693603516,
          -24.304943084716797,
          -43.34199142456055,
          25.824649810791016,
          23.30315399169922,
          -9.119810104370117,
          -38.56175994873047,
          -2.8431577682495117,
          2.3211543560028076,
          -14.498407363891602,
          36.55180358886719,
          -17.632766723632812,
          5.702173709869385,
          -43.59409713745117,
          17.30680274963379,
          40.735435485839844,
          2.04447865486145,
          -36.52058410644531,
          -5.954863548278809,
          1.2260122299194336,
          1.0599130392074585,
          -2.980875015258789,
          36.881526947021484,
          -35.39287567138672,
          44.29147720336914,
          24.071311950683594,
          12.993660926818848,
          7.875107288360596,
          -12.225666046142578,
          5.770382881164551,
          34.73933792114258,
          -35.472049713134766,
          -22.355531692504883,
          18.683549880981445,
          -5.417262077331543,
          -17.64739418029785,
          -35.21519470214844,
          20.341472625732422,
          18.480770111083984,
          -41.69338607788086,
          -40.250640869140625,
          -23.67123031616211,
          37.388954162597656,
          -31.270845413208008,
          -9.986751556396484,
          16.682750701904297,
          30.903642654418945,
          -31.782527923583984,
          5.805732727050781,
          -14.75007152557373,
          -43.89157485961914,
          41.071712493896484,
          9.872495651245117,
          -20.164770126342773,
          -22.4945125579834,
          -20.318572998046875,
          2.5817909240722656,
          12.761764526367188,
          10.342960357666016,
          -6.130630970001221,
          -7.544435501098633,
          -8.291786193847656,
          2.275743246078491,
          43.17759704589844,
          -11.303563117980957,
          -13.58191204071045,
          -8.560293197631836,
          -33.4303092956543,
          -12.693467140197754,
          37.782901763916016,
          -20.424715042114258,
          0.09324381500482559,
          -8.55571174621582,
          -13.071887969970703,
          -21.78587532043457,
          42.146419525146484,
          -29.509004592895508,
          20.898799896240234,
          -19.549739837646484,
          -13.474469184875488,
          10.412605285644531,
          21.313589096069336,
          -14.47645092010498,
          30.259355545043945,
          19.155851364135742,
          41.48386764526367,
          28.954439163208008,
          29.26703643798828,
          -0.6849410533905029,
          27.214759826660156,
          15.438755989074707,
          35.25446319580078,
          39.380897521972656,
          27.20612907409668,
          14.961904525756836,
          28.44687271118164,
          -22.05155372619629,
          -19.139741897583008,
          -20.060688018798828,
          -3.452629327774048,
          22.521738052368164,
          35.65214920043945,
          -4.484311580657959,
          -42.87125778198242,
          4.790566444396973,
          15.709510803222656,
          45.26957321166992,
          -36.90837097167969,
          -6.553201675415039,
          -9.69347095489502,
          -7.625691890716553,
          34.5411376953125,
          7.373499393463135,
          31.04435920715332,
          29.58588981628418,
          -10.493746757507324,
          -19.196081161499023,
          -12.63538932800293,
          38.656455993652344,
          -38.689727783203125,
          33.193145751953125,
          37.07876968383789,
          7.424166679382324,
          9.136750221252441,
          -9.908687591552734,
          40.971492767333984,
          -29.938518524169922,
          -1.3485796451568604,
          -22.48798942565918,
          9.927328109741211,
          -27.737014770507812,
          23.130680084228516,
          26.474363327026367,
          34.68587112426758,
          41.41485595703125,
          -17.2745418548584,
          -13.032498359680176,
          39.53151321411133,
          -36.11858367919922,
          -43.530113220214844,
          -10.664216041564941,
          -17.900766372680664,
          40.38265609741211,
          4.580029487609863,
          -23.864604949951172,
          -41.679771423339844,
          43.855037689208984,
          39.062992095947266,
          -6.7840657234191895,
          39.17046356201172,
          -17.34276008605957,
          8.83580207824707,
          -10.164379119873047,
          23.10666847229004,
          -7.289577007293701,
          -1.268272042274475,
          39.346561431884766,
          41.354576110839844,
          -42.0825309753418,
          34.0892219543457,
          -9.978408813476562,
          16.51278305053711,
          -30.401371002197266,
          -15.027971267700195,
          33.25147247314453,
          -32.6854248046875,
          -43.054718017578125,
          9.842082977294922,
          -6.220935344696045,
          -24.33142852783203,
          18.295686721801758,
          28.1091365814209,
          -4.707208156585693,
          10.052867889404297,
          -4.0495285987854,
          -42.03251266479492,
          -37.45728302001953,
          10.981979370117188,
          -19.121234893798828,
          11.013705253601074,
          -5.1254496574401855,
          23.20685577392578,
          -2.090299129486084,
          0.162996307015419,
          -13.437291145324707,
          -4.302016735076904,
          -16.871706008911133,
          -41.33504867553711,
          37.265323638916016,
          -22.8800106048584,
          -45.78335952758789,
          42.7495231628418,
          8.695420265197754,
          -32.3414306640625,
          31.880237579345703,
          38.70285415649414,
          14.115389823913574,
          19.82056427001953,
          -6.67546272277832,
          41.31056213378906,
          -35.87007522583008,
          -0.1426440179347992,
          -28.05702018737793,
          2.473034381866455,
          -39.41291427612305,
          -35.12068176269531,
          41.8422966003418,
          19.543415069580078,
          37.92000961303711,
          28.16655731201172,
          -13.318276405334473,
          -23.92027473449707,
          -41.958621978759766,
          10.794179916381836,
          -21.08722496032715,
          26.719406127929688,
          -12.609701156616211,
          27.37928581237793,
          -27.463577270507812,
          -1.2576559782028198,
          41.565704345703125,
          -35.44565963745117,
          28.49505043029785,
          -43.4186897277832,
          42.02469253540039,
          2.189329147338867,
          0.30772334337234497,
          -2.0140762329101562,
          40.12002182006836,
          9.747048377990723,
          2.65326189994812,
          -20.347427368164062,
          12.345962524414062,
          6.203741073608398,
          -38.89211654663086,
          16.511812210083008,
          -3.798265218734741,
          -34.95182418823242,
          17.570913314819336,
          30.925270080566406,
          -30.04410743713379,
          -8.653423309326172,
          25.23493194580078,
          38.8023567199707,
          3.3775477409362793,
          20.10778045654297,
          3.71419620513916,
          24.513813018798828,
          40.0390739440918,
          21.986968994140625,
          -33.2938117980957,
          -5.775259971618652,
          -31.670591354370117,
          25.4501953125,
          43.15330505371094,
          6.71000337600708,
          -35.506317138671875,
          -29.920230865478516,
          -2.169257164001465,
          -3.740419626235962,
          -31.305856704711914,
          -5.386240005493164,
          39.33749771118164,
          -6.121888637542725,
          34.16893768310547,
          4.262360095977783,
          18.08066749572754,
          -6.812684535980225,
          33.03373336791992,
          -19.01276969909668,
          -13.748908042907715,
          -6.522823810577393,
          -15.55168628692627,
          13.37201976776123,
          -19.04843521118164,
          -8.177742004394531,
          2.346893310546875,
          11.625898361206055,
          -34.19524383544922,
          17.323701858520508,
          -32.0344123840332,
          -26.98912239074707,
          -6.561697959899902,
          -20.916540145874023,
          -28.953258514404297,
          -1.7338500022888184,
          -11.611602783203125,
          -8.944259643554688,
          2.179164171218872,
          -31.65154266357422,
          44.46875,
          28.581174850463867,
          36.65298843383789,
          -4.814356803894043,
          -26.94658851623535,
          -32.55675506591797,
          2.2668557167053223,
          18.597736358642578,
          -9.553901672363281,
          20.20979118347168,
          1.0196388959884644,
          -5.205109119415283,
          -31.006309509277344,
          14.937615394592285,
          1.817213773727417,
          -40.42377471923828,
          -12.806365966796875,
          -2.034179925918579,
          11.537753105163574,
          -33.84876251220703,
          -1.2772328853607178,
          29.696800231933594,
          7.892931938171387,
          0.5938611626625061,
          -14.258780479431152,
          25.84573745727539,
          -32.93817901611328,
          34.07167053222656,
          2.573908567428589,
          -20.098966598510742,
          -20.585325241088867,
          24.156801223754883,
          -23.480607986450195,
          12.321420669555664,
          1.0134350061416626,
          -22.73932647705078,
          -27.07467269897461,
          -17.284900665283203,
          -30.611364364624023,
          41.89321517944336,
          7.147487640380859,
          -18.509841918945312,
          20.683961868286133,
          2.1427903175354004,
          8.631622314453125,
          -4.8956475257873535,
          40.55986404418945,
          -35.70033645629883,
          46.057960510253906,
          -39.65422058105469,
          -12.784492492675781,
          -32.49198913574219,
          -3.0619609355926514,
          -30.312740325927734,
          33.65444564819336,
          -26.336017608642578,
          33.74738311767578,
          33.891239166259766,
          6.3367743492126465,
          -45.24898147583008,
          -18.581323623657227,
          6.039724826812744,
          -16.150588989257812,
          22.70826530456543,
          18.695432662963867,
          -43.62278747558594,
          22.392465591430664,
          29.47401237487793,
          -39.4744873046875,
          6.376901149749756,
          -20.972335815429688,
          -2.746974468231201,
          -18.515775680541992,
          13.498302459716797,
          5.099067211151123,
          -32.2732048034668,
          -12.24534797668457,
          21.52167510986328,
          -6.752978324890137,
          3.4430108070373535,
          -8.0871000289917,
          -18.401153564453125,
          29.14202880859375,
          28.654327392578125,
          18.653648376464844,
          23.089962005615234,
          -16.59035873413086,
          -32.98947525024414,
          -26.106548309326172,
          -28.214473724365234,
          -1.7834933996200562,
          -4.632189750671387,
          -20.441213607788086,
          -19.011672973632812,
          22.5435791015625,
          19.226741790771484,
          19.86410903930664,
          -5.660801410675049,
          -12.22282886505127,
          -18.795204162597656,
          35.78755187988281,
          -27.059900283813477,
          -8.126649856567383,
          26.446109771728516,
          -33.6866569519043,
          22.122955322265625,
          11.834129333496094,
          -9.508095741271973,
          25.219593048095703,
          23.26957130432129,
          -23.808382034301758,
          -16.61779022216797,
          42.450191497802734,
          -7.208109378814697,
          24.984424591064453,
          -44.326026916503906,
          -21.651195526123047,
          10.199920654296875,
          -23.653993606567383,
          -19.229705810546875,
          30.07727813720703,
          28.879060745239258,
          -44.1689453125,
          -23.603246688842773,
          -22.455759048461914,
          -41.69802474975586,
          -14.126474380493164,
          -16.173973083496094,
          -36.677513122558594,
          0.8917515277862549,
          -9.238166809082031,
          -7.9229536056518555,
          -44.967994689941406,
          -16.702987670898438,
          -2.931044101715088,
          38.10618209838867,
          39.2181510925293,
          11.7886962890625,
          -34.86671447753906,
          24.33331298828125,
          -16.80160903930664,
          22.44746208190918,
          -43.148380279541016,
          -34.661949157714844,
          -12.301798820495605,
          -25.74454116821289,
          36.555076599121094,
          43.48766326904297,
          23.52228355407715,
          -43.623348236083984,
          19.53653335571289,
          41.98310852050781,
          -27.263389587402344,
          14.629551887512207,
          1.8994207382202148,
          41.883487701416016,
          3.4209699630737305,
          21.781042098999023,
          30.34334373474121,
          -18.79242706298828,
          -37.0415153503418,
          -21.720762252807617,
          -17.05988883972168,
          -0.9689412713050842,
          -20.018062591552734,
          -8.10409164428711,
          30.298355102539062,
          -22.111530303955078,
          13.889062881469727,
          -24.483304977416992,
          -35.00801467895508,
          -4.188723564147949,
          -5.675609111785889,
          -21.23976707458496,
          -1.0976457595825195,
          14.079609870910645,
          4.57094144821167,
          -14.133749961853027,
          -13.643143653869629,
          37.50772476196289,
          -15.283820152282715,
          -31.11556053161621,
          -22.239826202392578,
          -15.715391159057617,
          16.329200744628906,
          39.332916259765625,
          29.453542709350586,
          3.859687089920044,
          -20.001319885253906,
          -13.649580001831055,
          -13.912315368652344,
          4.341521739959717,
          11.578816413879395,
          -20.26233673095703,
          -12.279500007629395,
          18.024269104003906,
          -30.634510040283203,
          25.97453498840332,
          -39.76384735107422,
          0.6667124032974243,
          0.6083152890205383,
          35.727420806884766,
          37.4866828918457,
          34.07972717285156,
          12.607293128967285,
          24.7010498046875,
          5.2794342041015625,
          -25.96392059326172,
          -22.871164321899414,
          41.03897476196289,
          -1.4646483659744263,
          -27.016775131225586,
          30.112194061279297,
          33.368675231933594,
          22.951446533203125,
          24.54583168029785,
          11.867759704589844,
          -26.539371490478516,
          -12.178498268127441,
          0.06698618829250336,
          -4.429523468017578,
          42.59048080444336,
          -16.213897705078125,
          5.197768688201904,
          40.90287780761719,
          26.450851440429688,
          19.50099754333496,
          44.32362747192383,
          9.871617317199707,
          14.534710884094238,
          7.294808864593506,
          8.404860496520996,
          9.489830017089844,
          27.465757369995117,
          -18.23162269592285,
          32.39346694946289,
          14.80753231048584,
          -40.928524017333984,
          17.441139221191406,
          26.266923904418945,
          33.02002716064453,
          11.556391716003418,
          45.87706756591797,
          -9.235102653503418,
          13.579208374023438,
          25.94661521911621,
          -24.679866790771484,
          38.0029182434082,
          17.15296745300293,
          -4.167088985443115,
          -5.453829288482666,
          -0.6915178894996643,
          10.340704917907715,
          -20.15096664428711
         ],
         "xaxis": "x",
         "y": [
          -14.333746910095215,
          -2.808983564376831,
          9.132698059082031,
          15.166403770446777,
          -6.240377426147461,
          -14.76883602142334,
          8.102665901184082,
          -5.258403778076172,
          -6.16202974319458,
          -5.602173805236816,
          1.512102484703064,
          -5.067203998565674,
          -6.4703216552734375,
          -7.263564109802246,
          -4.594953536987305,
          2.3879706859588623,
          10.297470092773438,
          -14.820420265197754,
          -10.424864768981934,
          -6.8653154373168945,
          -12.391304016113281,
          12.438413619995117,
          3.6948280334472656,
          16.94325065612793,
          -7.304107189178467,
          1.9328712224960327,
          -7.9734673500061035,
          -0.9932405352592468,
          3.430171489715576,
          1.0182301998138428,
          -1.876891851425171,
          4.975691318511963,
          -12.028609275817871,
          20.798233032226562,
          -6.605334758758545,
          -5.710574150085449,
          3.734567642211914,
          0.058159515261650085,
          -3.9010610580444336,
          -10.807122230529785,
          7.208812713623047,
          15.080770492553711,
          3.358480930328369,
          -13.851959228515625,
          6.373805999755859,
          -4.781187057495117,
          8.352331161499023,
          2.6385951042175293,
          -5.725759983062744,
          10.451321601867676,
          -10.540834426879883,
          2.772388458251953,
          4.740344047546387,
          -18.61484718322754,
          3.6889989376068115,
          4.525552749633789,
          -11.956172943115234,
          -13.35366439819336,
          11.064898490905762,
          10.845216751098633,
          16.41422462463379,
          8.799027442932129,
          -1.1746670007705688,
          10.99875545501709,
          2.312577962875366,
          -1.9699747562408447,
          14.289158821105957,
          -4.287495136260986,
          -0.49094101786613464,
          -8.310690879821777,
          -6.105233192443848,
          -6.503981113433838,
          -10.871922492980957,
          -2.996020555496216,
          1.8177119493484497,
          10.975775718688965,
          -1.189446210861206,
          0.6904967427253723,
          0.8039846420288086,
          11.895659446716309,
          -9.250618934631348,
          -4.013282299041748,
          -4.9851393699646,
          -15.677481651306152,
          -9.161416053771973,
          -7.0076775550842285,
          7.410196304321289,
          -6.217835426330566,
          -4.372308254241943,
          21.67872428894043,
          6.72995662689209,
          7.411489486694336,
          -10.635011672973633,
          5.165120601654053,
          -9.639130592346191,
          4.691651344299316,
          -7.134753704071045,
          11.510926246643066,
          -13.72715950012207,
          9.690302848815918,
          -10.423075675964355,
          14.126644134521484,
          -0.6968837380409241,
          -9.009661674499512,
          -7.875302791595459,
          -0.6785675287246704,
          -9.269085884094238,
          -14.855230331420898,
          -5.072800636291504,
          2.0369813442230225,
          2.5443918704986572,
          2.6748929023742676,
          -11.478285789489746,
          -14.234861373901367,
          16.298994064331055,
          -8.726004600524902,
          -10.799878120422363,
          2.758000135421753,
          1.836812973022461,
          -13.82155704498291,
          0.5357583165168762,
          -3.139171838760376,
          10.45145320892334,
          -13.843050003051758,
          -4.869176387786865,
          -12.25011157989502,
          -7.6462082862854,
          -13.357550621032715,
          -0.6511503458023071,
          2.983144998550415,
          -2.746973991394043,
          -0.8532532453536987,
          19.353025436401367,
          15.10667610168457,
          12.508844375610352,
          -6.872735977172852,
          3.2768867015838623,
          -10.440418243408203,
          -4.098591327667236,
          16.915550231933594,
          8.872064590454102,
          5.694389343261719,
          4.631571292877197,
          -3.2005434036254883,
          7.802116870880127,
          6.066446304321289,
          -3.1539552211761475,
          -0.15596146881580353,
          12.518424987792969,
          9.47100830078125,
          8.022278785705566,
          5.063712120056152,
          1.6256191730499268,
          22.486309051513672,
          7.690500736236572,
          6.062039852142334,
          4.900909900665283,
          2.165383815765381,
          -1.309518814086914,
          10.251151084899902,
          1.6877583265304565,
          3.170729398727417,
          -3.2179391384124756,
          5.966193675994873,
          7.149879455566406,
          2.9068663120269775,
          3.968233823776245,
          -9.331561088562012,
          9.064032554626465,
          13.064493179321289,
          -4.098483085632324,
          -2.0210494995117188,
          -1.5396583080291748,
          2.984360456466675,
          17.867639541625977,
          -7.700569152832031,
          7.597956657409668,
          1.0051281452178955,
          -3.4505836963653564,
          -12.442475318908691,
          9.331104278564453,
          -4.058396339416504,
          6.555280685424805,
          0.047311827540397644,
          4.637831687927246,
          -0.8881404995918274,
          9.246163368225098,
          -11.888080596923828,
          2.5435662269592285,
          -4.772061347961426,
          -11.645979881286621,
          4.587984561920166,
          -1.5310040712356567,
          -7.062074661254883,
          6.0467352867126465,
          -13.713089942932129,
          5.010363578796387,
          -0.044502947479486465,
          12.968011856079102,
          2.4023401737213135,
          7.613333225250244,
          -3.0978825092315674,
          -6.202990531921387,
          -8.1934232711792,
          6.952816009521484,
          1.926687240600586,
          4.693413734436035,
          -13.912934303283691,
          5.083825588226318,
          -2.3941800594329834,
          -5.686861991882324,
          -3.446061611175537,
          -10.530564308166504,
          0.39778652787208557,
          2.1863417625427246,
          -14.581071853637695,
          -4.387767314910889,
          -5.611750602722168,
          -1.758673071861267,
          2.1742444038391113,
          -8.522497177124023,
          -9.1172513961792,
          -3.8629097938537598,
          -1.0463844537734985,
          1.6992995738983154,
          11.037374496459961,
          -12.414491653442383,
          5.752806663513184,
          -4.054473876953125,
          8.773221015930176,
          -6.012542724609375,
          8.943044662475586,
          4.405684947967529,
          -5.404080867767334,
          -1.4912062883377075,
          -4.1858344078063965,
          13.125347137451172,
          4.141185283660889,
          -5.377100944519043,
          -14.550195693969727,
          -8.201581954956055,
          1.406503438949585,
          14.013739585876465,
          -12.445584297180176,
          -2.2105906009674072,
          7.832849979400635,
          -4.847480773925781,
          4.418553352355957,
          -0.016022328287363052,
          1.515640139579773,
          -0.05392122268676758,
          2.676638603210449,
          -4.15696907043457,
          7.304047584533691,
          -4.25570821762085,
          -10.773836135864258,
          1.862005591392517,
          15.050851821899414,
          8.37139892578125,
          -6.114584445953369,
          -6.981557846069336,
          -7.821120738983154,
          3.295832633972168,
          7.3191704750061035,
          -11.774867057800293,
          -4.860408782958984,
          14.452659606933594,
          -0.7615764737129211,
          6.752798557281494,
          -11.500303268432617,
          -6.199564456939697,
          9.108420372009277,
          -15.798636436462402,
          -0.5367545485496521,
          0.7512060403823853,
          4.716009140014648,
          -8.63598346710205,
          -14.806438446044922,
          -13.0361328125,
          9.788631439208984,
          6.842482566833496,
          -5.873766899108887,
          -8.093170166015625,
          0.2633211016654968,
          1.0528315305709839,
          1.9940136671066284,
          3.1633334159851074,
          -5.122076988220215,
          -4.738940715789795,
          -1.2862406969070435,
          -1.2441978454589844,
          2.0252187252044678,
          -13.778900146484375,
          5.5536017417907715,
          -3.827824115753174,
          -5.178127765655518,
          -5.518000602722168,
          -7.828122138977051,
          7.560610294342041,
          7.983878135681152,
          10.064398765563965,
          7.29503059387207,
          6.682977676391602,
          -0.730234682559967,
          0.826404869556427,
          16.26565933227539,
          7.671880722045898,
          -1.4560660123825073,
          1.8182423114776611,
          0.9027948379516602,
          -5.470176696777344,
          18.112974166870117,
          -11.288010597229004,
          -4.158115863800049,
          2.2946889400482178,
          -13.460790634155273,
          -3.782092332839966,
          -1.508673071861267,
          7.879229545593262,
          4.728545188903809,
          5.3473920822143555,
          3.848090648651123,
          -0.2714036703109741,
          -4.0860185623168945,
          10.902155876159668,
          7.879819869995117,
          7.545190811157227,
          15.496214866638184,
          -9.609033584594727,
          4.044869899749756,
          -8.888920783996582,
          4.055024147033691,
          -7.494566917419434,
          -2.991072416305542,
          -5.244956970214844,
          -4.907963275909424,
          8.013335227966309,
          4.487488269805908,
          8.088171005249023,
          0.2819823622703552,
          -5.284526824951172,
          4.681159973144531,
          3.570716619491577,
          0.15263862907886505,
          2.1615841388702393,
          -5.010130882263184,
          -15.315132141113281,
          -0.29976212978363037,
          -6.362187385559082,
          3.177349090576172,
          -3.229508399963379,
          -7.492735385894775,
          2.8839457035064697,
          9.956070899963379,
          3.988496780395508,
          -9.757772445678711,
          8.261274337768555,
          3.7872116565704346,
          -10.066149711608887,
          6.662485122680664,
          -6.801876068115234,
          11.670373916625977,
          10.32731819152832,
          -2.323978900909424,
          3.083031415939331,
          -13.883016586303711,
          8.134481430053711,
          6.8174896240234375,
          4.446141242980957,
          11.567655563354492,
          1.490938663482666,
          -18.118207931518555,
          15.125940322875977,
          -9.856817245483398,
          -1.0046463012695312,
          -8.690763473510742,
          -10.611477851867676,
          -0.5872648358345032,
          -6.875454902648926,
          -5.186825752258301,
          -7.282005786895752,
          10.940568923950195,
          8.023293495178223,
          -0.27408748865127563,
          -2.8702948093414307,
          2.509134531021118,
          -8.35066032409668,
          20.809551239013672,
          4.917303085327148,
          1.036432147026062,
          0.2515542805194855,
          -4.296542644500732,
          11.099610328674316,
          6.543402671813965,
          6.142719268798828,
          4.9291558265686035,
          4.544521331787109,
          7.409312725067139,
          -9.204442024230957,
          5.579431056976318,
          3.3844075202941895,
          -6.8017191886901855,
          -0.3173277676105499,
          -12.09205436706543,
          -14.142304420471191,
          17.797409057617188,
          8.720799446105957,
          -12.864967346191406,
          12.600549697875977,
          12.360901832580566,
          16.684049606323242,
          1.592320442199707,
          14.55478572845459,
          -4.311929225921631,
          -5.685756206512451,
          5.919512748718262,
          -7.583381175994873,
          -11.147441864013672,
          6.495089054107666,
          1.0220082998275757,
          -12.224488258361816,
          1.4812017679214478,
          -8.255509376525879,
          -14.502737045288086,
          -16.08991813659668,
          0.16703830659389496,
          14.566411018371582,
          4.893515586853027,
          10.675111770629883,
          4.723653316497803,
          18.05206871032715,
          18.025312423706055,
          8.499931335449219,
          3.8997437953948975,
          5.370295524597168,
          9.141270637512207,
          10.636283874511719,
          -1.7843905687332153,
          3.583677053451538,
          -6.111384868621826,
          -10.632444381713867,
          -2.9714958667755127,
          -5.6120805740356445,
          21.58097267150879,
          -3.249378204345703,
          0.8631330728530884,
          4.183474540710449,
          -4.319602012634277,
          -13.433492660522461,
          -3.1042144298553467,
          6.090635776519775,
          -9.869136810302734,
          1.578899621963501,
          -6.9326043128967285,
          15.320094108581543,
          -2.339280605316162,
          1.6669461727142334,
          -8.937731742858887,
          -6.812954425811768,
          10.21668529510498,
          -16.405088424682617,
          -5.303308486938477,
          18.96451759338379,
          0.1740311235189438,
          9.474931716918945,
          12.962175369262695,
          -2.001849412918091,
          -1.153171420097351,
          3.7573671340942383,
          -11.989972114562988,
          -5.475119113922119,
          -11.897420883178711,
          9.011011123657227,
          -4.426325798034668,
          -12.666891098022461,
          4.568735122680664,
          -5.033198356628418,
          -8.474899291992188,
          -10.256500244140625,
          -7.7370381355285645,
          8.716567039489746,
          -0.07561802864074707,
          -15.172978401184082,
          -11.40656852722168,
          9.251771926879883,
          -3.5618886947631836,
          -2.611778974533081,
          -14.715014457702637,
          20.57613182067871,
          2.343984365463257,
          -6.231105804443359,
          -7.600616931915283,
          -4.387892246246338,
          0.06762884557247162,
          10.085575103759766,
          -6.7860026359558105,
          0.10963718593120575,
          5.767119884490967,
          -5.7954936027526855,
          -12.095060348510742,
          6.249176502227783,
          -2.39707088470459,
          19.10993003845215,
          -1.7502927780151367,
          -3.36506986618042,
          -1.2377631664276123,
          13.746722221374512,
          -5.804627418518066,
          11.012191772460938,
          6.920679569244385,
          -0.7545226812362671,
          2.5361719131469727,
          -15.309306144714355,
          -16.378896713256836,
          -14.387229919433594,
          -5.694930553436279,
          -4.507413387298584,
          8.526199340820312,
          10.128231048583984,
          0.908555805683136,
          0.7510452270507812,
          4.382267475128174,
          -7.8711113929748535,
          17.494525909423828,
          -15.978858947753906,
          -11.918137550354004,
          0.12127236276865005,
          17.98697853088379,
          3.9026594161987305,
          3.229529857635498,
          10.178382873535156,
          8.058547973632812,
          -3.9790797233581543,
          11.067452430725098,
          0.4761570394039154,
          12.786731719970703,
          5.262742042541504,
          11.283044815063477,
          -10.242815971374512,
          -3.093933582305908,
          5.805553913116455,
          -15.717061996459961,
          9.080500602722168,
          -14.277928352355957,
          -4.307412624359131,
          -3.2086069583892822,
          5.0365729331970215,
          -9.852715492248535,
          7.839537143707275,
          3.3674817085266113,
          6.555370330810547,
          12.545089721679688,
          12.8132963180542,
          -14.286957740783691,
          4.119143962860107,
          -13.373806953430176,
          -0.3175920844078064,
          -15.68988037109375,
          -13.784982681274414,
          0.631076991558075,
          -7.246066570281982,
          13.582130432128906,
          -15.495123863220215,
          1.3475509881973267,
          -10.509370803833008,
          -0.931437611579895,
          2.804220676422119,
          -6.117890357971191,
          -13.492716789245605,
          -10.57525634765625,
          -6.904571056365967,
          -9.219950675964355,
          -4.323549747467041,
          1.58674156665802,
          -4.926870346069336,
          4.130728721618652,
          0.6993517279624939,
          6.714827537536621,
          -14.314614295959473,
          -1.6884973049163818,
          -14.271477699279785,
          -4.018736839294434,
          -12.787900924682617,
          -2.922116279602051,
          2.8981916904449463,
          11.90684700012207,
          -6.363466262817383,
          -5.385890483856201,
          1.0329691171646118,
          -12.507277488708496,
          -3.417006015777588,
          -0.7385778427124023,
          3.560866355895996,
          0.012461165897548199,
          -3.223054885864258,
          -5.213515758514404,
          -10.993438720703125,
          0.3419678211212158,
          -4.694828987121582,
          2.530595064163208,
          0.7771795392036438,
          -14.951740264892578,
          -1.657676100730896,
          7.102759838104248,
          -11.388160705566406,
          -9.342894554138184,
          -1.9353848695755005,
          0.10496115684509277,
          0.9325692057609558,
          2.1359758377075195,
          -14.363189697265625,
          2.4963788986206055,
          -7.626112937927246,
          7.465750217437744,
          -5.046119213104248,
          7.941374778747559,
          5.695900917053223,
          -4.899805068969727,
          2.8241662979125977,
          3.4453070163726807,
          9.088604927062988,
          -16.739295959472656,
          11.497740745544434,
          -4.145617485046387,
          6.926574230194092,
          -3.7630276679992676,
          -3.7748868465423584,
          9.960125923156738,
          6.024970054626465,
          -3.2423882484436035,
          -4.503698348999023,
          -0.7639380693435669,
          -0.8785111308097839,
          -16.46261215209961,
          5.85181999206543,
          -17.540597915649414,
          -18.441471099853516,
          15.503742218017578,
          7.564386367797852,
          4.022486686706543,
          2.3224215507507324,
          5.293639659881592,
          -7.623464584350586,
          -1.2516005039215088,
          -8.6259126663208,
          6.740102291107178,
          1.3455013036727905,
          5.452797889709473,
          6.731910705566406,
          -6.09666109085083,
          7.0123162269592285,
          12.810572624206543,
          -8.295336723327637,
          -6.815366268157959,
          -12.719718933105469,
          -10.754767417907715,
          -9.913921356201172,
          0.31190067529678345,
          4.717072010040283,
          6.77562141418457,
          7.49542236328125,
          -11.342576026916504,
          -7.536190986633301,
          2.924207925796509,
          6.30335807800293,
          0.42610400915145874,
          1.4117004871368408,
          5.225106716156006,
          -11.917393684387207,
          11.775986671447754,
          9.305288314819336,
          -3.8485162258148193,
          -11.904427528381348,
          1.869153380393982,
          -1.7303581237792969,
          -11.323881149291992,
          4.361165523529053,
          5.017477035522461,
          1.0484791994094849,
          3.3578577041625977,
          -3.0302815437316895,
          4.5494890213012695,
          -2.6455278396606445,
          -7.607409954071045,
          -7.509295463562012,
          0.779649019241333,
          0.8012539148330688,
          -3.3746323585510254,
          2.3535289764404297,
          15.84465503692627,
          -6.939357757568359,
          1.0187838077545166,
          2.4231557846069336,
          -5.478598594665527,
          7.5164337158203125,
          -13.22931957244873,
          -3.7422590255737305,
          14.006824493408203,
          -2.6439313888549805,
          -14.703653335571289,
          -7.188443660736084,
          -6.483700275421143,
          -4.875653266906738,
          6.362522602081299,
          6.251453876495361,
          13.175877571105957,
          -8.618082046508789,
          0.9254789352416992,
          -12.746315956115723,
          1.78787362575531,
          12.946770668029785,
          1.706438660621643,
          6.194392204284668,
          4.443950176239014,
          15.10505199432373,
          -11.940105438232422,
          -5.996988773345947,
          -2.792513370513916,
          4.469735622406006,
          5.603419780731201,
          -7.177707672119141,
          5.639308452606201,
          -0.558632493019104,
          7.0474371910095215,
          -2.0567033290863037,
          11.976009368896484,
          8.152743339538574,
          10.731334686279297,
          -12.99714469909668,
          -15.997763633728027,
          9.585968971252441,
          8.414467811584473,
          -5.854445934295654,
          4.392207622528076,
          -10.527066230773926,
          8.681089401245117,
          6.987714767456055,
          8.911766052246094,
          11.683658599853516,
          1.0904357433319092,
          -5.106555938720703,
          -4.437905311584473,
          6.645222187042236,
          5.239727973937988,
          -5.218744277954102,
          -9.336014747619629,
          3.7909555435180664,
          5.732360363006592,
          -9.68610668182373,
          11.729560852050781,
          -9.195019721984863,
          6.053049564361572,
          -1.350200891494751,
          -8.503399848937988,
          -7.796441078186035,
          12.063265800476074,
          0.9622374773025513,
          0.8569111824035645,
          -4.214107513427734,
          17.473142623901367,
          -15.637598037719727,
          1.2375514507293701,
          -6.1884613037109375,
          -5.748064994812012,
          -8.78406810760498,
          -2.5347211360931396,
          8.340256690979004,
          -4.063572406768799,
          -1.708173155784607,
          8.140483856201172,
          -0.8368462920188904,
          -12.03027057647705,
          3.0444045066833496,
          -9.02253532409668,
          4.245254039764404,
          14.832131385803223,
          3.977748394012451,
          -5.943751335144043,
          10.572709083557129,
          -9.564082145690918,
          19.515838623046875,
          -1.0693697929382324,
          -9.625813484191895,
          1.8134162425994873,
          9.341410636901855,
          2.5304882526397705,
          4.040894985198975,
          -0.12494049221277237,
          4.8426594734191895,
          -0.03395700827240944,
          -7.4560041427612305,
          -5.28364896774292,
          2.565375566482544,
          15.934789657592773,
          0.28028449416160583,
          -9.498492240905762,
          6.601445198059082,
          -10.017268180847168,
          5.280506610870361,
          7.437323093414307,
          1.6387697458267212,
          9.712956428527832,
          4.1699347496032715,
          4.783899307250977,
          -9.9225435256958,
          11.923188209533691,
          9.165889739990234,
          5.34028434753418,
          2.973726749420166,
          9.59604549407959,
          -4.160205841064453,
          -2.3417747020721436,
          -6.595529079437256,
          13.551655769348145,
          -15.064090728759766,
          -4.9995880126953125,
          9.216828346252441,
          -8.41306209564209,
          11.004410743713379,
          -10.917797088623047,
          -9.980460166931152,
          -10.906473159790039,
          -9.860061645507812,
          6.166202068328857,
          8.0213041305542,
          -4.222695350646973,
          2.4040591716766357,
          -5.3401408195495605,
          11.019826889038086,
          17.390512466430664,
          -1.7966948747634888,
          -0.9481639862060547,
          -0.3837418556213379,
          9.93533992767334,
          -15.173151016235352,
          -8.975503921508789,
          17.751375198364258,
          -4.792704105377197,
          4.218841075897217,
          4.304776191711426,
          8.001535415649414,
          -6.968692779541016,
          19.196073532104492,
          0.187272846698761,
          -5.613731384277344,
          13.983981132507324,
          6.588118553161621,
          -5.254647254943848,
          -10.712326049804688,
          5.922457218170166,
          1.2397948503494263,
          -9.470109939575195,
          -0.725695788860321,
          -6.467103481292725,
          18.50776481628418,
          1.8003551959991455,
          -16.02096939086914,
          5.426137447357178,
          -0.9168238639831543,
          4.220954895019531,
          -10.30250072479248,
          2.0119380950927734,
          5.8173112869262695,
          2.95596981048584,
          2.7292087078094482,
          4.777499198913574,
          -1.6451942920684814,
          -1.3244050741195679,
          0.8636882305145264,
          16.841228485107422,
          19.501136779785156,
          1.7861396074295044,
          -7.57410192489624,
          -16.201183319091797,
          16.066654205322266,
          3.1958062648773193,
          19.201416015625,
          14.639809608459473,
          -7.2180657386779785,
          2.2177329063415527,
          8.072665214538574,
          1.3920201063156128,
          2.53442645072937,
          15.027270317077637,
          -11.517513275146484,
          -0.17098970711231232,
          -4.723691463470459,
          12.69351577758789,
          6.5880961418151855,
          6.122095584869385,
          3.515794515609741,
          -2.692112684249878,
          -3.254179000854492,
          4.906293869018555,
          -5.402101516723633,
          1.6226698160171509,
          -2.509038209915161,
          -11.91446304321289,
          6.446292400360107,
          -17.0436954498291,
          4.489577770233154,
          -5.536960601806641,
          2.2088804244995117,
          -2.4396300315856934,
          -6.2418341636657715,
          -5.326462268829346,
          -4.6685662269592285,
          1.908773422241211,
          -1.2015477418899536,
          -4.578220367431641,
          3.990601062774658,
          7.033023357391357,
          -2.186410903930664,
          4.724415302276611,
          -15.538003921508789,
          16.782527923583984,
          17.05881690979004,
          -11.64416790008545,
          -16.388830184936523,
          -12.960911750793457,
          14.037139892578125,
          14.87360954284668,
          -3.1682167053222656,
          10.169340133666992,
          7.308250904083252,
          15.232647895812988,
          2.943469285964966,
          -3.2726473808288574,
          -7.449917793273926,
          -11.314423561096191,
          -12.131001472473145,
          0.6203833818435669,
          0.9750301241874695,
          4.569000244140625,
          9.436578750610352,
          -1.4071948528289795,
          6.001412391662598,
          13.035707473754883,
          -1.5220458507537842,
          1.5536556243896484,
          4.205663204193115,
          7.004121780395508,
          6.190040111541748,
          8.25184154510498,
          -8.471826553344727,
          -6.0547332763671875,
          3.7138798236846924,
          -1.9419485330581665,
          -10.40964412689209,
          2.220735549926758,
          7.978898048400879,
          12.547337532043457,
          -12.220593452453613,
          10.509702682495117,
          4.396320343017578,
          -3.199899435043335,
          6.4659881591796875,
          1.2830599546432495,
          -8.982086181640625,
          -7.441120624542236,
          -11.552122116088867,
          -10.810018539428711,
          -2.708589792251587,
          16.859766006469727,
          -7.495811462402344,
          21.7833251953125,
          -0.34258103370666504,
          5.679156303405762,
          2.1543099880218506,
          -6.422039985656738,
          7.114267826080322,
          6.218044757843018,
          8.756235122680664,
          -3.60720157623291,
          -0.9438863396644592,
          -2.00635027885437,
          -9.668539047241211,
          12.89968490600586,
          -8.635409355163574,
          0.44098690152168274,
          -1.6305909156799316,
          -7.916680812835693,
          -6.642024040222168,
          -10.237914085388184,
          -10.468071937561035,
          3.9094908237457275,
          15.959381103515625,
          10.804633140563965,
          2.7260658740997314,
          -5.610694885253906,
          -0.5670998096466064,
          1.7073498964309692,
          3.9697728157043457,
          5.6113200187683105,
          12.447892189025879,
          -2.60246205329895,
          10.464034080505371
         ],
         "yaxis": "y"
        }
       ],
       "layout": {
        "coloraxis": {
         "colorbar": {
          "title": {
           "text": "Cluster"
          }
         },
         "colorscale": [
          [
           0,
           "#0d0887"
          ],
          [
           0.1111111111111111,
           "#46039f"
          ],
          [
           0.2222222222222222,
           "#7201a8"
          ],
          [
           0.3333333333333333,
           "#9c179e"
          ],
          [
           0.4444444444444444,
           "#bd3786"
          ],
          [
           0.5555555555555556,
           "#d8576b"
          ],
          [
           0.6666666666666666,
           "#ed7953"
          ],
          [
           0.7777777777777778,
           "#fb9f3a"
          ],
          [
           0.8888888888888888,
           "#fdca26"
          ],
          [
           1,
           "#f0f921"
          ]
         ]
        },
        "legend": {
         "tracegroupgap": 0
        },
        "template": {
         "data": {
          "bar": [
           {
            "error_x": {
             "color": "#2a3f5f"
            },
            "error_y": {
             "color": "#2a3f5f"
            },
            "marker": {
             "line": {
              "color": "#E5ECF6",
              "width": 0.5
             },
             "pattern": {
              "fillmode": "overlay",
              "size": 10,
              "solidity": 0.2
             }
            },
            "type": "bar"
           }
          ],
          "barpolar": [
           {
            "marker": {
             "line": {
              "color": "#E5ECF6",
              "width": 0.5
             },
             "pattern": {
              "fillmode": "overlay",
              "size": 10,
              "solidity": 0.2
             }
            },
            "type": "barpolar"
           }
          ],
          "carpet": [
           {
            "aaxis": {
             "endlinecolor": "#2a3f5f",
             "gridcolor": "white",
             "linecolor": "white",
             "minorgridcolor": "white",
             "startlinecolor": "#2a3f5f"
            },
            "baxis": {
             "endlinecolor": "#2a3f5f",
             "gridcolor": "white",
             "linecolor": "white",
             "minorgridcolor": "white",
             "startlinecolor": "#2a3f5f"
            },
            "type": "carpet"
           }
          ],
          "choropleth": [
           {
            "colorbar": {
             "outlinewidth": 0,
             "ticks": ""
            },
            "type": "choropleth"
           }
          ],
          "contour": [
           {
            "colorbar": {
             "outlinewidth": 0,
             "ticks": ""
            },
            "colorscale": [
             [
              0,
              "#0d0887"
             ],
             [
              0.1111111111111111,
              "#46039f"
             ],
             [
              0.2222222222222222,
              "#7201a8"
             ],
             [
              0.3333333333333333,
              "#9c179e"
             ],
             [
              0.4444444444444444,
              "#bd3786"
             ],
             [
              0.5555555555555556,
              "#d8576b"
             ],
             [
              0.6666666666666666,
              "#ed7953"
             ],
             [
              0.7777777777777778,
              "#fb9f3a"
             ],
             [
              0.8888888888888888,
              "#fdca26"
             ],
             [
              1,
              "#f0f921"
             ]
            ],
            "type": "contour"
           }
          ],
          "contourcarpet": [
           {
            "colorbar": {
             "outlinewidth": 0,
             "ticks": ""
            },
            "type": "contourcarpet"
           }
          ],
          "heatmap": [
           {
            "colorbar": {
             "outlinewidth": 0,
             "ticks": ""
            },
            "colorscale": [
             [
              0,
              "#0d0887"
             ],
             [
              0.1111111111111111,
              "#46039f"
             ],
             [
              0.2222222222222222,
              "#7201a8"
             ],
             [
              0.3333333333333333,
              "#9c179e"
             ],
             [
              0.4444444444444444,
              "#bd3786"
             ],
             [
              0.5555555555555556,
              "#d8576b"
             ],
             [
              0.6666666666666666,
              "#ed7953"
             ],
             [
              0.7777777777777778,
              "#fb9f3a"
             ],
             [
              0.8888888888888888,
              "#fdca26"
             ],
             [
              1,
              "#f0f921"
             ]
            ],
            "type": "heatmap"
           }
          ],
          "heatmapgl": [
           {
            "colorbar": {
             "outlinewidth": 0,
             "ticks": ""
            },
            "colorscale": [
             [
              0,
              "#0d0887"
             ],
             [
              0.1111111111111111,
              "#46039f"
             ],
             [
              0.2222222222222222,
              "#7201a8"
             ],
             [
              0.3333333333333333,
              "#9c179e"
             ],
             [
              0.4444444444444444,
              "#bd3786"
             ],
             [
              0.5555555555555556,
              "#d8576b"
             ],
             [
              0.6666666666666666,
              "#ed7953"
             ],
             [
              0.7777777777777778,
              "#fb9f3a"
             ],
             [
              0.8888888888888888,
              "#fdca26"
             ],
             [
              1,
              "#f0f921"
             ]
            ],
            "type": "heatmapgl"
           }
          ],
          "histogram": [
           {
            "marker": {
             "pattern": {
              "fillmode": "overlay",
              "size": 10,
              "solidity": 0.2
             }
            },
            "type": "histogram"
           }
          ],
          "histogram2d": [
           {
            "colorbar": {
             "outlinewidth": 0,
             "ticks": ""
            },
            "colorscale": [
             [
              0,
              "#0d0887"
             ],
             [
              0.1111111111111111,
              "#46039f"
             ],
             [
              0.2222222222222222,
              "#7201a8"
             ],
             [
              0.3333333333333333,
              "#9c179e"
             ],
             [
              0.4444444444444444,
              "#bd3786"
             ],
             [
              0.5555555555555556,
              "#d8576b"
             ],
             [
              0.6666666666666666,
              "#ed7953"
             ],
             [
              0.7777777777777778,
              "#fb9f3a"
             ],
             [
              0.8888888888888888,
              "#fdca26"
             ],
             [
              1,
              "#f0f921"
             ]
            ],
            "type": "histogram2d"
           }
          ],
          "histogram2dcontour": [
           {
            "colorbar": {
             "outlinewidth": 0,
             "ticks": ""
            },
            "colorscale": [
             [
              0,
              "#0d0887"
             ],
             [
              0.1111111111111111,
              "#46039f"
             ],
             [
              0.2222222222222222,
              "#7201a8"
             ],
             [
              0.3333333333333333,
              "#9c179e"
             ],
             [
              0.4444444444444444,
              "#bd3786"
             ],
             [
              0.5555555555555556,
              "#d8576b"
             ],
             [
              0.6666666666666666,
              "#ed7953"
             ],
             [
              0.7777777777777778,
              "#fb9f3a"
             ],
             [
              0.8888888888888888,
              "#fdca26"
             ],
             [
              1,
              "#f0f921"
             ]
            ],
            "type": "histogram2dcontour"
           }
          ],
          "mesh3d": [
           {
            "colorbar": {
             "outlinewidth": 0,
             "ticks": ""
            },
            "type": "mesh3d"
           }
          ],
          "parcoords": [
           {
            "line": {
             "colorbar": {
              "outlinewidth": 0,
              "ticks": ""
             }
            },
            "type": "parcoords"
           }
          ],
          "pie": [
           {
            "automargin": true,
            "type": "pie"
           }
          ],
          "scatter": [
           {
            "fillpattern": {
             "fillmode": "overlay",
             "size": 10,
             "solidity": 0.2
            },
            "type": "scatter"
           }
          ],
          "scatter3d": [
           {
            "line": {
             "colorbar": {
              "outlinewidth": 0,
              "ticks": ""
             }
            },
            "marker": {
             "colorbar": {
              "outlinewidth": 0,
              "ticks": ""
             }
            },
            "type": "scatter3d"
           }
          ],
          "scattercarpet": [
           {
            "marker": {
             "colorbar": {
              "outlinewidth": 0,
              "ticks": ""
             }
            },
            "type": "scattercarpet"
           }
          ],
          "scattergeo": [
           {
            "marker": {
             "colorbar": {
              "outlinewidth": 0,
              "ticks": ""
             }
            },
            "type": "scattergeo"
           }
          ],
          "scattergl": [
           {
            "marker": {
             "colorbar": {
              "outlinewidth": 0,
              "ticks": ""
             }
            },
            "type": "scattergl"
           }
          ],
          "scattermapbox": [
           {
            "marker": {
             "colorbar": {
              "outlinewidth": 0,
              "ticks": ""
             }
            },
            "type": "scattermapbox"
           }
          ],
          "scatterpolar": [
           {
            "marker": {
             "colorbar": {
              "outlinewidth": 0,
              "ticks": ""
             }
            },
            "type": "scatterpolar"
           }
          ],
          "scatterpolargl": [
           {
            "marker": {
             "colorbar": {
              "outlinewidth": 0,
              "ticks": ""
             }
            },
            "type": "scatterpolargl"
           }
          ],
          "scatterternary": [
           {
            "marker": {
             "colorbar": {
              "outlinewidth": 0,
              "ticks": ""
             }
            },
            "type": "scatterternary"
           }
          ],
          "surface": [
           {
            "colorbar": {
             "outlinewidth": 0,
             "ticks": ""
            },
            "colorscale": [
             [
              0,
              "#0d0887"
             ],
             [
              0.1111111111111111,
              "#46039f"
             ],
             [
              0.2222222222222222,
              "#7201a8"
             ],
             [
              0.3333333333333333,
              "#9c179e"
             ],
             [
              0.4444444444444444,
              "#bd3786"
             ],
             [
              0.5555555555555556,
              "#d8576b"
             ],
             [
              0.6666666666666666,
              "#ed7953"
             ],
             [
              0.7777777777777778,
              "#fb9f3a"
             ],
             [
              0.8888888888888888,
              "#fdca26"
             ],
             [
              1,
              "#f0f921"
             ]
            ],
            "type": "surface"
           }
          ],
          "table": [
           {
            "cells": {
             "fill": {
              "color": "#EBF0F8"
             },
             "line": {
              "color": "white"
             }
            },
            "header": {
             "fill": {
              "color": "#C8D4E3"
             },
             "line": {
              "color": "white"
             }
            },
            "type": "table"
           }
          ]
         },
         "layout": {
          "annotationdefaults": {
           "arrowcolor": "#2a3f5f",
           "arrowhead": 0,
           "arrowwidth": 1
          },
          "autotypenumbers": "strict",
          "coloraxis": {
           "colorbar": {
            "outlinewidth": 0,
            "ticks": ""
           }
          },
          "colorscale": {
           "diverging": [
            [
             0,
             "#8e0152"
            ],
            [
             0.1,
             "#c51b7d"
            ],
            [
             0.2,
             "#de77ae"
            ],
            [
             0.3,
             "#f1b6da"
            ],
            [
             0.4,
             "#fde0ef"
            ],
            [
             0.5,
             "#f7f7f7"
            ],
            [
             0.6,
             "#e6f5d0"
            ],
            [
             0.7,
             "#b8e186"
            ],
            [
             0.8,
             "#7fbc41"
            ],
            [
             0.9,
             "#4d9221"
            ],
            [
             1,
             "#276419"
            ]
           ],
           "sequential": [
            [
             0,
             "#0d0887"
            ],
            [
             0.1111111111111111,
             "#46039f"
            ],
            [
             0.2222222222222222,
             "#7201a8"
            ],
            [
             0.3333333333333333,
             "#9c179e"
            ],
            [
             0.4444444444444444,
             "#bd3786"
            ],
            [
             0.5555555555555556,
             "#d8576b"
            ],
            [
             0.6666666666666666,
             "#ed7953"
            ],
            [
             0.7777777777777778,
             "#fb9f3a"
            ],
            [
             0.8888888888888888,
             "#fdca26"
            ],
            [
             1,
             "#f0f921"
            ]
           ],
           "sequentialminus": [
            [
             0,
             "#0d0887"
            ],
            [
             0.1111111111111111,
             "#46039f"
            ],
            [
             0.2222222222222222,
             "#7201a8"
            ],
            [
             0.3333333333333333,
             "#9c179e"
            ],
            [
             0.4444444444444444,
             "#bd3786"
            ],
            [
             0.5555555555555556,
             "#d8576b"
            ],
            [
             0.6666666666666666,
             "#ed7953"
            ],
            [
             0.7777777777777778,
             "#fb9f3a"
            ],
            [
             0.8888888888888888,
             "#fdca26"
            ],
            [
             1,
             "#f0f921"
            ]
           ]
          },
          "colorway": [
           "#636efa",
           "#EF553B",
           "#00cc96",
           "#ab63fa",
           "#FFA15A",
           "#19d3f3",
           "#FF6692",
           "#B6E880",
           "#FF97FF",
           "#FECB52"
          ],
          "font": {
           "color": "#2a3f5f"
          },
          "geo": {
           "bgcolor": "white",
           "lakecolor": "white",
           "landcolor": "#E5ECF6",
           "showlakes": true,
           "showland": true,
           "subunitcolor": "white"
          },
          "hoverlabel": {
           "align": "left"
          },
          "hovermode": "closest",
          "mapbox": {
           "style": "light"
          },
          "paper_bgcolor": "white",
          "plot_bgcolor": "#E5ECF6",
          "polar": {
           "angularaxis": {
            "gridcolor": "white",
            "linecolor": "white",
            "ticks": ""
           },
           "bgcolor": "#E5ECF6",
           "radialaxis": {
            "gridcolor": "white",
            "linecolor": "white",
            "ticks": ""
           }
          },
          "scene": {
           "xaxis": {
            "backgroundcolor": "#E5ECF6",
            "gridcolor": "white",
            "gridwidth": 2,
            "linecolor": "white",
            "showbackground": true,
            "ticks": "",
            "zerolinecolor": "white"
           },
           "yaxis": {
            "backgroundcolor": "#E5ECF6",
            "gridcolor": "white",
            "gridwidth": 2,
            "linecolor": "white",
            "showbackground": true,
            "ticks": "",
            "zerolinecolor": "white"
           },
           "zaxis": {
            "backgroundcolor": "#E5ECF6",
            "gridcolor": "white",
            "gridwidth": 2,
            "linecolor": "white",
            "showbackground": true,
            "ticks": "",
            "zerolinecolor": "white"
           }
          },
          "shapedefaults": {
           "line": {
            "color": "#2a3f5f"
           }
          },
          "ternary": {
           "aaxis": {
            "gridcolor": "white",
            "linecolor": "white",
            "ticks": ""
           },
           "baxis": {
            "gridcolor": "white",
            "linecolor": "white",
            "ticks": ""
           },
           "bgcolor": "#E5ECF6",
           "caxis": {
            "gridcolor": "white",
            "linecolor": "white",
            "ticks": ""
           }
          },
          "title": {
           "x": 0.05
          },
          "xaxis": {
           "automargin": true,
           "gridcolor": "white",
           "linecolor": "white",
           "ticks": "",
           "title": {
            "standoff": 15
           },
           "zerolinecolor": "white",
           "zerolinewidth": 2
          },
          "yaxis": {
           "automargin": true,
           "gridcolor": "white",
           "linecolor": "white",
           "ticks": "",
           "title": {
            "standoff": 15
           },
           "zerolinecolor": "white",
           "zerolinewidth": 2
          }
         }
        },
        "title": {
         "text": "TSNE of Transformed Embeddings"
        },
        "xaxis": {
         "anchor": "y",
         "domain": [
          0,
          1
         ],
         "title": {
          "text": "TSNE_1"
         }
        },
        "yaxis": {
         "anchor": "x",
         "domain": [
          0,
          1
         ],
         "title": {
          "text": "TSNE_2"
         }
        }
       }
      }
     },
     "metadata": {},
     "output_type": "display_data"
    }
   ],
   "source": [
    "df_original = pd.DataFrame({\n",
    "    'TSNE_1': X_tsne_embeddings_original[:, 0],\n",
    "    'TSNE_2': X_tsne_embeddings_original[:, 1],\n",
    "    'Cluster': clusters_original,\n",
    "    'Name': df['name'],\n",
    "    'Description': [desc[:100] + '...' for desc in df['description']] \n",
    "})\n",
    "\n",
    "df_transformed = pd.DataFrame({\n",
    "    'TSNE_1': X_tsne_embeddings_transformed[:, 0],\n",
    "    'TSNE_2': X_tsne_embeddings_transformed[:, 1],\n",
    "    'Cluster': clusters_original,\n",
    "    'Name': df['name'],\n",
    "    'Description': [desc[:100] + '...' for desc in df['description']]\n",
    "})\n",
    "\n",
    "fig_original = px.scatter(\n",
    "    df_original,\n",
    "    x='TSNE_1', y='TSNE_2',\n",
    "    color='Cluster',\n",
    "    hover_data={'Name': True, 'Description': True, 'Cluster': True},\n",
    "    title=\"TSNE of Initial Embeddings\"\n",
    ")\n",
    "fig_original.update_traces(marker=dict(size=5, opacity=0.7))\n",
    "fig_original.show()\n",
    "\n",
    "fig_transformed = px.scatter(\n",
    "    df_transformed,\n",
    "    x='TSNE_1', y='TSNE_2',\n",
    "    color='Cluster',\n",
    "    hover_data={'Name': True, 'Description': True, 'Cluster': True},\n",
    "    title=\"TSNE of Transformed Embeddings\"\n",
    ")\n",
    "fig_transformed.update_traces(marker=dict(size=5, opacity=0.7))\n",
    "fig_transformed.show()"
   ]
  },
  {
   "cell_type": "code",
   "execution_count": 10,
   "metadata": {},
   "outputs": [
    {
     "name": "stdout",
     "output_type": "stream",
     "text": [
      "Query: not bloody\n",
      "Results:\n",
      "\n",
      "Top 1 - similarity: 0.95574\n",
      "Name: 36 Fragments of Midnight\n",
      "Description: this time midnight's friends lost of their star fragments! your task is to find them, and take them back, but it won't be easy. in this procedurally generated platform game, you have to avoid deadly lasers, circular saws and spikes to collect all the fragments, to get their greatest gift. do you have what it takes to collect all?\n",
      "\n",
      "Top 2 - similarity: 0.95484\n",
      "Name: Yujiro's Mansion\n",
      "Description: you're a robber going around a neighborhood doing what you do best. after robbing many houses you stumble across a huge mansion. you break into the mansion, but what you didn't know was that this mansion belonged to the 'strongest creature in the world.' the pinnacle of physical force, yujiro hanma. can you rob yujiro's mansion and get out alive? this is the first game i've made with a game engine. let me know what you guys think and what bugs i could fix. enjoy! features - singleplayer - survival horror - stealth - multiple endings (secret ending, if you can find how to get it!) - immersive atmosphere - hidden collectibles - easy to learn controls - fluid player movement - added in ui crosshair which changes color to denote which objects are interactable - ai stalking you around a dark mansion. run, hide, or die. - after grabbing all the items, yujiro's ai will get faster and harder to read. - additional ai visibility if you go for the secret ending (view angles and radius changes)\n",
      "\n",
      "Top 3 - similarity: 0.95448\n",
      "Name: Season's Beatings\n",
      "Description: season's beatings is a fast and frantic one hit kill fps best described as first person hotline miami. you'll need to memorize enemy patterns and placements, and execute a meticulously thought out plan to succeed! or...y'know. just dive in and shoot some fools with a tommy gun. trapped at a never ending office christmas party for weeks by militant holiday fanatics, you're forced to grab what weapons you can and fight your way out. blast through 21 increasingly difficult levels, leaving nothing but a trail of bodies behind you. shoot bad guys until you run out of ammo, then throw your gun in their face and beat them to death with a baseball bat. then maybe even take their shotgun and murder their friends! it's all very much in the holiday spirit.\n",
      "\n",
      "Top 4 - similarity: 0.95418\n",
      "Name: Investigation Stories : gunsound\n",
      "Description: with complete freedom to move around the fictional town, you can: move around the map at any time 8 different areas to explore super realistic street scenes, almost exactly the same as your doorstep anytime and anywhere to start an investigation ... it's said, but not everywhere will have the results talk to anyone you see collecting testimonies in order to catch the killer is of course inevitable the dialogue of the npc is completely random, except for the inexplicable random thoughts you can also see conversations that are specific to different times and places show items to anyone you see it's true that you can show it to anyone but don't forget that these things were gotten from the crime scene it's hard to say what kind of results you'll get\n",
      "\n",
      "Top 5 - similarity: 0.95353\n",
      "Name: Hungry Wolf\n",
      "Description: hungry wolf is a horror game. in it you need to shoot at enemies with a slingshot. they will appear in different places of the rooms. toys and scary wolf eyes, shoot them so you don't get caught. you need to survive 60 seconds and 3 nights. good luck! * cool graphic * good music\n",
      "\n",
      "Top 6 - similarity: 0.95335\n",
      "Name: The Game We All Have To Play\n",
      "Description: a word of caution to disclaim: it's more a poetry than a game. the story goes the way you pull it. a bullet hell without bullets. what would i call it for my part? a piece of something. i hope, of art. the game we all have to play is a challenging minimalistic action game. it will take you about 15 minutes to reach the end, but if you want to get an excellent result, you will probably fail again, and again. and each run will feel different due to the abundance of commentaries in poetry form. have you ever had a feeling that there is too much on your plate? some of us even wish there were more than 24 hours in a day. what is more important to you - your career, your hobby, your family? you can always sacrifice one of those things to have more time for another. or you can try and keep everything under control. but it won't be easy! in this game you can go the long way from being a newborn to the adulthood in a matter of a few minutes. you will have to make choices along the way. and it will get quite hardcore by the end when you might feel all fingers and thumbs. but if you succeed you will reveal the true name of this game, which is so obvious to see and so hard to grasp.\n",
      "\n",
      "Top 7 - similarity: 0.95316\n",
      "Name: Occultism Limbo: The ritual of little nightmares\n",
      "Description: are you innocent or guilty? a story of sinister magic, play and makes decisions in this evil adventure, a dark game with scary storie where you will have to prove your innocence, or you will be condemned guilty in hell. can you prove your innocence?. in this mystifying interrogation game? where you will find an esoteric and dystopian world where you will have to demonstrate your innocence. or will you perish in a dark, occult interrogation? what makes occultism:interrogation so interesting? you’ve certainly never played an interrogation game like this before. will you even be able to figure it out? every step you take reveals a new member of the occultist sect. they have a dystopian, esoteric appearance that is both terrifying and unimaginable. you can choose to fear them or not, but you must answer their questions correctly. you must prove your innocence by choosing esoteric answers. if you do not respond quickly or your memory fails you, you will be found guilty and you will be severely punished. these esoteric interrogators are stealthily trained to detect your weak lies. they will know you are not innocent! - do you choose to fight for your innocence? - do you give up, plead guilty and become one with this occult sect? - how long can you endure this agony? only you know the answers to these questions. the begining? the occult sect stole something from you… something that you value above all else. enter this mystifying, esoteric sect and see if you are worthy of proving your innocence or can reveal the dark conspiracy that lies at the core of the occult sect. each interrogation that you survive will bring you a step closer to your goal. the goal of recovering that which you value most! are you ready? are you brave enough to handle this dark challenge? gameplay? more than 20 esoteric and occult questions. multiple ends as you prove your innocence. think fast, time runs out according to your guilt level. a new interrogator each time you enter the occult sect. enjoy this game of occult, esoteric and dystopian interrogation.\n",
      "\n",
      "Top 8 - similarity: 0.95307\n",
      "Name: Frigus İnferos\n",
      "Description: 'something that shouldn't be happened, the person who shouldn't die died' hell has been calm for thousands of years. until he comes.... a child opened his eyes in hell abruptly. he couldn't remember who he was or where he came from. he had to find his memories and figure out what he was doing there. to do this, however, he had to visit the seven gates of hell and had to overcome tasks assigned to him in there without questioning. so, what would you do if you opened your eyes in hell. would you choose to escape or accept? a relentless adventure awaits you... features the game completely english language support. are you ready for small but difficult traps to be given to you in hell? the game can work in any system. the enormous story of the game will make you feel emotions from emotions.\n",
      "\n",
      "Top 9 - similarity: 0.95306\n",
      "Name: Nauticrawl\n",
      "Description: pilot a nauticrawl in vr - available now about the game in a grasp for salvation with sentinels closing in, you've stolen a nauticrawl. you check the radar, turn a few knobs, press some buttons… then you realize i don’t know how to move this hunk of metal... if the pursuing forces or the crushing atmosphere don't kill you first, the nauticrawl - designed to be piloted only by the ruling elites - just might. this instrument, your only hope of survival, could also be your demise. with the right amount of experimentation your escape plan just might succeed. pull levers, redirect power, hack devices, uncover communications, try anything and everything . you've heard the rumors. you know many have died doing what you're doing. but as the corners of the story pull back and you learn your way around the consoles, you just might get off this wretched rock. nauticrawl unfolds through turn-based exploration, as you puzzle out how everything fits together. begin each run anew, but bring with you what you’ve learned along the way. think it through. make mistakes and experiment. you can do this.\n",
      "\n",
      "Top 10 - similarity: 0.95212\n",
      "Name: Have a N.I.C.E day!\n",
      "Description: further highlights / about the game in 'have a n.i.c.e. day' you drive on racing tracks that are so narrow that there is not even room for the shade of your car anymore. the tracks have been provided with jumps, loops etc. fight against opponents who know no mercy. they will do everything they can to prevent you from winning the race. no matter what it takes. now prepare for battle!\n",
      "\n"
     ]
    }
   ],
   "source": [
    "input_text = \"not bloody\"\n",
    "input_embedding = get_sentence_embedding(input_text, glove_vectors)\n",
    "\n",
    "input_transformed = autoencoder.encoder(input_embedding.unsqueeze(0))\n",
    "\n",
    "cosine_similarities = F.cosine_similarity(input_transformed, embeddings_transformed).squeeze()\n",
    "cosine_similarities = cosine_similarities.detach().cpu().numpy()\n",
    "\n",
    "# !!!! Configure for however many results you want !!!!\n",
    "num_search = 10\n",
    "top_indices = np.argsort(-cosine_similarities)[:num_search]\n",
    "\n",
    "# Print the results\n",
    "print(f\"Query: {input_text}\\nResults:\\n\")\n",
    "for i, idx in enumerate(top_indices, start=1):\n",
    "    if cosine_similarities[idx] < 0.6:\n",
    "        break\n",
    "    similarity = cosine_similarities[idx]\n",
    "    description = df.iloc[idx]['description']\n",
    "    name = df.iloc[idx]['name']\n",
    "    print(f\"Top {i} - similarity: {similarity:.5f}\")\n",
    "    print(f\"Name: {name}\")\n",
    "    print(f\"Description: {description}\\n\")"
   ]
  }
 ],
 "metadata": {
  "kernelspec": {
   "display_name": "env",
   "language": "python",
   "name": "python3"
  },
  "language_info": {
   "codemirror_mode": {
    "name": "ipython",
    "version": 3
   },
   "file_extension": ".py",
   "mimetype": "text/x-python",
   "name": "python",
   "nbconvert_exporter": "python",
   "pygments_lexer": "ipython3",
   "version": "3.12.4"
  }
 },
 "nbformat": 4,
 "nbformat_minor": 2
}
